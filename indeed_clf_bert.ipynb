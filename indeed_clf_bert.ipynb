{
 "cells": [
  {
   "cell_type": "markdown",
   "metadata": {
    "id": "i0rUkZAGXYU9"
   },
   "source": [
    "# Indeed Job Level Classifier Challenge - predict partially labelled dataset\n"
   ]
  },
  {
   "cell_type": "markdown",
   "metadata": {
    "id": "7cTS77ANgUrV"
   },
   "source": [
    "Code from: https://colab.research.google.com/drive/1pTuQhug6Dhl9XalKB0zUGf4FIdYFlpcX und\n",
    " https://mccormickml.com/2019/07/22/BERT-fine-tuning/"
   ]
  },
  {
   "cell_type": "markdown",
   "metadata": {
    "id": "O91cxU1CYJUz"
   },
   "source": [
    "**1. Check GPU and Import Data** ================================================================================================================"
   ]
  },
  {
   "cell_type": "code",
   "execution_count": 69,
   "metadata": {
    "colab": {
     "base_uri": "https://localhost:8080/"
    },
    "executionInfo": {
     "elapsed": 316,
     "status": "ok",
     "timestamp": 1640279305559,
     "user": {
      "displayName": "pling",
      "photoUrl": "https://lh3.googleusercontent.com/a/default-user=s64",
      "userId": "02620778565141551161"
     },
     "user_tz": -60
    },
    "id": "MgLxlu0OQAoL",
    "outputId": "6baf9b8c-b0bd-47d5-cab5-dee8d5fc1ee0"
   },
   "outputs": [
    {
     "name": "stdout",
     "output_type": "stream",
     "text": [
      "Thu Dec 23 17:08:26 2021       \n",
      "+-----------------------------------------------------------------------------+\n",
      "| NVIDIA-SMI 495.44       Driver Version: 460.32.03    CUDA Version: 11.2     |\n",
      "|-------------------------------+----------------------+----------------------+\n",
      "| GPU  Name        Persistence-M| Bus-Id        Disp.A | Volatile Uncorr. ECC |\n",
      "| Fan  Temp  Perf  Pwr:Usage/Cap|         Memory-Usage | GPU-Util  Compute M. |\n",
      "|                               |                      |               MIG M. |\n",
      "|===============================+======================+======================|\n",
      "|   0  Tesla K80           Off  | 00000000:00:04.0 Off |                    0 |\n",
      "| N/A   66C    P8    30W / 149W |      0MiB / 11441MiB |      0%      Default |\n",
      "|                               |                      |                  N/A |\n",
      "+-------------------------------+----------------------+----------------------+\n",
      "                                                                               \n",
      "+-----------------------------------------------------------------------------+\n",
      "| Processes:                                                                  |\n",
      "|  GPU   GI   CI        PID   Type   Process name                  GPU Memory |\n",
      "|        ID   ID                                                   Usage      |\n",
      "|=============================================================================|\n",
      "|  No running processes found                                                 |\n",
      "+-----------------------------------------------------------------------------+\n",
      "Your runtime has 13.6 gigabytes of available RAM\n",
      "\n",
      "Not using a high-RAM runtime\n"
     ]
    }
   ],
   "source": [
    "gpu_info = !nvidia-smi\n",
    "gpu_info = '\\n'.join(gpu_info)\n",
    "if gpu_info.find('failed') >= 0:\n",
    "  print('Not connected to a GPU')\n",
    "else:\n",
    "  print(gpu_info)\n",
    "\n",
    "from psutil import virtual_memory\n",
    "ram_gb = virtual_memory().total / 1e9\n",
    "print('Your runtime has {:.1f} gigabytes of available RAM\\n'.format(ram_gb))\n",
    "if ram_gb < 20:\n",
    "  print('Not using a high-RAM runtime')\n",
    "else:\n",
    "  print('You are using a high-RAM runtime!')"
   ]
  },
  {
   "cell_type": "markdown",
   "metadata": {
    "id": "wfHHxxLLAZBN"
   },
   "source": [
    "Import Libraries"
   ]
  },
  {
   "cell_type": "code",
   "execution_count": 70,
   "metadata": {
    "colab": {
     "base_uri": "https://localhost:8080/"
    },
    "executionInfo": {
     "elapsed": 2324,
     "status": "ok",
     "timestamp": 1640279309056,
     "user": {
      "displayName": "pling",
      "photoUrl": "https://lh3.googleusercontent.com/a/default-user=s64",
      "userId": "02620778565141551161"
     },
     "user_tz": -60
    },
    "id": "CmxQyLQKu9Q6",
    "outputId": "c547965d-0267-4e38-afd9-7a69f4f5056e"
   },
   "outputs": [
    {
     "name": "stdout",
     "output_type": "stream",
     "text": [
      "Drive already mounted at /content/drive; to attempt to forcibly remount, call drive.mount(\"/content/drive\", force_remount=True).\n"
     ]
    }
   ],
   "source": [
    "import pandas as pd\n",
    "import numpy as np\n",
    "import matplotlib.pyplot as plt\n",
    "% matplotlib inline\n",
    "import seaborn as sns\n",
    "import os\n",
    "import regex as re\n",
    "import io\n",
    "pd.set_option('display.max_columns', None)\n",
    "\n",
    "from google.colab import drive\n",
    "drive.mount('/content/drive')"
   ]
  },
  {
   "cell_type": "markdown",
   "metadata": {
    "id": "PdSdJkWZAmA_"
   },
   "source": [
    "We load in both the challenge data.json as well as our scraped indeed dataset with the short and the one with the long summaries."
   ]
  },
  {
   "cell_type": "code",
   "execution_count": 71,
   "metadata": {
    "colab": {
     "base_uri": "https://localhost:8080/",
     "height": 112
    },
    "executionInfo": {
     "elapsed": 45,
     "status": "ok",
     "timestamp": 1640279309060,
     "user": {
      "displayName": "pling",
      "photoUrl": "https://lh3.googleusercontent.com/a/default-user=s64",
      "userId": "02620778565141551161"
     },
     "user_tz": -60
    },
    "id": "APRnP7xFR5oY",
    "outputId": "bea788f0-7661-4d9b-a8dd-336ab353c548"
   },
   "outputs": [
    {
     "data": {
      "text/html": [
       "\n",
       "  <div id=\"df-f793d81e-1e60-4ede-8f87-952df7a62451\">\n",
       "    <div class=\"colab-df-container\">\n",
       "      <div>\n",
       "<style scoped>\n",
       "    .dataframe tbody tr th:only-of-type {\n",
       "        vertical-align: middle;\n",
       "    }\n",
       "\n",
       "    .dataframe tbody tr th {\n",
       "        vertical-align: top;\n",
       "    }\n",
       "\n",
       "    .dataframe thead th {\n",
       "        text-align: right;\n",
       "    }\n",
       "</style>\n",
       "<table border=\"1\" class=\"dataframe\">\n",
       "  <thead>\n",
       "    <tr style=\"text-align: right;\">\n",
       "      <th></th>\n",
       "      <th>level</th>\n",
       "      <th>description</th>\n",
       "      <th>title</th>\n",
       "    </tr>\n",
       "  </thead>\n",
       "  <tbody>\n",
       "    <tr>\n",
       "      <th>0</th>\n",
       "      <td>Entry Level</td>\n",
       "      <td>OUTFITTERY is Europe’s biggest Personal Shoppi...</td>\n",
       "      <td>Frontend Engineer (m/f)</td>\n",
       "    </tr>\n",
       "    <tr>\n",
       "      <th>1</th>\n",
       "      <td>Senior Level</td>\n",
       "      <td>OUTFITTERY is Europe’s biggest Personal Shoppi...</td>\n",
       "      <td>Senior Product Manager (m/f)</td>\n",
       "    </tr>\n",
       "  </tbody>\n",
       "</table>\n",
       "</div>\n",
       "      <button class=\"colab-df-convert\" onclick=\"convertToInteractive('df-f793d81e-1e60-4ede-8f87-952df7a62451')\"\n",
       "              title=\"Convert this dataframe to an interactive table.\"\n",
       "              style=\"display:none;\">\n",
       "        \n",
       "  <svg xmlns=\"http://www.w3.org/2000/svg\" height=\"24px\"viewBox=\"0 0 24 24\"\n",
       "       width=\"24px\">\n",
       "    <path d=\"M0 0h24v24H0V0z\" fill=\"none\"/>\n",
       "    <path d=\"M18.56 5.44l.94 2.06.94-2.06 2.06-.94-2.06-.94-.94-2.06-.94 2.06-2.06.94zm-11 1L8.5 8.5l.94-2.06 2.06-.94-2.06-.94L8.5 2.5l-.94 2.06-2.06.94zm10 10l.94 2.06.94-2.06 2.06-.94-2.06-.94-.94-2.06-.94 2.06-2.06.94z\"/><path d=\"M17.41 7.96l-1.37-1.37c-.4-.4-.92-.59-1.43-.59-.52 0-1.04.2-1.43.59L10.3 9.45l-7.72 7.72c-.78.78-.78 2.05 0 2.83L4 21.41c.39.39.9.59 1.41.59.51 0 1.02-.2 1.41-.59l7.78-7.78 2.81-2.81c.8-.78.8-2.07 0-2.86zM5.41 20L4 18.59l7.72-7.72 1.47 1.35L5.41 20z\"/>\n",
       "  </svg>\n",
       "      </button>\n",
       "      \n",
       "  <style>\n",
       "    .colab-df-container {\n",
       "      display:flex;\n",
       "      flex-wrap:wrap;\n",
       "      gap: 12px;\n",
       "    }\n",
       "\n",
       "    .colab-df-convert {\n",
       "      background-color: #E8F0FE;\n",
       "      border: none;\n",
       "      border-radius: 50%;\n",
       "      cursor: pointer;\n",
       "      display: none;\n",
       "      fill: #1967D2;\n",
       "      height: 32px;\n",
       "      padding: 0 0 0 0;\n",
       "      width: 32px;\n",
       "    }\n",
       "\n",
       "    .colab-df-convert:hover {\n",
       "      background-color: #E2EBFA;\n",
       "      box-shadow: 0px 1px 2px rgba(60, 64, 67, 0.3), 0px 1px 3px 1px rgba(60, 64, 67, 0.15);\n",
       "      fill: #174EA6;\n",
       "    }\n",
       "\n",
       "    [theme=dark] .colab-df-convert {\n",
       "      background-color: #3B4455;\n",
       "      fill: #D2E3FC;\n",
       "    }\n",
       "\n",
       "    [theme=dark] .colab-df-convert:hover {\n",
       "      background-color: #434B5C;\n",
       "      box-shadow: 0px 1px 3px 1px rgba(0, 0, 0, 0.15);\n",
       "      filter: drop-shadow(0px 1px 2px rgba(0, 0, 0, 0.3));\n",
       "      fill: #FFFFFF;\n",
       "    }\n",
       "  </style>\n",
       "\n",
       "      <script>\n",
       "        const buttonEl =\n",
       "          document.querySelector('#df-f793d81e-1e60-4ede-8f87-952df7a62451 button.colab-df-convert');\n",
       "        buttonEl.style.display =\n",
       "          google.colab.kernel.accessAllowed ? 'block' : 'none';\n",
       "\n",
       "        async function convertToInteractive(key) {\n",
       "          const element = document.querySelector('#df-f793d81e-1e60-4ede-8f87-952df7a62451');\n",
       "          const dataTable =\n",
       "            await google.colab.kernel.invokeFunction('convertToInteractive',\n",
       "                                                     [key], {});\n",
       "          if (!dataTable) return;\n",
       "\n",
       "          const docLinkHtml = 'Like what you see? Visit the ' +\n",
       "            '<a target=\"_blank\" href=https://colab.research.google.com/notebooks/data_table.ipynb>data table notebook</a>'\n",
       "            + ' to learn more about interactive tables.';\n",
       "          element.innerHTML = '';\n",
       "          dataTable['output_type'] = 'display_data';\n",
       "          await google.colab.output.renderOutput(dataTable, element);\n",
       "          const docLink = document.createElement('div');\n",
       "          docLink.innerHTML = docLinkHtml;\n",
       "          element.appendChild(docLink);\n",
       "        }\n",
       "      </script>\n",
       "    </div>\n",
       "  </div>\n",
       "  "
      ],
      "text/plain": [
       "          level                                        description  \\\n",
       "0   Entry Level  OUTFITTERY is Europe’s biggest Personal Shoppi...   \n",
       "1  Senior Level  OUTFITTERY is Europe’s biggest Personal Shoppi...   \n",
       "\n",
       "                          title  \n",
       "0       Frontend Engineer (m/f)  \n",
       "1  Senior Product Manager (m/f)  "
      ]
     },
     "execution_count": 71,
     "metadata": {},
     "output_type": "execute_result"
    }
   ],
   "source": [
    "path = '/content/drive/My Drive/Colab Notebooks/clf/data.json'\n",
    "df_val_pred = pd.read_json(path)\n",
    "df_val_pred.head(2)"
   ]
  },
  {
   "cell_type": "code",
   "execution_count": 72,
   "metadata": {
    "colab": {
     "base_uri": "https://localhost:8080/",
     "height": 112
    },
    "executionInfo": {
     "elapsed": 324,
     "status": "ok",
     "timestamp": 1640279310314,
     "user": {
      "displayName": "pling",
      "photoUrl": "https://lh3.googleusercontent.com/a/default-user=s64",
      "userId": "02620778565141551161"
     },
     "user_tz": -60
    },
    "id": "D64x-LSzpNXB",
    "outputId": "7a1e7d53-de3d-44dc-ae01-6a4b14cfef4e"
   },
   "outputs": [
    {
     "data": {
      "text/html": [
       "\n",
       "  <div id=\"df-c89a0038-cada-4b3e-b05e-090c4c2a2c07\">\n",
       "    <div class=\"colab-df-container\">\n",
       "      <div>\n",
       "<style scoped>\n",
       "    .dataframe tbody tr th:only-of-type {\n",
       "        vertical-align: middle;\n",
       "    }\n",
       "\n",
       "    .dataframe tbody tr th {\n",
       "        vertical-align: top;\n",
       "    }\n",
       "\n",
       "    .dataframe thead th {\n",
       "        text-align: right;\n",
       "    }\n",
       "</style>\n",
       "<table border=\"1\" class=\"dataframe\">\n",
       "  <thead>\n",
       "    <tr style=\"text-align: right;\">\n",
       "      <th></th>\n",
       "      <th>title</th>\n",
       "      <th>summary</th>\n",
       "      <th>level</th>\n",
       "    </tr>\n",
       "  </thead>\n",
       "  <tbody>\n",
       "    <tr>\n",
       "      <th>0</th>\n",
       "      <td>newTHE LATE SHOW WITH STEPHEN COLBERT - SUMMER...</td>\n",
       "      <td>Our program provides college juniors, seniors,...</td>\n",
       "      <td>internship</td>\n",
       "    </tr>\n",
       "    <tr>\n",
       "      <th>1</th>\n",
       "      <td>newIntern *</td>\n",
       "      <td>Gain industry and organizational knowledge thr...</td>\n",
       "      <td>internship</td>\n",
       "    </tr>\n",
       "  </tbody>\n",
       "</table>\n",
       "</div>\n",
       "      <button class=\"colab-df-convert\" onclick=\"convertToInteractive('df-c89a0038-cada-4b3e-b05e-090c4c2a2c07')\"\n",
       "              title=\"Convert this dataframe to an interactive table.\"\n",
       "              style=\"display:none;\">\n",
       "        \n",
       "  <svg xmlns=\"http://www.w3.org/2000/svg\" height=\"24px\"viewBox=\"0 0 24 24\"\n",
       "       width=\"24px\">\n",
       "    <path d=\"M0 0h24v24H0V0z\" fill=\"none\"/>\n",
       "    <path d=\"M18.56 5.44l.94 2.06.94-2.06 2.06-.94-2.06-.94-.94-2.06-.94 2.06-2.06.94zm-11 1L8.5 8.5l.94-2.06 2.06-.94-2.06-.94L8.5 2.5l-.94 2.06-2.06.94zm10 10l.94 2.06.94-2.06 2.06-.94-2.06-.94-.94-2.06-.94 2.06-2.06.94z\"/><path d=\"M17.41 7.96l-1.37-1.37c-.4-.4-.92-.59-1.43-.59-.52 0-1.04.2-1.43.59L10.3 9.45l-7.72 7.72c-.78.78-.78 2.05 0 2.83L4 21.41c.39.39.9.59 1.41.59.51 0 1.02-.2 1.41-.59l7.78-7.78 2.81-2.81c.8-.78.8-2.07 0-2.86zM5.41 20L4 18.59l7.72-7.72 1.47 1.35L5.41 20z\"/>\n",
       "  </svg>\n",
       "      </button>\n",
       "      \n",
       "  <style>\n",
       "    .colab-df-container {\n",
       "      display:flex;\n",
       "      flex-wrap:wrap;\n",
       "      gap: 12px;\n",
       "    }\n",
       "\n",
       "    .colab-df-convert {\n",
       "      background-color: #E8F0FE;\n",
       "      border: none;\n",
       "      border-radius: 50%;\n",
       "      cursor: pointer;\n",
       "      display: none;\n",
       "      fill: #1967D2;\n",
       "      height: 32px;\n",
       "      padding: 0 0 0 0;\n",
       "      width: 32px;\n",
       "    }\n",
       "\n",
       "    .colab-df-convert:hover {\n",
       "      background-color: #E2EBFA;\n",
       "      box-shadow: 0px 1px 2px rgba(60, 64, 67, 0.3), 0px 1px 3px 1px rgba(60, 64, 67, 0.15);\n",
       "      fill: #174EA6;\n",
       "    }\n",
       "\n",
       "    [theme=dark] .colab-df-convert {\n",
       "      background-color: #3B4455;\n",
       "      fill: #D2E3FC;\n",
       "    }\n",
       "\n",
       "    [theme=dark] .colab-df-convert:hover {\n",
       "      background-color: #434B5C;\n",
       "      box-shadow: 0px 1px 3px 1px rgba(0, 0, 0, 0.15);\n",
       "      filter: drop-shadow(0px 1px 2px rgba(0, 0, 0, 0.3));\n",
       "      fill: #FFFFFF;\n",
       "    }\n",
       "  </style>\n",
       "\n",
       "      <script>\n",
       "        const buttonEl =\n",
       "          document.querySelector('#df-c89a0038-cada-4b3e-b05e-090c4c2a2c07 button.colab-df-convert');\n",
       "        buttonEl.style.display =\n",
       "          google.colab.kernel.accessAllowed ? 'block' : 'none';\n",
       "\n",
       "        async function convertToInteractive(key) {\n",
       "          const element = document.querySelector('#df-c89a0038-cada-4b3e-b05e-090c4c2a2c07');\n",
       "          const dataTable =\n",
       "            await google.colab.kernel.invokeFunction('convertToInteractive',\n",
       "                                                     [key], {});\n",
       "          if (!dataTable) return;\n",
       "\n",
       "          const docLinkHtml = 'Like what you see? Visit the ' +\n",
       "            '<a target=\"_blank\" href=https://colab.research.google.com/notebooks/data_table.ipynb>data table notebook</a>'\n",
       "            + ' to learn more about interactive tables.';\n",
       "          element.innerHTML = '';\n",
       "          dataTable['output_type'] = 'display_data';\n",
       "          await google.colab.output.renderOutput(dataTable, element);\n",
       "          const docLink = document.createElement('div');\n",
       "          docLink.innerHTML = docLinkHtml;\n",
       "          element.appendChild(docLink);\n",
       "        }\n",
       "      </script>\n",
       "    </div>\n",
       "  </div>\n",
       "  "
      ],
      "text/plain": [
       "                                               title  \\\n",
       "0  newTHE LATE SHOW WITH STEPHEN COLBERT - SUMMER...   \n",
       "1                                        newIntern *   \n",
       "\n",
       "                                             summary       level  \n",
       "0  Our program provides college juniors, seniors,...  internship  \n",
       "1  Gain industry and organizational knowledge thr...  internship  "
      ]
     },
     "execution_count": 72,
     "metadata": {},
     "output_type": "execute_result"
    }
   ],
   "source": [
    "path = '/content/drive/My Drive/Colab Notebooks/clf/df_all_small_sum.csv'\n",
    "df_root = pd.read_csv(path)\n",
    "df_root = df_root[[\"title\", \"summary\", \"level\"]]\n",
    "df_root.head(2)"
   ]
  },
  {
   "cell_type": "code",
   "execution_count": 73,
   "metadata": {
    "colab": {
     "base_uri": "https://localhost:8080/",
     "height": 112
    },
    "executionInfo": {
     "elapsed": 1388,
     "status": "ok",
     "timestamp": 1640279311676,
     "user": {
      "displayName": "pling",
      "photoUrl": "https://lh3.googleusercontent.com/a/default-user=s64",
      "userId": "02620778565141551161"
     },
     "user_tz": -60
    },
    "id": "HNgRw_Haocil",
    "outputId": "d294cd38-5363-442b-9c18-80ab80c00506"
   },
   "outputs": [
    {
     "data": {
      "text/html": [
       "\n",
       "  <div id=\"df-1ae00d57-8cd7-49c5-b444-9a7617368d48\">\n",
       "    <div class=\"colab-df-container\">\n",
       "      <div>\n",
       "<style scoped>\n",
       "    .dataframe tbody tr th:only-of-type {\n",
       "        vertical-align: middle;\n",
       "    }\n",
       "\n",
       "    .dataframe tbody tr th {\n",
       "        vertical-align: top;\n",
       "    }\n",
       "\n",
       "    .dataframe thead th {\n",
       "        text-align: right;\n",
       "    }\n",
       "</style>\n",
       "<table border=\"1\" class=\"dataframe\">\n",
       "  <thead>\n",
       "    <tr style=\"text-align: right;\">\n",
       "      <th></th>\n",
       "      <th>title</th>\n",
       "      <th>description</th>\n",
       "      <th>level</th>\n",
       "    </tr>\n",
       "  </thead>\n",
       "  <tbody>\n",
       "    <tr>\n",
       "      <th>0</th>\n",
       "      <td>Live-in Caregiver Weekly Pay</td>\n",
       "      <td>Earn a $100 Signing Bonus! Schedule is for liv...</td>\n",
       "      <td>entry_level</td>\n",
       "    </tr>\n",
       "    <tr>\n",
       "      <th>1</th>\n",
       "      <td>Warehouse Package Handler</td>\n",
       "      <td>IMMEDIATE OPENINGS!\\nNow Hiring in Knightdale,...</td>\n",
       "      <td>entry_level</td>\n",
       "    </tr>\n",
       "  </tbody>\n",
       "</table>\n",
       "</div>\n",
       "      <button class=\"colab-df-convert\" onclick=\"convertToInteractive('df-1ae00d57-8cd7-49c5-b444-9a7617368d48')\"\n",
       "              title=\"Convert this dataframe to an interactive table.\"\n",
       "              style=\"display:none;\">\n",
       "        \n",
       "  <svg xmlns=\"http://www.w3.org/2000/svg\" height=\"24px\"viewBox=\"0 0 24 24\"\n",
       "       width=\"24px\">\n",
       "    <path d=\"M0 0h24v24H0V0z\" fill=\"none\"/>\n",
       "    <path d=\"M18.56 5.44l.94 2.06.94-2.06 2.06-.94-2.06-.94-.94-2.06-.94 2.06-2.06.94zm-11 1L8.5 8.5l.94-2.06 2.06-.94-2.06-.94L8.5 2.5l-.94 2.06-2.06.94zm10 10l.94 2.06.94-2.06 2.06-.94-2.06-.94-.94-2.06-.94 2.06-2.06.94z\"/><path d=\"M17.41 7.96l-1.37-1.37c-.4-.4-.92-.59-1.43-.59-.52 0-1.04.2-1.43.59L10.3 9.45l-7.72 7.72c-.78.78-.78 2.05 0 2.83L4 21.41c.39.39.9.59 1.41.59.51 0 1.02-.2 1.41-.59l7.78-7.78 2.81-2.81c.8-.78.8-2.07 0-2.86zM5.41 20L4 18.59l7.72-7.72 1.47 1.35L5.41 20z\"/>\n",
       "  </svg>\n",
       "      </button>\n",
       "      \n",
       "  <style>\n",
       "    .colab-df-container {\n",
       "      display:flex;\n",
       "      flex-wrap:wrap;\n",
       "      gap: 12px;\n",
       "    }\n",
       "\n",
       "    .colab-df-convert {\n",
       "      background-color: #E8F0FE;\n",
       "      border: none;\n",
       "      border-radius: 50%;\n",
       "      cursor: pointer;\n",
       "      display: none;\n",
       "      fill: #1967D2;\n",
       "      height: 32px;\n",
       "      padding: 0 0 0 0;\n",
       "      width: 32px;\n",
       "    }\n",
       "\n",
       "    .colab-df-convert:hover {\n",
       "      background-color: #E2EBFA;\n",
       "      box-shadow: 0px 1px 2px rgba(60, 64, 67, 0.3), 0px 1px 3px 1px rgba(60, 64, 67, 0.15);\n",
       "      fill: #174EA6;\n",
       "    }\n",
       "\n",
       "    [theme=dark] .colab-df-convert {\n",
       "      background-color: #3B4455;\n",
       "      fill: #D2E3FC;\n",
       "    }\n",
       "\n",
       "    [theme=dark] .colab-df-convert:hover {\n",
       "      background-color: #434B5C;\n",
       "      box-shadow: 0px 1px 3px 1px rgba(0, 0, 0, 0.15);\n",
       "      filter: drop-shadow(0px 1px 2px rgba(0, 0, 0, 0.3));\n",
       "      fill: #FFFFFF;\n",
       "    }\n",
       "  </style>\n",
       "\n",
       "      <script>\n",
       "        const buttonEl =\n",
       "          document.querySelector('#df-1ae00d57-8cd7-49c5-b444-9a7617368d48 button.colab-df-convert');\n",
       "        buttonEl.style.display =\n",
       "          google.colab.kernel.accessAllowed ? 'block' : 'none';\n",
       "\n",
       "        async function convertToInteractive(key) {\n",
       "          const element = document.querySelector('#df-1ae00d57-8cd7-49c5-b444-9a7617368d48');\n",
       "          const dataTable =\n",
       "            await google.colab.kernel.invokeFunction('convertToInteractive',\n",
       "                                                     [key], {});\n",
       "          if (!dataTable) return;\n",
       "\n",
       "          const docLinkHtml = 'Like what you see? Visit the ' +\n",
       "            '<a target=\"_blank\" href=https://colab.research.google.com/notebooks/data_table.ipynb>data table notebook</a>'\n",
       "            + ' to learn more about interactive tables.';\n",
       "          element.innerHTML = '';\n",
       "          dataTable['output_type'] = 'display_data';\n",
       "          await google.colab.output.renderOutput(dataTable, element);\n",
       "          const docLink = document.createElement('div');\n",
       "          docLink.innerHTML = docLinkHtml;\n",
       "          element.appendChild(docLink);\n",
       "        }\n",
       "      </script>\n",
       "    </div>\n",
       "  </div>\n",
       "  "
      ],
      "text/plain": [
       "                          title  \\\n",
       "0  Live-in Caregiver Weekly Pay   \n",
       "1     Warehouse Package Handler   \n",
       "\n",
       "                                         description        level  \n",
       "0  Earn a $100 Signing Bonus! Schedule is for liv...  entry_level  \n",
       "1  IMMEDIATE OPENINGS!\\nNow Hiring in Knightdale,...  entry_level  "
      ]
     },
     "execution_count": 73,
     "metadata": {},
     "output_type": "execute_result"
    }
   ],
   "source": [
    "path = '/content/drive/My Drive/Colab Notebooks/clf/df_all_big_sum.csv'\n",
    "df_root_big = pd.read_csv(path)\n",
    "df_root_big = df_root_big[[\"title\", \"description\", \"level\"]]\n",
    "df_root_big.head(2)"
   ]
  },
  {
   "cell_type": "markdown",
   "metadata": {
    "id": "DPA84bUmGs1I"
   },
   "source": [
    "**2. Clean Data** ================================================================================================================"
   ]
  },
  {
   "cell_type": "markdown",
   "metadata": {
    "id": "mupFUo32ZMBM"
   },
   "source": [
    "Usually it is not advisable to look at the test data before the training to avoid possible bias. We will therefore only look at some basic aspects, then do our train test split and then do a deeper analysis of the trainingset. We only need some of columns of the indeed dataset to create our training- and testset. "
   ]
  },
  {
   "cell_type": "code",
   "execution_count": 75,
   "metadata": {
    "colab": {
     "base_uri": "https://localhost:8080/",
     "height": 81
    },
    "executionInfo": {
     "elapsed": 288,
     "status": "ok",
     "timestamp": 1640279325157,
     "user": {
      "displayName": "pling",
      "photoUrl": "https://lh3.googleusercontent.com/a/default-user=s64",
      "userId": "02620778565141551161"
     },
     "user_tz": -60
    },
    "id": "7-Co2pFpZJrh",
    "outputId": "83505c43-270d-42d6-d5fa-6f78e7201d1d"
   },
   "outputs": [
    {
     "data": {
      "text/html": [
       "\n",
       "  <div id=\"df-0f2cbb40-7ffa-4404-8f58-550318e9d788\">\n",
       "    <div class=\"colab-df-container\">\n",
       "      <div>\n",
       "<style scoped>\n",
       "    .dataframe tbody tr th:only-of-type {\n",
       "        vertical-align: middle;\n",
       "    }\n",
       "\n",
       "    .dataframe tbody tr th {\n",
       "        vertical-align: top;\n",
       "    }\n",
       "\n",
       "    .dataframe thead th {\n",
       "        text-align: right;\n",
       "    }\n",
       "</style>\n",
       "<table border=\"1\" class=\"dataframe\">\n",
       "  <thead>\n",
       "    <tr style=\"text-align: right;\">\n",
       "      <th></th>\n",
       "      <th>title</th>\n",
       "      <th>description</th>\n",
       "      <th>level</th>\n",
       "    </tr>\n",
       "  </thead>\n",
       "  <tbody>\n",
       "    <tr>\n",
       "      <th>0</th>\n",
       "      <td>newTHE LATE SHOW WITH STEPHEN COLBERT - SUMMER...</td>\n",
       "      <td>Our program provides college juniors, seniors,...</td>\n",
       "      <td>internship</td>\n",
       "    </tr>\n",
       "  </tbody>\n",
       "</table>\n",
       "</div>\n",
       "      <button class=\"colab-df-convert\" onclick=\"convertToInteractive('df-0f2cbb40-7ffa-4404-8f58-550318e9d788')\"\n",
       "              title=\"Convert this dataframe to an interactive table.\"\n",
       "              style=\"display:none;\">\n",
       "        \n",
       "  <svg xmlns=\"http://www.w3.org/2000/svg\" height=\"24px\"viewBox=\"0 0 24 24\"\n",
       "       width=\"24px\">\n",
       "    <path d=\"M0 0h24v24H0V0z\" fill=\"none\"/>\n",
       "    <path d=\"M18.56 5.44l.94 2.06.94-2.06 2.06-.94-2.06-.94-.94-2.06-.94 2.06-2.06.94zm-11 1L8.5 8.5l.94-2.06 2.06-.94-2.06-.94L8.5 2.5l-.94 2.06-2.06.94zm10 10l.94 2.06.94-2.06 2.06-.94-2.06-.94-.94-2.06-.94 2.06-2.06.94z\"/><path d=\"M17.41 7.96l-1.37-1.37c-.4-.4-.92-.59-1.43-.59-.52 0-1.04.2-1.43.59L10.3 9.45l-7.72 7.72c-.78.78-.78 2.05 0 2.83L4 21.41c.39.39.9.59 1.41.59.51 0 1.02-.2 1.41-.59l7.78-7.78 2.81-2.81c.8-.78.8-2.07 0-2.86zM5.41 20L4 18.59l7.72-7.72 1.47 1.35L5.41 20z\"/>\n",
       "  </svg>\n",
       "      </button>\n",
       "      \n",
       "  <style>\n",
       "    .colab-df-container {\n",
       "      display:flex;\n",
       "      flex-wrap:wrap;\n",
       "      gap: 12px;\n",
       "    }\n",
       "\n",
       "    .colab-df-convert {\n",
       "      background-color: #E8F0FE;\n",
       "      border: none;\n",
       "      border-radius: 50%;\n",
       "      cursor: pointer;\n",
       "      display: none;\n",
       "      fill: #1967D2;\n",
       "      height: 32px;\n",
       "      padding: 0 0 0 0;\n",
       "      width: 32px;\n",
       "    }\n",
       "\n",
       "    .colab-df-convert:hover {\n",
       "      background-color: #E2EBFA;\n",
       "      box-shadow: 0px 1px 2px rgba(60, 64, 67, 0.3), 0px 1px 3px 1px rgba(60, 64, 67, 0.15);\n",
       "      fill: #174EA6;\n",
       "    }\n",
       "\n",
       "    [theme=dark] .colab-df-convert {\n",
       "      background-color: #3B4455;\n",
       "      fill: #D2E3FC;\n",
       "    }\n",
       "\n",
       "    [theme=dark] .colab-df-convert:hover {\n",
       "      background-color: #434B5C;\n",
       "      box-shadow: 0px 1px 3px 1px rgba(0, 0, 0, 0.15);\n",
       "      filter: drop-shadow(0px 1px 2px rgba(0, 0, 0, 0.3));\n",
       "      fill: #FFFFFF;\n",
       "    }\n",
       "  </style>\n",
       "\n",
       "      <script>\n",
       "        const buttonEl =\n",
       "          document.querySelector('#df-0f2cbb40-7ffa-4404-8f58-550318e9d788 button.colab-df-convert');\n",
       "        buttonEl.style.display =\n",
       "          google.colab.kernel.accessAllowed ? 'block' : 'none';\n",
       "\n",
       "        async function convertToInteractive(key) {\n",
       "          const element = document.querySelector('#df-0f2cbb40-7ffa-4404-8f58-550318e9d788');\n",
       "          const dataTable =\n",
       "            await google.colab.kernel.invokeFunction('convertToInteractive',\n",
       "                                                     [key], {});\n",
       "          if (!dataTable) return;\n",
       "\n",
       "          const docLinkHtml = 'Like what you see? Visit the ' +\n",
       "            '<a target=\"_blank\" href=https://colab.research.google.com/notebooks/data_table.ipynb>data table notebook</a>'\n",
       "            + ' to learn more about interactive tables.';\n",
       "          element.innerHTML = '';\n",
       "          dataTable['output_type'] = 'display_data';\n",
       "          await google.colab.output.renderOutput(dataTable, element);\n",
       "          const docLink = document.createElement('div');\n",
       "          docLink.innerHTML = docLinkHtml;\n",
       "          element.appendChild(docLink);\n",
       "        }\n",
       "      </script>\n",
       "    </div>\n",
       "  </div>\n",
       "  "
      ],
      "text/plain": [
       "                                               title  \\\n",
       "0  newTHE LATE SHOW WITH STEPHEN COLBERT - SUMMER...   \n",
       "\n",
       "                                         description       level  \n",
       "0  Our program provides college juniors, seniors,...  internship  "
      ]
     },
     "execution_count": 75,
     "metadata": {},
     "output_type": "execute_result"
    }
   ],
   "source": [
    "df = df_root[[\"title\", \"summary\", \"level\"]].copy()\n",
    "df = df.rename({\"summary\": \"description\"}, axis=1) \n",
    "df.head(1)"
   ]
  },
  {
   "cell_type": "code",
   "execution_count": 76,
   "metadata": {
    "colab": {
     "base_uri": "https://localhost:8080/",
     "height": 81
    },
    "executionInfo": {
     "elapsed": 10,
     "status": "ok",
     "timestamp": 1640279327968,
     "user": {
      "displayName": "pling",
      "photoUrl": "https://lh3.googleusercontent.com/a/default-user=s64",
      "userId": "02620778565141551161"
     },
     "user_tz": -60
    },
    "id": "bUFGFR7spBWY",
    "outputId": "373d0d7b-f269-4d83-8dd8-fd9b56ee1d24"
   },
   "outputs": [
    {
     "data": {
      "text/html": [
       "\n",
       "  <div id=\"df-14625d00-7604-4a3b-84d8-b8e117ce1231\">\n",
       "    <div class=\"colab-df-container\">\n",
       "      <div>\n",
       "<style scoped>\n",
       "    .dataframe tbody tr th:only-of-type {\n",
       "        vertical-align: middle;\n",
       "    }\n",
       "\n",
       "    .dataframe tbody tr th {\n",
       "        vertical-align: top;\n",
       "    }\n",
       "\n",
       "    .dataframe thead th {\n",
       "        text-align: right;\n",
       "    }\n",
       "</style>\n",
       "<table border=\"1\" class=\"dataframe\">\n",
       "  <thead>\n",
       "    <tr style=\"text-align: right;\">\n",
       "      <th></th>\n",
       "      <th>title</th>\n",
       "      <th>description</th>\n",
       "      <th>level</th>\n",
       "    </tr>\n",
       "  </thead>\n",
       "  <tbody>\n",
       "    <tr>\n",
       "      <th>0</th>\n",
       "      <td>Live-in Caregiver Weekly Pay</td>\n",
       "      <td>Earn a $100 Signing Bonus! Schedule is for liv...</td>\n",
       "      <td>entry_level</td>\n",
       "    </tr>\n",
       "  </tbody>\n",
       "</table>\n",
       "</div>\n",
       "      <button class=\"colab-df-convert\" onclick=\"convertToInteractive('df-14625d00-7604-4a3b-84d8-b8e117ce1231')\"\n",
       "              title=\"Convert this dataframe to an interactive table.\"\n",
       "              style=\"display:none;\">\n",
       "        \n",
       "  <svg xmlns=\"http://www.w3.org/2000/svg\" height=\"24px\"viewBox=\"0 0 24 24\"\n",
       "       width=\"24px\">\n",
       "    <path d=\"M0 0h24v24H0V0z\" fill=\"none\"/>\n",
       "    <path d=\"M18.56 5.44l.94 2.06.94-2.06 2.06-.94-2.06-.94-.94-2.06-.94 2.06-2.06.94zm-11 1L8.5 8.5l.94-2.06 2.06-.94-2.06-.94L8.5 2.5l-.94 2.06-2.06.94zm10 10l.94 2.06.94-2.06 2.06-.94-2.06-.94-.94-2.06-.94 2.06-2.06.94z\"/><path d=\"M17.41 7.96l-1.37-1.37c-.4-.4-.92-.59-1.43-.59-.52 0-1.04.2-1.43.59L10.3 9.45l-7.72 7.72c-.78.78-.78 2.05 0 2.83L4 21.41c.39.39.9.59 1.41.59.51 0 1.02-.2 1.41-.59l7.78-7.78 2.81-2.81c.8-.78.8-2.07 0-2.86zM5.41 20L4 18.59l7.72-7.72 1.47 1.35L5.41 20z\"/>\n",
       "  </svg>\n",
       "      </button>\n",
       "      \n",
       "  <style>\n",
       "    .colab-df-container {\n",
       "      display:flex;\n",
       "      flex-wrap:wrap;\n",
       "      gap: 12px;\n",
       "    }\n",
       "\n",
       "    .colab-df-convert {\n",
       "      background-color: #E8F0FE;\n",
       "      border: none;\n",
       "      border-radius: 50%;\n",
       "      cursor: pointer;\n",
       "      display: none;\n",
       "      fill: #1967D2;\n",
       "      height: 32px;\n",
       "      padding: 0 0 0 0;\n",
       "      width: 32px;\n",
       "    }\n",
       "\n",
       "    .colab-df-convert:hover {\n",
       "      background-color: #E2EBFA;\n",
       "      box-shadow: 0px 1px 2px rgba(60, 64, 67, 0.3), 0px 1px 3px 1px rgba(60, 64, 67, 0.15);\n",
       "      fill: #174EA6;\n",
       "    }\n",
       "\n",
       "    [theme=dark] .colab-df-convert {\n",
       "      background-color: #3B4455;\n",
       "      fill: #D2E3FC;\n",
       "    }\n",
       "\n",
       "    [theme=dark] .colab-df-convert:hover {\n",
       "      background-color: #434B5C;\n",
       "      box-shadow: 0px 1px 3px 1px rgba(0, 0, 0, 0.15);\n",
       "      filter: drop-shadow(0px 1px 2px rgba(0, 0, 0, 0.3));\n",
       "      fill: #FFFFFF;\n",
       "    }\n",
       "  </style>\n",
       "\n",
       "      <script>\n",
       "        const buttonEl =\n",
       "          document.querySelector('#df-14625d00-7604-4a3b-84d8-b8e117ce1231 button.colab-df-convert');\n",
       "        buttonEl.style.display =\n",
       "          google.colab.kernel.accessAllowed ? 'block' : 'none';\n",
       "\n",
       "        async function convertToInteractive(key) {\n",
       "          const element = document.querySelector('#df-14625d00-7604-4a3b-84d8-b8e117ce1231');\n",
       "          const dataTable =\n",
       "            await google.colab.kernel.invokeFunction('convertToInteractive',\n",
       "                                                     [key], {});\n",
       "          if (!dataTable) return;\n",
       "\n",
       "          const docLinkHtml = 'Like what you see? Visit the ' +\n",
       "            '<a target=\"_blank\" href=https://colab.research.google.com/notebooks/data_table.ipynb>data table notebook</a>'\n",
       "            + ' to learn more about interactive tables.';\n",
       "          element.innerHTML = '';\n",
       "          dataTable['output_type'] = 'display_data';\n",
       "          await google.colab.output.renderOutput(dataTable, element);\n",
       "          const docLink = document.createElement('div');\n",
       "          docLink.innerHTML = docLinkHtml;\n",
       "          element.appendChild(docLink);\n",
       "        }\n",
       "      </script>\n",
       "    </div>\n",
       "  </div>\n",
       "  "
      ],
      "text/plain": [
       "                          title  \\\n",
       "0  Live-in Caregiver Weekly Pay   \n",
       "\n",
       "                                         description        level  \n",
       "0  Earn a $100 Signing Bonus! Schedule is for liv...  entry_level  "
      ]
     },
     "execution_count": 76,
     "metadata": {},
     "output_type": "execute_result"
    }
   ],
   "source": [
    "df_big = df_root_big[[\"title\", \"description\", \"level\"]].copy()\n",
    "df_big.head(1)"
   ]
  },
  {
   "cell_type": "markdown",
   "metadata": {
    "id": "9xR2iWE7jdaR"
   },
   "source": [
    "We can do some basic cleaning. In the indeed dataset we can take out the \"new\" at the beginng of the titles since we do not really care if the job advert is recent or older. Furthermore we can get clean the text a bit and make everything lowercased. (We will use BERT in lowercase mode anyways, from personal experience it performs better then in the cased mode)."
   ]
  },
  {
   "cell_type": "code",
   "execution_count": 78,
   "metadata": {
    "executionInfo": {
     "elapsed": 291,
     "status": "ok",
     "timestamp": 1640279344965,
     "user": {
      "displayName": "pling",
      "photoUrl": "https://lh3.googleusercontent.com/a/default-user=s64",
      "userId": "02620778565141551161"
     },
     "user_tz": -60
    },
    "id": "CAdLOZBjjcs5"
   },
   "outputs": [],
   "source": [
    "def df_clean(df):\n",
    "  try:\n",
    "    df[\"title\"] = df[\"title\"].str[:3].str.replace(\"new\", \"\", case=True) + df[\"title\"].str[3:]\n",
    "    df[\"title\"] = df[\"title\"].str.lower()\n",
    "    df[\"description\"] = df[\"description\"].str.lower()\n",
    "    df[\"description\"] = df[\"description\"].str.replace(\"\\n\", \" \")\n",
    "    df[\"level\"] = df[\"level\"].str.lower()\n",
    "    df[\"level\"] = df[\"level\"].str.replace(\"_\", \" \")\n",
    "  except: print(\"check columns\")\n",
    "  return df"
   ]
  },
  {
   "cell_type": "code",
   "execution_count": 79,
   "metadata": {
    "colab": {
     "base_uri": "https://localhost:8080/",
     "height": 81
    },
    "executionInfo": {
     "elapsed": 12,
     "status": "ok",
     "timestamp": 1640279345440,
     "user": {
      "displayName": "pling",
      "photoUrl": "https://lh3.googleusercontent.com/a/default-user=s64",
      "userId": "02620778565141551161"
     },
     "user_tz": -60
    },
    "id": "zA00SzKgoMlL",
    "outputId": "7c22d710-04dc-4934-ac4c-045e777beb17"
   },
   "outputs": [
    {
     "data": {
      "text/html": [
       "\n",
       "  <div id=\"df-fbb5430a-6097-4e17-8694-4d43cae2c267\">\n",
       "    <div class=\"colab-df-container\">\n",
       "      <div>\n",
       "<style scoped>\n",
       "    .dataframe tbody tr th:only-of-type {\n",
       "        vertical-align: middle;\n",
       "    }\n",
       "\n",
       "    .dataframe tbody tr th {\n",
       "        vertical-align: top;\n",
       "    }\n",
       "\n",
       "    .dataframe thead th {\n",
       "        text-align: right;\n",
       "    }\n",
       "</style>\n",
       "<table border=\"1\" class=\"dataframe\">\n",
       "  <thead>\n",
       "    <tr style=\"text-align: right;\">\n",
       "      <th></th>\n",
       "      <th>title</th>\n",
       "      <th>description</th>\n",
       "      <th>level</th>\n",
       "    </tr>\n",
       "  </thead>\n",
       "  <tbody>\n",
       "    <tr>\n",
       "      <th>0</th>\n",
       "      <td>the late show with stephen colbert - summer 20...</td>\n",
       "      <td>our program provides college juniors, seniors,...</td>\n",
       "      <td>internship</td>\n",
       "    </tr>\n",
       "  </tbody>\n",
       "</table>\n",
       "</div>\n",
       "      <button class=\"colab-df-convert\" onclick=\"convertToInteractive('df-fbb5430a-6097-4e17-8694-4d43cae2c267')\"\n",
       "              title=\"Convert this dataframe to an interactive table.\"\n",
       "              style=\"display:none;\">\n",
       "        \n",
       "  <svg xmlns=\"http://www.w3.org/2000/svg\" height=\"24px\"viewBox=\"0 0 24 24\"\n",
       "       width=\"24px\">\n",
       "    <path d=\"M0 0h24v24H0V0z\" fill=\"none\"/>\n",
       "    <path d=\"M18.56 5.44l.94 2.06.94-2.06 2.06-.94-2.06-.94-.94-2.06-.94 2.06-2.06.94zm-11 1L8.5 8.5l.94-2.06 2.06-.94-2.06-.94L8.5 2.5l-.94 2.06-2.06.94zm10 10l.94 2.06.94-2.06 2.06-.94-2.06-.94-.94-2.06-.94 2.06-2.06.94z\"/><path d=\"M17.41 7.96l-1.37-1.37c-.4-.4-.92-.59-1.43-.59-.52 0-1.04.2-1.43.59L10.3 9.45l-7.72 7.72c-.78.78-.78 2.05 0 2.83L4 21.41c.39.39.9.59 1.41.59.51 0 1.02-.2 1.41-.59l7.78-7.78 2.81-2.81c.8-.78.8-2.07 0-2.86zM5.41 20L4 18.59l7.72-7.72 1.47 1.35L5.41 20z\"/>\n",
       "  </svg>\n",
       "      </button>\n",
       "      \n",
       "  <style>\n",
       "    .colab-df-container {\n",
       "      display:flex;\n",
       "      flex-wrap:wrap;\n",
       "      gap: 12px;\n",
       "    }\n",
       "\n",
       "    .colab-df-convert {\n",
       "      background-color: #E8F0FE;\n",
       "      border: none;\n",
       "      border-radius: 50%;\n",
       "      cursor: pointer;\n",
       "      display: none;\n",
       "      fill: #1967D2;\n",
       "      height: 32px;\n",
       "      padding: 0 0 0 0;\n",
       "      width: 32px;\n",
       "    }\n",
       "\n",
       "    .colab-df-convert:hover {\n",
       "      background-color: #E2EBFA;\n",
       "      box-shadow: 0px 1px 2px rgba(60, 64, 67, 0.3), 0px 1px 3px 1px rgba(60, 64, 67, 0.15);\n",
       "      fill: #174EA6;\n",
       "    }\n",
       "\n",
       "    [theme=dark] .colab-df-convert {\n",
       "      background-color: #3B4455;\n",
       "      fill: #D2E3FC;\n",
       "    }\n",
       "\n",
       "    [theme=dark] .colab-df-convert:hover {\n",
       "      background-color: #434B5C;\n",
       "      box-shadow: 0px 1px 3px 1px rgba(0, 0, 0, 0.15);\n",
       "      filter: drop-shadow(0px 1px 2px rgba(0, 0, 0, 0.3));\n",
       "      fill: #FFFFFF;\n",
       "    }\n",
       "  </style>\n",
       "\n",
       "      <script>\n",
       "        const buttonEl =\n",
       "          document.querySelector('#df-fbb5430a-6097-4e17-8694-4d43cae2c267 button.colab-df-convert');\n",
       "        buttonEl.style.display =\n",
       "          google.colab.kernel.accessAllowed ? 'block' : 'none';\n",
       "\n",
       "        async function convertToInteractive(key) {\n",
       "          const element = document.querySelector('#df-fbb5430a-6097-4e17-8694-4d43cae2c267');\n",
       "          const dataTable =\n",
       "            await google.colab.kernel.invokeFunction('convertToInteractive',\n",
       "                                                     [key], {});\n",
       "          if (!dataTable) return;\n",
       "\n",
       "          const docLinkHtml = 'Like what you see? Visit the ' +\n",
       "            '<a target=\"_blank\" href=https://colab.research.google.com/notebooks/data_table.ipynb>data table notebook</a>'\n",
       "            + ' to learn more about interactive tables.';\n",
       "          element.innerHTML = '';\n",
       "          dataTable['output_type'] = 'display_data';\n",
       "          await google.colab.output.renderOutput(dataTable, element);\n",
       "          const docLink = document.createElement('div');\n",
       "          docLink.innerHTML = docLinkHtml;\n",
       "          element.appendChild(docLink);\n",
       "        }\n",
       "      </script>\n",
       "    </div>\n",
       "  </div>\n",
       "  "
      ],
      "text/plain": [
       "                                               title  \\\n",
       "0  the late show with stephen colbert - summer 20...   \n",
       "\n",
       "                                         description       level  \n",
       "0  our program provides college juniors, seniors,...  internship  "
      ]
     },
     "execution_count": 79,
     "metadata": {},
     "output_type": "execute_result"
    }
   ],
   "source": [
    "df = df_clean(df)\n",
    "df.head(1)"
   ]
  },
  {
   "cell_type": "code",
   "execution_count": 80,
   "metadata": {
    "colab": {
     "base_uri": "https://localhost:8080/",
     "height": 81
    },
    "executionInfo": {
     "elapsed": 21,
     "status": "ok",
     "timestamp": 1640279346884,
     "user": {
      "displayName": "pling",
      "photoUrl": "https://lh3.googleusercontent.com/a/default-user=s64",
      "userId": "02620778565141551161"
     },
     "user_tz": -60
    },
    "id": "uC0pIWlEuuaF",
    "outputId": "9e8ab320-9f67-42a9-ca93-6aac3fa970de"
   },
   "outputs": [
    {
     "data": {
      "text/html": [
       "\n",
       "  <div id=\"df-b2f21993-30c2-4af1-b65a-7bb927e1bf75\">\n",
       "    <div class=\"colab-df-container\">\n",
       "      <div>\n",
       "<style scoped>\n",
       "    .dataframe tbody tr th:only-of-type {\n",
       "        vertical-align: middle;\n",
       "    }\n",
       "\n",
       "    .dataframe tbody tr th {\n",
       "        vertical-align: top;\n",
       "    }\n",
       "\n",
       "    .dataframe thead th {\n",
       "        text-align: right;\n",
       "    }\n",
       "</style>\n",
       "<table border=\"1\" class=\"dataframe\">\n",
       "  <thead>\n",
       "    <tr style=\"text-align: right;\">\n",
       "      <th></th>\n",
       "      <th>title</th>\n",
       "      <th>description</th>\n",
       "      <th>level</th>\n",
       "    </tr>\n",
       "  </thead>\n",
       "  <tbody>\n",
       "    <tr>\n",
       "      <th>0</th>\n",
       "      <td>live-in caregiver weekly pay</td>\n",
       "      <td>earn a $100 signing bonus! schedule is for liv...</td>\n",
       "      <td>entry level</td>\n",
       "    </tr>\n",
       "  </tbody>\n",
       "</table>\n",
       "</div>\n",
       "      <button class=\"colab-df-convert\" onclick=\"convertToInteractive('df-b2f21993-30c2-4af1-b65a-7bb927e1bf75')\"\n",
       "              title=\"Convert this dataframe to an interactive table.\"\n",
       "              style=\"display:none;\">\n",
       "        \n",
       "  <svg xmlns=\"http://www.w3.org/2000/svg\" height=\"24px\"viewBox=\"0 0 24 24\"\n",
       "       width=\"24px\">\n",
       "    <path d=\"M0 0h24v24H0V0z\" fill=\"none\"/>\n",
       "    <path d=\"M18.56 5.44l.94 2.06.94-2.06 2.06-.94-2.06-.94-.94-2.06-.94 2.06-2.06.94zm-11 1L8.5 8.5l.94-2.06 2.06-.94-2.06-.94L8.5 2.5l-.94 2.06-2.06.94zm10 10l.94 2.06.94-2.06 2.06-.94-2.06-.94-.94-2.06-.94 2.06-2.06.94z\"/><path d=\"M17.41 7.96l-1.37-1.37c-.4-.4-.92-.59-1.43-.59-.52 0-1.04.2-1.43.59L10.3 9.45l-7.72 7.72c-.78.78-.78 2.05 0 2.83L4 21.41c.39.39.9.59 1.41.59.51 0 1.02-.2 1.41-.59l7.78-7.78 2.81-2.81c.8-.78.8-2.07 0-2.86zM5.41 20L4 18.59l7.72-7.72 1.47 1.35L5.41 20z\"/>\n",
       "  </svg>\n",
       "      </button>\n",
       "      \n",
       "  <style>\n",
       "    .colab-df-container {\n",
       "      display:flex;\n",
       "      flex-wrap:wrap;\n",
       "      gap: 12px;\n",
       "    }\n",
       "\n",
       "    .colab-df-convert {\n",
       "      background-color: #E8F0FE;\n",
       "      border: none;\n",
       "      border-radius: 50%;\n",
       "      cursor: pointer;\n",
       "      display: none;\n",
       "      fill: #1967D2;\n",
       "      height: 32px;\n",
       "      padding: 0 0 0 0;\n",
       "      width: 32px;\n",
       "    }\n",
       "\n",
       "    .colab-df-convert:hover {\n",
       "      background-color: #E2EBFA;\n",
       "      box-shadow: 0px 1px 2px rgba(60, 64, 67, 0.3), 0px 1px 3px 1px rgba(60, 64, 67, 0.15);\n",
       "      fill: #174EA6;\n",
       "    }\n",
       "\n",
       "    [theme=dark] .colab-df-convert {\n",
       "      background-color: #3B4455;\n",
       "      fill: #D2E3FC;\n",
       "    }\n",
       "\n",
       "    [theme=dark] .colab-df-convert:hover {\n",
       "      background-color: #434B5C;\n",
       "      box-shadow: 0px 1px 3px 1px rgba(0, 0, 0, 0.15);\n",
       "      filter: drop-shadow(0px 1px 2px rgba(0, 0, 0, 0.3));\n",
       "      fill: #FFFFFF;\n",
       "    }\n",
       "  </style>\n",
       "\n",
       "      <script>\n",
       "        const buttonEl =\n",
       "          document.querySelector('#df-b2f21993-30c2-4af1-b65a-7bb927e1bf75 button.colab-df-convert');\n",
       "        buttonEl.style.display =\n",
       "          google.colab.kernel.accessAllowed ? 'block' : 'none';\n",
       "\n",
       "        async function convertToInteractive(key) {\n",
       "          const element = document.querySelector('#df-b2f21993-30c2-4af1-b65a-7bb927e1bf75');\n",
       "          const dataTable =\n",
       "            await google.colab.kernel.invokeFunction('convertToInteractive',\n",
       "                                                     [key], {});\n",
       "          if (!dataTable) return;\n",
       "\n",
       "          const docLinkHtml = 'Like what you see? Visit the ' +\n",
       "            '<a target=\"_blank\" href=https://colab.research.google.com/notebooks/data_table.ipynb>data table notebook</a>'\n",
       "            + ' to learn more about interactive tables.';\n",
       "          element.innerHTML = '';\n",
       "          dataTable['output_type'] = 'display_data';\n",
       "          await google.colab.output.renderOutput(dataTable, element);\n",
       "          const docLink = document.createElement('div');\n",
       "          docLink.innerHTML = docLinkHtml;\n",
       "          element.appendChild(docLink);\n",
       "        }\n",
       "      </script>\n",
       "    </div>\n",
       "  </div>\n",
       "  "
      ],
      "text/plain": [
       "                          title  \\\n",
       "0  live-in caregiver weekly pay   \n",
       "\n",
       "                                         description        level  \n",
       "0  earn a $100 signing bonus! schedule is for liv...  entry level  "
      ]
     },
     "execution_count": 80,
     "metadata": {},
     "output_type": "execute_result"
    }
   ],
   "source": [
    "df_big = df_clean(df_big)\n",
    "df_big.head(1)"
   ]
  },
  {
   "cell_type": "markdown",
   "metadata": {
    "id": "HvClKhJHg24N"
   },
   "source": [
    "Let's take a quick look at the challenge dataset first. As it turns out, not all of the text is in English. We use deepl.com to translate the descriptions. langdetect also falsely detects languages, however, we do find a few examples, where the text is in German and French"
   ]
  },
  {
   "cell_type": "code",
   "execution_count": 81,
   "metadata": {
    "colab": {
     "base_uri": "https://localhost:8080/",
     "height": 143
    },
    "executionInfo": {
     "elapsed": 19,
     "status": "ok",
     "timestamp": 1640279346885,
     "user": {
      "displayName": "pling",
      "photoUrl": "https://lh3.googleusercontent.com/a/default-user=s64",
      "userId": "02620778565141551161"
     },
     "user_tz": -60
    },
    "id": "KcCOlTZL6eIE",
    "outputId": "e77d7082-f45a-4770-c675-536d356c8c92"
   },
   "outputs": [
    {
     "data": {
      "text/html": [
       "\n",
       "  <div id=\"df-f4c4b120-5b47-42d7-a705-ee600e7232e6\">\n",
       "    <div class=\"colab-df-container\">\n",
       "      <div>\n",
       "<style scoped>\n",
       "    .dataframe tbody tr th:only-of-type {\n",
       "        vertical-align: middle;\n",
       "    }\n",
       "\n",
       "    .dataframe tbody tr th {\n",
       "        vertical-align: top;\n",
       "    }\n",
       "\n",
       "    .dataframe thead th {\n",
       "        text-align: right;\n",
       "    }\n",
       "</style>\n",
       "<table border=\"1\" class=\"dataframe\">\n",
       "  <thead>\n",
       "    <tr style=\"text-align: right;\">\n",
       "      <th></th>\n",
       "      <th>level</th>\n",
       "      <th>description</th>\n",
       "      <th>title</th>\n",
       "    </tr>\n",
       "  </thead>\n",
       "  <tbody>\n",
       "    <tr>\n",
       "      <th>0</th>\n",
       "      <td>entry level</td>\n",
       "      <td>outfittery is europe’s biggest personal shoppi...</td>\n",
       "      <td>frontend engineer (m/f)</td>\n",
       "    </tr>\n",
       "    <tr>\n",
       "      <th>1</th>\n",
       "      <td>senior level</td>\n",
       "      <td>outfittery is europe’s biggest personal shoppi...</td>\n",
       "      <td>senior product manager (m/f)</td>\n",
       "    </tr>\n",
       "    <tr>\n",
       "      <th>2</th>\n",
       "      <td>entry level</td>\n",
       "      <td>job description pamet is looking for android d...</td>\n",
       "      <td>android developer</td>\n",
       "    </tr>\n",
       "  </tbody>\n",
       "</table>\n",
       "</div>\n",
       "      <button class=\"colab-df-convert\" onclick=\"convertToInteractive('df-f4c4b120-5b47-42d7-a705-ee600e7232e6')\"\n",
       "              title=\"Convert this dataframe to an interactive table.\"\n",
       "              style=\"display:none;\">\n",
       "        \n",
       "  <svg xmlns=\"http://www.w3.org/2000/svg\" height=\"24px\"viewBox=\"0 0 24 24\"\n",
       "       width=\"24px\">\n",
       "    <path d=\"M0 0h24v24H0V0z\" fill=\"none\"/>\n",
       "    <path d=\"M18.56 5.44l.94 2.06.94-2.06 2.06-.94-2.06-.94-.94-2.06-.94 2.06-2.06.94zm-11 1L8.5 8.5l.94-2.06 2.06-.94-2.06-.94L8.5 2.5l-.94 2.06-2.06.94zm10 10l.94 2.06.94-2.06 2.06-.94-2.06-.94-.94-2.06-.94 2.06-2.06.94z\"/><path d=\"M17.41 7.96l-1.37-1.37c-.4-.4-.92-.59-1.43-.59-.52 0-1.04.2-1.43.59L10.3 9.45l-7.72 7.72c-.78.78-.78 2.05 0 2.83L4 21.41c.39.39.9.59 1.41.59.51 0 1.02-.2 1.41-.59l7.78-7.78 2.81-2.81c.8-.78.8-2.07 0-2.86zM5.41 20L4 18.59l7.72-7.72 1.47 1.35L5.41 20z\"/>\n",
       "  </svg>\n",
       "      </button>\n",
       "      \n",
       "  <style>\n",
       "    .colab-df-container {\n",
       "      display:flex;\n",
       "      flex-wrap:wrap;\n",
       "      gap: 12px;\n",
       "    }\n",
       "\n",
       "    .colab-df-convert {\n",
       "      background-color: #E8F0FE;\n",
       "      border: none;\n",
       "      border-radius: 50%;\n",
       "      cursor: pointer;\n",
       "      display: none;\n",
       "      fill: #1967D2;\n",
       "      height: 32px;\n",
       "      padding: 0 0 0 0;\n",
       "      width: 32px;\n",
       "    }\n",
       "\n",
       "    .colab-df-convert:hover {\n",
       "      background-color: #E2EBFA;\n",
       "      box-shadow: 0px 1px 2px rgba(60, 64, 67, 0.3), 0px 1px 3px 1px rgba(60, 64, 67, 0.15);\n",
       "      fill: #174EA6;\n",
       "    }\n",
       "\n",
       "    [theme=dark] .colab-df-convert {\n",
       "      background-color: #3B4455;\n",
       "      fill: #D2E3FC;\n",
       "    }\n",
       "\n",
       "    [theme=dark] .colab-df-convert:hover {\n",
       "      background-color: #434B5C;\n",
       "      box-shadow: 0px 1px 3px 1px rgba(0, 0, 0, 0.15);\n",
       "      filter: drop-shadow(0px 1px 2px rgba(0, 0, 0, 0.3));\n",
       "      fill: #FFFFFF;\n",
       "    }\n",
       "  </style>\n",
       "\n",
       "      <script>\n",
       "        const buttonEl =\n",
       "          document.querySelector('#df-f4c4b120-5b47-42d7-a705-ee600e7232e6 button.colab-df-convert');\n",
       "        buttonEl.style.display =\n",
       "          google.colab.kernel.accessAllowed ? 'block' : 'none';\n",
       "\n",
       "        async function convertToInteractive(key) {\n",
       "          const element = document.querySelector('#df-f4c4b120-5b47-42d7-a705-ee600e7232e6');\n",
       "          const dataTable =\n",
       "            await google.colab.kernel.invokeFunction('convertToInteractive',\n",
       "                                                     [key], {});\n",
       "          if (!dataTable) return;\n",
       "\n",
       "          const docLinkHtml = 'Like what you see? Visit the ' +\n",
       "            '<a target=\"_blank\" href=https://colab.research.google.com/notebooks/data_table.ipynb>data table notebook</a>'\n",
       "            + ' to learn more about interactive tables.';\n",
       "          element.innerHTML = '';\n",
       "          dataTable['output_type'] = 'display_data';\n",
       "          await google.colab.output.renderOutput(dataTable, element);\n",
       "          const docLink = document.createElement('div');\n",
       "          docLink.innerHTML = docLinkHtml;\n",
       "          element.appendChild(docLink);\n",
       "        }\n",
       "      </script>\n",
       "    </div>\n",
       "  </div>\n",
       "  "
      ],
      "text/plain": [
       "          level                                        description  \\\n",
       "0   entry level  outfittery is europe’s biggest personal shoppi...   \n",
       "1  senior level  outfittery is europe’s biggest personal shoppi...   \n",
       "2   entry level  job description pamet is looking for android d...   \n",
       "\n",
       "                          title  \n",
       "0       frontend engineer (m/f)  \n",
       "1  senior product manager (m/f)  \n",
       "2             android developer  "
      ]
     },
     "execution_count": 81,
     "metadata": {},
     "output_type": "execute_result"
    }
   ],
   "source": [
    "df_val_pred = df_clean(df_val_pred)\n",
    "df_val_pred.head(3)"
   ]
  },
  {
   "cell_type": "code",
   "execution_count": 82,
   "metadata": {
    "colab": {
     "base_uri": "https://localhost:8080/"
    },
    "executionInfo": {
     "elapsed": 5500,
     "status": "ok",
     "timestamp": 1640279352973,
     "user": {
      "displayName": "pling",
      "photoUrl": "https://lh3.googleusercontent.com/a/default-user=s64",
      "userId": "02620778565141551161"
     },
     "user_tz": -60
    },
    "id": "pR0Us6A8i5wR",
    "outputId": "d03ee585-60f2-4331-93e6-414131e13e62"
   },
   "outputs": [
    {
     "name": "stdout",
     "output_type": "stream",
     "text": [
      "Requirement already satisfied: langdetect in /usr/local/lib/python3.7/dist-packages (1.0.9)\n",
      "Requirement already satisfied: six in /usr/local/lib/python3.7/dist-packages (from langdetect) (1.15.0)\n"
     ]
    }
   ],
   "source": [
    "!pip install langdetect"
   ]
  },
  {
   "cell_type": "code",
   "execution_count": 83,
   "metadata": {
    "executionInfo": {
     "elapsed": 13260,
     "status": "ok",
     "timestamp": 1640279366209,
     "user": {
      "displayName": "pling",
      "photoUrl": "https://lh3.googleusercontent.com/a/default-user=s64",
      "userId": "02620778565141551161"
     },
     "user_tz": -60
    },
    "id": "AmspXXWDiuHV"
   },
   "outputs": [],
   "source": [
    "from langdetect import detect\n",
    "df_val_pred['lang_description'] = df_val_pred['description'].apply(detect)\n",
    "df_val_pred['lang_title'] = df_val_pred['title'].apply(detect)"
   ]
  },
  {
   "cell_type": "code",
   "execution_count": 84,
   "metadata": {
    "colab": {
     "base_uri": "https://localhost:8080/"
    },
    "executionInfo": {
     "elapsed": 49,
     "status": "ok",
     "timestamp": 1640279366217,
     "user": {
      "displayName": "pling",
      "photoUrl": "https://lh3.googleusercontent.com/a/default-user=s64",
      "userId": "02620778565141551161"
     },
     "user_tz": -60
    },
    "id": "JRuRU8yvhLhX",
    "outputId": "5f747cd7-462c-450e-8b68-b2b2ca645358"
   },
   "outputs": [
    {
     "data": {
      "text/plain": [
       "en    210\n",
       "fr      3\n",
       "tl      2\n",
       "nl      1\n",
       "Name: lang_description, dtype: int64"
      ]
     },
     "execution_count": 84,
     "metadata": {},
     "output_type": "execute_result"
    }
   ],
   "source": [
    "df_val_pred.lang_description.value_counts()"
   ]
  },
  {
   "cell_type": "code",
   "execution_count": 85,
   "metadata": {
    "colab": {
     "base_uri": "https://localhost:8080/",
     "height": 112
    },
    "executionInfo": {
     "elapsed": 38,
     "status": "ok",
     "timestamp": 1640279366218,
     "user": {
      "displayName": "pling",
      "photoUrl": "https://lh3.googleusercontent.com/a/default-user=s64",
      "userId": "02620778565141551161"
     },
     "user_tz": -60
    },
    "id": "DfSFVcR3hLZJ",
    "outputId": "5ef88cc3-3eaa-4272-f1b9-7647288bfa7f"
   },
   "outputs": [
    {
     "data": {
      "text/html": [
       "\n",
       "  <div id=\"df-879bbc79-6ba6-4147-a43d-a54780949202\">\n",
       "    <div class=\"colab-df-container\">\n",
       "      <div>\n",
       "<style scoped>\n",
       "    .dataframe tbody tr th:only-of-type {\n",
       "        vertical-align: middle;\n",
       "    }\n",
       "\n",
       "    .dataframe tbody tr th {\n",
       "        vertical-align: top;\n",
       "    }\n",
       "\n",
       "    .dataframe thead th {\n",
       "        text-align: right;\n",
       "    }\n",
       "</style>\n",
       "<table border=\"1\" class=\"dataframe\">\n",
       "  <thead>\n",
       "    <tr style=\"text-align: right;\">\n",
       "      <th></th>\n",
       "      <th>level</th>\n",
       "      <th>description</th>\n",
       "      <th>title</th>\n",
       "      <th>lang_description</th>\n",
       "      <th>lang_title</th>\n",
       "    </tr>\n",
       "  </thead>\n",
       "  <tbody>\n",
       "    <tr>\n",
       "      <th>146</th>\n",
       "      <td>NaN</td>\n",
       "      <td>no</td>\n",
       "      <td>praktikant im bereich operations &amp; customer se...</td>\n",
       "      <td>tl</td>\n",
       "      <td>en</td>\n",
       "    </tr>\n",
       "    <tr>\n",
       "      <th>153</th>\n",
       "      <td>NaN</td>\n",
       "      <td>no</td>\n",
       "      <td>werkstudent promotion</td>\n",
       "      <td>tl</td>\n",
       "      <td>en</td>\n",
       "    </tr>\n",
       "  </tbody>\n",
       "</table>\n",
       "</div>\n",
       "      <button class=\"colab-df-convert\" onclick=\"convertToInteractive('df-879bbc79-6ba6-4147-a43d-a54780949202')\"\n",
       "              title=\"Convert this dataframe to an interactive table.\"\n",
       "              style=\"display:none;\">\n",
       "        \n",
       "  <svg xmlns=\"http://www.w3.org/2000/svg\" height=\"24px\"viewBox=\"0 0 24 24\"\n",
       "       width=\"24px\">\n",
       "    <path d=\"M0 0h24v24H0V0z\" fill=\"none\"/>\n",
       "    <path d=\"M18.56 5.44l.94 2.06.94-2.06 2.06-.94-2.06-.94-.94-2.06-.94 2.06-2.06.94zm-11 1L8.5 8.5l.94-2.06 2.06-.94-2.06-.94L8.5 2.5l-.94 2.06-2.06.94zm10 10l.94 2.06.94-2.06 2.06-.94-2.06-.94-.94-2.06-.94 2.06-2.06.94z\"/><path d=\"M17.41 7.96l-1.37-1.37c-.4-.4-.92-.59-1.43-.59-.52 0-1.04.2-1.43.59L10.3 9.45l-7.72 7.72c-.78.78-.78 2.05 0 2.83L4 21.41c.39.39.9.59 1.41.59.51 0 1.02-.2 1.41-.59l7.78-7.78 2.81-2.81c.8-.78.8-2.07 0-2.86zM5.41 20L4 18.59l7.72-7.72 1.47 1.35L5.41 20z\"/>\n",
       "  </svg>\n",
       "      </button>\n",
       "      \n",
       "  <style>\n",
       "    .colab-df-container {\n",
       "      display:flex;\n",
       "      flex-wrap:wrap;\n",
       "      gap: 12px;\n",
       "    }\n",
       "\n",
       "    .colab-df-convert {\n",
       "      background-color: #E8F0FE;\n",
       "      border: none;\n",
       "      border-radius: 50%;\n",
       "      cursor: pointer;\n",
       "      display: none;\n",
       "      fill: #1967D2;\n",
       "      height: 32px;\n",
       "      padding: 0 0 0 0;\n",
       "      width: 32px;\n",
       "    }\n",
       "\n",
       "    .colab-df-convert:hover {\n",
       "      background-color: #E2EBFA;\n",
       "      box-shadow: 0px 1px 2px rgba(60, 64, 67, 0.3), 0px 1px 3px 1px rgba(60, 64, 67, 0.15);\n",
       "      fill: #174EA6;\n",
       "    }\n",
       "\n",
       "    [theme=dark] .colab-df-convert {\n",
       "      background-color: #3B4455;\n",
       "      fill: #D2E3FC;\n",
       "    }\n",
       "\n",
       "    [theme=dark] .colab-df-convert:hover {\n",
       "      background-color: #434B5C;\n",
       "      box-shadow: 0px 1px 3px 1px rgba(0, 0, 0, 0.15);\n",
       "      filter: drop-shadow(0px 1px 2px rgba(0, 0, 0, 0.3));\n",
       "      fill: #FFFFFF;\n",
       "    }\n",
       "  </style>\n",
       "\n",
       "      <script>\n",
       "        const buttonEl =\n",
       "          document.querySelector('#df-879bbc79-6ba6-4147-a43d-a54780949202 button.colab-df-convert');\n",
       "        buttonEl.style.display =\n",
       "          google.colab.kernel.accessAllowed ? 'block' : 'none';\n",
       "\n",
       "        async function convertToInteractive(key) {\n",
       "          const element = document.querySelector('#df-879bbc79-6ba6-4147-a43d-a54780949202');\n",
       "          const dataTable =\n",
       "            await google.colab.kernel.invokeFunction('convertToInteractive',\n",
       "                                                     [key], {});\n",
       "          if (!dataTable) return;\n",
       "\n",
       "          const docLinkHtml = 'Like what you see? Visit the ' +\n",
       "            '<a target=\"_blank\" href=https://colab.research.google.com/notebooks/data_table.ipynb>data table notebook</a>'\n",
       "            + ' to learn more about interactive tables.';\n",
       "          element.innerHTML = '';\n",
       "          dataTable['output_type'] = 'display_data';\n",
       "          await google.colab.output.renderOutput(dataTable, element);\n",
       "          const docLink = document.createElement('div');\n",
       "          docLink.innerHTML = docLinkHtml;\n",
       "          element.appendChild(docLink);\n",
       "        }\n",
       "      </script>\n",
       "    </div>\n",
       "  </div>\n",
       "  "
      ],
      "text/plain": [
       "    level description                                              title  \\\n",
       "146   NaN          no  praktikant im bereich operations & customer se...   \n",
       "153   NaN          no                              werkstudent promotion   \n",
       "\n",
       "    lang_description lang_title  \n",
       "146               tl         en  \n",
       "153               tl         en  "
      ]
     },
     "execution_count": 85,
     "metadata": {},
     "output_type": "execute_result"
    }
   ],
   "source": [
    "df_val_pred[df_val_pred.lang_description == \"tl\"]   "
   ]
  },
  {
   "cell_type": "code",
   "execution_count": 86,
   "metadata": {
    "colab": {
     "base_uri": "https://localhost:8080/"
    },
    "executionInfo": {
     "elapsed": 32,
     "status": "ok",
     "timestamp": 1640279366219,
     "user": {
      "displayName": "pling",
      "photoUrl": "https://lh3.googleusercontent.com/a/default-user=s64",
      "userId": "02620778565141551161"
     },
     "user_tz": -60
    },
    "id": "k-LZ10JL6wyl",
    "outputId": "9df6f3ad-a0b7-411f-97b1-74a98d1db82e"
   },
   "outputs": [
    {
     "data": {
      "text/plain": [
       "en    122\n",
       "fr     22\n",
       "da     15\n",
       "nl     13\n",
       "it     11\n",
       "af     10\n",
       "es      6\n",
       "ro      4\n",
       "ca      3\n",
       "de      3\n",
       "sv      2\n",
       "so      1\n",
       "hr      1\n",
       "sl      1\n",
       "no      1\n",
       "tl      1\n",
       "Name: lang_title, dtype: int64"
      ]
     },
     "execution_count": 86,
     "metadata": {},
     "output_type": "execute_result"
    }
   ],
   "source": [
    "df_val_pred.lang_title.value_counts()"
   ]
  },
  {
   "cell_type": "code",
   "execution_count": 87,
   "metadata": {
    "colab": {
     "base_uri": "https://localhost:8080/",
     "height": 143
    },
    "executionInfo": {
     "elapsed": 27,
     "status": "ok",
     "timestamp": 1640279366221,
     "user": {
      "displayName": "pling",
      "photoUrl": "https://lh3.googleusercontent.com/a/default-user=s64",
      "userId": "02620778565141551161"
     },
     "user_tz": -60
    },
    "id": "sGPILfXW6w2J",
    "outputId": "58b7b97c-09f2-4ef5-9186-6ef6734e55cc"
   },
   "outputs": [
    {
     "data": {
      "text/html": [
       "\n",
       "  <div id=\"df-78173014-3e2a-4c24-97f2-f017e5aebbea\">\n",
       "    <div class=\"colab-df-container\">\n",
       "      <div>\n",
       "<style scoped>\n",
       "    .dataframe tbody tr th:only-of-type {\n",
       "        vertical-align: middle;\n",
       "    }\n",
       "\n",
       "    .dataframe tbody tr th {\n",
       "        vertical-align: top;\n",
       "    }\n",
       "\n",
       "    .dataframe thead th {\n",
       "        text-align: right;\n",
       "    }\n",
       "</style>\n",
       "<table border=\"1\" class=\"dataframe\">\n",
       "  <thead>\n",
       "    <tr style=\"text-align: right;\">\n",
       "      <th></th>\n",
       "      <th>level</th>\n",
       "      <th>description</th>\n",
       "      <th>title</th>\n",
       "      <th>lang_description</th>\n",
       "      <th>lang_title</th>\n",
       "    </tr>\n",
       "  </thead>\n",
       "  <tbody>\n",
       "    <tr>\n",
       "      <th>27</th>\n",
       "      <td>mid level</td>\n",
       "      <td>no description available.</td>\n",
       "      <td>software engineer - back-end</td>\n",
       "      <td>fr</td>\n",
       "      <td>de</td>\n",
       "    </tr>\n",
       "    <tr>\n",
       "      <th>28</th>\n",
       "      <td>entry level</td>\n",
       "      <td>over 2 million business owners use yelp to con...</td>\n",
       "      <td>software engineer - backend (hamburg, de)</td>\n",
       "      <td>en</td>\n",
       "      <td>de</td>\n",
       "    </tr>\n",
       "    <tr>\n",
       "      <th>192</th>\n",
       "      <td>NaN</td>\n",
       "      <td>we are a growing software company with a nitch...</td>\n",
       "      <td>web designer</td>\n",
       "      <td>en</td>\n",
       "      <td>de</td>\n",
       "    </tr>\n",
       "  </tbody>\n",
       "</table>\n",
       "</div>\n",
       "      <button class=\"colab-df-convert\" onclick=\"convertToInteractive('df-78173014-3e2a-4c24-97f2-f017e5aebbea')\"\n",
       "              title=\"Convert this dataframe to an interactive table.\"\n",
       "              style=\"display:none;\">\n",
       "        \n",
       "  <svg xmlns=\"http://www.w3.org/2000/svg\" height=\"24px\"viewBox=\"0 0 24 24\"\n",
       "       width=\"24px\">\n",
       "    <path d=\"M0 0h24v24H0V0z\" fill=\"none\"/>\n",
       "    <path d=\"M18.56 5.44l.94 2.06.94-2.06 2.06-.94-2.06-.94-.94-2.06-.94 2.06-2.06.94zm-11 1L8.5 8.5l.94-2.06 2.06-.94-2.06-.94L8.5 2.5l-.94 2.06-2.06.94zm10 10l.94 2.06.94-2.06 2.06-.94-2.06-.94-.94-2.06-.94 2.06-2.06.94z\"/><path d=\"M17.41 7.96l-1.37-1.37c-.4-.4-.92-.59-1.43-.59-.52 0-1.04.2-1.43.59L10.3 9.45l-7.72 7.72c-.78.78-.78 2.05 0 2.83L4 21.41c.39.39.9.59 1.41.59.51 0 1.02-.2 1.41-.59l7.78-7.78 2.81-2.81c.8-.78.8-2.07 0-2.86zM5.41 20L4 18.59l7.72-7.72 1.47 1.35L5.41 20z\"/>\n",
       "  </svg>\n",
       "      </button>\n",
       "      \n",
       "  <style>\n",
       "    .colab-df-container {\n",
       "      display:flex;\n",
       "      flex-wrap:wrap;\n",
       "      gap: 12px;\n",
       "    }\n",
       "\n",
       "    .colab-df-convert {\n",
       "      background-color: #E8F0FE;\n",
       "      border: none;\n",
       "      border-radius: 50%;\n",
       "      cursor: pointer;\n",
       "      display: none;\n",
       "      fill: #1967D2;\n",
       "      height: 32px;\n",
       "      padding: 0 0 0 0;\n",
       "      width: 32px;\n",
       "    }\n",
       "\n",
       "    .colab-df-convert:hover {\n",
       "      background-color: #E2EBFA;\n",
       "      box-shadow: 0px 1px 2px rgba(60, 64, 67, 0.3), 0px 1px 3px 1px rgba(60, 64, 67, 0.15);\n",
       "      fill: #174EA6;\n",
       "    }\n",
       "\n",
       "    [theme=dark] .colab-df-convert {\n",
       "      background-color: #3B4455;\n",
       "      fill: #D2E3FC;\n",
       "    }\n",
       "\n",
       "    [theme=dark] .colab-df-convert:hover {\n",
       "      background-color: #434B5C;\n",
       "      box-shadow: 0px 1px 3px 1px rgba(0, 0, 0, 0.15);\n",
       "      filter: drop-shadow(0px 1px 2px rgba(0, 0, 0, 0.3));\n",
       "      fill: #FFFFFF;\n",
       "    }\n",
       "  </style>\n",
       "\n",
       "      <script>\n",
       "        const buttonEl =\n",
       "          document.querySelector('#df-78173014-3e2a-4c24-97f2-f017e5aebbea button.colab-df-convert');\n",
       "        buttonEl.style.display =\n",
       "          google.colab.kernel.accessAllowed ? 'block' : 'none';\n",
       "\n",
       "        async function convertToInteractive(key) {\n",
       "          const element = document.querySelector('#df-78173014-3e2a-4c24-97f2-f017e5aebbea');\n",
       "          const dataTable =\n",
       "            await google.colab.kernel.invokeFunction('convertToInteractive',\n",
       "                                                     [key], {});\n",
       "          if (!dataTable) return;\n",
       "\n",
       "          const docLinkHtml = 'Like what you see? Visit the ' +\n",
       "            '<a target=\"_blank\" href=https://colab.research.google.com/notebooks/data_table.ipynb>data table notebook</a>'\n",
       "            + ' to learn more about interactive tables.';\n",
       "          element.innerHTML = '';\n",
       "          dataTable['output_type'] = 'display_data';\n",
       "          await google.colab.output.renderOutput(dataTable, element);\n",
       "          const docLink = document.createElement('div');\n",
       "          docLink.innerHTML = docLinkHtml;\n",
       "          element.appendChild(docLink);\n",
       "        }\n",
       "      </script>\n",
       "    </div>\n",
       "  </div>\n",
       "  "
      ],
      "text/plain": [
       "           level                                        description  \\\n",
       "27     mid level                          no description available.   \n",
       "28   entry level  over 2 million business owners use yelp to con...   \n",
       "192          NaN  we are a growing software company with a nitch...   \n",
       "\n",
       "                                         title lang_description lang_title  \n",
       "27                software engineer - back-end               fr         de  \n",
       "28   software engineer - backend (hamburg, de)               en         de  \n",
       "192                               web designer               en         de  "
      ]
     },
     "execution_count": 87,
     "metadata": {},
     "output_type": "execute_result"
    }
   ],
   "source": [
    "df_val_pred[df_val_pred.lang_title == \"de\"] "
   ]
  },
  {
   "cell_type": "markdown",
   "metadata": {
    "id": "dBF8GuJC7muU"
   },
   "source": [
    "Trying around a bit, we find 3 non-English entries:"
   ]
  },
  {
   "cell_type": "code",
   "execution_count": 88,
   "metadata": {
    "colab": {
     "base_uri": "https://localhost:8080/",
     "height": 143
    },
    "executionInfo": {
     "elapsed": 24,
     "status": "ok",
     "timestamp": 1640279366221,
     "user": {
      "displayName": "pling",
      "photoUrl": "https://lh3.googleusercontent.com/a/default-user=s64",
      "userId": "02620778565141551161"
     },
     "user_tz": -60
    },
    "id": "ZJk78fsk6w5C",
    "outputId": "d9e5d11f-eac0-4a77-8a61-9aa200886ff7"
   },
   "outputs": [
    {
     "data": {
      "text/html": [
       "\n",
       "  <div id=\"df-2a0a8374-9ab6-4815-9eb4-1062eb810319\">\n",
       "    <div class=\"colab-df-container\">\n",
       "      <div>\n",
       "<style scoped>\n",
       "    .dataframe tbody tr th:only-of-type {\n",
       "        vertical-align: middle;\n",
       "    }\n",
       "\n",
       "    .dataframe tbody tr th {\n",
       "        vertical-align: top;\n",
       "    }\n",
       "\n",
       "    .dataframe thead th {\n",
       "        text-align: right;\n",
       "    }\n",
       "</style>\n",
       "<table border=\"1\" class=\"dataframe\">\n",
       "  <thead>\n",
       "    <tr style=\"text-align: right;\">\n",
       "      <th></th>\n",
       "      <th>level</th>\n",
       "      <th>description</th>\n",
       "      <th>title</th>\n",
       "      <th>lang_description</th>\n",
       "      <th>lang_title</th>\n",
       "    </tr>\n",
       "  </thead>\n",
       "  <tbody>\n",
       "    <tr>\n",
       "      <th>146</th>\n",
       "      <td>NaN</td>\n",
       "      <td>no</td>\n",
       "      <td>praktikant im bereich operations &amp; customer se...</td>\n",
       "      <td>tl</td>\n",
       "      <td>en</td>\n",
       "    </tr>\n",
       "    <tr>\n",
       "      <th>153</th>\n",
       "      <td>NaN</td>\n",
       "      <td>no</td>\n",
       "      <td>werkstudent promotion</td>\n",
       "      <td>tl</td>\n",
       "      <td>en</td>\n",
       "    </tr>\n",
       "    <tr>\n",
       "      <th>166</th>\n",
       "      <td>NaN</td>\n",
       "      <td>teads.tv est spécialisé dans la diffusion de c...</td>\n",
       "      <td>finance controller</td>\n",
       "      <td>fr</td>\n",
       "      <td>it</td>\n",
       "    </tr>\n",
       "  </tbody>\n",
       "</table>\n",
       "</div>\n",
       "      <button class=\"colab-df-convert\" onclick=\"convertToInteractive('df-2a0a8374-9ab6-4815-9eb4-1062eb810319')\"\n",
       "              title=\"Convert this dataframe to an interactive table.\"\n",
       "              style=\"display:none;\">\n",
       "        \n",
       "  <svg xmlns=\"http://www.w3.org/2000/svg\" height=\"24px\"viewBox=\"0 0 24 24\"\n",
       "       width=\"24px\">\n",
       "    <path d=\"M0 0h24v24H0V0z\" fill=\"none\"/>\n",
       "    <path d=\"M18.56 5.44l.94 2.06.94-2.06 2.06-.94-2.06-.94-.94-2.06-.94 2.06-2.06.94zm-11 1L8.5 8.5l.94-2.06 2.06-.94-2.06-.94L8.5 2.5l-.94 2.06-2.06.94zm10 10l.94 2.06.94-2.06 2.06-.94-2.06-.94-.94-2.06-.94 2.06-2.06.94z\"/><path d=\"M17.41 7.96l-1.37-1.37c-.4-.4-.92-.59-1.43-.59-.52 0-1.04.2-1.43.59L10.3 9.45l-7.72 7.72c-.78.78-.78 2.05 0 2.83L4 21.41c.39.39.9.59 1.41.59.51 0 1.02-.2 1.41-.59l7.78-7.78 2.81-2.81c.8-.78.8-2.07 0-2.86zM5.41 20L4 18.59l7.72-7.72 1.47 1.35L5.41 20z\"/>\n",
       "  </svg>\n",
       "      </button>\n",
       "      \n",
       "  <style>\n",
       "    .colab-df-container {\n",
       "      display:flex;\n",
       "      flex-wrap:wrap;\n",
       "      gap: 12px;\n",
       "    }\n",
       "\n",
       "    .colab-df-convert {\n",
       "      background-color: #E8F0FE;\n",
       "      border: none;\n",
       "      border-radius: 50%;\n",
       "      cursor: pointer;\n",
       "      display: none;\n",
       "      fill: #1967D2;\n",
       "      height: 32px;\n",
       "      padding: 0 0 0 0;\n",
       "      width: 32px;\n",
       "    }\n",
       "\n",
       "    .colab-df-convert:hover {\n",
       "      background-color: #E2EBFA;\n",
       "      box-shadow: 0px 1px 2px rgba(60, 64, 67, 0.3), 0px 1px 3px 1px rgba(60, 64, 67, 0.15);\n",
       "      fill: #174EA6;\n",
       "    }\n",
       "\n",
       "    [theme=dark] .colab-df-convert {\n",
       "      background-color: #3B4455;\n",
       "      fill: #D2E3FC;\n",
       "    }\n",
       "\n",
       "    [theme=dark] .colab-df-convert:hover {\n",
       "      background-color: #434B5C;\n",
       "      box-shadow: 0px 1px 3px 1px rgba(0, 0, 0, 0.15);\n",
       "      filter: drop-shadow(0px 1px 2px rgba(0, 0, 0, 0.3));\n",
       "      fill: #FFFFFF;\n",
       "    }\n",
       "  </style>\n",
       "\n",
       "      <script>\n",
       "        const buttonEl =\n",
       "          document.querySelector('#df-2a0a8374-9ab6-4815-9eb4-1062eb810319 button.colab-df-convert');\n",
       "        buttonEl.style.display =\n",
       "          google.colab.kernel.accessAllowed ? 'block' : 'none';\n",
       "\n",
       "        async function convertToInteractive(key) {\n",
       "          const element = document.querySelector('#df-2a0a8374-9ab6-4815-9eb4-1062eb810319');\n",
       "          const dataTable =\n",
       "            await google.colab.kernel.invokeFunction('convertToInteractive',\n",
       "                                                     [key], {});\n",
       "          if (!dataTable) return;\n",
       "\n",
       "          const docLinkHtml = 'Like what you see? Visit the ' +\n",
       "            '<a target=\"_blank\" href=https://colab.research.google.com/notebooks/data_table.ipynb>data table notebook</a>'\n",
       "            + ' to learn more about interactive tables.';\n",
       "          element.innerHTML = '';\n",
       "          dataTable['output_type'] = 'display_data';\n",
       "          await google.colab.output.renderOutput(dataTable, element);\n",
       "          const docLink = document.createElement('div');\n",
       "          docLink.innerHTML = docLinkHtml;\n",
       "          element.appendChild(docLink);\n",
       "        }\n",
       "      </script>\n",
       "    </div>\n",
       "  </div>\n",
       "  "
      ],
      "text/plain": [
       "    level                                        description  \\\n",
       "146   NaN                                                 no   \n",
       "153   NaN                                                 no   \n",
       "166   NaN  teads.tv est spécialisé dans la diffusion de c...   \n",
       "\n",
       "                                                 title lang_description  \\\n",
       "146  praktikant im bereich operations & customer se...               tl   \n",
       "153                              werkstudent promotion               tl   \n",
       "166                                 finance controller               fr   \n",
       "\n",
       "    lang_title  \n",
       "146         en  \n",
       "153         en  \n",
       "166         it  "
      ]
     },
     "execution_count": 88,
     "metadata": {},
     "output_type": "execute_result"
    }
   ],
   "source": [
    "#translate this:\n",
    "df_val_pred.iloc[[146, 153, 166]]"
   ]
  },
  {
   "cell_type": "code",
   "execution_count": 89,
   "metadata": {
    "colab": {
     "base_uri": "https://localhost:8080/"
    },
    "executionInfo": {
     "elapsed": 4434,
     "status": "ok",
     "timestamp": 1640279370635,
     "user": {
      "displayName": "pling",
      "photoUrl": "https://lh3.googleusercontent.com/a/default-user=s64",
      "userId": "02620778565141551161"
     },
     "user_tz": -60
    },
    "id": "xHTKyzfc6w7f",
    "outputId": "2f1b41e6-a29a-44c8-e197-dd04c70dbea1"
   },
   "outputs": [
    {
     "name": "stdout",
     "output_type": "stream",
     "text": [
      "Requirement already satisfied: deepl in /usr/local/lib/python3.7/dist-packages (1.3.1)\n",
      "Requirement already satisfied: requests<3,>=2 in /usr/local/lib/python3.7/dist-packages (from deepl) (2.23.0)\n",
      "Requirement already satisfied: idna<3,>=2.5 in /usr/local/lib/python3.7/dist-packages (from requests<3,>=2->deepl) (2.10)\n",
      "Requirement already satisfied: certifi>=2017.4.17 in /usr/local/lib/python3.7/dist-packages (from requests<3,>=2->deepl) (2021.10.8)\n",
      "Requirement already satisfied: chardet<4,>=3.0.2 in /usr/local/lib/python3.7/dist-packages (from requests<3,>=2->deepl) (3.0.4)\n",
      "Requirement already satisfied: urllib3!=1.25.0,!=1.25.1,<1.26,>=1.21.1 in /usr/local/lib/python3.7/dist-packages (from requests<3,>=2->deepl) (1.24.3)\n"
     ]
    }
   ],
   "source": [
    "!pip install deepl"
   ]
  },
  {
   "cell_type": "markdown",
   "metadata": {
    "id": "TP6YRyc6-NNe"
   },
   "source": [
    "We use the Deepl API to translate these:"
   ]
  },
  {
   "cell_type": "code",
   "execution_count": 90,
   "metadata": {
    "executionInfo": {
     "elapsed": 23,
     "status": "ok",
     "timestamp": 1640279370638,
     "user": {
      "displayName": "pling",
      "photoUrl": "https://lh3.googleusercontent.com/a/default-user=s64",
      "userId": "02620778565141551161"
     },
     "user_tz": -60
    },
    "id": "vyR8Ahn877Ep"
   },
   "outputs": [],
   "source": [
    "import deepl\n",
    "auth_key = \"XXXXXXXXXXXXXXXXXXXXXXXXXXXXXXXXX\"\n",
    "translator = deepl.Translator(auth_key)"
   ]
  },
  {
   "cell_type": "code",
   "execution_count": 91,
   "metadata": {
    "executionInfo": {
     "elapsed": 594,
     "status": "ok",
     "timestamp": 1640279371213,
     "user": {
      "displayName": "pling",
      "photoUrl": "https://lh3.googleusercontent.com/a/default-user=s64",
      "userId": "02620778565141551161"
     },
     "user_tz": -60
    },
    "id": "yRCmsK3r8Iop"
   },
   "outputs": [],
   "source": [
    "string_to_translate = df_val_pred.iloc[146][\"title\"]\n",
    "string_to_translate = string_to_translate.replace(\"\\n\", \" \").replace(\"  \", \" \").strip()\n",
    "result_new = str(translator.translate_text(string_to_translate, target_lang=\"EN-US\"))\n",
    "df_val_pred.loc[146, \"title\"] = result_new"
   ]
  },
  {
   "cell_type": "code",
   "execution_count": 92,
   "metadata": {
    "executionInfo": {
     "elapsed": 341,
     "status": "ok",
     "timestamp": 1640279371544,
     "user": {
      "displayName": "pling",
      "photoUrl": "https://lh3.googleusercontent.com/a/default-user=s64",
      "userId": "02620778565141551161"
     },
     "user_tz": -60
    },
    "id": "2XKHD1cq7-c2"
   },
   "outputs": [],
   "source": [
    "string_to_translate = df_val_pred.iloc[153][\"title\"]\n",
    "string_to_translate = string_to_translate.replace(\"\\n\", \" \").replace(\"  \", \" \").strip()\n",
    "result_new = str(translator.translate_text(string_to_translate, target_lang=\"EN-US\"))\n",
    "df_val_pred.loc[153, \"title\"] = result_new"
   ]
  },
  {
   "cell_type": "code",
   "execution_count": 93,
   "metadata": {
    "executionInfo": {
     "elapsed": 2869,
     "status": "ok",
     "timestamp": 1640279374404,
     "user": {
      "displayName": "pling",
      "photoUrl": "https://lh3.googleusercontent.com/a/default-user=s64",
      "userId": "02620778565141551161"
     },
     "user_tz": -60
    },
    "id": "_0GmUZbp7-aV"
   },
   "outputs": [],
   "source": [
    "string_to_translate = df_val_pred.iloc[166][\"description\"]\n",
    "string_to_translate = string_to_translate.replace(\"\\n\", \" \").replace(\"  \", \" \").strip()\n",
    "result_new = str(translator.translate_text(string_to_translate, target_lang=\"EN-US\"))\n",
    "df_val_pred.loc[166, \"description\"] = result_new"
   ]
  },
  {
   "cell_type": "code",
   "execution_count": 94,
   "metadata": {
    "colab": {
     "base_uri": "https://localhost:8080/",
     "height": 143
    },
    "executionInfo": {
     "elapsed": 35,
     "status": "ok",
     "timestamp": 1640279374405,
     "user": {
      "displayName": "pling",
      "photoUrl": "https://lh3.googleusercontent.com/a/default-user=s64",
      "userId": "02620778565141551161"
     },
     "user_tz": -60
    },
    "id": "gnT3Jpgu6w9Z",
    "outputId": "bb2ba008-e8e2-411a-93a3-7ec37bcb3484"
   },
   "outputs": [
    {
     "data": {
      "text/html": [
       "\n",
       "  <div id=\"df-9d4e1678-cd47-49c4-9a3e-8f661b359d06\">\n",
       "    <div class=\"colab-df-container\">\n",
       "      <div>\n",
       "<style scoped>\n",
       "    .dataframe tbody tr th:only-of-type {\n",
       "        vertical-align: middle;\n",
       "    }\n",
       "\n",
       "    .dataframe tbody tr th {\n",
       "        vertical-align: top;\n",
       "    }\n",
       "\n",
       "    .dataframe thead th {\n",
       "        text-align: right;\n",
       "    }\n",
       "</style>\n",
       "<table border=\"1\" class=\"dataframe\">\n",
       "  <thead>\n",
       "    <tr style=\"text-align: right;\">\n",
       "      <th></th>\n",
       "      <th>level</th>\n",
       "      <th>description</th>\n",
       "      <th>title</th>\n",
       "      <th>lang_description</th>\n",
       "      <th>lang_title</th>\n",
       "    </tr>\n",
       "  </thead>\n",
       "  <tbody>\n",
       "    <tr>\n",
       "      <th>146</th>\n",
       "      <td>NaN</td>\n",
       "      <td>no</td>\n",
       "      <td>intern in the operations &amp; customer service de...</td>\n",
       "      <td>tl</td>\n",
       "      <td>en</td>\n",
       "    </tr>\n",
       "    <tr>\n",
       "      <th>153</th>\n",
       "      <td>NaN</td>\n",
       "      <td>no</td>\n",
       "      <td>working student promotion</td>\n",
       "      <td>tl</td>\n",
       "      <td>en</td>\n",
       "    </tr>\n",
       "    <tr>\n",
       "      <th>166</th>\n",
       "      <td>NaN</td>\n",
       "      <td>teads.tv is specialized in the distribution of...</td>\n",
       "      <td>finance controller</td>\n",
       "      <td>fr</td>\n",
       "      <td>it</td>\n",
       "    </tr>\n",
       "  </tbody>\n",
       "</table>\n",
       "</div>\n",
       "      <button class=\"colab-df-convert\" onclick=\"convertToInteractive('df-9d4e1678-cd47-49c4-9a3e-8f661b359d06')\"\n",
       "              title=\"Convert this dataframe to an interactive table.\"\n",
       "              style=\"display:none;\">\n",
       "        \n",
       "  <svg xmlns=\"http://www.w3.org/2000/svg\" height=\"24px\"viewBox=\"0 0 24 24\"\n",
       "       width=\"24px\">\n",
       "    <path d=\"M0 0h24v24H0V0z\" fill=\"none\"/>\n",
       "    <path d=\"M18.56 5.44l.94 2.06.94-2.06 2.06-.94-2.06-.94-.94-2.06-.94 2.06-2.06.94zm-11 1L8.5 8.5l.94-2.06 2.06-.94-2.06-.94L8.5 2.5l-.94 2.06-2.06.94zm10 10l.94 2.06.94-2.06 2.06-.94-2.06-.94-.94-2.06-.94 2.06-2.06.94z\"/><path d=\"M17.41 7.96l-1.37-1.37c-.4-.4-.92-.59-1.43-.59-.52 0-1.04.2-1.43.59L10.3 9.45l-7.72 7.72c-.78.78-.78 2.05 0 2.83L4 21.41c.39.39.9.59 1.41.59.51 0 1.02-.2 1.41-.59l7.78-7.78 2.81-2.81c.8-.78.8-2.07 0-2.86zM5.41 20L4 18.59l7.72-7.72 1.47 1.35L5.41 20z\"/>\n",
       "  </svg>\n",
       "      </button>\n",
       "      \n",
       "  <style>\n",
       "    .colab-df-container {\n",
       "      display:flex;\n",
       "      flex-wrap:wrap;\n",
       "      gap: 12px;\n",
       "    }\n",
       "\n",
       "    .colab-df-convert {\n",
       "      background-color: #E8F0FE;\n",
       "      border: none;\n",
       "      border-radius: 50%;\n",
       "      cursor: pointer;\n",
       "      display: none;\n",
       "      fill: #1967D2;\n",
       "      height: 32px;\n",
       "      padding: 0 0 0 0;\n",
       "      width: 32px;\n",
       "    }\n",
       "\n",
       "    .colab-df-convert:hover {\n",
       "      background-color: #E2EBFA;\n",
       "      box-shadow: 0px 1px 2px rgba(60, 64, 67, 0.3), 0px 1px 3px 1px rgba(60, 64, 67, 0.15);\n",
       "      fill: #174EA6;\n",
       "    }\n",
       "\n",
       "    [theme=dark] .colab-df-convert {\n",
       "      background-color: #3B4455;\n",
       "      fill: #D2E3FC;\n",
       "    }\n",
       "\n",
       "    [theme=dark] .colab-df-convert:hover {\n",
       "      background-color: #434B5C;\n",
       "      box-shadow: 0px 1px 3px 1px rgba(0, 0, 0, 0.15);\n",
       "      filter: drop-shadow(0px 1px 2px rgba(0, 0, 0, 0.3));\n",
       "      fill: #FFFFFF;\n",
       "    }\n",
       "  </style>\n",
       "\n",
       "      <script>\n",
       "        const buttonEl =\n",
       "          document.querySelector('#df-9d4e1678-cd47-49c4-9a3e-8f661b359d06 button.colab-df-convert');\n",
       "        buttonEl.style.display =\n",
       "          google.colab.kernel.accessAllowed ? 'block' : 'none';\n",
       "\n",
       "        async function convertToInteractive(key) {\n",
       "          const element = document.querySelector('#df-9d4e1678-cd47-49c4-9a3e-8f661b359d06');\n",
       "          const dataTable =\n",
       "            await google.colab.kernel.invokeFunction('convertToInteractive',\n",
       "                                                     [key], {});\n",
       "          if (!dataTable) return;\n",
       "\n",
       "          const docLinkHtml = 'Like what you see? Visit the ' +\n",
       "            '<a target=\"_blank\" href=https://colab.research.google.com/notebooks/data_table.ipynb>data table notebook</a>'\n",
       "            + ' to learn more about interactive tables.';\n",
       "          element.innerHTML = '';\n",
       "          dataTable['output_type'] = 'display_data';\n",
       "          await google.colab.output.renderOutput(dataTable, element);\n",
       "          const docLink = document.createElement('div');\n",
       "          docLink.innerHTML = docLinkHtml;\n",
       "          element.appendChild(docLink);\n",
       "        }\n",
       "      </script>\n",
       "    </div>\n",
       "  </div>\n",
       "  "
      ],
      "text/plain": [
       "    level                                        description  \\\n",
       "146   NaN                                                 no   \n",
       "153   NaN                                                 no   \n",
       "166   NaN  teads.tv is specialized in the distribution of...   \n",
       "\n",
       "                                                 title lang_description  \\\n",
       "146  intern in the operations & customer service de...               tl   \n",
       "153                          working student promotion               tl   \n",
       "166                                 finance controller               fr   \n",
       "\n",
       "    lang_title  \n",
       "146         en  \n",
       "153         en  \n",
       "166         it  "
      ]
     },
     "execution_count": 94,
     "metadata": {},
     "output_type": "execute_result"
    }
   ],
   "source": [
    "df_val_pred.iloc[[146, 153, 166]]"
   ]
  },
  {
   "cell_type": "markdown",
   "metadata": {
    "id": "IJmxa-RBAVwt"
   },
   "source": [
    "We can also do a quick check, in case there are missing descriptions or titles by looking for short strings. Two descriptions are missing, but I will leave those in the dataframe, mainly because they do have informative titles, but also because our model will also have to deal with data with missing descriptions later. The levels are not equally distributed. However, since we will only use this data as a validation set, this isn't a huge problem. In our training set the classes are more equally distributed. "
   ]
  },
  {
   "cell_type": "code",
   "execution_count": 95,
   "metadata": {
    "colab": {
     "base_uri": "https://localhost:8080/",
     "height": 112
    },
    "executionInfo": {
     "elapsed": 33,
     "status": "ok",
     "timestamp": 1640279374406,
     "user": {
      "displayName": "pling",
      "photoUrl": "https://lh3.googleusercontent.com/a/default-user=s64",
      "userId": "02620778565141551161"
     },
     "user_tz": -60
    },
    "id": "jfLGGJDHAIID",
    "outputId": "e77777fe-6b35-49a9-a356-360483547be6"
   },
   "outputs": [
    {
     "data": {
      "text/html": [
       "\n",
       "  <div id=\"df-e7490475-1bec-42cf-8925-3089a177d991\">\n",
       "    <div class=\"colab-df-container\">\n",
       "      <div>\n",
       "<style scoped>\n",
       "    .dataframe tbody tr th:only-of-type {\n",
       "        vertical-align: middle;\n",
       "    }\n",
       "\n",
       "    .dataframe tbody tr th {\n",
       "        vertical-align: top;\n",
       "    }\n",
       "\n",
       "    .dataframe thead th {\n",
       "        text-align: right;\n",
       "    }\n",
       "</style>\n",
       "<table border=\"1\" class=\"dataframe\">\n",
       "  <thead>\n",
       "    <tr style=\"text-align: right;\">\n",
       "      <th></th>\n",
       "      <th>level</th>\n",
       "      <th>description</th>\n",
       "      <th>title</th>\n",
       "      <th>lang_description</th>\n",
       "      <th>lang_title</th>\n",
       "    </tr>\n",
       "  </thead>\n",
       "  <tbody>\n",
       "    <tr>\n",
       "      <th>16</th>\n",
       "      <td>senior level</td>\n",
       "      <td>descriptionwe are looking for an agile lead (f...</td>\n",
       "      <td>agile lead</td>\n",
       "      <td>en</td>\n",
       "      <td>ro</td>\n",
       "    </tr>\n",
       "    <tr>\n",
       "      <th>183</th>\n",
       "      <td>NaN</td>\n",
       "      <td>golden road brewing is looking for a talented ...</td>\n",
       "      <td>brewer</td>\n",
       "      <td>en</td>\n",
       "      <td>af</td>\n",
       "    </tr>\n",
       "  </tbody>\n",
       "</table>\n",
       "</div>\n",
       "      <button class=\"colab-df-convert\" onclick=\"convertToInteractive('df-e7490475-1bec-42cf-8925-3089a177d991')\"\n",
       "              title=\"Convert this dataframe to an interactive table.\"\n",
       "              style=\"display:none;\">\n",
       "        \n",
       "  <svg xmlns=\"http://www.w3.org/2000/svg\" height=\"24px\"viewBox=\"0 0 24 24\"\n",
       "       width=\"24px\">\n",
       "    <path d=\"M0 0h24v24H0V0z\" fill=\"none\"/>\n",
       "    <path d=\"M18.56 5.44l.94 2.06.94-2.06 2.06-.94-2.06-.94-.94-2.06-.94 2.06-2.06.94zm-11 1L8.5 8.5l.94-2.06 2.06-.94-2.06-.94L8.5 2.5l-.94 2.06-2.06.94zm10 10l.94 2.06.94-2.06 2.06-.94-2.06-.94-.94-2.06-.94 2.06-2.06.94z\"/><path d=\"M17.41 7.96l-1.37-1.37c-.4-.4-.92-.59-1.43-.59-.52 0-1.04.2-1.43.59L10.3 9.45l-7.72 7.72c-.78.78-.78 2.05 0 2.83L4 21.41c.39.39.9.59 1.41.59.51 0 1.02-.2 1.41-.59l7.78-7.78 2.81-2.81c.8-.78.8-2.07 0-2.86zM5.41 20L4 18.59l7.72-7.72 1.47 1.35L5.41 20z\"/>\n",
       "  </svg>\n",
       "      </button>\n",
       "      \n",
       "  <style>\n",
       "    .colab-df-container {\n",
       "      display:flex;\n",
       "      flex-wrap:wrap;\n",
       "      gap: 12px;\n",
       "    }\n",
       "\n",
       "    .colab-df-convert {\n",
       "      background-color: #E8F0FE;\n",
       "      border: none;\n",
       "      border-radius: 50%;\n",
       "      cursor: pointer;\n",
       "      display: none;\n",
       "      fill: #1967D2;\n",
       "      height: 32px;\n",
       "      padding: 0 0 0 0;\n",
       "      width: 32px;\n",
       "    }\n",
       "\n",
       "    .colab-df-convert:hover {\n",
       "      background-color: #E2EBFA;\n",
       "      box-shadow: 0px 1px 2px rgba(60, 64, 67, 0.3), 0px 1px 3px 1px rgba(60, 64, 67, 0.15);\n",
       "      fill: #174EA6;\n",
       "    }\n",
       "\n",
       "    [theme=dark] .colab-df-convert {\n",
       "      background-color: #3B4455;\n",
       "      fill: #D2E3FC;\n",
       "    }\n",
       "\n",
       "    [theme=dark] .colab-df-convert:hover {\n",
       "      background-color: #434B5C;\n",
       "      box-shadow: 0px 1px 3px 1px rgba(0, 0, 0, 0.15);\n",
       "      filter: drop-shadow(0px 1px 2px rgba(0, 0, 0, 0.3));\n",
       "      fill: #FFFFFF;\n",
       "    }\n",
       "  </style>\n",
       "\n",
       "      <script>\n",
       "        const buttonEl =\n",
       "          document.querySelector('#df-e7490475-1bec-42cf-8925-3089a177d991 button.colab-df-convert');\n",
       "        buttonEl.style.display =\n",
       "          google.colab.kernel.accessAllowed ? 'block' : 'none';\n",
       "\n",
       "        async function convertToInteractive(key) {\n",
       "          const element = document.querySelector('#df-e7490475-1bec-42cf-8925-3089a177d991');\n",
       "          const dataTable =\n",
       "            await google.colab.kernel.invokeFunction('convertToInteractive',\n",
       "                                                     [key], {});\n",
       "          if (!dataTable) return;\n",
       "\n",
       "          const docLinkHtml = 'Like what you see? Visit the ' +\n",
       "            '<a target=\"_blank\" href=https://colab.research.google.com/notebooks/data_table.ipynb>data table notebook</a>'\n",
       "            + ' to learn more about interactive tables.';\n",
       "          element.innerHTML = '';\n",
       "          dataTable['output_type'] = 'display_data';\n",
       "          await google.colab.output.renderOutput(dataTable, element);\n",
       "          const docLink = document.createElement('div');\n",
       "          docLink.innerHTML = docLinkHtml;\n",
       "          element.appendChild(docLink);\n",
       "        }\n",
       "      </script>\n",
       "    </div>\n",
       "  </div>\n",
       "  "
      ],
      "text/plain": [
       "            level                                        description  \\\n",
       "16   senior level  descriptionwe are looking for an agile lead (f...   \n",
       "183           NaN  golden road brewing is looking for a talented ...   \n",
       "\n",
       "          title lang_description lang_title  \n",
       "16   agile lead               en         ro  \n",
       "183      brewer               en         af  "
      ]
     },
     "execution_count": 95,
     "metadata": {},
     "output_type": "execute_result"
    }
   ],
   "source": [
    "df_val_pred[df_val_pred[\"title\"].str.len() <= 10]"
   ]
  },
  {
   "cell_type": "code",
   "execution_count": 96,
   "metadata": {
    "colab": {
     "base_uri": "https://localhost:8080/",
     "height": 175
    },
    "executionInfo": {
     "elapsed": 30,
     "status": "ok",
     "timestamp": 1640279374406,
     "user": {
      "displayName": "pling",
      "photoUrl": "https://lh3.googleusercontent.com/a/default-user=s64",
      "userId": "02620778565141551161"
     },
     "user_tz": -60
    },
    "id": "Lb2S_FEF_P52",
    "outputId": "5464593b-c13f-48ee-b861-c44c862a6cac"
   },
   "outputs": [
    {
     "data": {
      "text/html": [
       "\n",
       "  <div id=\"df-3a626f78-9052-4118-a0cf-03fc8c08b3bd\">\n",
       "    <div class=\"colab-df-container\">\n",
       "      <div>\n",
       "<style scoped>\n",
       "    .dataframe tbody tr th:only-of-type {\n",
       "        vertical-align: middle;\n",
       "    }\n",
       "\n",
       "    .dataframe tbody tr th {\n",
       "        vertical-align: top;\n",
       "    }\n",
       "\n",
       "    .dataframe thead th {\n",
       "        text-align: right;\n",
       "    }\n",
       "</style>\n",
       "<table border=\"1\" class=\"dataframe\">\n",
       "  <thead>\n",
       "    <tr style=\"text-align: right;\">\n",
       "      <th></th>\n",
       "      <th>level</th>\n",
       "      <th>description</th>\n",
       "      <th>title</th>\n",
       "      <th>lang_description</th>\n",
       "      <th>lang_title</th>\n",
       "    </tr>\n",
       "  </thead>\n",
       "  <tbody>\n",
       "    <tr>\n",
       "      <th>27</th>\n",
       "      <td>mid level</td>\n",
       "      <td>no description available.</td>\n",
       "      <td>software engineer - back-end</td>\n",
       "      <td>fr</td>\n",
       "      <td>de</td>\n",
       "    </tr>\n",
       "    <tr>\n",
       "      <th>120</th>\n",
       "      <td>senior level</td>\n",
       "      <td>no description available.</td>\n",
       "      <td>head of data science</td>\n",
       "      <td>fr</td>\n",
       "      <td>en</td>\n",
       "    </tr>\n",
       "    <tr>\n",
       "      <th>146</th>\n",
       "      <td>NaN</td>\n",
       "      <td>no</td>\n",
       "      <td>intern in the operations &amp; customer service de...</td>\n",
       "      <td>tl</td>\n",
       "      <td>en</td>\n",
       "    </tr>\n",
       "    <tr>\n",
       "      <th>153</th>\n",
       "      <td>NaN</td>\n",
       "      <td>no</td>\n",
       "      <td>working student promotion</td>\n",
       "      <td>tl</td>\n",
       "      <td>en</td>\n",
       "    </tr>\n",
       "  </tbody>\n",
       "</table>\n",
       "</div>\n",
       "      <button class=\"colab-df-convert\" onclick=\"convertToInteractive('df-3a626f78-9052-4118-a0cf-03fc8c08b3bd')\"\n",
       "              title=\"Convert this dataframe to an interactive table.\"\n",
       "              style=\"display:none;\">\n",
       "        \n",
       "  <svg xmlns=\"http://www.w3.org/2000/svg\" height=\"24px\"viewBox=\"0 0 24 24\"\n",
       "       width=\"24px\">\n",
       "    <path d=\"M0 0h24v24H0V0z\" fill=\"none\"/>\n",
       "    <path d=\"M18.56 5.44l.94 2.06.94-2.06 2.06-.94-2.06-.94-.94-2.06-.94 2.06-2.06.94zm-11 1L8.5 8.5l.94-2.06 2.06-.94-2.06-.94L8.5 2.5l-.94 2.06-2.06.94zm10 10l.94 2.06.94-2.06 2.06-.94-2.06-.94-.94-2.06-.94 2.06-2.06.94z\"/><path d=\"M17.41 7.96l-1.37-1.37c-.4-.4-.92-.59-1.43-.59-.52 0-1.04.2-1.43.59L10.3 9.45l-7.72 7.72c-.78.78-.78 2.05 0 2.83L4 21.41c.39.39.9.59 1.41.59.51 0 1.02-.2 1.41-.59l7.78-7.78 2.81-2.81c.8-.78.8-2.07 0-2.86zM5.41 20L4 18.59l7.72-7.72 1.47 1.35L5.41 20z\"/>\n",
       "  </svg>\n",
       "      </button>\n",
       "      \n",
       "  <style>\n",
       "    .colab-df-container {\n",
       "      display:flex;\n",
       "      flex-wrap:wrap;\n",
       "      gap: 12px;\n",
       "    }\n",
       "\n",
       "    .colab-df-convert {\n",
       "      background-color: #E8F0FE;\n",
       "      border: none;\n",
       "      border-radius: 50%;\n",
       "      cursor: pointer;\n",
       "      display: none;\n",
       "      fill: #1967D2;\n",
       "      height: 32px;\n",
       "      padding: 0 0 0 0;\n",
       "      width: 32px;\n",
       "    }\n",
       "\n",
       "    .colab-df-convert:hover {\n",
       "      background-color: #E2EBFA;\n",
       "      box-shadow: 0px 1px 2px rgba(60, 64, 67, 0.3), 0px 1px 3px 1px rgba(60, 64, 67, 0.15);\n",
       "      fill: #174EA6;\n",
       "    }\n",
       "\n",
       "    [theme=dark] .colab-df-convert {\n",
       "      background-color: #3B4455;\n",
       "      fill: #D2E3FC;\n",
       "    }\n",
       "\n",
       "    [theme=dark] .colab-df-convert:hover {\n",
       "      background-color: #434B5C;\n",
       "      box-shadow: 0px 1px 3px 1px rgba(0, 0, 0, 0.15);\n",
       "      filter: drop-shadow(0px 1px 2px rgba(0, 0, 0, 0.3));\n",
       "      fill: #FFFFFF;\n",
       "    }\n",
       "  </style>\n",
       "\n",
       "      <script>\n",
       "        const buttonEl =\n",
       "          document.querySelector('#df-3a626f78-9052-4118-a0cf-03fc8c08b3bd button.colab-df-convert');\n",
       "        buttonEl.style.display =\n",
       "          google.colab.kernel.accessAllowed ? 'block' : 'none';\n",
       "\n",
       "        async function convertToInteractive(key) {\n",
       "          const element = document.querySelector('#df-3a626f78-9052-4118-a0cf-03fc8c08b3bd');\n",
       "          const dataTable =\n",
       "            await google.colab.kernel.invokeFunction('convertToInteractive',\n",
       "                                                     [key], {});\n",
       "          if (!dataTable) return;\n",
       "\n",
       "          const docLinkHtml = 'Like what you see? Visit the ' +\n",
       "            '<a target=\"_blank\" href=https://colab.research.google.com/notebooks/data_table.ipynb>data table notebook</a>'\n",
       "            + ' to learn more about interactive tables.';\n",
       "          element.innerHTML = '';\n",
       "          dataTable['output_type'] = 'display_data';\n",
       "          await google.colab.output.renderOutput(dataTable, element);\n",
       "          const docLink = document.createElement('div');\n",
       "          docLink.innerHTML = docLinkHtml;\n",
       "          element.appendChild(docLink);\n",
       "        }\n",
       "      </script>\n",
       "    </div>\n",
       "  </div>\n",
       "  "
      ],
      "text/plain": [
       "            level                description  \\\n",
       "27      mid level  no description available.   \n",
       "120  senior level  no description available.   \n",
       "146           NaN                         no   \n",
       "153           NaN                         no   \n",
       "\n",
       "                                                 title lang_description  \\\n",
       "27                        software engineer - back-end               fr   \n",
       "120                               head of data science               fr   \n",
       "146  intern in the operations & customer service de...               tl   \n",
       "153                          working student promotion               tl   \n",
       "\n",
       "    lang_title  \n",
       "27          de  \n",
       "120         en  \n",
       "146         en  \n",
       "153         en  "
      ]
     },
     "execution_count": 96,
     "metadata": {},
     "output_type": "execute_result"
    }
   ],
   "source": [
    "df_val_pred[df_val_pred[\"description\"].str.len() <= 40]"
   ]
  },
  {
   "cell_type": "code",
   "execution_count": 97,
   "metadata": {
    "colab": {
     "base_uri": "https://localhost:8080/"
    },
    "executionInfo": {
     "elapsed": 29,
     "status": "ok",
     "timestamp": 1640279374407,
     "user": {
      "displayName": "pling",
      "photoUrl": "https://lh3.googleusercontent.com/a/default-user=s64",
      "userId": "02620778565141551161"
     },
     "user_tz": -60
    },
    "id": "klKFBCNSBc-x",
    "outputId": "d03a32e9-4fd7-4cc0-a425-5d62f064aa84"
   },
   "outputs": [
    {
     "data": {
      "text/plain": [
       "senior level    57\n",
       "entry level     37\n",
       "mid level       32\n",
       "internship      15\n",
       "Name: level, dtype: int64"
      ]
     },
     "execution_count": 97,
     "metadata": {},
     "output_type": "execute_result"
    }
   ],
   "source": [
    "df_val_pred.level.value_counts()"
   ]
  },
  {
   "cell_type": "markdown",
   "metadata": {
    "id": "y3G1WeO-AwMb"
   },
   "source": [
    "We can save the cleaned data.csv for now."
   ]
  },
  {
   "cell_type": "code",
   "execution_count": 98,
   "metadata": {
    "executionInfo": {
     "elapsed": 24,
     "status": "ok",
     "timestamp": 1640279374408,
     "user": {
      "displayName": "pling",
      "photoUrl": "https://lh3.googleusercontent.com/a/default-user=s64",
      "userId": "02620778565141551161"
     },
     "user_tz": -60
    },
    "id": "oXuQibwUAUN8"
   },
   "outputs": [],
   "source": [
    "df_val_pred.to_csv(\"/content/drive/My Drive/Colab Notebooks/clf/data_clean.csv\")"
   ]
  },
  {
   "cell_type": "markdown",
   "metadata": {
    "id": "nTvRlbD6I11K"
   },
   "source": [
    "**Indeed Data Short**"
   ]
  },
  {
   "cell_type": "code",
   "execution_count": 99,
   "metadata": {
    "colab": {
     "base_uri": "https://localhost:8080/",
     "height": 112
    },
    "executionInfo": {
     "elapsed": 25,
     "status": "ok",
     "timestamp": 1640279374409,
     "user": {
      "displayName": "pling",
      "photoUrl": "https://lh3.googleusercontent.com/a/default-user=s64",
      "userId": "02620778565141551161"
     },
     "user_tz": -60
    },
    "id": "0WX-fZLAcH3G",
    "outputId": "65bf4e07-f8f6-4022-e07a-55ebedc5e861"
   },
   "outputs": [
    {
     "data": {
      "text/html": [
       "\n",
       "  <div id=\"df-1d48d86b-b29e-443f-9a8b-443c2418b09a\">\n",
       "    <div class=\"colab-df-container\">\n",
       "      <div>\n",
       "<style scoped>\n",
       "    .dataframe tbody tr th:only-of-type {\n",
       "        vertical-align: middle;\n",
       "    }\n",
       "\n",
       "    .dataframe tbody tr th {\n",
       "        vertical-align: top;\n",
       "    }\n",
       "\n",
       "    .dataframe thead th {\n",
       "        text-align: right;\n",
       "    }\n",
       "</style>\n",
       "<table border=\"1\" class=\"dataframe\">\n",
       "  <thead>\n",
       "    <tr style=\"text-align: right;\">\n",
       "      <th></th>\n",
       "      <th>title</th>\n",
       "      <th>description</th>\n",
       "      <th>level</th>\n",
       "    </tr>\n",
       "  </thead>\n",
       "  <tbody>\n",
       "    <tr>\n",
       "      <th>0</th>\n",
       "      <td>the late show with stephen colbert - summer 20...</td>\n",
       "      <td>our program provides college juniors, seniors,...</td>\n",
       "      <td>internship</td>\n",
       "    </tr>\n",
       "    <tr>\n",
       "      <th>1</th>\n",
       "      <td>intern *</td>\n",
       "      <td>gain industry and organizational knowledge thr...</td>\n",
       "      <td>internship</td>\n",
       "    </tr>\n",
       "  </tbody>\n",
       "</table>\n",
       "</div>\n",
       "      <button class=\"colab-df-convert\" onclick=\"convertToInteractive('df-1d48d86b-b29e-443f-9a8b-443c2418b09a')\"\n",
       "              title=\"Convert this dataframe to an interactive table.\"\n",
       "              style=\"display:none;\">\n",
       "        \n",
       "  <svg xmlns=\"http://www.w3.org/2000/svg\" height=\"24px\"viewBox=\"0 0 24 24\"\n",
       "       width=\"24px\">\n",
       "    <path d=\"M0 0h24v24H0V0z\" fill=\"none\"/>\n",
       "    <path d=\"M18.56 5.44l.94 2.06.94-2.06 2.06-.94-2.06-.94-.94-2.06-.94 2.06-2.06.94zm-11 1L8.5 8.5l.94-2.06 2.06-.94-2.06-.94L8.5 2.5l-.94 2.06-2.06.94zm10 10l.94 2.06.94-2.06 2.06-.94-2.06-.94-.94-2.06-.94 2.06-2.06.94z\"/><path d=\"M17.41 7.96l-1.37-1.37c-.4-.4-.92-.59-1.43-.59-.52 0-1.04.2-1.43.59L10.3 9.45l-7.72 7.72c-.78.78-.78 2.05 0 2.83L4 21.41c.39.39.9.59 1.41.59.51 0 1.02-.2 1.41-.59l7.78-7.78 2.81-2.81c.8-.78.8-2.07 0-2.86zM5.41 20L4 18.59l7.72-7.72 1.47 1.35L5.41 20z\"/>\n",
       "  </svg>\n",
       "      </button>\n",
       "      \n",
       "  <style>\n",
       "    .colab-df-container {\n",
       "      display:flex;\n",
       "      flex-wrap:wrap;\n",
       "      gap: 12px;\n",
       "    }\n",
       "\n",
       "    .colab-df-convert {\n",
       "      background-color: #E8F0FE;\n",
       "      border: none;\n",
       "      border-radius: 50%;\n",
       "      cursor: pointer;\n",
       "      display: none;\n",
       "      fill: #1967D2;\n",
       "      height: 32px;\n",
       "      padding: 0 0 0 0;\n",
       "      width: 32px;\n",
       "    }\n",
       "\n",
       "    .colab-df-convert:hover {\n",
       "      background-color: #E2EBFA;\n",
       "      box-shadow: 0px 1px 2px rgba(60, 64, 67, 0.3), 0px 1px 3px 1px rgba(60, 64, 67, 0.15);\n",
       "      fill: #174EA6;\n",
       "    }\n",
       "\n",
       "    [theme=dark] .colab-df-convert {\n",
       "      background-color: #3B4455;\n",
       "      fill: #D2E3FC;\n",
       "    }\n",
       "\n",
       "    [theme=dark] .colab-df-convert:hover {\n",
       "      background-color: #434B5C;\n",
       "      box-shadow: 0px 1px 3px 1px rgba(0, 0, 0, 0.15);\n",
       "      filter: drop-shadow(0px 1px 2px rgba(0, 0, 0, 0.3));\n",
       "      fill: #FFFFFF;\n",
       "    }\n",
       "  </style>\n",
       "\n",
       "      <script>\n",
       "        const buttonEl =\n",
       "          document.querySelector('#df-1d48d86b-b29e-443f-9a8b-443c2418b09a button.colab-df-convert');\n",
       "        buttonEl.style.display =\n",
       "          google.colab.kernel.accessAllowed ? 'block' : 'none';\n",
       "\n",
       "        async function convertToInteractive(key) {\n",
       "          const element = document.querySelector('#df-1d48d86b-b29e-443f-9a8b-443c2418b09a');\n",
       "          const dataTable =\n",
       "            await google.colab.kernel.invokeFunction('convertToInteractive',\n",
       "                                                     [key], {});\n",
       "          if (!dataTable) return;\n",
       "\n",
       "          const docLinkHtml = 'Like what you see? Visit the ' +\n",
       "            '<a target=\"_blank\" href=https://colab.research.google.com/notebooks/data_table.ipynb>data table notebook</a>'\n",
       "            + ' to learn more about interactive tables.';\n",
       "          element.innerHTML = '';\n",
       "          dataTable['output_type'] = 'display_data';\n",
       "          await google.colab.output.renderOutput(dataTable, element);\n",
       "          const docLink = document.createElement('div');\n",
       "          docLink.innerHTML = docLinkHtml;\n",
       "          element.appendChild(docLink);\n",
       "        }\n",
       "      </script>\n",
       "    </div>\n",
       "  </div>\n",
       "  "
      ],
      "text/plain": [
       "                                               title  \\\n",
       "0  the late show with stephen colbert - summer 20...   \n",
       "1                                           intern *   \n",
       "\n",
       "                                         description       level  \n",
       "0  our program provides college juniors, seniors,...  internship  \n",
       "1  gain industry and organizational knowledge thr...  internship  "
      ]
     },
     "execution_count": 99,
     "metadata": {},
     "output_type": "execute_result"
    }
   ],
   "source": [
    "df = df_clean(df)\n",
    "df.head(2)"
   ]
  },
  {
   "cell_type": "markdown",
   "metadata": {
    "id": "dAD3u0SFCRzx"
   },
   "source": [
    "Let's check languages here, too."
   ]
  },
  {
   "cell_type": "code",
   "execution_count": 100,
   "metadata": {
    "executionInfo": {
     "elapsed": 52050,
     "status": "ok",
     "timestamp": 1640279426436,
     "user": {
      "displayName": "pling",
      "photoUrl": "https://lh3.googleusercontent.com/a/default-user=s64",
      "userId": "02620778565141551161"
     },
     "user_tz": -60
    },
    "id": "zfGiD3ndCMlo"
   },
   "outputs": [],
   "source": [
    "df['lang_description'] = df['description'].apply(detect)"
   ]
  },
  {
   "cell_type": "code",
   "execution_count": 101,
   "metadata": {
    "colab": {
     "base_uri": "https://localhost:8080/"
    },
    "executionInfo": {
     "elapsed": 90,
     "status": "ok",
     "timestamp": 1640279426438,
     "user": {
      "displayName": "pling",
      "photoUrl": "https://lh3.googleusercontent.com/a/default-user=s64",
      "userId": "02620778565141551161"
     },
     "user_tz": -60
    },
    "id": "zEqDNst4CMlq",
    "outputId": "a7637562-2163-41c3-a42e-5335baac92ee"
   },
   "outputs": [
    {
     "data": {
      "text/plain": [
       "en    6253\n",
       "es      16\n",
       "fr      16\n",
       "ca       1\n",
       "fi       1\n",
       "pl       1\n",
       "tl       1\n",
       "so       1\n",
       "sq       1\n",
       "Name: lang_description, dtype: int64"
      ]
     },
     "execution_count": 101,
     "metadata": {},
     "output_type": "execute_result"
    }
   ],
   "source": [
    "df.lang_description.value_counts()"
   ]
  },
  {
   "cell_type": "markdown",
   "metadata": {
    "id": "nGoSZCgVHfFI"
   },
   "source": [
    "In this case we simply drop rows where another language was found. We leave the title column as is."
   ]
  },
  {
   "cell_type": "code",
   "execution_count": 102,
   "metadata": {
    "executionInfo": {
     "elapsed": 73,
     "status": "ok",
     "timestamp": 1640279426441,
     "user": {
      "displayName": "pling",
      "photoUrl": "https://lh3.googleusercontent.com/a/default-user=s64",
      "userId": "02620778565141551161"
     },
     "user_tz": -60
    },
    "id": "BEw9kW3OCMlr"
   },
   "outputs": [],
   "source": [
    "df = df.drop(df[df.lang_description != \"en\"].index)"
   ]
  },
  {
   "cell_type": "markdown",
   "metadata": {
    "id": "knDOTEJ5IHaW"
   },
   "source": [
    "It seems like there are no missing descriptions."
   ]
  },
  {
   "cell_type": "code",
   "execution_count": 103,
   "metadata": {
    "colab": {
     "base_uri": "https://localhost:8080/",
     "height": 300
    },
    "executionInfo": {
     "elapsed": 68,
     "status": "ok",
     "timestamp": 1640279426443,
     "user": {
      "displayName": "pling",
      "photoUrl": "https://lh3.googleusercontent.com/a/default-user=s64",
      "userId": "02620778565141551161"
     },
     "user_tz": -60
    },
    "id": "IgAUAqjECMlt",
    "outputId": "5e9dde54-d87b-439f-f11d-f510ca8a854c"
   },
   "outputs": [
    {
     "data": {
      "text/html": [
       "\n",
       "  <div id=\"df-32ba4713-c4e4-469f-be6d-707fbc844767\">\n",
       "    <div class=\"colab-df-container\">\n",
       "      <div>\n",
       "<style scoped>\n",
       "    .dataframe tbody tr th:only-of-type {\n",
       "        vertical-align: middle;\n",
       "    }\n",
       "\n",
       "    .dataframe tbody tr th {\n",
       "        vertical-align: top;\n",
       "    }\n",
       "\n",
       "    .dataframe thead th {\n",
       "        text-align: right;\n",
       "    }\n",
       "</style>\n",
       "<table border=\"1\" class=\"dataframe\">\n",
       "  <thead>\n",
       "    <tr style=\"text-align: right;\">\n",
       "      <th></th>\n",
       "      <th>title</th>\n",
       "      <th>description</th>\n",
       "      <th>level</th>\n",
       "      <th>lang_description</th>\n",
       "    </tr>\n",
       "  </thead>\n",
       "  <tbody>\n",
       "    <tr>\n",
       "      <th>4924</th>\n",
       "      <td>online gaming compliance mngr</td>\n",
       "      <td>location: atlantic city, new…</td>\n",
       "      <td>entry level</td>\n",
       "      <td>en</td>\n",
       "    </tr>\n",
       "    <tr>\n",
       "      <th>5047</th>\n",
       "      <td>host | diablo's cantina (mgm national harbor)</td>\n",
       "      <td>location: national harbor,…</td>\n",
       "      <td>entry level</td>\n",
       "      <td>en</td>\n",
       "    </tr>\n",
       "    <tr>\n",
       "      <th>5285</th>\n",
       "      <td>latina/latino studies</td>\n",
       "      <td>college of arts and letters.</td>\n",
       "      <td>entry level</td>\n",
       "      <td>en</td>\n",
       "    </tr>\n",
       "    <tr>\n",
       "      <th>5292</th>\n",
       "      <td>food service worker</td>\n",
       "      <td>rwjbarnabas health is…</td>\n",
       "      <td>entry level</td>\n",
       "      <td>en</td>\n",
       "    </tr>\n",
       "    <tr>\n",
       "      <th>5401</th>\n",
       "      <td>security officer</td>\n",
       "      <td>rwjbarnabas health is…</td>\n",
       "      <td>entry level</td>\n",
       "      <td>en</td>\n",
       "    </tr>\n",
       "    <tr>\n",
       "      <th>5842</th>\n",
       "      <td>patient support associate</td>\n",
       "      <td>rwjbarnabas health is…</td>\n",
       "      <td>entry level</td>\n",
       "      <td>en</td>\n",
       "    </tr>\n",
       "    <tr>\n",
       "      <th>5848</th>\n",
       "      <td>patient support associate</td>\n",
       "      <td>rwjbarnabas health is…</td>\n",
       "      <td>entry level</td>\n",
       "      <td>en</td>\n",
       "    </tr>\n",
       "    <tr>\n",
       "      <th>6040</th>\n",
       "      <td>security officer</td>\n",
       "      <td>rwjbarnabas health is…</td>\n",
       "      <td>entry level</td>\n",
       "      <td>en</td>\n",
       "    </tr>\n",
       "  </tbody>\n",
       "</table>\n",
       "</div>\n",
       "      <button class=\"colab-df-convert\" onclick=\"convertToInteractive('df-32ba4713-c4e4-469f-be6d-707fbc844767')\"\n",
       "              title=\"Convert this dataframe to an interactive table.\"\n",
       "              style=\"display:none;\">\n",
       "        \n",
       "  <svg xmlns=\"http://www.w3.org/2000/svg\" height=\"24px\"viewBox=\"0 0 24 24\"\n",
       "       width=\"24px\">\n",
       "    <path d=\"M0 0h24v24H0V0z\" fill=\"none\"/>\n",
       "    <path d=\"M18.56 5.44l.94 2.06.94-2.06 2.06-.94-2.06-.94-.94-2.06-.94 2.06-2.06.94zm-11 1L8.5 8.5l.94-2.06 2.06-.94-2.06-.94L8.5 2.5l-.94 2.06-2.06.94zm10 10l.94 2.06.94-2.06 2.06-.94-2.06-.94-.94-2.06-.94 2.06-2.06.94z\"/><path d=\"M17.41 7.96l-1.37-1.37c-.4-.4-.92-.59-1.43-.59-.52 0-1.04.2-1.43.59L10.3 9.45l-7.72 7.72c-.78.78-.78 2.05 0 2.83L4 21.41c.39.39.9.59 1.41.59.51 0 1.02-.2 1.41-.59l7.78-7.78 2.81-2.81c.8-.78.8-2.07 0-2.86zM5.41 20L4 18.59l7.72-7.72 1.47 1.35L5.41 20z\"/>\n",
       "  </svg>\n",
       "      </button>\n",
       "      \n",
       "  <style>\n",
       "    .colab-df-container {\n",
       "      display:flex;\n",
       "      flex-wrap:wrap;\n",
       "      gap: 12px;\n",
       "    }\n",
       "\n",
       "    .colab-df-convert {\n",
       "      background-color: #E8F0FE;\n",
       "      border: none;\n",
       "      border-radius: 50%;\n",
       "      cursor: pointer;\n",
       "      display: none;\n",
       "      fill: #1967D2;\n",
       "      height: 32px;\n",
       "      padding: 0 0 0 0;\n",
       "      width: 32px;\n",
       "    }\n",
       "\n",
       "    .colab-df-convert:hover {\n",
       "      background-color: #E2EBFA;\n",
       "      box-shadow: 0px 1px 2px rgba(60, 64, 67, 0.3), 0px 1px 3px 1px rgba(60, 64, 67, 0.15);\n",
       "      fill: #174EA6;\n",
       "    }\n",
       "\n",
       "    [theme=dark] .colab-df-convert {\n",
       "      background-color: #3B4455;\n",
       "      fill: #D2E3FC;\n",
       "    }\n",
       "\n",
       "    [theme=dark] .colab-df-convert:hover {\n",
       "      background-color: #434B5C;\n",
       "      box-shadow: 0px 1px 3px 1px rgba(0, 0, 0, 0.15);\n",
       "      filter: drop-shadow(0px 1px 2px rgba(0, 0, 0, 0.3));\n",
       "      fill: #FFFFFF;\n",
       "    }\n",
       "  </style>\n",
       "\n",
       "      <script>\n",
       "        const buttonEl =\n",
       "          document.querySelector('#df-32ba4713-c4e4-469f-be6d-707fbc844767 button.colab-df-convert');\n",
       "        buttonEl.style.display =\n",
       "          google.colab.kernel.accessAllowed ? 'block' : 'none';\n",
       "\n",
       "        async function convertToInteractive(key) {\n",
       "          const element = document.querySelector('#df-32ba4713-c4e4-469f-be6d-707fbc844767');\n",
       "          const dataTable =\n",
       "            await google.colab.kernel.invokeFunction('convertToInteractive',\n",
       "                                                     [key], {});\n",
       "          if (!dataTable) return;\n",
       "\n",
       "          const docLinkHtml = 'Like what you see? Visit the ' +\n",
       "            '<a target=\"_blank\" href=https://colab.research.google.com/notebooks/data_table.ipynb>data table notebook</a>'\n",
       "            + ' to learn more about interactive tables.';\n",
       "          element.innerHTML = '';\n",
       "          dataTable['output_type'] = 'display_data';\n",
       "          await google.colab.output.renderOutput(dataTable, element);\n",
       "          const docLink = document.createElement('div');\n",
       "          docLink.innerHTML = docLinkHtml;\n",
       "          element.appendChild(docLink);\n",
       "        }\n",
       "      </script>\n",
       "    </div>\n",
       "  </div>\n",
       "  "
      ],
      "text/plain": [
       "                                              title  \\\n",
       "4924                  online gaming compliance mngr   \n",
       "5047  host | diablo's cantina (mgm national harbor)   \n",
       "5285                          latina/latino studies   \n",
       "5292                            food service worker   \n",
       "5401                               security officer   \n",
       "5842                      patient support associate   \n",
       "5848                      patient support associate   \n",
       "6040                               security officer   \n",
       "\n",
       "                        description        level lang_description  \n",
       "4924  location: atlantic city, new…  entry level               en  \n",
       "5047    location: national harbor,…  entry level               en  \n",
       "5285   college of arts and letters.  entry level               en  \n",
       "5292         rwjbarnabas health is…  entry level               en  \n",
       "5401         rwjbarnabas health is…  entry level               en  \n",
       "5842         rwjbarnabas health is…  entry level               en  \n",
       "5848         rwjbarnabas health is…  entry level               en  \n",
       "6040         rwjbarnabas health is…  entry level               en  "
      ]
     },
     "execution_count": 103,
     "metadata": {},
     "output_type": "execute_result"
    }
   ],
   "source": [
    "df[df[\"description\"].str.len() <= 40]"
   ]
  },
  {
   "cell_type": "code",
   "execution_count": 104,
   "metadata": {
    "colab": {
     "base_uri": "https://localhost:8080/"
    },
    "executionInfo": {
     "elapsed": 55,
     "status": "ok",
     "timestamp": 1640279426445,
     "user": {
      "displayName": "pling",
      "photoUrl": "https://lh3.googleusercontent.com/a/default-user=s64",
      "userId": "02620778565141551161"
     },
     "user_tz": -60
    },
    "id": "BD8lqVKHIpaj",
    "outputId": "a89bb854-7e8f-4ada-9181-29a19ab999cf"
   },
   "outputs": [
    {
     "data": {
      "text/plain": [
       "internship      1821\n",
       "entry level     1666\n",
       "senior level    1510\n",
       "mid level       1256\n",
       "Name: level, dtype: int64"
      ]
     },
     "execution_count": 104,
     "metadata": {},
     "output_type": "execute_result"
    }
   ],
   "source": [
    "df.level.value_counts()"
   ]
  },
  {
   "cell_type": "code",
   "execution_count": 105,
   "metadata": {
    "executionInfo": {
     "elapsed": 40,
     "status": "ok",
     "timestamp": 1640279426449,
     "user": {
      "displayName": "pling",
      "photoUrl": "https://lh3.googleusercontent.com/a/default-user=s64",
      "userId": "02620778565141551161"
     },
     "user_tz": -60
    },
    "id": "kBjLsAOyIQiR"
   },
   "outputs": [],
   "source": [
    "df.to_csv(\"/content/drive/My Drive/Colab Notebooks/clf/indeed_clean.csv\")"
   ]
  },
  {
   "cell_type": "markdown",
   "metadata": {
    "id": "lNi-jTEBjERf"
   },
   "source": [
    "**Indeed Big Cleaning**"
   ]
  },
  {
   "cell_type": "code",
   "execution_count": 106,
   "metadata": {
    "colab": {
     "base_uri": "https://localhost:8080/",
     "height": 112
    },
    "executionInfo": {
     "elapsed": 285,
     "status": "ok",
     "timestamp": 1640279426696,
     "user": {
      "displayName": "pling",
      "photoUrl": "https://lh3.googleusercontent.com/a/default-user=s64",
      "userId": "02620778565141551161"
     },
     "user_tz": -60
    },
    "id": "GR30Ij78jA0s",
    "outputId": "1157a11b-a515-4a38-cc86-b06fd3cf1dab"
   },
   "outputs": [
    {
     "data": {
      "text/html": [
       "\n",
       "  <div id=\"df-eee64360-568b-4249-922a-406813ccb4de\">\n",
       "    <div class=\"colab-df-container\">\n",
       "      <div>\n",
       "<style scoped>\n",
       "    .dataframe tbody tr th:only-of-type {\n",
       "        vertical-align: middle;\n",
       "    }\n",
       "\n",
       "    .dataframe tbody tr th {\n",
       "        vertical-align: top;\n",
       "    }\n",
       "\n",
       "    .dataframe thead th {\n",
       "        text-align: right;\n",
       "    }\n",
       "</style>\n",
       "<table border=\"1\" class=\"dataframe\">\n",
       "  <thead>\n",
       "    <tr style=\"text-align: right;\">\n",
       "      <th></th>\n",
       "      <th>title</th>\n",
       "      <th>description</th>\n",
       "      <th>level</th>\n",
       "    </tr>\n",
       "  </thead>\n",
       "  <tbody>\n",
       "    <tr>\n",
       "      <th>0</th>\n",
       "      <td>live-in caregiver weekly pay</td>\n",
       "      <td>earn a $100 signing bonus! schedule is for liv...</td>\n",
       "      <td>entry level</td>\n",
       "    </tr>\n",
       "    <tr>\n",
       "      <th>1</th>\n",
       "      <td>warehouse package handler</td>\n",
       "      <td>immediate openings! now hiring in knightdale, ...</td>\n",
       "      <td>entry level</td>\n",
       "    </tr>\n",
       "  </tbody>\n",
       "</table>\n",
       "</div>\n",
       "      <button class=\"colab-df-convert\" onclick=\"convertToInteractive('df-eee64360-568b-4249-922a-406813ccb4de')\"\n",
       "              title=\"Convert this dataframe to an interactive table.\"\n",
       "              style=\"display:none;\">\n",
       "        \n",
       "  <svg xmlns=\"http://www.w3.org/2000/svg\" height=\"24px\"viewBox=\"0 0 24 24\"\n",
       "       width=\"24px\">\n",
       "    <path d=\"M0 0h24v24H0V0z\" fill=\"none\"/>\n",
       "    <path d=\"M18.56 5.44l.94 2.06.94-2.06 2.06-.94-2.06-.94-.94-2.06-.94 2.06-2.06.94zm-11 1L8.5 8.5l.94-2.06 2.06-.94-2.06-.94L8.5 2.5l-.94 2.06-2.06.94zm10 10l.94 2.06.94-2.06 2.06-.94-2.06-.94-.94-2.06-.94 2.06-2.06.94z\"/><path d=\"M17.41 7.96l-1.37-1.37c-.4-.4-.92-.59-1.43-.59-.52 0-1.04.2-1.43.59L10.3 9.45l-7.72 7.72c-.78.78-.78 2.05 0 2.83L4 21.41c.39.39.9.59 1.41.59.51 0 1.02-.2 1.41-.59l7.78-7.78 2.81-2.81c.8-.78.8-2.07 0-2.86zM5.41 20L4 18.59l7.72-7.72 1.47 1.35L5.41 20z\"/>\n",
       "  </svg>\n",
       "      </button>\n",
       "      \n",
       "  <style>\n",
       "    .colab-df-container {\n",
       "      display:flex;\n",
       "      flex-wrap:wrap;\n",
       "      gap: 12px;\n",
       "    }\n",
       "\n",
       "    .colab-df-convert {\n",
       "      background-color: #E8F0FE;\n",
       "      border: none;\n",
       "      border-radius: 50%;\n",
       "      cursor: pointer;\n",
       "      display: none;\n",
       "      fill: #1967D2;\n",
       "      height: 32px;\n",
       "      padding: 0 0 0 0;\n",
       "      width: 32px;\n",
       "    }\n",
       "\n",
       "    .colab-df-convert:hover {\n",
       "      background-color: #E2EBFA;\n",
       "      box-shadow: 0px 1px 2px rgba(60, 64, 67, 0.3), 0px 1px 3px 1px rgba(60, 64, 67, 0.15);\n",
       "      fill: #174EA6;\n",
       "    }\n",
       "\n",
       "    [theme=dark] .colab-df-convert {\n",
       "      background-color: #3B4455;\n",
       "      fill: #D2E3FC;\n",
       "    }\n",
       "\n",
       "    [theme=dark] .colab-df-convert:hover {\n",
       "      background-color: #434B5C;\n",
       "      box-shadow: 0px 1px 3px 1px rgba(0, 0, 0, 0.15);\n",
       "      filter: drop-shadow(0px 1px 2px rgba(0, 0, 0, 0.3));\n",
       "      fill: #FFFFFF;\n",
       "    }\n",
       "  </style>\n",
       "\n",
       "      <script>\n",
       "        const buttonEl =\n",
       "          document.querySelector('#df-eee64360-568b-4249-922a-406813ccb4de button.colab-df-convert');\n",
       "        buttonEl.style.display =\n",
       "          google.colab.kernel.accessAllowed ? 'block' : 'none';\n",
       "\n",
       "        async function convertToInteractive(key) {\n",
       "          const element = document.querySelector('#df-eee64360-568b-4249-922a-406813ccb4de');\n",
       "          const dataTable =\n",
       "            await google.colab.kernel.invokeFunction('convertToInteractive',\n",
       "                                                     [key], {});\n",
       "          if (!dataTable) return;\n",
       "\n",
       "          const docLinkHtml = 'Like what you see? Visit the ' +\n",
       "            '<a target=\"_blank\" href=https://colab.research.google.com/notebooks/data_table.ipynb>data table notebook</a>'\n",
       "            + ' to learn more about interactive tables.';\n",
       "          element.innerHTML = '';\n",
       "          dataTable['output_type'] = 'display_data';\n",
       "          await google.colab.output.renderOutput(dataTable, element);\n",
       "          const docLink = document.createElement('div');\n",
       "          docLink.innerHTML = docLinkHtml;\n",
       "          element.appendChild(docLink);\n",
       "        }\n",
       "      </script>\n",
       "    </div>\n",
       "  </div>\n",
       "  "
      ],
      "text/plain": [
       "                          title  \\\n",
       "0  live-in caregiver weekly pay   \n",
       "1     warehouse package handler   \n",
       "\n",
       "                                         description        level  \n",
       "0  earn a $100 signing bonus! schedule is for liv...  entry level  \n",
       "1  immediate openings! now hiring in knightdale, ...  entry level  "
      ]
     },
     "execution_count": 106,
     "metadata": {},
     "output_type": "execute_result"
    }
   ],
   "source": [
    "df_big = df_clean(df_big)\n",
    "df_big[\"level\"] = df_big[\"level\"].str.replace(\"_\", \" \")\n",
    "df_big.head(2)"
   ]
  },
  {
   "cell_type": "markdown",
   "metadata": {
    "id": "-v9rxaIzjA0t"
   },
   "source": [
    "Let's check languages here, too."
   ]
  },
  {
   "cell_type": "code",
   "execution_count": 107,
   "metadata": {
    "executionInfo": {
     "elapsed": 78113,
     "status": "ok",
     "timestamp": 1640279504798,
     "user": {
      "displayName": "pling",
      "photoUrl": "https://lh3.googleusercontent.com/a/default-user=s64",
      "userId": "02620778565141551161"
     },
     "user_tz": -60
    },
    "id": "ATvfadQkjA0u"
   },
   "outputs": [],
   "source": [
    "df_big['lang_description'] = df_big['description'].apply(detect)"
   ]
  },
  {
   "cell_type": "code",
   "execution_count": 108,
   "metadata": {
    "colab": {
     "base_uri": "https://localhost:8080/"
    },
    "executionInfo": {
     "elapsed": 60,
     "status": "ok",
     "timestamp": 1640279504801,
     "user": {
      "displayName": "pling",
      "photoUrl": "https://lh3.googleusercontent.com/a/default-user=s64",
      "userId": "02620778565141551161"
     },
     "user_tz": -60
    },
    "id": "Q1f091sMjA0u",
    "outputId": "732bd48c-c1f0-413f-ff93-d17519d4c252"
   },
   "outputs": [
    {
     "data": {
      "text/plain": [
       "en    4658\n",
       "fr      10\n",
       "es       5\n",
       "Name: lang_description, dtype: int64"
      ]
     },
     "execution_count": 108,
     "metadata": {},
     "output_type": "execute_result"
    }
   ],
   "source": [
    "df_big.lang_description.value_counts()"
   ]
  },
  {
   "cell_type": "code",
   "execution_count": 109,
   "metadata": {
    "colab": {
     "base_uri": "https://localhost:8080/",
     "height": 520
    },
    "executionInfo": {
     "elapsed": 53,
     "status": "ok",
     "timestamp": 1640279504804,
     "user": {
      "displayName": "pling",
      "photoUrl": "https://lh3.googleusercontent.com/a/default-user=s64",
      "userId": "02620778565141551161"
     },
     "user_tz": -60
    },
    "id": "Ghcmy3_2wh2A",
    "outputId": "b9be6073-6df3-4bde-86e3-ea0d1dc35cfb"
   },
   "outputs": [
    {
     "data": {
      "text/html": [
       "\n",
       "  <div id=\"df-e24fb845-1838-4218-a20e-abefd99b843d\">\n",
       "    <div class=\"colab-df-container\">\n",
       "      <div>\n",
       "<style scoped>\n",
       "    .dataframe tbody tr th:only-of-type {\n",
       "        vertical-align: middle;\n",
       "    }\n",
       "\n",
       "    .dataframe tbody tr th {\n",
       "        vertical-align: top;\n",
       "    }\n",
       "\n",
       "    .dataframe thead th {\n",
       "        text-align: right;\n",
       "    }\n",
       "</style>\n",
       "<table border=\"1\" class=\"dataframe\">\n",
       "  <thead>\n",
       "    <tr style=\"text-align: right;\">\n",
       "      <th></th>\n",
       "      <th>title</th>\n",
       "      <th>description</th>\n",
       "      <th>level</th>\n",
       "      <th>lang_description</th>\n",
       "    </tr>\n",
       "  </thead>\n",
       "  <tbody>\n",
       "    <tr>\n",
       "      <th>12</th>\n",
       "      <td>✨ limpieza de casas: pago semanal (trabajos en...</td>\n",
       "      <td>podemos tener oportunidades para entrevistar y...</td>\n",
       "      <td>entry level</td>\n",
       "      <td>es</td>\n",
       "    </tr>\n",
       "    <tr>\n",
       "      <th>157</th>\n",
       "      <td>embedded tester</td>\n",
       "      <td>job title: requisition id: job description:</td>\n",
       "      <td>entry level</td>\n",
       "      <td>fr</td>\n",
       "    </tr>\n",
       "    <tr>\n",
       "      <th>216</th>\n",
       "      <td>product marketing associate</td>\n",
       "      <td>job title: requisition id: job description:</td>\n",
       "      <td>entry level</td>\n",
       "      <td>fr</td>\n",
       "    </tr>\n",
       "    <tr>\n",
       "      <th>335</th>\n",
       "      <td>production coordinator</td>\n",
       "      <td>job title: requisition id: job description:</td>\n",
       "      <td>entry level</td>\n",
       "      <td>fr</td>\n",
       "    </tr>\n",
       "    <tr>\n",
       "      <th>346</th>\n",
       "      <td>technical writer i</td>\n",
       "      <td>job title: requisition id: job description:</td>\n",
       "      <td>entry level</td>\n",
       "      <td>fr</td>\n",
       "    </tr>\n",
       "    <tr>\n",
       "      <th>421</th>\n",
       "      <td>influencer marketing strategist</td>\n",
       "      <td>job title: requisition id: job description:</td>\n",
       "      <td>entry level</td>\n",
       "      <td>fr</td>\n",
       "    </tr>\n",
       "    <tr>\n",
       "      <th>468</th>\n",
       "      <td>integration tester</td>\n",
       "      <td>job title: requisition id: job description:</td>\n",
       "      <td>entry level</td>\n",
       "      <td>fr</td>\n",
       "    </tr>\n",
       "    <tr>\n",
       "      <th>564</th>\n",
       "      <td>✨ limpieza de casas (trabajos en español) hous...</td>\n",
       "      <td>¡primavera cleaning service está contratando l...</td>\n",
       "      <td>entry level</td>\n",
       "      <td>es</td>\n",
       "    </tr>\n",
       "    <tr>\n",
       "      <th>643</th>\n",
       "      <td>investigador de casos (bilingüe)</td>\n",
       "      <td>overview: am llc tiene vacantes inmediatas par...</td>\n",
       "      <td>entry level</td>\n",
       "      <td>es</td>\n",
       "    </tr>\n",
       "    <tr>\n",
       "      <th>731</th>\n",
       "      <td>profesionales de limpieza de casas (trabajos e...</td>\n",
       "      <td>¡en bello's cleaning , nuestra misión es ser i...</td>\n",
       "      <td>entry level</td>\n",
       "      <td>es</td>\n",
       "    </tr>\n",
       "    <tr>\n",
       "      <th>4268</th>\n",
       "      <td>✨ limpieza de casas: pago semanal (trabajos en...</td>\n",
       "      <td>podemos tener oportunidades para entrevistar y...</td>\n",
       "      <td>entry level</td>\n",
       "      <td>es</td>\n",
       "    </tr>\n",
       "    <tr>\n",
       "      <th>4495</th>\n",
       "      <td>production coordinator</td>\n",
       "      <td>job title: requisition id: job description:</td>\n",
       "      <td>entry level</td>\n",
       "      <td>fr</td>\n",
       "    </tr>\n",
       "    <tr>\n",
       "      <th>4524</th>\n",
       "      <td>product marketing associate</td>\n",
       "      <td>job title: requisition id: job description:</td>\n",
       "      <td>entry level</td>\n",
       "      <td>fr</td>\n",
       "    </tr>\n",
       "    <tr>\n",
       "      <th>4567</th>\n",
       "      <td>embedded tester</td>\n",
       "      <td>job title: requisition id: job description:</td>\n",
       "      <td>entry level</td>\n",
       "      <td>fr</td>\n",
       "    </tr>\n",
       "    <tr>\n",
       "      <th>4619</th>\n",
       "      <td>influencer marketing strategist</td>\n",
       "      <td>job title: requisition id: job description:</td>\n",
       "      <td>entry level</td>\n",
       "      <td>fr</td>\n",
       "    </tr>\n",
       "  </tbody>\n",
       "</table>\n",
       "</div>\n",
       "      <button class=\"colab-df-convert\" onclick=\"convertToInteractive('df-e24fb845-1838-4218-a20e-abefd99b843d')\"\n",
       "              title=\"Convert this dataframe to an interactive table.\"\n",
       "              style=\"display:none;\">\n",
       "        \n",
       "  <svg xmlns=\"http://www.w3.org/2000/svg\" height=\"24px\"viewBox=\"0 0 24 24\"\n",
       "       width=\"24px\">\n",
       "    <path d=\"M0 0h24v24H0V0z\" fill=\"none\"/>\n",
       "    <path d=\"M18.56 5.44l.94 2.06.94-2.06 2.06-.94-2.06-.94-.94-2.06-.94 2.06-2.06.94zm-11 1L8.5 8.5l.94-2.06 2.06-.94-2.06-.94L8.5 2.5l-.94 2.06-2.06.94zm10 10l.94 2.06.94-2.06 2.06-.94-2.06-.94-.94-2.06-.94 2.06-2.06.94z\"/><path d=\"M17.41 7.96l-1.37-1.37c-.4-.4-.92-.59-1.43-.59-.52 0-1.04.2-1.43.59L10.3 9.45l-7.72 7.72c-.78.78-.78 2.05 0 2.83L4 21.41c.39.39.9.59 1.41.59.51 0 1.02-.2 1.41-.59l7.78-7.78 2.81-2.81c.8-.78.8-2.07 0-2.86zM5.41 20L4 18.59l7.72-7.72 1.47 1.35L5.41 20z\"/>\n",
       "  </svg>\n",
       "      </button>\n",
       "      \n",
       "  <style>\n",
       "    .colab-df-container {\n",
       "      display:flex;\n",
       "      flex-wrap:wrap;\n",
       "      gap: 12px;\n",
       "    }\n",
       "\n",
       "    .colab-df-convert {\n",
       "      background-color: #E8F0FE;\n",
       "      border: none;\n",
       "      border-radius: 50%;\n",
       "      cursor: pointer;\n",
       "      display: none;\n",
       "      fill: #1967D2;\n",
       "      height: 32px;\n",
       "      padding: 0 0 0 0;\n",
       "      width: 32px;\n",
       "    }\n",
       "\n",
       "    .colab-df-convert:hover {\n",
       "      background-color: #E2EBFA;\n",
       "      box-shadow: 0px 1px 2px rgba(60, 64, 67, 0.3), 0px 1px 3px 1px rgba(60, 64, 67, 0.15);\n",
       "      fill: #174EA6;\n",
       "    }\n",
       "\n",
       "    [theme=dark] .colab-df-convert {\n",
       "      background-color: #3B4455;\n",
       "      fill: #D2E3FC;\n",
       "    }\n",
       "\n",
       "    [theme=dark] .colab-df-convert:hover {\n",
       "      background-color: #434B5C;\n",
       "      box-shadow: 0px 1px 3px 1px rgba(0, 0, 0, 0.15);\n",
       "      filter: drop-shadow(0px 1px 2px rgba(0, 0, 0, 0.3));\n",
       "      fill: #FFFFFF;\n",
       "    }\n",
       "  </style>\n",
       "\n",
       "      <script>\n",
       "        const buttonEl =\n",
       "          document.querySelector('#df-e24fb845-1838-4218-a20e-abefd99b843d button.colab-df-convert');\n",
       "        buttonEl.style.display =\n",
       "          google.colab.kernel.accessAllowed ? 'block' : 'none';\n",
       "\n",
       "        async function convertToInteractive(key) {\n",
       "          const element = document.querySelector('#df-e24fb845-1838-4218-a20e-abefd99b843d');\n",
       "          const dataTable =\n",
       "            await google.colab.kernel.invokeFunction('convertToInteractive',\n",
       "                                                     [key], {});\n",
       "          if (!dataTable) return;\n",
       "\n",
       "          const docLinkHtml = 'Like what you see? Visit the ' +\n",
       "            '<a target=\"_blank\" href=https://colab.research.google.com/notebooks/data_table.ipynb>data table notebook</a>'\n",
       "            + ' to learn more about interactive tables.';\n",
       "          element.innerHTML = '';\n",
       "          dataTable['output_type'] = 'display_data';\n",
       "          await google.colab.output.renderOutput(dataTable, element);\n",
       "          const docLink = document.createElement('div');\n",
       "          docLink.innerHTML = docLinkHtml;\n",
       "          element.appendChild(docLink);\n",
       "        }\n",
       "      </script>\n",
       "    </div>\n",
       "  </div>\n",
       "  "
      ],
      "text/plain": [
       "                                                  title  \\\n",
       "12    ✨ limpieza de casas: pago semanal (trabajos en...   \n",
       "157                                     embedded tester   \n",
       "216                         product marketing associate   \n",
       "335                              production coordinator   \n",
       "346                                  technical writer i   \n",
       "421                     influencer marketing strategist   \n",
       "468                                  integration tester   \n",
       "564   ✨ limpieza de casas (trabajos en español) hous...   \n",
       "643                    investigador de casos (bilingüe)   \n",
       "731   profesionales de limpieza de casas (trabajos e...   \n",
       "4268  ✨ limpieza de casas: pago semanal (trabajos en...   \n",
       "4495                             production coordinator   \n",
       "4524                        product marketing associate   \n",
       "4567                                    embedded tester   \n",
       "4619                    influencer marketing strategist   \n",
       "\n",
       "                                            description        level  \\\n",
       "12    podemos tener oportunidades para entrevistar y...  entry level   \n",
       "157         job title: requisition id: job description:  entry level   \n",
       "216         job title: requisition id: job description:  entry level   \n",
       "335         job title: requisition id: job description:  entry level   \n",
       "346         job title: requisition id: job description:  entry level   \n",
       "421         job title: requisition id: job description:  entry level   \n",
       "468         job title: requisition id: job description:  entry level   \n",
       "564   ¡primavera cleaning service está contratando l...  entry level   \n",
       "643   overview: am llc tiene vacantes inmediatas par...  entry level   \n",
       "731   ¡en bello's cleaning , nuestra misión es ser i...  entry level   \n",
       "4268  podemos tener oportunidades para entrevistar y...  entry level   \n",
       "4495        job title: requisition id: job description:  entry level   \n",
       "4524        job title: requisition id: job description:  entry level   \n",
       "4567        job title: requisition id: job description:  entry level   \n",
       "4619        job title: requisition id: job description:  entry level   \n",
       "\n",
       "     lang_description  \n",
       "12                 es  \n",
       "157                fr  \n",
       "216                fr  \n",
       "335                fr  \n",
       "346                fr  \n",
       "421                fr  \n",
       "468                fr  \n",
       "564                es  \n",
       "643                es  \n",
       "731                es  \n",
       "4268               es  \n",
       "4495               fr  \n",
       "4524               fr  \n",
       "4567               fr  \n",
       "4619               fr  "
      ]
     },
     "execution_count": 109,
     "metadata": {},
     "output_type": "execute_result"
    }
   ],
   "source": [
    "df_big[df_big.lang_description != \"en\"]"
   ]
  },
  {
   "cell_type": "markdown",
   "metadata": {
    "id": "V-4biyxgjA0w"
   },
   "source": [
    "drop rows where another language was found. We leave the title column as is."
   ]
  },
  {
   "cell_type": "code",
   "execution_count": 110,
   "metadata": {
    "executionInfo": {
     "elapsed": 49,
     "status": "ok",
     "timestamp": 1640279504807,
     "user": {
      "displayName": "pling",
      "photoUrl": "https://lh3.googleusercontent.com/a/default-user=s64",
      "userId": "02620778565141551161"
     },
     "user_tz": -60
    },
    "id": "D-GMtaGHjA0x"
   },
   "outputs": [],
   "source": [
    "df_big = df_big.drop(df_big[df_big.lang_description != \"en\"].index)"
   ]
  },
  {
   "cell_type": "markdown",
   "metadata": {
    "id": "ZjTqgUGMjA0x"
   },
   "source": [
    "It seems like there are no missing descriptions."
   ]
  },
  {
   "cell_type": "code",
   "execution_count": 111,
   "metadata": {
    "colab": {
     "base_uri": "https://localhost:8080/",
     "height": 269
    },
    "executionInfo": {
     "elapsed": 50,
     "status": "ok",
     "timestamp": 1640279504810,
     "user": {
      "displayName": "pling",
      "photoUrl": "https://lh3.googleusercontent.com/a/default-user=s64",
      "userId": "02620778565141551161"
     },
     "user_tz": -60
    },
    "id": "7qy9yVNrjA0y",
    "outputId": "5e2df175-406a-4177-e6fe-810ce2b2938b"
   },
   "outputs": [
    {
     "data": {
      "text/html": [
       "\n",
       "  <div id=\"df-5f8709a1-e296-4837-a3f9-fdd9ad591dc7\">\n",
       "    <div class=\"colab-df-container\">\n",
       "      <div>\n",
       "<style scoped>\n",
       "    .dataframe tbody tr th:only-of-type {\n",
       "        vertical-align: middle;\n",
       "    }\n",
       "\n",
       "    .dataframe tbody tr th {\n",
       "        vertical-align: top;\n",
       "    }\n",
       "\n",
       "    .dataframe thead th {\n",
       "        text-align: right;\n",
       "    }\n",
       "</style>\n",
       "<table border=\"1\" class=\"dataframe\">\n",
       "  <thead>\n",
       "    <tr style=\"text-align: right;\">\n",
       "      <th></th>\n",
       "      <th>title</th>\n",
       "      <th>description</th>\n",
       "      <th>level</th>\n",
       "      <th>lang_description</th>\n",
       "    </tr>\n",
       "  </thead>\n",
       "  <tbody>\n",
       "    <tr>\n",
       "      <th>167</th>\n",
       "      <td>freelance camera operators</td>\n",
       "      <td>must have reality television experience.</td>\n",
       "      <td>entry level</td>\n",
       "      <td>en</td>\n",
       "    </tr>\n",
       "    <tr>\n",
       "      <th>256</th>\n",
       "      <td>housekeeping worker</td>\n",
       "      <td>rwjbarnabas health is an</td>\n",
       "      <td>entry level</td>\n",
       "      <td>en</td>\n",
       "    </tr>\n",
       "    <tr>\n",
       "      <th>352</th>\n",
       "      <td>food service worker</td>\n",
       "      <td>rwjbarnabas health is an</td>\n",
       "      <td>entry level</td>\n",
       "      <td>en</td>\n",
       "    </tr>\n",
       "    <tr>\n",
       "      <th>498</th>\n",
       "      <td>security officer</td>\n",
       "      <td>rwjbarnabas health is an</td>\n",
       "      <td>entry level</td>\n",
       "      <td>en</td>\n",
       "    </tr>\n",
       "    <tr>\n",
       "      <th>790</th>\n",
       "      <td>patient navigator non clinical</td>\n",
       "      <td>rwjbarnabas health is an</td>\n",
       "      <td>entry level</td>\n",
       "      <td>en</td>\n",
       "    </tr>\n",
       "    <tr>\n",
       "      <th>4466</th>\n",
       "      <td>housekeeping worker</td>\n",
       "      <td>rwjbarnabas health is an</td>\n",
       "      <td>entry level</td>\n",
       "      <td>en</td>\n",
       "    </tr>\n",
       "    <tr>\n",
       "      <th>4503</th>\n",
       "      <td>food service worker</td>\n",
       "      <td>rwjbarnabas health is an</td>\n",
       "      <td>entry level</td>\n",
       "      <td>en</td>\n",
       "    </tr>\n",
       "  </tbody>\n",
       "</table>\n",
       "</div>\n",
       "      <button class=\"colab-df-convert\" onclick=\"convertToInteractive('df-5f8709a1-e296-4837-a3f9-fdd9ad591dc7')\"\n",
       "              title=\"Convert this dataframe to an interactive table.\"\n",
       "              style=\"display:none;\">\n",
       "        \n",
       "  <svg xmlns=\"http://www.w3.org/2000/svg\" height=\"24px\"viewBox=\"0 0 24 24\"\n",
       "       width=\"24px\">\n",
       "    <path d=\"M0 0h24v24H0V0z\" fill=\"none\"/>\n",
       "    <path d=\"M18.56 5.44l.94 2.06.94-2.06 2.06-.94-2.06-.94-.94-2.06-.94 2.06-2.06.94zm-11 1L8.5 8.5l.94-2.06 2.06-.94-2.06-.94L8.5 2.5l-.94 2.06-2.06.94zm10 10l.94 2.06.94-2.06 2.06-.94-2.06-.94-.94-2.06-.94 2.06-2.06.94z\"/><path d=\"M17.41 7.96l-1.37-1.37c-.4-.4-.92-.59-1.43-.59-.52 0-1.04.2-1.43.59L10.3 9.45l-7.72 7.72c-.78.78-.78 2.05 0 2.83L4 21.41c.39.39.9.59 1.41.59.51 0 1.02-.2 1.41-.59l7.78-7.78 2.81-2.81c.8-.78.8-2.07 0-2.86zM5.41 20L4 18.59l7.72-7.72 1.47 1.35L5.41 20z\"/>\n",
       "  </svg>\n",
       "      </button>\n",
       "      \n",
       "  <style>\n",
       "    .colab-df-container {\n",
       "      display:flex;\n",
       "      flex-wrap:wrap;\n",
       "      gap: 12px;\n",
       "    }\n",
       "\n",
       "    .colab-df-convert {\n",
       "      background-color: #E8F0FE;\n",
       "      border: none;\n",
       "      border-radius: 50%;\n",
       "      cursor: pointer;\n",
       "      display: none;\n",
       "      fill: #1967D2;\n",
       "      height: 32px;\n",
       "      padding: 0 0 0 0;\n",
       "      width: 32px;\n",
       "    }\n",
       "\n",
       "    .colab-df-convert:hover {\n",
       "      background-color: #E2EBFA;\n",
       "      box-shadow: 0px 1px 2px rgba(60, 64, 67, 0.3), 0px 1px 3px 1px rgba(60, 64, 67, 0.15);\n",
       "      fill: #174EA6;\n",
       "    }\n",
       "\n",
       "    [theme=dark] .colab-df-convert {\n",
       "      background-color: #3B4455;\n",
       "      fill: #D2E3FC;\n",
       "    }\n",
       "\n",
       "    [theme=dark] .colab-df-convert:hover {\n",
       "      background-color: #434B5C;\n",
       "      box-shadow: 0px 1px 3px 1px rgba(0, 0, 0, 0.15);\n",
       "      filter: drop-shadow(0px 1px 2px rgba(0, 0, 0, 0.3));\n",
       "      fill: #FFFFFF;\n",
       "    }\n",
       "  </style>\n",
       "\n",
       "      <script>\n",
       "        const buttonEl =\n",
       "          document.querySelector('#df-5f8709a1-e296-4837-a3f9-fdd9ad591dc7 button.colab-df-convert');\n",
       "        buttonEl.style.display =\n",
       "          google.colab.kernel.accessAllowed ? 'block' : 'none';\n",
       "\n",
       "        async function convertToInteractive(key) {\n",
       "          const element = document.querySelector('#df-5f8709a1-e296-4837-a3f9-fdd9ad591dc7');\n",
       "          const dataTable =\n",
       "            await google.colab.kernel.invokeFunction('convertToInteractive',\n",
       "                                                     [key], {});\n",
       "          if (!dataTable) return;\n",
       "\n",
       "          const docLinkHtml = 'Like what you see? Visit the ' +\n",
       "            '<a target=\"_blank\" href=https://colab.research.google.com/notebooks/data_table.ipynb>data table notebook</a>'\n",
       "            + ' to learn more about interactive tables.';\n",
       "          element.innerHTML = '';\n",
       "          dataTable['output_type'] = 'display_data';\n",
       "          await google.colab.output.renderOutput(dataTable, element);\n",
       "          const docLink = document.createElement('div');\n",
       "          docLink.innerHTML = docLinkHtml;\n",
       "          element.appendChild(docLink);\n",
       "        }\n",
       "      </script>\n",
       "    </div>\n",
       "  </div>\n",
       "  "
      ],
      "text/plain": [
       "                               title  \\\n",
       "167       freelance camera operators   \n",
       "256              housekeeping worker   \n",
       "352              food service worker   \n",
       "498                 security officer   \n",
       "790   patient navigator non clinical   \n",
       "4466             housekeeping worker   \n",
       "4503             food service worker   \n",
       "\n",
       "                                   description        level lang_description  \n",
       "167   must have reality television experience.  entry level               en  \n",
       "256                   rwjbarnabas health is an  entry level               en  \n",
       "352                   rwjbarnabas health is an  entry level               en  \n",
       "498                   rwjbarnabas health is an  entry level               en  \n",
       "790                   rwjbarnabas health is an  entry level               en  \n",
       "4466                  rwjbarnabas health is an  entry level               en  \n",
       "4503                  rwjbarnabas health is an  entry level               en  "
      ]
     },
     "execution_count": 111,
     "metadata": {},
     "output_type": "execute_result"
    }
   ],
   "source": [
    "df_big[df_big[\"description\"].str.len() <= 40]"
   ]
  },
  {
   "cell_type": "code",
   "execution_count": 112,
   "metadata": {
    "colab": {
     "base_uri": "https://localhost:8080/"
    },
    "executionInfo": {
     "elapsed": 50,
     "status": "ok",
     "timestamp": 1640279504815,
     "user": {
      "displayName": "pling",
      "photoUrl": "https://lh3.googleusercontent.com/a/default-user=s64",
      "userId": "02620778565141551161"
     },
     "user_tz": -60
    },
    "id": "a3R8NXKljA0z",
    "outputId": "b7ca58aa-9c9a-4739-d7fc-9e8cd5cb35ea"
   },
   "outputs": [
    {
     "data": {
      "text/plain": [
       "entry level     1229\n",
       "mid level       1169\n",
       "internship      1135\n",
       "senior level    1125\n",
       "Name: level, dtype: int64"
      ]
     },
     "execution_count": 112,
     "metadata": {},
     "output_type": "execute_result"
    }
   ],
   "source": [
    "df_big.level.value_counts()"
   ]
  },
  {
   "cell_type": "code",
   "execution_count": 113,
   "metadata": {
    "executionInfo": {
     "elapsed": 630,
     "status": "ok",
     "timestamp": 1640279505406,
     "user": {
      "displayName": "pling",
      "photoUrl": "https://lh3.googleusercontent.com/a/default-user=s64",
      "userId": "02620778565141551161"
     },
     "user_tz": -60
    },
    "id": "lam4kcHJjA0z"
   },
   "outputs": [],
   "source": [
    "df_big.to_csv(\"/content/drive/My Drive/Colab Notebooks/clf/indeed_big_clean.csv\")"
   ]
  },
  {
   "cell_type": "markdown",
   "metadata": {
    "id": "NHfXp_AtYotp"
   },
   "source": [
    "**3. Create Labels** ================================================================================================================"
   ]
  },
  {
   "cell_type": "markdown",
   "metadata": {
    "id": "mvLKj-ctObGw"
   },
   "source": [
    "Let's load the cleaned dataframes."
   ]
  },
  {
   "cell_type": "code",
   "execution_count": 114,
   "metadata": {
    "colab": {
     "base_uri": "https://localhost:8080/",
     "height": 112
    },
    "executionInfo": {
     "elapsed": 38,
     "status": "ok",
     "timestamp": 1640279505410,
     "user": {
      "displayName": "pling",
      "photoUrl": "https://lh3.googleusercontent.com/a/default-user=s64",
      "userId": "02620778565141551161"
     },
     "user_tz": -60
    },
    "id": "WAYilvKROZbQ",
    "outputId": "323ec05a-4b4b-43df-baac-b30a6c8ffffa"
   },
   "outputs": [
    {
     "data": {
      "text/html": [
       "\n",
       "  <div id=\"df-006fc1f5-ba26-417f-a535-4e758f444bc1\">\n",
       "    <div class=\"colab-df-container\">\n",
       "      <div>\n",
       "<style scoped>\n",
       "    .dataframe tbody tr th:only-of-type {\n",
       "        vertical-align: middle;\n",
       "    }\n",
       "\n",
       "    .dataframe tbody tr th {\n",
       "        vertical-align: top;\n",
       "    }\n",
       "\n",
       "    .dataframe thead th {\n",
       "        text-align: right;\n",
       "    }\n",
       "</style>\n",
       "<table border=\"1\" class=\"dataframe\">\n",
       "  <thead>\n",
       "    <tr style=\"text-align: right;\">\n",
       "      <th></th>\n",
       "      <th>title</th>\n",
       "      <th>description</th>\n",
       "      <th>level</th>\n",
       "    </tr>\n",
       "  </thead>\n",
       "  <tbody>\n",
       "    <tr>\n",
       "      <th>0</th>\n",
       "      <td>the late show with stephen colbert - summer 20...</td>\n",
       "      <td>our program provides college juniors, seniors,...</td>\n",
       "      <td>internship</td>\n",
       "    </tr>\n",
       "    <tr>\n",
       "      <th>1</th>\n",
       "      <td>intern *</td>\n",
       "      <td>gain industry and organizational knowledge thr...</td>\n",
       "      <td>internship</td>\n",
       "    </tr>\n",
       "  </tbody>\n",
       "</table>\n",
       "</div>\n",
       "      <button class=\"colab-df-convert\" onclick=\"convertToInteractive('df-006fc1f5-ba26-417f-a535-4e758f444bc1')\"\n",
       "              title=\"Convert this dataframe to an interactive table.\"\n",
       "              style=\"display:none;\">\n",
       "        \n",
       "  <svg xmlns=\"http://www.w3.org/2000/svg\" height=\"24px\"viewBox=\"0 0 24 24\"\n",
       "       width=\"24px\">\n",
       "    <path d=\"M0 0h24v24H0V0z\" fill=\"none\"/>\n",
       "    <path d=\"M18.56 5.44l.94 2.06.94-2.06 2.06-.94-2.06-.94-.94-2.06-.94 2.06-2.06.94zm-11 1L8.5 8.5l.94-2.06 2.06-.94-2.06-.94L8.5 2.5l-.94 2.06-2.06.94zm10 10l.94 2.06.94-2.06 2.06-.94-2.06-.94-.94-2.06-.94 2.06-2.06.94z\"/><path d=\"M17.41 7.96l-1.37-1.37c-.4-.4-.92-.59-1.43-.59-.52 0-1.04.2-1.43.59L10.3 9.45l-7.72 7.72c-.78.78-.78 2.05 0 2.83L4 21.41c.39.39.9.59 1.41.59.51 0 1.02-.2 1.41-.59l7.78-7.78 2.81-2.81c.8-.78.8-2.07 0-2.86zM5.41 20L4 18.59l7.72-7.72 1.47 1.35L5.41 20z\"/>\n",
       "  </svg>\n",
       "      </button>\n",
       "      \n",
       "  <style>\n",
       "    .colab-df-container {\n",
       "      display:flex;\n",
       "      flex-wrap:wrap;\n",
       "      gap: 12px;\n",
       "    }\n",
       "\n",
       "    .colab-df-convert {\n",
       "      background-color: #E8F0FE;\n",
       "      border: none;\n",
       "      border-radius: 50%;\n",
       "      cursor: pointer;\n",
       "      display: none;\n",
       "      fill: #1967D2;\n",
       "      height: 32px;\n",
       "      padding: 0 0 0 0;\n",
       "      width: 32px;\n",
       "    }\n",
       "\n",
       "    .colab-df-convert:hover {\n",
       "      background-color: #E2EBFA;\n",
       "      box-shadow: 0px 1px 2px rgba(60, 64, 67, 0.3), 0px 1px 3px 1px rgba(60, 64, 67, 0.15);\n",
       "      fill: #174EA6;\n",
       "    }\n",
       "\n",
       "    [theme=dark] .colab-df-convert {\n",
       "      background-color: #3B4455;\n",
       "      fill: #D2E3FC;\n",
       "    }\n",
       "\n",
       "    [theme=dark] .colab-df-convert:hover {\n",
       "      background-color: #434B5C;\n",
       "      box-shadow: 0px 1px 3px 1px rgba(0, 0, 0, 0.15);\n",
       "      filter: drop-shadow(0px 1px 2px rgba(0, 0, 0, 0.3));\n",
       "      fill: #FFFFFF;\n",
       "    }\n",
       "  </style>\n",
       "\n",
       "      <script>\n",
       "        const buttonEl =\n",
       "          document.querySelector('#df-006fc1f5-ba26-417f-a535-4e758f444bc1 button.colab-df-convert');\n",
       "        buttonEl.style.display =\n",
       "          google.colab.kernel.accessAllowed ? 'block' : 'none';\n",
       "\n",
       "        async function convertToInteractive(key) {\n",
       "          const element = document.querySelector('#df-006fc1f5-ba26-417f-a535-4e758f444bc1');\n",
       "          const dataTable =\n",
       "            await google.colab.kernel.invokeFunction('convertToInteractive',\n",
       "                                                     [key], {});\n",
       "          if (!dataTable) return;\n",
       "\n",
       "          const docLinkHtml = 'Like what you see? Visit the ' +\n",
       "            '<a target=\"_blank\" href=https://colab.research.google.com/notebooks/data_table.ipynb>data table notebook</a>'\n",
       "            + ' to learn more about interactive tables.';\n",
       "          element.innerHTML = '';\n",
       "          dataTable['output_type'] = 'display_data';\n",
       "          await google.colab.output.renderOutput(dataTable, element);\n",
       "          const docLink = document.createElement('div');\n",
       "          docLink.innerHTML = docLinkHtml;\n",
       "          element.appendChild(docLink);\n",
       "        }\n",
       "      </script>\n",
       "    </div>\n",
       "  </div>\n",
       "  "
      ],
      "text/plain": [
       "                                               title  \\\n",
       "0  the late show with stephen colbert - summer 20...   \n",
       "1                                           intern *   \n",
       "\n",
       "                                         description       level  \n",
       "0  our program provides college juniors, seniors,...  internship  \n",
       "1  gain industry and organizational knowledge thr...  internship  "
      ]
     },
     "execution_count": 114,
     "metadata": {},
     "output_type": "execute_result"
    }
   ],
   "source": [
    "path = '/content/drive/My Drive/Colab Notebooks/clf/indeed_clean.csv'\n",
    "df = pd.read_csv(path)\n",
    "df.drop(['Unnamed: 0', 'lang_description'], axis=1, inplace=True)\n",
    "df.head(2)"
   ]
  },
  {
   "cell_type": "code",
   "execution_count": 115,
   "metadata": {
    "colab": {
     "base_uri": "https://localhost:8080/",
     "height": 112
    },
    "executionInfo": {
     "elapsed": 354,
     "status": "ok",
     "timestamp": 1640279505737,
     "user": {
      "displayName": "pling",
      "photoUrl": "https://lh3.googleusercontent.com/a/default-user=s64",
      "userId": "02620778565141551161"
     },
     "user_tz": -60
    },
    "id": "kXcJ_sxcjep5",
    "outputId": "fd371ceb-9a6e-474e-a3e9-95ef67e50a0b"
   },
   "outputs": [
    {
     "data": {
      "text/html": [
       "\n",
       "  <div id=\"df-f6729de5-7c1a-4811-8676-45f6455c6589\">\n",
       "    <div class=\"colab-df-container\">\n",
       "      <div>\n",
       "<style scoped>\n",
       "    .dataframe tbody tr th:only-of-type {\n",
       "        vertical-align: middle;\n",
       "    }\n",
       "\n",
       "    .dataframe tbody tr th {\n",
       "        vertical-align: top;\n",
       "    }\n",
       "\n",
       "    .dataframe thead th {\n",
       "        text-align: right;\n",
       "    }\n",
       "</style>\n",
       "<table border=\"1\" class=\"dataframe\">\n",
       "  <thead>\n",
       "    <tr style=\"text-align: right;\">\n",
       "      <th></th>\n",
       "      <th>title</th>\n",
       "      <th>description</th>\n",
       "      <th>level</th>\n",
       "    </tr>\n",
       "  </thead>\n",
       "  <tbody>\n",
       "    <tr>\n",
       "      <th>0</th>\n",
       "      <td>live-in caregiver weekly pay</td>\n",
       "      <td>earn a $100 signing bonus! schedule is for liv...</td>\n",
       "      <td>entry level</td>\n",
       "    </tr>\n",
       "    <tr>\n",
       "      <th>1</th>\n",
       "      <td>warehouse package handler</td>\n",
       "      <td>immediate openings! now hiring in knightdale, ...</td>\n",
       "      <td>entry level</td>\n",
       "    </tr>\n",
       "  </tbody>\n",
       "</table>\n",
       "</div>\n",
       "      <button class=\"colab-df-convert\" onclick=\"convertToInteractive('df-f6729de5-7c1a-4811-8676-45f6455c6589')\"\n",
       "              title=\"Convert this dataframe to an interactive table.\"\n",
       "              style=\"display:none;\">\n",
       "        \n",
       "  <svg xmlns=\"http://www.w3.org/2000/svg\" height=\"24px\"viewBox=\"0 0 24 24\"\n",
       "       width=\"24px\">\n",
       "    <path d=\"M0 0h24v24H0V0z\" fill=\"none\"/>\n",
       "    <path d=\"M18.56 5.44l.94 2.06.94-2.06 2.06-.94-2.06-.94-.94-2.06-.94 2.06-2.06.94zm-11 1L8.5 8.5l.94-2.06 2.06-.94-2.06-.94L8.5 2.5l-.94 2.06-2.06.94zm10 10l.94 2.06.94-2.06 2.06-.94-2.06-.94-.94-2.06-.94 2.06-2.06.94z\"/><path d=\"M17.41 7.96l-1.37-1.37c-.4-.4-.92-.59-1.43-.59-.52 0-1.04.2-1.43.59L10.3 9.45l-7.72 7.72c-.78.78-.78 2.05 0 2.83L4 21.41c.39.39.9.59 1.41.59.51 0 1.02-.2 1.41-.59l7.78-7.78 2.81-2.81c.8-.78.8-2.07 0-2.86zM5.41 20L4 18.59l7.72-7.72 1.47 1.35L5.41 20z\"/>\n",
       "  </svg>\n",
       "      </button>\n",
       "      \n",
       "  <style>\n",
       "    .colab-df-container {\n",
       "      display:flex;\n",
       "      flex-wrap:wrap;\n",
       "      gap: 12px;\n",
       "    }\n",
       "\n",
       "    .colab-df-convert {\n",
       "      background-color: #E8F0FE;\n",
       "      border: none;\n",
       "      border-radius: 50%;\n",
       "      cursor: pointer;\n",
       "      display: none;\n",
       "      fill: #1967D2;\n",
       "      height: 32px;\n",
       "      padding: 0 0 0 0;\n",
       "      width: 32px;\n",
       "    }\n",
       "\n",
       "    .colab-df-convert:hover {\n",
       "      background-color: #E2EBFA;\n",
       "      box-shadow: 0px 1px 2px rgba(60, 64, 67, 0.3), 0px 1px 3px 1px rgba(60, 64, 67, 0.15);\n",
       "      fill: #174EA6;\n",
       "    }\n",
       "\n",
       "    [theme=dark] .colab-df-convert {\n",
       "      background-color: #3B4455;\n",
       "      fill: #D2E3FC;\n",
       "    }\n",
       "\n",
       "    [theme=dark] .colab-df-convert:hover {\n",
       "      background-color: #434B5C;\n",
       "      box-shadow: 0px 1px 3px 1px rgba(0, 0, 0, 0.15);\n",
       "      filter: drop-shadow(0px 1px 2px rgba(0, 0, 0, 0.3));\n",
       "      fill: #FFFFFF;\n",
       "    }\n",
       "  </style>\n",
       "\n",
       "      <script>\n",
       "        const buttonEl =\n",
       "          document.querySelector('#df-f6729de5-7c1a-4811-8676-45f6455c6589 button.colab-df-convert');\n",
       "        buttonEl.style.display =\n",
       "          google.colab.kernel.accessAllowed ? 'block' : 'none';\n",
       "\n",
       "        async function convertToInteractive(key) {\n",
       "          const element = document.querySelector('#df-f6729de5-7c1a-4811-8676-45f6455c6589');\n",
       "          const dataTable =\n",
       "            await google.colab.kernel.invokeFunction('convertToInteractive',\n",
       "                                                     [key], {});\n",
       "          if (!dataTable) return;\n",
       "\n",
       "          const docLinkHtml = 'Like what you see? Visit the ' +\n",
       "            '<a target=\"_blank\" href=https://colab.research.google.com/notebooks/data_table.ipynb>data table notebook</a>'\n",
       "            + ' to learn more about interactive tables.';\n",
       "          element.innerHTML = '';\n",
       "          dataTable['output_type'] = 'display_data';\n",
       "          await google.colab.output.renderOutput(dataTable, element);\n",
       "          const docLink = document.createElement('div');\n",
       "          docLink.innerHTML = docLinkHtml;\n",
       "          element.appendChild(docLink);\n",
       "        }\n",
       "      </script>\n",
       "    </div>\n",
       "  </div>\n",
       "  "
      ],
      "text/plain": [
       "                          title  \\\n",
       "0  live-in caregiver weekly pay   \n",
       "1     warehouse package handler   \n",
       "\n",
       "                                         description        level  \n",
       "0  earn a $100 signing bonus! schedule is for liv...  entry level  \n",
       "1  immediate openings! now hiring in knightdale, ...  entry level  "
      ]
     },
     "execution_count": 115,
     "metadata": {},
     "output_type": "execute_result"
    }
   ],
   "source": [
    "path = '/content/drive/My Drive/Colab Notebooks/clf/indeed_big_clean.csv'\n",
    "df_big = pd.read_csv(path)\n",
    "df_big.drop(['Unnamed: 0', 'lang_description'], axis=1, inplace=True)\n",
    "df_big.head(2)"
   ]
  },
  {
   "cell_type": "code",
   "execution_count": 116,
   "metadata": {
    "colab": {
     "base_uri": "https://localhost:8080/",
     "height": 112
    },
    "executionInfo": {
     "elapsed": 41,
     "status": "ok",
     "timestamp": 1640279505739,
     "user": {
      "displayName": "pling",
      "photoUrl": "https://lh3.googleusercontent.com/a/default-user=s64",
      "userId": "02620778565141551161"
     },
     "user_tz": -60
    },
    "id": "KWTXAnSmOYmo",
    "outputId": "96e2b932-a882-4cb9-db39-a00bf77d7c1b"
   },
   "outputs": [
    {
     "data": {
      "text/html": [
       "\n",
       "  <div id=\"df-99215025-d4b5-4496-8b9a-6160bb400812\">\n",
       "    <div class=\"colab-df-container\">\n",
       "      <div>\n",
       "<style scoped>\n",
       "    .dataframe tbody tr th:only-of-type {\n",
       "        vertical-align: middle;\n",
       "    }\n",
       "\n",
       "    .dataframe tbody tr th {\n",
       "        vertical-align: top;\n",
       "    }\n",
       "\n",
       "    .dataframe thead th {\n",
       "        text-align: right;\n",
       "    }\n",
       "</style>\n",
       "<table border=\"1\" class=\"dataframe\">\n",
       "  <thead>\n",
       "    <tr style=\"text-align: right;\">\n",
       "      <th></th>\n",
       "      <th>title</th>\n",
       "      <th>description</th>\n",
       "      <th>level</th>\n",
       "    </tr>\n",
       "  </thead>\n",
       "  <tbody>\n",
       "    <tr>\n",
       "      <th>0</th>\n",
       "      <td>frontend engineer (m/f)</td>\n",
       "      <td>outfittery is europe’s biggest personal shoppi...</td>\n",
       "      <td>entry level</td>\n",
       "    </tr>\n",
       "    <tr>\n",
       "      <th>1</th>\n",
       "      <td>senior product manager (m/f)</td>\n",
       "      <td>outfittery is europe’s biggest personal shoppi...</td>\n",
       "      <td>senior level</td>\n",
       "    </tr>\n",
       "  </tbody>\n",
       "</table>\n",
       "</div>\n",
       "      <button class=\"colab-df-convert\" onclick=\"convertToInteractive('df-99215025-d4b5-4496-8b9a-6160bb400812')\"\n",
       "              title=\"Convert this dataframe to an interactive table.\"\n",
       "              style=\"display:none;\">\n",
       "        \n",
       "  <svg xmlns=\"http://www.w3.org/2000/svg\" height=\"24px\"viewBox=\"0 0 24 24\"\n",
       "       width=\"24px\">\n",
       "    <path d=\"M0 0h24v24H0V0z\" fill=\"none\"/>\n",
       "    <path d=\"M18.56 5.44l.94 2.06.94-2.06 2.06-.94-2.06-.94-.94-2.06-.94 2.06-2.06.94zm-11 1L8.5 8.5l.94-2.06 2.06-.94-2.06-.94L8.5 2.5l-.94 2.06-2.06.94zm10 10l.94 2.06.94-2.06 2.06-.94-2.06-.94-.94-2.06-.94 2.06-2.06.94z\"/><path d=\"M17.41 7.96l-1.37-1.37c-.4-.4-.92-.59-1.43-.59-.52 0-1.04.2-1.43.59L10.3 9.45l-7.72 7.72c-.78.78-.78 2.05 0 2.83L4 21.41c.39.39.9.59 1.41.59.51 0 1.02-.2 1.41-.59l7.78-7.78 2.81-2.81c.8-.78.8-2.07 0-2.86zM5.41 20L4 18.59l7.72-7.72 1.47 1.35L5.41 20z\"/>\n",
       "  </svg>\n",
       "      </button>\n",
       "      \n",
       "  <style>\n",
       "    .colab-df-container {\n",
       "      display:flex;\n",
       "      flex-wrap:wrap;\n",
       "      gap: 12px;\n",
       "    }\n",
       "\n",
       "    .colab-df-convert {\n",
       "      background-color: #E8F0FE;\n",
       "      border: none;\n",
       "      border-radius: 50%;\n",
       "      cursor: pointer;\n",
       "      display: none;\n",
       "      fill: #1967D2;\n",
       "      height: 32px;\n",
       "      padding: 0 0 0 0;\n",
       "      width: 32px;\n",
       "    }\n",
       "\n",
       "    .colab-df-convert:hover {\n",
       "      background-color: #E2EBFA;\n",
       "      box-shadow: 0px 1px 2px rgba(60, 64, 67, 0.3), 0px 1px 3px 1px rgba(60, 64, 67, 0.15);\n",
       "      fill: #174EA6;\n",
       "    }\n",
       "\n",
       "    [theme=dark] .colab-df-convert {\n",
       "      background-color: #3B4455;\n",
       "      fill: #D2E3FC;\n",
       "    }\n",
       "\n",
       "    [theme=dark] .colab-df-convert:hover {\n",
       "      background-color: #434B5C;\n",
       "      box-shadow: 0px 1px 3px 1px rgba(0, 0, 0, 0.15);\n",
       "      filter: drop-shadow(0px 1px 2px rgba(0, 0, 0, 0.3));\n",
       "      fill: #FFFFFF;\n",
       "    }\n",
       "  </style>\n",
       "\n",
       "      <script>\n",
       "        const buttonEl =\n",
       "          document.querySelector('#df-99215025-d4b5-4496-8b9a-6160bb400812 button.colab-df-convert');\n",
       "        buttonEl.style.display =\n",
       "          google.colab.kernel.accessAllowed ? 'block' : 'none';\n",
       "\n",
       "        async function convertToInteractive(key) {\n",
       "          const element = document.querySelector('#df-99215025-d4b5-4496-8b9a-6160bb400812');\n",
       "          const dataTable =\n",
       "            await google.colab.kernel.invokeFunction('convertToInteractive',\n",
       "                                                     [key], {});\n",
       "          if (!dataTable) return;\n",
       "\n",
       "          const docLinkHtml = 'Like what you see? Visit the ' +\n",
       "            '<a target=\"_blank\" href=https://colab.research.google.com/notebooks/data_table.ipynb>data table notebook</a>'\n",
       "            + ' to learn more about interactive tables.';\n",
       "          element.innerHTML = '';\n",
       "          dataTable['output_type'] = 'display_data';\n",
       "          await google.colab.output.renderOutput(dataTable, element);\n",
       "          const docLink = document.createElement('div');\n",
       "          docLink.innerHTML = docLinkHtml;\n",
       "          element.appendChild(docLink);\n",
       "        }\n",
       "      </script>\n",
       "    </div>\n",
       "  </div>\n",
       "  "
      ],
      "text/plain": [
       "                          title  \\\n",
       "0       frontend engineer (m/f)   \n",
       "1  senior product manager (m/f)   \n",
       "\n",
       "                                         description         level  \n",
       "0  outfittery is europe’s biggest personal shoppi...   entry level  \n",
       "1  outfittery is europe’s biggest personal shoppi...  senior level  "
      ]
     },
     "execution_count": 116,
     "metadata": {},
     "output_type": "execute_result"
    }
   ],
   "source": [
    "path = '/content/drive/My Drive/Colab Notebooks/clf/data_clean.csv'\n",
    "df_val_pred = pd.read_csv(path)\n",
    "df_val_pred = df_val_pred[[\"title\", \"description\", \"level\"]]\n",
    "df_val_pred.head(2)"
   ]
  },
  {
   "cell_type": "markdown",
   "metadata": {
    "id": "Y07oRyjyP2P9"
   },
   "source": [
    "We can split our give dataset into validation and prediction set now."
   ]
  },
  {
   "cell_type": "code",
   "execution_count": 117,
   "metadata": {
    "executionInfo": {
     "elapsed": 37,
     "status": "ok",
     "timestamp": 1640279505741,
     "user": {
      "displayName": "pling",
      "photoUrl": "https://lh3.googleusercontent.com/a/default-user=s64",
      "userId": "02620778565141551161"
     },
     "user_tz": -60
    },
    "id": "Vgr9sJ8pP1V5"
   },
   "outputs": [],
   "source": [
    "df_val_data = df_val_pred[~df_val_pred[\"level\"].isnull()]\n",
    "df_pred_data = df_val_pred[df_val_pred[\"level\"].isnull()]"
   ]
  },
  {
   "cell_type": "markdown",
   "metadata": {
    "id": "byQuyYBDImyb"
   },
   "source": [
    "Let's create features labels for the classification."
   ]
  },
  {
   "cell_type": "code",
   "execution_count": 118,
   "metadata": {
    "executionInfo": {
     "elapsed": 38,
     "status": "ok",
     "timestamp": 1640279505743,
     "user": {
      "displayName": "pling",
      "photoUrl": "https://lh3.googleusercontent.com/a/default-user=s64",
      "userId": "02620778565141551161"
     },
     "user_tz": -60
    },
    "id": "abBOgkGBptMW"
   },
   "outputs": [],
   "source": [
    "def get_features_labels(df):\n",
    "  df[\"features\"] = df[\"title\"].astype(str) + \" \" + df[\"description\"].astype(str) \n",
    "  #df[\"features\"] = df[\"description\"].astype(str) \n",
    "  cat = pd.Series(df['level'])\n",
    "  df['labels'], uniques = pd.factorize(cat, sort=True)\n",
    "  uniques = sorted(uniques)\n",
    "  uniques\n",
    "  df.drop(['title', 'description', 'level'], axis=1, inplace=True)\n",
    "  return df, uniques"
   ]
  },
  {
   "cell_type": "code",
   "execution_count": 119,
   "metadata": {
    "colab": {
     "base_uri": "https://localhost:8080/"
    },
    "executionInfo": {
     "elapsed": 38,
     "status": "ok",
     "timestamp": 1640279505745,
     "user": {
      "displayName": "pling",
      "photoUrl": "https://lh3.googleusercontent.com/a/default-user=s64",
      "userId": "02620778565141551161"
     },
     "user_tz": -60
    },
    "id": "hrwXr5EMPPO9",
    "outputId": "b92098e8-44f7-4205-89ba-ab498c513513"
   },
   "outputs": [
    {
     "name": "stderr",
     "output_type": "stream",
     "text": [
      "/usr/local/lib/python3.7/dist-packages/ipykernel_launcher.py:2: SettingWithCopyWarning: \n",
      "A value is trying to be set on a copy of a slice from a DataFrame.\n",
      "Try using .loc[row_indexer,col_indexer] = value instead\n",
      "\n",
      "See the caveats in the documentation: https://pandas.pydata.org/pandas-docs/stable/user_guide/indexing.html#returning-a-view-versus-a-copy\n",
      "  \n",
      "/usr/local/lib/python3.7/dist-packages/ipykernel_launcher.py:5: SettingWithCopyWarning: \n",
      "A value is trying to be set on a copy of a slice from a DataFrame.\n",
      "Try using .loc[row_indexer,col_indexer] = value instead\n",
      "\n",
      "See the caveats in the documentation: https://pandas.pydata.org/pandas-docs/stable/user_guide/indexing.html#returning-a-view-versus-a-copy\n",
      "  \"\"\"\n",
      "/usr/local/lib/python3.7/dist-packages/pandas/core/frame.py:4174: SettingWithCopyWarning: \n",
      "A value is trying to be set on a copy of a slice from a DataFrame\n",
      "\n",
      "See the caveats in the documentation: https://pandas.pydata.org/pandas-docs/stable/user_guide/indexing.html#returning-a-view-versus-a-copy\n",
      "  errors=errors,\n"
     ]
    },
    {
     "data": {
      "text/plain": [
       "['entry level', 'internship', 'mid level', 'senior level']"
      ]
     },
     "execution_count": 119,
     "metadata": {},
     "output_type": "execute_result"
    }
   ],
   "source": [
    "df_val_data, uniques = get_features_labels(df_val_data)\n",
    "df_pred_data, uniques = get_features_labels(df_pred_data)\n",
    "df, uniques = get_features_labels(df)\n",
    "df_big, uniques = get_features_labels(df_big)\n",
    "uniques"
   ]
  },
  {
   "cell_type": "markdown",
   "metadata": {
    "id": "JZpxEwlGrSVi"
   },
   "source": [
    "**4. Train Test Split** ================================================================================================================"
   ]
  },
  {
   "cell_type": "code",
   "execution_count": 120,
   "metadata": {
    "executionInfo": {
     "elapsed": 32,
     "status": "ok",
     "timestamp": 1640279505748,
     "user": {
      "displayName": "pling",
      "photoUrl": "https://lh3.googleusercontent.com/a/default-user=s64",
      "userId": "02620778565141551161"
     },
     "user_tz": -60
    },
    "id": "hi5OWApHptRx"
   },
   "outputs": [],
   "source": [
    "from sklearn.model_selection import train_test_split\n",
    "df_train, df_val  = train_test_split(df, stratify=df.labels, test_size=0.1)\n",
    "df_big_train, df_big_val  = train_test_split(df_big, stratify=df_big.labels, test_size=0.1)"
   ]
  },
  {
   "cell_type": "markdown",
   "metadata": {
    "id": "t1aTYU4-ZaGD"
   },
   "source": [
    "**5. Short Analysis df_train (small)** ================================================================================================================"
   ]
  },
  {
   "cell_type": "code",
   "execution_count": 121,
   "metadata": {
    "colab": {
     "base_uri": "https://localhost:8080/",
     "height": 112
    },
    "executionInfo": {
     "elapsed": 32,
     "status": "ok",
     "timestamp": 1640279505750,
     "user": {
      "displayName": "pling",
      "photoUrl": "https://lh3.googleusercontent.com/a/default-user=s64",
      "userId": "02620778565141551161"
     },
     "user_tz": -60
    },
    "id": "wi2xOfD0u_m5",
    "outputId": "415b987d-79cf-41e0-d82f-ca68a2d649e3"
   },
   "outputs": [
    {
     "data": {
      "text/html": [
       "\n",
       "  <div id=\"df-988b775f-16b5-4dbb-a117-d041c2677814\">\n",
       "    <div class=\"colab-df-container\">\n",
       "      <div>\n",
       "<style scoped>\n",
       "    .dataframe tbody tr th:only-of-type {\n",
       "        vertical-align: middle;\n",
       "    }\n",
       "\n",
       "    .dataframe tbody tr th {\n",
       "        vertical-align: top;\n",
       "    }\n",
       "\n",
       "    .dataframe thead th {\n",
       "        text-align: right;\n",
       "    }\n",
       "</style>\n",
       "<table border=\"1\" class=\"dataframe\">\n",
       "  <thead>\n",
       "    <tr style=\"text-align: right;\">\n",
       "      <th></th>\n",
       "      <th>features</th>\n",
       "      <th>labels</th>\n",
       "    </tr>\n",
       "  </thead>\n",
       "  <tbody>\n",
       "    <tr>\n",
       "      <th>1935</th>\n",
       "      <td>corporate strategy office cfo key member of th...</td>\n",
       "      <td>3</td>\n",
       "    </tr>\n",
       "    <tr>\n",
       "      <th>1450</th>\n",
       "      <td>ma intern - cw lake underhill the intern - gen...</td>\n",
       "      <td>1</td>\n",
       "    </tr>\n",
       "  </tbody>\n",
       "</table>\n",
       "</div>\n",
       "      <button class=\"colab-df-convert\" onclick=\"convertToInteractive('df-988b775f-16b5-4dbb-a117-d041c2677814')\"\n",
       "              title=\"Convert this dataframe to an interactive table.\"\n",
       "              style=\"display:none;\">\n",
       "        \n",
       "  <svg xmlns=\"http://www.w3.org/2000/svg\" height=\"24px\"viewBox=\"0 0 24 24\"\n",
       "       width=\"24px\">\n",
       "    <path d=\"M0 0h24v24H0V0z\" fill=\"none\"/>\n",
       "    <path d=\"M18.56 5.44l.94 2.06.94-2.06 2.06-.94-2.06-.94-.94-2.06-.94 2.06-2.06.94zm-11 1L8.5 8.5l.94-2.06 2.06-.94-2.06-.94L8.5 2.5l-.94 2.06-2.06.94zm10 10l.94 2.06.94-2.06 2.06-.94-2.06-.94-.94-2.06-.94 2.06-2.06.94z\"/><path d=\"M17.41 7.96l-1.37-1.37c-.4-.4-.92-.59-1.43-.59-.52 0-1.04.2-1.43.59L10.3 9.45l-7.72 7.72c-.78.78-.78 2.05 0 2.83L4 21.41c.39.39.9.59 1.41.59.51 0 1.02-.2 1.41-.59l7.78-7.78 2.81-2.81c.8-.78.8-2.07 0-2.86zM5.41 20L4 18.59l7.72-7.72 1.47 1.35L5.41 20z\"/>\n",
       "  </svg>\n",
       "      </button>\n",
       "      \n",
       "  <style>\n",
       "    .colab-df-container {\n",
       "      display:flex;\n",
       "      flex-wrap:wrap;\n",
       "      gap: 12px;\n",
       "    }\n",
       "\n",
       "    .colab-df-convert {\n",
       "      background-color: #E8F0FE;\n",
       "      border: none;\n",
       "      border-radius: 50%;\n",
       "      cursor: pointer;\n",
       "      display: none;\n",
       "      fill: #1967D2;\n",
       "      height: 32px;\n",
       "      padding: 0 0 0 0;\n",
       "      width: 32px;\n",
       "    }\n",
       "\n",
       "    .colab-df-convert:hover {\n",
       "      background-color: #E2EBFA;\n",
       "      box-shadow: 0px 1px 2px rgba(60, 64, 67, 0.3), 0px 1px 3px 1px rgba(60, 64, 67, 0.15);\n",
       "      fill: #174EA6;\n",
       "    }\n",
       "\n",
       "    [theme=dark] .colab-df-convert {\n",
       "      background-color: #3B4455;\n",
       "      fill: #D2E3FC;\n",
       "    }\n",
       "\n",
       "    [theme=dark] .colab-df-convert:hover {\n",
       "      background-color: #434B5C;\n",
       "      box-shadow: 0px 1px 3px 1px rgba(0, 0, 0, 0.15);\n",
       "      filter: drop-shadow(0px 1px 2px rgba(0, 0, 0, 0.3));\n",
       "      fill: #FFFFFF;\n",
       "    }\n",
       "  </style>\n",
       "\n",
       "      <script>\n",
       "        const buttonEl =\n",
       "          document.querySelector('#df-988b775f-16b5-4dbb-a117-d041c2677814 button.colab-df-convert');\n",
       "        buttonEl.style.display =\n",
       "          google.colab.kernel.accessAllowed ? 'block' : 'none';\n",
       "\n",
       "        async function convertToInteractive(key) {\n",
       "          const element = document.querySelector('#df-988b775f-16b5-4dbb-a117-d041c2677814');\n",
       "          const dataTable =\n",
       "            await google.colab.kernel.invokeFunction('convertToInteractive',\n",
       "                                                     [key], {});\n",
       "          if (!dataTable) return;\n",
       "\n",
       "          const docLinkHtml = 'Like what you see? Visit the ' +\n",
       "            '<a target=\"_blank\" href=https://colab.research.google.com/notebooks/data_table.ipynb>data table notebook</a>'\n",
       "            + ' to learn more about interactive tables.';\n",
       "          element.innerHTML = '';\n",
       "          dataTable['output_type'] = 'display_data';\n",
       "          await google.colab.output.renderOutput(dataTable, element);\n",
       "          const docLink = document.createElement('div');\n",
       "          docLink.innerHTML = docLinkHtml;\n",
       "          element.appendChild(docLink);\n",
       "        }\n",
       "      </script>\n",
       "    </div>\n",
       "  </div>\n",
       "  "
      ],
      "text/plain": [
       "                                               features  labels\n",
       "1935  corporate strategy office cfo key member of th...       3\n",
       "1450  ma intern - cw lake underhill the intern - gen...       1"
      ]
     },
     "execution_count": 121,
     "metadata": {},
     "output_type": "execute_result"
    }
   ],
   "source": [
    "df_train.head(2)"
   ]
  },
  {
   "cell_type": "code",
   "execution_count": 122,
   "metadata": {
    "colab": {
     "base_uri": "https://localhost:8080/"
    },
    "executionInfo": {
     "elapsed": 31,
     "status": "ok",
     "timestamp": 1640279506083,
     "user": {
      "displayName": "pling",
      "photoUrl": "https://lh3.googleusercontent.com/a/default-user=s64",
      "userId": "02620778565141551161"
     },
     "user_tz": -60
    },
    "id": "ALq2WEppMw7G",
    "outputId": "d80d858e-e4f1-4df8-ae56-603d7d09d08b"
   },
   "outputs": [
    {
     "data": {
      "text/plain": [
       "['entry level', 'internship', 'mid level', 'senior level']"
      ]
     },
     "execution_count": 122,
     "metadata": {},
     "output_type": "execute_result"
    }
   ],
   "source": [
    "uniques"
   ]
  },
  {
   "cell_type": "markdown",
   "metadata": {
    "id": "phFlev3MlK5p"
   },
   "source": [
    "We can see that category 1 (internships) has more examples than the others. However, each category of df_train has at least 1000 instances, which should be good enough for BERT."
   ]
  },
  {
   "cell_type": "code",
   "execution_count": 123,
   "metadata": {
    "colab": {
     "base_uri": "https://localhost:8080/",
     "height": 371
    },
    "executionInfo": {
     "elapsed": 26,
     "status": "ok",
     "timestamp": 1640279506084,
     "user": {
      "displayName": "pling",
      "photoUrl": "https://lh3.googleusercontent.com/a/default-user=s64",
      "userId": "02620778565141551161"
     },
     "user_tz": -60
    },
    "id": "pUV_pWqlO4Dz",
    "outputId": "447a95e8-6625-4c12-8040-5ece5fa3b8da"
   },
   "outputs": [
    {
     "name": "stdout",
     "output_type": "stream",
     "text": [
      "1    1639\n",
      "0    1499\n",
      "3    1359\n",
      "2    1130\n",
      "Name: labels, dtype: int64\n"
     ]
    },
    {
     "data": {
      "text/plain": [
       "<matplotlib.axes._subplots.AxesSubplot at 0x7f3d9d473650>"
      ]
     },
     "execution_count": 123,
     "metadata": {},
     "output_type": "execute_result"
    },
    {
     "data": {
      "image/png": "[encoded data removed]",
      "text/plain": [
       "<Figure size 432x288 with 1 Axes>"
      ]
     },
     "metadata": {
      "needs_background": "light"
     },
     "output_type": "display_data"
    }
   ],
   "source": [
    "print(df_train.labels.value_counts())\n",
    "df_train.labels.value_counts().plot.bar()"
   ]
  },
  {
   "cell_type": "code",
   "execution_count": 124,
   "metadata": {
    "executionInfo": {
     "elapsed": 16,
     "status": "ok",
     "timestamp": 1640279506086,
     "user": {
      "displayName": "pling",
      "photoUrl": "https://lh3.googleusercontent.com/a/default-user=s64",
      "userId": "02620778565141551161"
     },
     "user_tz": -60
    },
    "id": "gKJe-1uWKWUN"
   },
   "outputs": [],
   "source": [
    "df_train[\"count\"] = df_train.features.str.count(\" \") + 1"
   ]
  },
  {
   "cell_type": "markdown",
   "metadata": {
    "id": "FzRASCxqSSLg"
   },
   "source": [
    "Since we only download the short summary, our texts are quite short, since in this dataset we only have the short summary version. Most text have a length of 20-30 words. This means that BERT will most be able to use the full feature text since it has token limit of 512 (510 without padding)"
   ]
  },
  {
   "cell_type": "code",
   "execution_count": 125,
   "metadata": {
    "colab": {
     "base_uri": "https://localhost:8080/",
     "height": 283
    },
    "executionInfo": {
     "elapsed": 249,
     "status": "ok",
     "timestamp": 1640279506319,
     "user": {
      "displayName": "pling",
      "photoUrl": "https://lh3.googleusercontent.com/a/default-user=s64",
      "userId": "02620778565141551161"
     },
     "user_tz": -60
    },
    "id": "gKo_fSe7NP0L",
    "outputId": "06f82db6-26d9-4b3b-be2e-b1bf47a4a75c"
   },
   "outputs": [
    {
     "data": {
      "text/plain": [
       "<matplotlib.axes._subplots.AxesSubplot at 0x7f3d9d1d28d0>"
      ]
     },
     "execution_count": 125,
     "metadata": {},
     "output_type": "execute_result"
    },
    {
     "data": {
      "image/png": "[encoded data removed]",
      "text/plain": [
       "<Figure size 432x288 with 1 Axes>"
      ]
     },
     "metadata": {
      "needs_background": "light"
     },
     "output_type": "display_data"
    }
   ],
   "source": [
    "df_train[~df_train[\"count\"].isnull()][\"count\"].plot(kind=\"box\", vert=False)"
   ]
  },
  {
   "cell_type": "code",
   "execution_count": 126,
   "metadata": {
    "colab": {
     "base_uri": "https://localhost:8080/",
     "height": 284
    },
    "executionInfo": {
     "elapsed": 654,
     "status": "ok",
     "timestamp": 1640279506965,
     "user": {
      "displayName": "pling",
      "photoUrl": "https://lh3.googleusercontent.com/a/default-user=s64",
      "userId": "02620778565141551161"
     },
     "user_tz": -60
    },
    "id": "KDH04yBgLUj8",
    "outputId": "9868033f-f54f-4c05-a6bb-5ee524286ea5"
   },
   "outputs": [
    {
     "data": {
      "text/plain": [
       "<matplotlib.axes._subplots.AxesSubplot at 0x7f3d9cefdf50>"
      ]
     },
     "execution_count": 126,
     "metadata": {},
     "output_type": "execute_result"
    },
    {
     "data": {
      "image/png": "[encoded data removed]",
      "text/plain": [
       "<Figure size 432x288 with 1 Axes>"
      ]
     },
     "metadata": {
      "needs_background": "light"
     },
     "output_type": "display_data"
    }
   ],
   "source": [
    "df_train[~df_train[\"count\"].isnull()][\"count\"].hist(bins=20)"
   ]
  },
  {
   "cell_type": "code",
   "execution_count": 127,
   "metadata": {
    "colab": {
     "base_uri": "https://localhost:8080/",
     "height": 81
    },
    "executionInfo": {
     "elapsed": 37,
     "status": "ok",
     "timestamp": 1640279506967,
     "user": {
      "displayName": "pling",
      "photoUrl": "https://lh3.googleusercontent.com/a/default-user=s64",
      "userId": "02620778565141551161"
     },
     "user_tz": -60
    },
    "id": "WyyCJOJpT5yn",
    "outputId": "12ed541f-3e77-429c-8064-200bb73249d5"
   },
   "outputs": [
    {
     "data": {
      "text/html": [
       "\n",
       "  <div id=\"df-3cec6182-6d3a-4c5a-87ac-47b8d78088ed\">\n",
       "    <div class=\"colab-df-container\">\n",
       "      <div>\n",
       "<style scoped>\n",
       "    .dataframe tbody tr th:only-of-type {\n",
       "        vertical-align: middle;\n",
       "    }\n",
       "\n",
       "    .dataframe tbody tr th {\n",
       "        vertical-align: top;\n",
       "    }\n",
       "\n",
       "    .dataframe thead th {\n",
       "        text-align: right;\n",
       "    }\n",
       "</style>\n",
       "<table border=\"1\" class=\"dataframe\">\n",
       "  <thead>\n",
       "    <tr style=\"text-align: right;\">\n",
       "      <th></th>\n",
       "      <th>features</th>\n",
       "      <th>labels</th>\n",
       "    </tr>\n",
       "  </thead>\n",
       "  <tbody>\n",
       "    <tr>\n",
       "      <th>1935</th>\n",
       "      <td>corporate strategy office cfo key member of th...</td>\n",
       "      <td>3</td>\n",
       "    </tr>\n",
       "  </tbody>\n",
       "</table>\n",
       "</div>\n",
       "      <button class=\"colab-df-convert\" onclick=\"convertToInteractive('df-3cec6182-6d3a-4c5a-87ac-47b8d78088ed')\"\n",
       "              title=\"Convert this dataframe to an interactive table.\"\n",
       "              style=\"display:none;\">\n",
       "        \n",
       "  <svg xmlns=\"http://www.w3.org/2000/svg\" height=\"24px\"viewBox=\"0 0 24 24\"\n",
       "       width=\"24px\">\n",
       "    <path d=\"M0 0h24v24H0V0z\" fill=\"none\"/>\n",
       "    <path d=\"M18.56 5.44l.94 2.06.94-2.06 2.06-.94-2.06-.94-.94-2.06-.94 2.06-2.06.94zm-11 1L8.5 8.5l.94-2.06 2.06-.94-2.06-.94L8.5 2.5l-.94 2.06-2.06.94zm10 10l.94 2.06.94-2.06 2.06-.94-2.06-.94-.94-2.06-.94 2.06-2.06.94z\"/><path d=\"M17.41 7.96l-1.37-1.37c-.4-.4-.92-.59-1.43-.59-.52 0-1.04.2-1.43.59L10.3 9.45l-7.72 7.72c-.78.78-.78 2.05 0 2.83L4 21.41c.39.39.9.59 1.41.59.51 0 1.02-.2 1.41-.59l7.78-7.78 2.81-2.81c.8-.78.8-2.07 0-2.86zM5.41 20L4 18.59l7.72-7.72 1.47 1.35L5.41 20z\"/>\n",
       "  </svg>\n",
       "      </button>\n",
       "      \n",
       "  <style>\n",
       "    .colab-df-container {\n",
       "      display:flex;\n",
       "      flex-wrap:wrap;\n",
       "      gap: 12px;\n",
       "    }\n",
       "\n",
       "    .colab-df-convert {\n",
       "      background-color: #E8F0FE;\n",
       "      border: none;\n",
       "      border-radius: 50%;\n",
       "      cursor: pointer;\n",
       "      display: none;\n",
       "      fill: #1967D2;\n",
       "      height: 32px;\n",
       "      padding: 0 0 0 0;\n",
       "      width: 32px;\n",
       "    }\n",
       "\n",
       "    .colab-df-convert:hover {\n",
       "      background-color: #E2EBFA;\n",
       "      box-shadow: 0px 1px 2px rgba(60, 64, 67, 0.3), 0px 1px 3px 1px rgba(60, 64, 67, 0.15);\n",
       "      fill: #174EA6;\n",
       "    }\n",
       "\n",
       "    [theme=dark] .colab-df-convert {\n",
       "      background-color: #3B4455;\n",
       "      fill: #D2E3FC;\n",
       "    }\n",
       "\n",
       "    [theme=dark] .colab-df-convert:hover {\n",
       "      background-color: #434B5C;\n",
       "      box-shadow: 0px 1px 3px 1px rgba(0, 0, 0, 0.15);\n",
       "      filter: drop-shadow(0px 1px 2px rgba(0, 0, 0, 0.3));\n",
       "      fill: #FFFFFF;\n",
       "    }\n",
       "  </style>\n",
       "\n",
       "      <script>\n",
       "        const buttonEl =\n",
       "          document.querySelector('#df-3cec6182-6d3a-4c5a-87ac-47b8d78088ed button.colab-df-convert');\n",
       "        buttonEl.style.display =\n",
       "          google.colab.kernel.accessAllowed ? 'block' : 'none';\n",
       "\n",
       "        async function convertToInteractive(key) {\n",
       "          const element = document.querySelector('#df-3cec6182-6d3a-4c5a-87ac-47b8d78088ed');\n",
       "          const dataTable =\n",
       "            await google.colab.kernel.invokeFunction('convertToInteractive',\n",
       "                                                     [key], {});\n",
       "          if (!dataTable) return;\n",
       "\n",
       "          const docLinkHtml = 'Like what you see? Visit the ' +\n",
       "            '<a target=\"_blank\" href=https://colab.research.google.com/notebooks/data_table.ipynb>data table notebook</a>'\n",
       "            + ' to learn more about interactive tables.';\n",
       "          element.innerHTML = '';\n",
       "          dataTable['output_type'] = 'display_data';\n",
       "          await google.colab.output.renderOutput(dataTable, element);\n",
       "          const docLink = document.createElement('div');\n",
       "          docLink.innerHTML = docLinkHtml;\n",
       "          element.appendChild(docLink);\n",
       "        }\n",
       "      </script>\n",
       "    </div>\n",
       "  </div>\n",
       "  "
      ],
      "text/plain": [
       "                                               features  labels\n",
       "1935  corporate strategy office cfo key member of th...       3"
      ]
     },
     "execution_count": 127,
     "metadata": {},
     "output_type": "execute_result"
    }
   ],
   "source": [
    "df_train.drop(['count'], axis=1, inplace=True)\n",
    "df_train.head(1)"
   ]
  },
  {
   "cell_type": "markdown",
   "metadata": {
    "id": "pQw4eg9Vj6g7"
   },
   "source": [
    "**5. Short Analysis df_train_big** ================================================================================================================"
   ]
  },
  {
   "cell_type": "code",
   "execution_count": 128,
   "metadata": {
    "colab": {
     "base_uri": "https://localhost:8080/",
     "height": 112
    },
    "executionInfo": {
     "elapsed": 35,
     "status": "ok",
     "timestamp": 1640279506967,
     "user": {
      "displayName": "pling",
      "photoUrl": "https://lh3.googleusercontent.com/a/default-user=s64",
      "userId": "02620778565141551161"
     },
     "user_tz": -60
    },
    "id": "pgDhN9wmj6g9",
    "outputId": "29eab727-5adb-4db5-8013-dfb144f7e218"
   },
   "outputs": [
    {
     "data": {
      "text/html": [
       "\n",
       "  <div id=\"df-08eb95c7-f69e-4597-8c75-04cf0ab6216a\">\n",
       "    <div class=\"colab-df-container\">\n",
       "      <div>\n",
       "<style scoped>\n",
       "    .dataframe tbody tr th:only-of-type {\n",
       "        vertical-align: middle;\n",
       "    }\n",
       "\n",
       "    .dataframe tbody tr th {\n",
       "        vertical-align: top;\n",
       "    }\n",
       "\n",
       "    .dataframe thead th {\n",
       "        text-align: right;\n",
       "    }\n",
       "</style>\n",
       "<table border=\"1\" class=\"dataframe\">\n",
       "  <thead>\n",
       "    <tr style=\"text-align: right;\">\n",
       "      <th></th>\n",
       "      <th>features</th>\n",
       "      <th>labels</th>\n",
       "    </tr>\n",
       "  </thead>\n",
       "  <tbody>\n",
       "    <tr>\n",
       "      <th>3452</th>\n",
       "      <td>vp of retail, usa responsible for the manageme...</td>\n",
       "      <td>3</td>\n",
       "    </tr>\n",
       "    <tr>\n",
       "      <th>3732</th>\n",
       "      <td>brand manager, adult nutrition business unit o...</td>\n",
       "      <td>3</td>\n",
       "    </tr>\n",
       "  </tbody>\n",
       "</table>\n",
       "</div>\n",
       "      <button class=\"colab-df-convert\" onclick=\"convertToInteractive('df-08eb95c7-f69e-4597-8c75-04cf0ab6216a')\"\n",
       "              title=\"Convert this dataframe to an interactive table.\"\n",
       "              style=\"display:none;\">\n",
       "        \n",
       "  <svg xmlns=\"http://www.w3.org/2000/svg\" height=\"24px\"viewBox=\"0 0 24 24\"\n",
       "       width=\"24px\">\n",
       "    <path d=\"M0 0h24v24H0V0z\" fill=\"none\"/>\n",
       "    <path d=\"M18.56 5.44l.94 2.06.94-2.06 2.06-.94-2.06-.94-.94-2.06-.94 2.06-2.06.94zm-11 1L8.5 8.5l.94-2.06 2.06-.94-2.06-.94L8.5 2.5l-.94 2.06-2.06.94zm10 10l.94 2.06.94-2.06 2.06-.94-2.06-.94-.94-2.06-.94 2.06-2.06.94z\"/><path d=\"M17.41 7.96l-1.37-1.37c-.4-.4-.92-.59-1.43-.59-.52 0-1.04.2-1.43.59L10.3 9.45l-7.72 7.72c-.78.78-.78 2.05 0 2.83L4 21.41c.39.39.9.59 1.41.59.51 0 1.02-.2 1.41-.59l7.78-7.78 2.81-2.81c.8-.78.8-2.07 0-2.86zM5.41 20L4 18.59l7.72-7.72 1.47 1.35L5.41 20z\"/>\n",
       "  </svg>\n",
       "      </button>\n",
       "      \n",
       "  <style>\n",
       "    .colab-df-container {\n",
       "      display:flex;\n",
       "      flex-wrap:wrap;\n",
       "      gap: 12px;\n",
       "    }\n",
       "\n",
       "    .colab-df-convert {\n",
       "      background-color: #E8F0FE;\n",
       "      border: none;\n",
       "      border-radius: 50%;\n",
       "      cursor: pointer;\n",
       "      display: none;\n",
       "      fill: #1967D2;\n",
       "      height: 32px;\n",
       "      padding: 0 0 0 0;\n",
       "      width: 32px;\n",
       "    }\n",
       "\n",
       "    .colab-df-convert:hover {\n",
       "      background-color: #E2EBFA;\n",
       "      box-shadow: 0px 1px 2px rgba(60, 64, 67, 0.3), 0px 1px 3px 1px rgba(60, 64, 67, 0.15);\n",
       "      fill: #174EA6;\n",
       "    }\n",
       "\n",
       "    [theme=dark] .colab-df-convert {\n",
       "      background-color: #3B4455;\n",
       "      fill: #D2E3FC;\n",
       "    }\n",
       "\n",
       "    [theme=dark] .colab-df-convert:hover {\n",
       "      background-color: #434B5C;\n",
       "      box-shadow: 0px 1px 3px 1px rgba(0, 0, 0, 0.15);\n",
       "      filter: drop-shadow(0px 1px 2px rgba(0, 0, 0, 0.3));\n",
       "      fill: #FFFFFF;\n",
       "    }\n",
       "  </style>\n",
       "\n",
       "      <script>\n",
       "        const buttonEl =\n",
       "          document.querySelector('#df-08eb95c7-f69e-4597-8c75-04cf0ab6216a button.colab-df-convert');\n",
       "        buttonEl.style.display =\n",
       "          google.colab.kernel.accessAllowed ? 'block' : 'none';\n",
       "\n",
       "        async function convertToInteractive(key) {\n",
       "          const element = document.querySelector('#df-08eb95c7-f69e-4597-8c75-04cf0ab6216a');\n",
       "          const dataTable =\n",
       "            await google.colab.kernel.invokeFunction('convertToInteractive',\n",
       "                                                     [key], {});\n",
       "          if (!dataTable) return;\n",
       "\n",
       "          const docLinkHtml = 'Like what you see? Visit the ' +\n",
       "            '<a target=\"_blank\" href=https://colab.research.google.com/notebooks/data_table.ipynb>data table notebook</a>'\n",
       "            + ' to learn more about interactive tables.';\n",
       "          element.innerHTML = '';\n",
       "          dataTable['output_type'] = 'display_data';\n",
       "          await google.colab.output.renderOutput(dataTable, element);\n",
       "          const docLink = document.createElement('div');\n",
       "          docLink.innerHTML = docLinkHtml;\n",
       "          element.appendChild(docLink);\n",
       "        }\n",
       "      </script>\n",
       "    </div>\n",
       "  </div>\n",
       "  "
      ],
      "text/plain": [
       "                                               features  labels\n",
       "3452  vp of retail, usa responsible for the manageme...       3\n",
       "3732  brand manager, adult nutrition business unit o...       3"
      ]
     },
     "execution_count": 128,
     "metadata": {},
     "output_type": "execute_result"
    }
   ],
   "source": [
    "df_big_train.head(2)"
   ]
  },
  {
   "cell_type": "code",
   "execution_count": 129,
   "metadata": {
    "colab": {
     "base_uri": "https://localhost:8080/"
    },
    "executionInfo": {
     "elapsed": 35,
     "status": "ok",
     "timestamp": 1640279506969,
     "user": {
      "displayName": "pling",
      "photoUrl": "https://lh3.googleusercontent.com/a/default-user=s64",
      "userId": "02620778565141551161"
     },
     "user_tz": -60
    },
    "id": "AMAhOSguj6g-",
    "outputId": "6458f1b9-0fa4-4231-8b32-ca24fa74567a"
   },
   "outputs": [
    {
     "data": {
      "text/plain": [
       "['entry level', 'internship', 'mid level', 'senior level']"
      ]
     },
     "execution_count": 129,
     "metadata": {},
     "output_type": "execute_result"
    }
   ],
   "source": [
    "uniques"
   ]
  },
  {
   "cell_type": "markdown",
   "metadata": {
    "id": "Q9bYHZU7j6g-"
   },
   "source": [
    "We can see that category 1 (internships) has more examples than the others. However, each category of df_train has at least 1000 instances, which should be good enough for BERT."
   ]
  },
  {
   "cell_type": "code",
   "execution_count": 130,
   "metadata": {
    "colab": {
     "base_uri": "https://localhost:8080/",
     "height": 371
    },
    "executionInfo": {
     "elapsed": 265,
     "status": "ok",
     "timestamp": 1640279507208,
     "user": {
      "displayName": "pling",
      "photoUrl": "https://lh3.googleusercontent.com/a/default-user=s64",
      "userId": "02620778565141551161"
     },
     "user_tz": -60
    },
    "id": "GBvxVkI4j6hA",
    "outputId": "2d74ed6e-cd94-4b01-e35e-dabaf62568c7"
   },
   "outputs": [
    {
     "name": "stdout",
     "output_type": "stream",
     "text": [
      "0    1106\n",
      "2    1052\n",
      "1    1021\n",
      "3    1013\n",
      "Name: labels, dtype: int64\n"
     ]
    },
    {
     "data": {
      "text/plain": [
       "<matplotlib.axes._subplots.AxesSubplot at 0x7f3d9ce208d0>"
      ]
     },
     "execution_count": 130,
     "metadata": {},
     "output_type": "execute_result"
    },
    {
     "data": {
      "image/png": "[encoded data removed]",
      "text/plain": [
       "<Figure size 432x288 with 1 Axes>"
      ]
     },
     "metadata": {
      "needs_background": "light"
     },
     "output_type": "display_data"
    }
   ],
   "source": [
    "print(df_big_train.labels.value_counts())\n",
    "df_big_train.labels.value_counts().plot.bar()"
   ]
  },
  {
   "cell_type": "code",
   "execution_count": 131,
   "metadata": {
    "executionInfo": {
     "elapsed": 12,
     "status": "ok",
     "timestamp": 1640279507209,
     "user": {
      "displayName": "pling",
      "photoUrl": "https://lh3.googleusercontent.com/a/default-user=s64",
      "userId": "02620778565141551161"
     },
     "user_tz": -60
    },
    "id": "4y6JzFddj6hA"
   },
   "outputs": [],
   "source": [
    "df_big_train[\"count\"] = df_big_train.features.str.count(\" \") + 1"
   ]
  },
  {
   "cell_type": "markdown",
   "metadata": {
    "id": "w8zGGkBkj6hB"
   },
   "source": [
    "The word count of the complete summary is much larger, so it is likely that BERT will only see the first part of a text. We could change that, by only using the middle or the end, but in this case we will leave it to read the first 510 tokens, hoping that this will be sufficient."
   ]
  },
  {
   "cell_type": "code",
   "execution_count": 132,
   "metadata": {
    "colab": {
     "base_uri": "https://localhost:8080/",
     "height": 283
    },
    "executionInfo": {
     "elapsed": 276,
     "status": "ok",
     "timestamp": 1640279507474,
     "user": {
      "displayName": "pling",
      "photoUrl": "https://lh3.googleusercontent.com/a/default-user=s64",
      "userId": "02620778565141551161"
     },
     "user_tz": -60
    },
    "id": "CaDbP61nj6hB",
    "outputId": "ea8b63db-c984-4e39-acf7-127154f8262d"
   },
   "outputs": [
    {
     "data": {
      "text/plain": [
       "<matplotlib.axes._subplots.AxesSubplot at 0x7f3d9cdec4d0>"
      ]
     },
     "execution_count": 132,
     "metadata": {},
     "output_type": "execute_result"
    },
    {
     "data": {
      "image/png": "[encoded data removed]",
      "text/plain": [
       "<Figure size 432x288 with 1 Axes>"
      ]
     },
     "metadata": {
      "needs_background": "light"
     },
     "output_type": "display_data"
    }
   ],
   "source": [
    "df_big_train[~df_big_train[\"count\"].isnull()][\"count\"].plot(kind=\"box\", vert=False)"
   ]
  },
  {
   "cell_type": "code",
   "execution_count": 133,
   "metadata": {
    "colab": {
     "base_uri": "https://localhost:8080/",
     "height": 283
    },
    "executionInfo": {
     "elapsed": 339,
     "status": "ok",
     "timestamp": 1640279507794,
     "user": {
      "displayName": "pling",
      "photoUrl": "https://lh3.googleusercontent.com/a/default-user=s64",
      "userId": "02620778565141551161"
     },
     "user_tz": -60
    },
    "id": "TLjhE7uHj6hB",
    "outputId": "b65d9577-b96a-440a-e34d-b526c209c2de"
   },
   "outputs": [
    {
     "data": {
      "text/plain": [
       "<matplotlib.axes._subplots.AxesSubplot at 0x7f3d9cd707d0>"
      ]
     },
     "execution_count": 133,
     "metadata": {},
     "output_type": "execute_result"
    },
    {
     "data": {
      "image/png": "[encoded data removed]",
      "text/plain": [
       "<Figure size 432x288 with 1 Axes>"
      ]
     },
     "metadata": {
      "needs_background": "light"
     },
     "output_type": "display_data"
    }
   ],
   "source": [
    "df_big_train[~df_big_train[\"count\"].isnull()][\"count\"].hist(bins=20)"
   ]
  },
  {
   "cell_type": "code",
   "execution_count": 134,
   "metadata": {
    "colab": {
     "base_uri": "https://localhost:8080/",
     "height": 206
    },
    "executionInfo": {
     "elapsed": 33,
     "status": "ok",
     "timestamp": 1640279507797,
     "user": {
      "displayName": "pling",
      "photoUrl": "https://lh3.googleusercontent.com/a/default-user=s64",
      "userId": "02620778565141551161"
     },
     "user_tz": -60
    },
    "id": "GcF1LG3Fj6hC",
    "outputId": "b5cdc8e7-5237-446a-c4e9-bdeb9a49b30d"
   },
   "outputs": [
    {
     "data": {
      "text/html": [
       "\n",
       "  <div id=\"df-13f6b95b-c929-4f67-9632-ebc6d050e883\">\n",
       "    <div class=\"colab-df-container\">\n",
       "      <div>\n",
       "<style scoped>\n",
       "    .dataframe tbody tr th:only-of-type {\n",
       "        vertical-align: middle;\n",
       "    }\n",
       "\n",
       "    .dataframe tbody tr th {\n",
       "        vertical-align: top;\n",
       "    }\n",
       "\n",
       "    .dataframe thead th {\n",
       "        text-align: right;\n",
       "    }\n",
       "</style>\n",
       "<table border=\"1\" class=\"dataframe\">\n",
       "  <thead>\n",
       "    <tr style=\"text-align: right;\">\n",
       "      <th></th>\n",
       "      <th>features</th>\n",
       "      <th>labels</th>\n",
       "      <th>count</th>\n",
       "    </tr>\n",
       "  </thead>\n",
       "  <tbody>\n",
       "    <tr>\n",
       "      <th>3452</th>\n",
       "      <td>vp of retail, usa responsible for the manageme...</td>\n",
       "      <td>3</td>\n",
       "      <td>478</td>\n",
       "    </tr>\n",
       "    <tr>\n",
       "      <th>3732</th>\n",
       "      <td>brand manager, adult nutrition business unit o...</td>\n",
       "      <td>3</td>\n",
       "      <td>758</td>\n",
       "    </tr>\n",
       "    <tr>\n",
       "      <th>2399</th>\n",
       "      <td>purchasing agent salary $70,304.00 - $98,425.6...</td>\n",
       "      <td>2</td>\n",
       "      <td>257</td>\n",
       "    </tr>\n",
       "    <tr>\n",
       "      <th>2486</th>\n",
       "      <td>production supervisor (bilingual) summary the ...</td>\n",
       "      <td>2</td>\n",
       "      <td>400</td>\n",
       "    </tr>\n",
       "    <tr>\n",
       "      <th>302</th>\n",
       "      <td>production weekender ($33.425/hr) budweiser. b...</td>\n",
       "      <td>0</td>\n",
       "      <td>442</td>\n",
       "    </tr>\n",
       "  </tbody>\n",
       "</table>\n",
       "</div>\n",
       "      <button class=\"colab-df-convert\" onclick=\"convertToInteractive('df-13f6b95b-c929-4f67-9632-ebc6d050e883')\"\n",
       "              title=\"Convert this dataframe to an interactive table.\"\n",
       "              style=\"display:none;\">\n",
       "        \n",
       "  <svg xmlns=\"http://www.w3.org/2000/svg\" height=\"24px\"viewBox=\"0 0 24 24\"\n",
       "       width=\"24px\">\n",
       "    <path d=\"M0 0h24v24H0V0z\" fill=\"none\"/>\n",
       "    <path d=\"M18.56 5.44l.94 2.06.94-2.06 2.06-.94-2.06-.94-.94-2.06-.94 2.06-2.06.94zm-11 1L8.5 8.5l.94-2.06 2.06-.94-2.06-.94L8.5 2.5l-.94 2.06-2.06.94zm10 10l.94 2.06.94-2.06 2.06-.94-2.06-.94-.94-2.06-.94 2.06-2.06.94z\"/><path d=\"M17.41 7.96l-1.37-1.37c-.4-.4-.92-.59-1.43-.59-.52 0-1.04.2-1.43.59L10.3 9.45l-7.72 7.72c-.78.78-.78 2.05 0 2.83L4 21.41c.39.39.9.59 1.41.59.51 0 1.02-.2 1.41-.59l7.78-7.78 2.81-2.81c.8-.78.8-2.07 0-2.86zM5.41 20L4 18.59l7.72-7.72 1.47 1.35L5.41 20z\"/>\n",
       "  </svg>\n",
       "      </button>\n",
       "      \n",
       "  <style>\n",
       "    .colab-df-container {\n",
       "      display:flex;\n",
       "      flex-wrap:wrap;\n",
       "      gap: 12px;\n",
       "    }\n",
       "\n",
       "    .colab-df-convert {\n",
       "      background-color: #E8F0FE;\n",
       "      border: none;\n",
       "      border-radius: 50%;\n",
       "      cursor: pointer;\n",
       "      display: none;\n",
       "      fill: #1967D2;\n",
       "      height: 32px;\n",
       "      padding: 0 0 0 0;\n",
       "      width: 32px;\n",
       "    }\n",
       "\n",
       "    .colab-df-convert:hover {\n",
       "      background-color: #E2EBFA;\n",
       "      box-shadow: 0px 1px 2px rgba(60, 64, 67, 0.3), 0px 1px 3px 1px rgba(60, 64, 67, 0.15);\n",
       "      fill: #174EA6;\n",
       "    }\n",
       "\n",
       "    [theme=dark] .colab-df-convert {\n",
       "      background-color: #3B4455;\n",
       "      fill: #D2E3FC;\n",
       "    }\n",
       "\n",
       "    [theme=dark] .colab-df-convert:hover {\n",
       "      background-color: #434B5C;\n",
       "      box-shadow: 0px 1px 3px 1px rgba(0, 0, 0, 0.15);\n",
       "      filter: drop-shadow(0px 1px 2px rgba(0, 0, 0, 0.3));\n",
       "      fill: #FFFFFF;\n",
       "    }\n",
       "  </style>\n",
       "\n",
       "      <script>\n",
       "        const buttonEl =\n",
       "          document.querySelector('#df-13f6b95b-c929-4f67-9632-ebc6d050e883 button.colab-df-convert');\n",
       "        buttonEl.style.display =\n",
       "          google.colab.kernel.accessAllowed ? 'block' : 'none';\n",
       "\n",
       "        async function convertToInteractive(key) {\n",
       "          const element = document.querySelector('#df-13f6b95b-c929-4f67-9632-ebc6d050e883');\n",
       "          const dataTable =\n",
       "            await google.colab.kernel.invokeFunction('convertToInteractive',\n",
       "                                                     [key], {});\n",
       "          if (!dataTable) return;\n",
       "\n",
       "          const docLinkHtml = 'Like what you see? Visit the ' +\n",
       "            '<a target=\"_blank\" href=https://colab.research.google.com/notebooks/data_table.ipynb>data table notebook</a>'\n",
       "            + ' to learn more about interactive tables.';\n",
       "          element.innerHTML = '';\n",
       "          dataTable['output_type'] = 'display_data';\n",
       "          await google.colab.output.renderOutput(dataTable, element);\n",
       "          const docLink = document.createElement('div');\n",
       "          docLink.innerHTML = docLinkHtml;\n",
       "          element.appendChild(docLink);\n",
       "        }\n",
       "      </script>\n",
       "    </div>\n",
       "  </div>\n",
       "  "
      ],
      "text/plain": [
       "                                               features  labels  count\n",
       "3452  vp of retail, usa responsible for the manageme...       3    478\n",
       "3732  brand manager, adult nutrition business unit o...       3    758\n",
       "2399  purchasing agent salary $70,304.00 - $98,425.6...       2    257\n",
       "2486  production supervisor (bilingual) summary the ...       2    400\n",
       "302   production weekender ($33.425/hr) budweiser. b...       0    442"
      ]
     },
     "execution_count": 134,
     "metadata": {},
     "output_type": "execute_result"
    }
   ],
   "source": [
    "#df_big_train.drop(['count'], axis=1, inplace=True)\n",
    "df_big_train.head(5)"
   ]
  },
  {
   "cell_type": "markdown",
   "metadata": {
    "id": "60PPWwKpVk9X"
   },
   "source": [
    "**SVM**"
   ]
  },
  {
   "cell_type": "markdown",
   "metadata": {
    "id": "S4qczUDPS6zX"
   },
   "source": [
    "We can try a couple of classic models from scikit first, also to have an additional idea of how well our BERT model performs in comparison, so we have a better estimate than just trying to beat a .25 accuracy, which we would approximately get if we just guessed each class."
   ]
  },
  {
   "cell_type": "code",
   "execution_count": 137,
   "metadata": {
    "executionInfo": {
     "elapsed": 333,
     "status": "ok",
     "timestamp": 1640279593449,
     "user": {
      "displayName": "pling",
      "photoUrl": "https://lh3.googleusercontent.com/a/default-user=s64",
      "userId": "02620778565141551161"
     },
     "user_tz": -60
    },
    "id": "U7taZljuYIBF"
   },
   "outputs": [],
   "source": [
    "#Code from: https://medium.com/swlh/multi-class-text-classification-using-scikit-learn-a9bacb751048\n",
    "from sklearn.model_selection import train_test_split\n",
    "from sklearn.feature_extraction.text import CountVectorizer\n",
    "from sklearn.feature_extraction.text import TfidfTransformer\n",
    "#from sklearn.naive_bayes import MultinomialNBfrom \n",
    "from sklearn.feature_extraction.text import TfidfVectorizer\n",
    "import pandas  as pd\n",
    "from io import StringIO\n",
    "from sklearn.linear_model import LogisticRegression\n",
    "from sklearn.ensemble import RandomForestClassifier\n",
    "#from sklearn.naive_bayes import MultinomialNB\n",
    "from sklearn.svm import LinearSVC\n",
    "from sklearn.model_selection import train_test_split\n",
    "from sklearn import metrics"
   ]
  },
  {
   "cell_type": "code",
   "execution_count": 138,
   "metadata": {
    "executionInfo": {
     "elapsed": 3,
     "status": "ok",
     "timestamp": 1640279593680,
     "user": {
      "displayName": "pling",
      "photoUrl": "https://lh3.googleusercontent.com/a/default-user=s64",
      "userId": "02620778565141551161"
     },
     "user_tz": -60
    },
    "id": "sKEU40lSYH5d"
   },
   "outputs": [],
   "source": [
    "labels = df.labels"
   ]
  },
  {
   "cell_type": "code",
   "execution_count": 139,
   "metadata": {
    "executionInfo": {
     "elapsed": 912,
     "status": "ok",
     "timestamp": 1640279594817,
     "user": {
      "displayName": "pling",
      "photoUrl": "https://lh3.googleusercontent.com/a/default-user=s64",
      "userId": "02620778565141551161"
     },
     "user_tz": -60
    },
    "id": "DhGNabjeVmVR"
   },
   "outputs": [],
   "source": [
    "tfidf = TfidfVectorizer(sublinear_tf=True, min_df=5, norm='l2', encoding='latin-1', \n",
    "                        ngram_range=(1, 2), stop_words='english')\n",
    "features = tfidf.fit_transform(df.features).toarray()"
   ]
  },
  {
   "cell_type": "code",
   "execution_count": 140,
   "metadata": {
    "colab": {
     "base_uri": "https://localhost:8080/"
    },
    "executionInfo": {
     "elapsed": 35,
     "status": "ok",
     "timestamp": 1640279594819,
     "user": {
      "displayName": "pling",
      "photoUrl": "https://lh3.googleusercontent.com/a/default-user=s64",
      "userId": "02620778565141551161"
     },
     "user_tz": -60
    },
    "id": "7TLteOyCXxs9",
    "outputId": "e5e32bde-0032-4b09-8945-6c1899495720"
   },
   "outputs": [
    {
     "data": {
      "text/plain": [
       "6253"
      ]
     },
     "execution_count": 140,
     "metadata": {},
     "output_type": "execute_result"
    }
   ],
   "source": [
    "len(features)"
   ]
  },
  {
   "cell_type": "code",
   "execution_count": 141,
   "metadata": {
    "executionInfo": {
     "elapsed": 29,
     "status": "ok",
     "timestamp": 1640279594820,
     "user": {
      "displayName": "pling",
      "photoUrl": "https://lh3.googleusercontent.com/a/default-user=s64",
      "userId": "02620778565141551161"
     },
     "user_tz": -60
    },
    "id": "nLj-b8ccUEav"
   },
   "outputs": [],
   "source": [
    "count_vect = CountVectorizer()\n",
    "X_train_counts = count_vect.fit_transform(df.features)\n",
    "tfidf_transformer = TfidfTransformer()\n",
    "X_train_tfidf = tfidf_transformer.fit_transform(X_train_counts)"
   ]
  },
  {
   "cell_type": "code",
   "execution_count": 142,
   "metadata": {
    "colab": {
     "base_uri": "https://localhost:8080/"
    },
    "executionInfo": {
     "elapsed": 139521,
     "status": "ok",
     "timestamp": 1640279734316,
     "user": {
      "displayName": "pling",
      "photoUrl": "https://lh3.googleusercontent.com/a/default-user=s64",
      "userId": "02620778565141551161"
     },
     "user_tz": -60
    },
    "id": "ZA6zZs64Vmc0",
    "outputId": "2ec8902e-70f6-42f3-b255-befdf3b79597"
   },
   "outputs": [
    {
     "name": "stdout",
     "output_type": "stream",
     "text": [
      "START RandomForestClassifier(max_depth=3, n_estimators=200, random_state=0)\n",
      "FOLD: 0\n",
      "FOLD: 1\n",
      "FOLD: 2\n",
      "FOLD: 3\n",
      "FOLD: 4\n",
      "FOLD: 5\n",
      "FOLD: 6\n",
      "FOLD: 7\n",
      "FOLD: 8\n",
      "FOLD: 9\n",
      "START LinearSVC()\n",
      "FOLD: 0\n",
      "FOLD: 1\n",
      "FOLD: 2\n",
      "FOLD: 3\n",
      "FOLD: 4\n",
      "FOLD: 5\n",
      "FOLD: 6\n",
      "FOLD: 7\n",
      "FOLD: 8\n",
      "FOLD: 9\n",
      "START LogisticRegression(random_state=0)\n",
      "FOLD: 0\n",
      "FOLD: 1\n",
      "FOLD: 2\n",
      "FOLD: 3\n",
      "FOLD: 4\n",
      "FOLD: 5\n",
      "FOLD: 6\n",
      "FOLD: 7\n",
      "FOLD: 8\n",
      "FOLD: 9\n"
     ]
    }
   ],
   "source": [
    "from sklearn.model_selection import cross_val_score\n",
    "models = [RandomForestClassifier(n_estimators=200, max_depth=3, random_state=0),\n",
    "          LinearSVC(),#Linear Support Vector Classification.\n",
    "          LogisticRegression(random_state=0),\n",
    "         ]\n",
    "CV = 10\n",
    "cv_df = pd.DataFrame(index=range(CV * len(models)))\n",
    "entries = []\n",
    "for model in models:\n",
    "    print(\"START\", model)\n",
    "    model_name = model.__class__.__name__\n",
    "    accuracies = cross_val_score(model, features, labels, scoring='accuracy', cv=CV, n_jobs=-1, verbose=0)\n",
    "    for fold_idx, accuracy in enumerate(accuracies):\n",
    "        print(\"FOLD:\", fold_idx)\n",
    "        entries.append((model_name, fold_idx, accuracy))\n",
    "cv_df = pd.DataFrame(entries, columns=['model_name', 'fold_idx', 'accuracy'])"
   ]
  },
  {
   "cell_type": "code",
   "execution_count": 143,
   "metadata": {
    "colab": {
     "base_uri": "https://localhost:8080/"
    },
    "executionInfo": {
     "elapsed": 37,
     "status": "ok",
     "timestamp": 1640279734319,
     "user": {
      "displayName": "pling",
      "photoUrl": "https://lh3.googleusercontent.com/a/default-user=s64",
      "userId": "02620778565141551161"
     },
     "user_tz": -60
    },
    "id": "Qn_MHaSOVmfz",
    "outputId": "8c9d67ce-321c-45da-941f-4bd6e0445a02"
   },
   "outputs": [
    {
     "data": {
      "text/plain": [
       "model_name\n",
       "LinearSVC                 0.821062\n",
       "LogisticRegression        0.823457\n",
       "RandomForestClassifier    0.648017\n",
       "Name: accuracy, dtype: float64"
      ]
     },
     "execution_count": 143,
     "metadata": {},
     "output_type": "execute_result"
    }
   ],
   "source": [
    "cv_df.groupby('model_name').accuracy.mean()"
   ]
  },
  {
   "cell_type": "code",
   "execution_count": 144,
   "metadata": {
    "colab": {
     "base_uri": "https://localhost:8080/"
    },
    "executionInfo": {
     "elapsed": 32,
     "status": "ok",
     "timestamp": 1640279734322,
     "user": {
      "displayName": "pling",
      "photoUrl": "https://lh3.googleusercontent.com/a/default-user=s64",
      "userId": "02620778565141551161"
     },
     "user_tz": -60
    },
    "id": "gPMyTaw8Yjh5",
    "outputId": "5c48cee7-264d-4e3b-e7aa-4fa6c110e12e"
   },
   "outputs": [
    {
     "data": {
      "text/plain": [
       "['entry level', 'internship', 'mid level', 'senior level']"
      ]
     },
     "execution_count": 144,
     "metadata": {},
     "output_type": "execute_result"
    }
   ],
   "source": [
    "uniques"
   ]
  },
  {
   "cell_type": "code",
   "execution_count": 145,
   "metadata": {
    "executionInfo": {
     "elapsed": 293,
     "status": "ok",
     "timestamp": 1640279734596,
     "user": {
      "displayName": "pling",
      "photoUrl": "https://lh3.googleusercontent.com/a/default-user=s64",
      "userId": "02620778565141551161"
     },
     "user_tz": -60
    },
    "id": "_xOm6PMWVmjO"
   },
   "outputs": [],
   "source": [
    "model = LinearSVC()\n",
    "X_train, X_test, y_train, y_test, indices_train, indices_test = train_test_split(features, labels, df.index, test_size=0.33, random_state=0)\n",
    "model.fit(X_train, y_train)\n",
    "y_pred = model.predict(X_test)"
   ]
  },
  {
   "cell_type": "markdown",
   "metadata": {
    "id": "-TYCQYSgyqN2"
   },
   "source": [
    "On our own test set we can reach accuracies of around .8, which we will hopefully beat with BERT."
   ]
  },
  {
   "cell_type": "code",
   "execution_count": 146,
   "metadata": {
    "colab": {
     "base_uri": "https://localhost:8080/"
    },
    "executionInfo": {
     "elapsed": 14,
     "status": "ok",
     "timestamp": 1640279734598,
     "user": {
      "displayName": "pling",
      "photoUrl": "https://lh3.googleusercontent.com/a/default-user=s64",
      "userId": "02620778565141551161"
     },
     "user_tz": -60
    },
    "id": "5zqv8qy0VmmP",
    "outputId": "c79db993-d9b0-46e2-c5be-d8877632749b"
   },
   "outputs": [
    {
     "name": "stdout",
     "output_type": "stream",
     "text": [
      "              precision    recall  f1-score   support\n",
      "\n",
      " entry level       0.80      0.82      0.81       544\n",
      "  internship       1.00      0.99      0.99       604\n",
      "   mid level       0.62      0.64      0.63       412\n",
      "senior level       0.82      0.78      0.80       504\n",
      "\n",
      "    accuracy                           0.83      2064\n",
      "   macro avg       0.81      0.81      0.81      2064\n",
      "weighted avg       0.83      0.83      0.83      2064\n",
      "\n"
     ]
    }
   ],
   "source": [
    "print(metrics.classification_report(y_test, y_pred, target_names=uniques))"
   ]
  },
  {
   "cell_type": "markdown",
   "metadata": {
    "id": "OtMK_V_9tZ38"
   },
   "source": [
    "**7. Abschnitt: BERT - Imports und Funktionen** ================================================================================================================"
   ]
  },
  {
   "cell_type": "markdown",
   "metadata": {
    "id": "zusEBOoMcstU"
   },
   "source": [
    "Schließlich installieren wir Transformers importieren die notwendigen Libraries und bereiten die Funktionen für das Training vor. Wie schon geschrieben beruht der Code vor allem auf McCormicks."
   ]
  },
  {
   "cell_type": "code",
   "execution_count": 147,
   "metadata": {
    "colab": {
     "base_uri": "https://localhost:8080/"
    },
    "executionInfo": {
     "elapsed": 8183,
     "status": "ok",
     "timestamp": 1640279742774,
     "user": {
      "displayName": "pling",
      "photoUrl": "https://lh3.googleusercontent.com/a/default-user=s64",
      "userId": "02620778565141551161"
     },
     "user_tz": -60
    },
    "id": "tJOttiVARl_6",
    "outputId": "546b3274-e563-4139-dbfb-9ca971b74d75"
   },
   "outputs": [
    {
     "name": "stdout",
     "output_type": "stream",
     "text": [
      "Collecting transformers\n",
      "  Downloading transformers-4.15.0-py3-none-any.whl (3.4 MB)\n",
      "\u001b[K     |████████████████████████████████| 3.4 MB 5.2 MB/s \n",
      "\u001b[?25hCollecting pyyaml>=5.1\n",
      "  Downloading PyYAML-6.0-cp37-cp37m-manylinux_2_5_x86_64.manylinux1_x86_64.manylinux_2_12_x86_64.manylinux2010_x86_64.whl (596 kB)\n",
      "\u001b[K     |████████████████████████████████| 596 kB 48.4 MB/s \n",
      "\u001b[?25hCollecting sacremoses\n",
      "  Downloading sacremoses-0.0.46-py3-none-any.whl (895 kB)\n",
      "\u001b[K     |████████████████████████████████| 895 kB 44.7 MB/s \n",
      "\u001b[?25hCollecting tokenizers<0.11,>=0.10.1\n",
      "  Downloading tokenizers-0.10.3-cp37-cp37m-manylinux_2_5_x86_64.manylinux1_x86_64.manylinux_2_12_x86_64.manylinux2010_x86_64.whl (3.3 MB)\n",
      "\u001b[K     |████████████████████████████████| 3.3 MB 37.3 MB/s \n",
      "\u001b[?25hRequirement already satisfied: regex!=2019.12.17 in /usr/local/lib/python3.7/dist-packages (from transformers) (2019.12.20)\n",
      "Requirement already satisfied: tqdm>=4.27 in /usr/local/lib/python3.7/dist-packages (from transformers) (4.62.3)\n",
      "Requirement already satisfied: numpy>=1.17 in /usr/local/lib/python3.7/dist-packages (from transformers) (1.19.5)\n",
      "Collecting huggingface-hub<1.0,>=0.1.0\n",
      "  Downloading huggingface_hub-0.2.1-py3-none-any.whl (61 kB)\n",
      "\u001b[K     |████████████████████████████████| 61 kB 531 kB/s \n",
      "\u001b[?25hRequirement already satisfied: filelock in /usr/local/lib/python3.7/dist-packages (from transformers) (3.4.0)\n",
      "Requirement already satisfied: requests in /usr/local/lib/python3.7/dist-packages (from transformers) (2.23.0)\n",
      "Requirement already satisfied: importlib-metadata in /usr/local/lib/python3.7/dist-packages (from transformers) (4.8.2)\n",
      "Requirement already satisfied: packaging>=20.0 in /usr/local/lib/python3.7/dist-packages (from transformers) (21.3)\n",
      "Requirement already satisfied: typing-extensions>=3.7.4.3 in /usr/local/lib/python3.7/dist-packages (from huggingface-hub<1.0,>=0.1.0->transformers) (3.10.0.2)\n",
      "Requirement already satisfied: pyparsing!=3.0.5,>=2.0.2 in /usr/local/lib/python3.7/dist-packages (from packaging>=20.0->transformers) (3.0.6)\n",
      "Requirement already satisfied: zipp>=0.5 in /usr/local/lib/python3.7/dist-packages (from importlib-metadata->transformers) (3.6.0)\n",
      "Requirement already satisfied: certifi>=2017.4.17 in /usr/local/lib/python3.7/dist-packages (from requests->transformers) (2021.10.8)\n",
      "Requirement already satisfied: urllib3!=1.25.0,!=1.25.1,<1.26,>=1.21.1 in /usr/local/lib/python3.7/dist-packages (from requests->transformers) (1.24.3)\n",
      "Requirement already satisfied: chardet<4,>=3.0.2 in /usr/local/lib/python3.7/dist-packages (from requests->transformers) (3.0.4)\n",
      "Requirement already satisfied: idna<3,>=2.5 in /usr/local/lib/python3.7/dist-packages (from requests->transformers) (2.10)\n",
      "Requirement already satisfied: click in /usr/local/lib/python3.7/dist-packages (from sacremoses->transformers) (7.1.2)\n",
      "Requirement already satisfied: joblib in /usr/local/lib/python3.7/dist-packages (from sacremoses->transformers) (1.1.0)\n",
      "Requirement already satisfied: six in /usr/local/lib/python3.7/dist-packages (from sacremoses->transformers) (1.15.0)\n",
      "Installing collected packages: pyyaml, tokenizers, sacremoses, huggingface-hub, transformers\n",
      "  Attempting uninstall: pyyaml\n",
      "    Found existing installation: PyYAML 3.13\n",
      "    Uninstalling PyYAML-3.13:\n",
      "      Successfully uninstalled PyYAML-3.13\n",
      "Successfully installed huggingface-hub-0.2.1 pyyaml-6.0 sacremoses-0.0.46 tokenizers-0.10.3 transformers-4.15.0\n"
     ]
    }
   ],
   "source": [
    "!pip install transformers"
   ]
  },
  {
   "cell_type": "code",
   "execution_count": 148,
   "metadata": {
    "executionInfo": {
     "elapsed": 17,
     "status": "ok",
     "timestamp": 1640279742776,
     "user": {
      "displayName": "pling",
      "photoUrl": "https://lh3.googleusercontent.com/a/default-user=s64",
      "userId": "02620778565141551161"
     },
     "user_tz": -60
    },
    "id": "ax5wNP9kUcrA"
   },
   "outputs": [],
   "source": [
    "import os\n",
    "os.environ['CUDA_LAUNCH_BLOCKING'] = \"1\""
   ]
  },
  {
   "cell_type": "code",
   "execution_count": 149,
   "metadata": {
    "executionInfo": {
     "elapsed": 9285,
     "status": "ok",
     "timestamp": 1640279752048,
     "user": {
      "displayName": "pling",
      "photoUrl": "https://lh3.googleusercontent.com/a/default-user=s64",
      "userId": "02620778565141551161"
     },
     "user_tz": -60
    },
    "id": "8SwEIrreDhr8"
   },
   "outputs": [],
   "source": [
    "import time\n",
    "import datetime\n",
    "import random\n",
    "import tensorflow as tf\n",
    "import torch\n",
    "from sklearn.model_selection import train_test_split\n",
    "from transformers import BertTokenizer\n",
    "from torch.utils.data import TensorDataset, random_split\n",
    "from torch.utils.data import DataLoader, RandomSampler, SequentialSampler\n",
    "from transformers import BertForSequenceClassification, AdamW, BertConfig\n",
    "from transformers import get_linear_schedule_with_warmup"
   ]
  },
  {
   "cell_type": "code",
   "execution_count": 150,
   "metadata": {
    "executionInfo": {
     "elapsed": 13,
     "status": "ok",
     "timestamp": 1640279752049,
     "user": {
      "displayName": "pling",
      "photoUrl": "https://lh3.googleusercontent.com/a/default-user=s64",
      "userId": "02620778565141551161"
     },
     "user_tz": -60
    },
    "id": "ahBJWU--JGjN"
   },
   "outputs": [],
   "source": [
    "# Function to calculate the accuracy of our predictions vs labels\n",
    "def flat_accuracy(preds, labels):\n",
    "    pred_flat = np.argmax(preds, axis=1).flatten()\n",
    "    labels_flat = labels.flatten()\n",
    "    return np.sum(pred_flat == labels_flat) / len(labels_flat)\n",
    "\n",
    "def format_time(elapsed):\n",
    "    #Takes a time in seconds and returns a string hh:mm:ss\n",
    "    # Round to the nearest second.\n",
    "    elapsed_rounded = int(round((elapsed)))\n",
    "    # Format as hh:mm:ss\n",
    "    return str(datetime.timedelta(seconds=elapsed_rounded))"
   ]
  },
  {
   "cell_type": "markdown",
   "metadata": {
    "id": "VkUl9KLQftTb"
   },
   "source": [
    "Beim Training gab es verschiedene Herausforderungen. So gibt Colab öfter einen \"RuntimeError: CUDA out of memory.\" aus, bei dem das genaue Problem oftmals unklar ist. Daher wurde einmal eine clean_cuda()-Funktion (unten) erstellt, die nach einigen Trainings ausgeführt wird, um Platz frei zu machen. Da diese das Problem auch nicht immer löst, wurde außerdem nach einer Empfehlung auf Stackoverflow die batch_size verringert (https://stackoverflow.com/questions/59789059/gpu-out-of-memory-error-message-on-google-colab), wobei bei einer batch_size = 8 kaum noch Probleme auftraten. Der Nachteil hierbei ist natürlich, dass dadurch ein Hyperparameter, der eigentlich auf 16 gelassen werden sollte, manipuliert wird. Weiterhin scheint der CUDA Error auch aufzutreten, wenn im Training Set Klassen nicht auftauchen, die im im Validationsset enthalten sind. Daher wurde dafür dieselbe Funktion hinzugefügt, die den Train-Val-Split so oft durchführt, bis die Klassenaufteilung passt, wie schon beim Train Test Split.\n"
   ]
  },
  {
   "cell_type": "code",
   "execution_count": 151,
   "metadata": {
    "executionInfo": {
     "elapsed": 2122,
     "status": "ok",
     "timestamp": 1640279754160,
     "user": {
      "displayName": "pling",
      "photoUrl": "https://lh3.googleusercontent.com/a/default-user=s64",
      "userId": "02620778565141551161"
     },
     "user_tz": -60
    },
    "id": "V68axNzAuGuH"
   },
   "outputs": [],
   "source": [
    "#TRAIN FUNCTION\n",
    "import random\n",
    "def train_net(df, example_sentence=1, train_split_value=0.9, batch_size = 8, epochs = 3, model_name=\"bert-base-uncased\", lr = 2e-5, eps = 1e-8):\n",
    "\n",
    "    # The DataLoader needs to know our batch size for training, so we specify it \n",
    "    # here. For fine-tuning BERT on a specific task, the authors recommend a batch \n",
    "    # size of 16 or 32.\n",
    "    #batch_size = 16 -> Wir benutzen 8 um CUDA errors zu vermeiden.\n",
    "\n",
    "  # Get the GPU device name.\n",
    "  device_name = tf.test.gpu_device_name()\n",
    "  # The device name should look like the following:\n",
    "  if device_name == '/device:GPU:0':\n",
    "      print('Found GPU at: {}'.format(device_name))\n",
    "  else:\n",
    "      raise SystemError('GPU device not found')\n",
    "\n",
    "  # If there's a GPU available...\n",
    "  if torch.cuda.is_available():    \n",
    "      # Tell PyTorch to use the GPU.    \n",
    "      device = torch.device(\"cuda\")\n",
    "      print('There are %d GPU(s) available.' % torch.cuda.device_count())\n",
    "      print('We will use the GPU:', torch.cuda.get_device_name(0))\n",
    "  # If not...\n",
    "  else:\n",
    "      print('No GPU available, using the CPU instead.')\n",
    "      device = torch.device(\"cpu\")\n",
    "  \n",
    "  # Load the BERT tokenizer.\n",
    "  print('Loading BERT tokenizer...')\n",
    "  #choose cased or uncased bert -> uncased without capital letters\n",
    "  tokenizer = BertTokenizer.from_pretrained(model_name, do_lower_case=True)\n",
    "    \n",
    "  #rename columns (make sure df passed only has two)\n",
    "  df = df.rename(columns={df.columns[0]: \"features\", df.columns[1]: \"labels\"})\n",
    "  print(df.head())\n",
    "  \n",
    "  keep_in_train = False\n",
    "\n",
    "  #train test split mit randomized random_state search, wo das die validation set labels\n",
    "  #alle im training set enthalten sind\n",
    "  while keep_in_train == False:\n",
    "    i= random.randint(0,1000)\n",
    "    df_train, df_keep = train_test_split(df, test_size=0.1, random_state=i)\n",
    "    A = df_train.labels.unique()\n",
    "    B = df_keep.labels.unique()\n",
    "    if set(B).issubset(set(A)):\n",
    "      print(\"random_state\", i, \"is good\")\n",
    "      print(\"Df Train Labels:\", df_train.labels.unique(), \"Total:\", len(df_train.labels.unique()))\n",
    "      print(\"Df Keep Labels:\", df_keep.labels.unique(), \"Total:\", len(df_keep.labels.unique()))\n",
    "      keep_in_train = True\n",
    "\n",
    "  print(\"random_state chosen:\", i)\n",
    "\n",
    "  #split df to arrays\n",
    "  sentences = df_train.features.values\n",
    "  labels = df_train.labels.values\n",
    "  print(\"Sentences:\", len(sentences))\n",
    "  print(\"Labels:\", len(labels))\n",
    "  print(\"Batch_size:\", batch_size)\n",
    "\n",
    "  #print example sentences\n",
    "  # Print the original sentence.\n",
    "  print(' Original: ', sentences[example_sentence])\n",
    "  # Print the sentence split into tokens.\n",
    "  print('Tokenized: ', tokenizer.tokenize(sentences[example_sentence]))\n",
    "  # Print the sentence mapped to token ids.\n",
    "  print('Token IDs: ', tokenizer.convert_tokens_to_ids(tokenizer.tokenize(sentences[example_sentence])))\n",
    "\n",
    "  max_len = 0\n",
    "  # For every sentence...\n",
    "  for sent in sentences:\n",
    "      # Tokenize the text and add `[CLS]` and `[SEP]` tokens.\n",
    "      input_ids = tokenizer.encode(sent, add_special_tokens=True)\n",
    "      # Update the maximum sentence length.\n",
    "      max_len = max(max_len, len(input_ids))\n",
    "  print('Max sentence length: ', max_len)\n",
    "\n",
    "  # Tokenize all of the sentences and map the tokens to their word IDs.\n",
    "  input_ids = []\n",
    "  attention_masks = []\n",
    "\n",
    "  # For every sentence...\n",
    "  for sent in sentences:\n",
    "      # `encode_plus` will:\n",
    "      #   (1) Tokenize the sentence.\n",
    "      #   (2) Prepend the `[CLS]` token to the start.\n",
    "      #   (3) Append the `[SEP]` token to the end.\n",
    "      #   (4) Map tokens to their IDs.\n",
    "      #   (5) Pad or truncate the sentence to `max_length`\n",
    "      #   (6) Create attention masks for [PAD] tokens.\n",
    "      encoded_dict = tokenizer.encode_plus(\n",
    "                          sent,                           # Sentence to encode.\n",
    "                          add_special_tokens = True,      # Add '[CLS]' and '[SEP]'\n",
    "                          max_length = 512,               # Pad & truncate all sentences.        \n",
    "                          pad_to_max_length = True,\n",
    "                          return_attention_mask = True,   # Construct attn. masks.\n",
    "                          return_tensors = 'pt',          # Return pytorch tensors.\n",
    "                    )\n",
    "      \n",
    "      # Add the encoded sentence to the list.    \n",
    "      input_ids.append(encoded_dict['input_ids'])\n",
    "      \n",
    "      # And its attention mask (simply differentiates padding from non-padding).\n",
    "      attention_masks.append(encoded_dict['attention_mask'])\n",
    "\n",
    "  # Convert the lists into tensors.\n",
    "  input_ids = torch.cat(input_ids, dim=0)\n",
    "  attention_masks = torch.cat(attention_masks, dim=0)\n",
    "  labels = torch.tensor(labels)\n",
    "\n",
    "  #Print sentence 0, now as a list of IDs.\n",
    "  #print('Original: ', sentences[0])\n",
    "  #print('Token IDs:', input_ids[0])\n",
    "\n",
    "  # Combine the training inputs into a TensorDataset.\n",
    "  dataset = TensorDataset(input_ids, attention_masks, labels)\n",
    "\n",
    "  # Create train-validation split.\n",
    "  # Calculate the number of samples to include in each set.\n",
    "  \n",
    "  train_size = int(train_split_value * len(dataset))\n",
    "  val_size = len(dataset) - train_size\n",
    "\n",
    "  # Divide the dataset by randomly selecting samples.\n",
    "  train_dataset, val_dataset = random_split(dataset, [train_size, val_size])\n",
    "\n",
    "  print('{:>5,} training samples'.format(train_size))\n",
    "  print('{:>5,} validation samples'.format(val_size))\n",
    "\n",
    "  # Create the DataLoaders for our training and validation sets.\n",
    "  # We'll take training samples in random order. \n",
    "  train_dataloader = DataLoader(\n",
    "              train_dataset,  # The training samples.\n",
    "              sampler = RandomSampler(train_dataset), # Select batches randomly\n",
    "              batch_size = batch_size # Trains with this batch size.\n",
    "          )\n",
    "\n",
    "  # For validation the order doesn't matter, so we'll just read them sequentially.\n",
    "  validation_dataloader = DataLoader(\n",
    "              val_dataset, # The validation samples.\n",
    "              sampler = SequentialSampler(val_dataset), # Pull out batches sequentially.\n",
    "              batch_size = batch_size # Evaluate with this batch size.\n",
    "          )\n",
    "  \n",
    "  # Load BertForSequenceClassification, the pretrained BERT model with a single \n",
    "  # linear classification layer on top. \n",
    "\n",
    "  from transformers import BertForSequenceClassification, AdamW, BertConfig\n",
    "\n",
    "  # Load BertForSequenceClassification, the pretrained BERT model with a single \n",
    "  # linear classification layer on top. \n",
    "  model = BertForSequenceClassification.from_pretrained(\n",
    "      model_name,   # Use the 12-layer BERT model, with an uncased vocab.\n",
    "      num_labels = len(labels.unique()),  # The number of output labels--2 for binary classification.\n",
    "                                          # You can increase this for multi-class tasks.   \n",
    "      output_attentions = False,          # Whether the model returns attentions weights.\n",
    "      output_hidden_states = False,       # Whether the model returns all hidden-states.\n",
    "  )\n",
    "\n",
    "  # Tell pytorch to run this model on the GPU.\n",
    "  model.cuda()\n",
    "\n",
    "  # Get all of the model's parameters as a list of tuples.\n",
    "  params = list(model.named_parameters())\n",
    "  print('The BERT model has {:} different named parameters.\\n'.format(len(params)))\n",
    "  print('==== Embedding Layer ====\\n')\n",
    "  for p in params[0:5]:\n",
    "      print(\"{:<55} {:>12}\".format(p[0], str(tuple(p[1].size()))))\n",
    "  print('\\n==== First Transformer ====\\n')\n",
    "  for p in params[5:21]:\n",
    "      print(\"{:<55} {:>12}\".format(p[0], str(tuple(p[1].size()))))\n",
    "  print('\\n==== Output Layer ====\\n')\n",
    "  for p in params[-4:]:\n",
    "      print(\"{:<55} {:>12}\".format(p[0], str(tuple(p[1].size()))))\n",
    "\n",
    "  # Note: AdamW is a class from the huggingface library (as opposed to pytorch) \n",
    "  # I believe the 'W' stands for 'Weight Decay fix\"\n",
    "  optimizer = AdamW(model.parameters(),\n",
    "                    lr = lr, # args.learning_rate - default is 5e-5, our notebook had 2e-5\n",
    "                    eps = eps # args.adam_epsilon  - default is 1e-8.\n",
    "                  )\n",
    "\n",
    "  # Number of training epochs. The BERT authors recommend between 2 and 4. \n",
    "  # We chose to run for 4, but we'll see later that this may be over-fitting the\n",
    "  # training data.\n",
    "  #epochs = 3\n",
    "\n",
    "  # Total number of training steps is [number of batches] x [number of epochs]. \n",
    "  # (Note that this is not the same as the number of training samples).\n",
    "  total_steps = len(train_dataloader) * epochs\n",
    "\n",
    "  # Create the learning rate scheduler.\n",
    "  scheduler = get_linear_schedule_with_warmup(optimizer, \n",
    "                                              num_warmup_steps = 0, # Default value in run_glue.py\n",
    "                                              num_training_steps = total_steps)\n",
    "\n",
    "  # This training code is based on the `run_glue.py` script here:\n",
    "  # https://github.com/huggingface/transformers/blob/5bfcd0485ece086ebcbed2d008813037968a9e58/examples/run_glue.py#L128\n",
    "\n",
    "  # Set the seed value all over the place to make this reproducible.\n",
    "  seed_val = 42\n",
    "\n",
    "  random.seed(seed_val)\n",
    "  np.random.seed(seed_val)\n",
    "  torch.manual_seed(seed_val)\n",
    "  torch.cuda.manual_seed_all(seed_val)\n",
    "\n",
    "  # We'll store a number of quantities such as training and validation loss, \n",
    "  # validation accuracy, and timings.\n",
    "  training_stats = []\n",
    "\n",
    "  # Measure the total training time for the whole run.\n",
    "  total_t0 = time.time()\n",
    "\n",
    "  # For each epoch...\n",
    "  for epoch_i in range(0, epochs):\n",
    "      \n",
    "      # ========================================================================\n",
    "      #                             Training\n",
    "      # ========================================================================\n",
    "      \n",
    "      # Perform one full pass over the training set.\n",
    "\n",
    "      print(\"\")\n",
    "      print('======== Epoch {:} / {:} ========'.format(epoch_i + 1, epochs))\n",
    "      print('Training...')\n",
    "\n",
    "      # Measure how long the training epoch takes.\n",
    "      t0 = time.time()\n",
    "\n",
    "      # Reset the total loss for this epoch.\n",
    "      total_train_loss = 0\n",
    "\n",
    "      # Put the model into training mode. Don't be mislead--the call to \n",
    "      # `train` just changes the *mode*, it doesn't *perform* the training.\n",
    "      # `dropout` and `batchnorm` layers behave differently during training\n",
    "      # vs. test (source: https://stackoverflow.com/questions/51433378/what-does-model-train-do-in-pytorch)\n",
    "      model.train()\n",
    "\n",
    "      # For each batch of training data...\n",
    "      for step, batch in enumerate(train_dataloader):\n",
    "\n",
    "          # Progress update every 40 batches.\n",
    "          if step % 40 == 0 and not step == 0:\n",
    "              # Calculate elapsed time in minutes.\n",
    "              elapsed = format_time(time.time() - t0)\n",
    "              \n",
    "              # Report progress.\n",
    "              print('  Batch {:>5,}  of  {:>5,}.    Elapsed: {:}.'.format(step, len(train_dataloader), elapsed))\n",
    "\n",
    "          # Unpack this training batch from our dataloader. \n",
    "          #\n",
    "          # As we unpack the batch, we'll also copy each tensor to the GPU using the \n",
    "          # `to` method.\n",
    "          #\n",
    "          # `batch` contains three pytorch tensors:\n",
    "          #   [0]: input ids \n",
    "          #   [1]: attention masks\n",
    "          #   [2]: labels \n",
    "          b_input_ids = batch[0].to(device)\n",
    "          b_input_mask = batch[1].to(device)\n",
    "          b_labels = batch[2].to(device)\n",
    "\n",
    "          # Always clear any previously calculated gradients before performing a\n",
    "          # backward pass. PyTorch doesn't do this automatically because \n",
    "          # accumulating the gradients is \"convenient while training RNNs\". \n",
    "          # (source: https://stackoverflow.com/questions/48001598/why-do-we-need-to-call-zero-grad-in-pytorch)\n",
    "          model.zero_grad()        \n",
    "\n",
    "          # Perform a forward pass (evaluate the model on this training batch).\n",
    "          # In PyTorch, calling `model` will in turn call the model's `forward` \n",
    "          # function and pass down the arguments. The `forward` function is \n",
    "          # documented here: \n",
    "          # https://huggingface.co/transformers/model_doc/bert.html#bertforsequenceclassification\n",
    "          # The results are returned in a results object, documented here:\n",
    "          # https://huggingface.co/transformers/main_classes/output.html#transformers.modeling_outputs.SequenceClassifierOutput\n",
    "          # Specifically, we'll get the loss (because we provided labels) and the\n",
    "          # \"logits\"--the model outputs prior to activation.\n",
    "          result = model(b_input_ids, \n",
    "                        token_type_ids=None, \n",
    "                        attention_mask=b_input_mask, \n",
    "                        labels=b_labels,\n",
    "                        return_dict=True)\n",
    "\n",
    "          loss = result.loss\n",
    "          logits = result.logits\n",
    "\n",
    "          # Accumulate the training loss over all of the batches so that we can\n",
    "          # calculate the average loss at the end. `loss` is a Tensor containing a\n",
    "          # single value; the `.item()` function just returns the Python value \n",
    "          # from the tensor.\n",
    "          total_train_loss += loss.item()\n",
    "\n",
    "          # Perform a backward pass to calculate the gradients.\n",
    "          loss.backward()\n",
    "\n",
    "          # Clip the norm of the gradients to 1.0.\n",
    "          # This is to help prevent the \"exploding gradients\" problem.\n",
    "          torch.nn.utils.clip_grad_norm_(model.parameters(), 1.0)\n",
    "\n",
    "          # Update parameters and take a step using the computed gradient.\n",
    "          # The optimizer dictates the \"update rule\"--how the parameters are\n",
    "          # modified based on their gradients, the learning rate, etc.\n",
    "          optimizer.step()\n",
    "\n",
    "          # Update the learning rate.\n",
    "          scheduler.step()\n",
    "\n",
    "      # Calculate the average loss over all of the batches.\n",
    "      avg_train_loss = total_train_loss / len(train_dataloader)            \n",
    "      \n",
    "      # Measure how long this epoch took.\n",
    "      training_time = format_time(time.time() - t0)\n",
    "\n",
    "      print(\"\")\n",
    "      print(\"  Average training loss: {0:.2f}\".format(avg_train_loss))\n",
    "      print(\"  Training epoch took: {:}\".format(training_time))\n",
    "          \n",
    "      # ========================================================================\n",
    "      #                             Validation\n",
    "      # ========================================================================\n",
    "      # After the completion of each training epoch, measure our performance on\n",
    "      # our validation set.\n",
    "\n",
    "      print(\"\")\n",
    "      print(\"Running Validation...\")\n",
    "\n",
    "      t0 = time.time()\n",
    "\n",
    "      # Put the model in evaluation mode--the dropout layers behave differently\n",
    "      # during evaluation.\n",
    "      model.eval()\n",
    "\n",
    "      # Tracking variables \n",
    "      total_eval_accuracy = 0\n",
    "      total_eval_loss = 0\n",
    "      nb_eval_steps = 0\n",
    "\n",
    "      # Evaluate data for one epoch\n",
    "      for batch in validation_dataloader:\n",
    "          \n",
    "          # Unpack this training batch from our dataloader. \n",
    "          #\n",
    "          # As we unpack the batch, we'll also copy each tensor to the GPU using \n",
    "          # the `to` method.\n",
    "          #\n",
    "          # `batch` contains three pytorch tensors:\n",
    "          #   [0]: input ids \n",
    "          #   [1]: attention masks\n",
    "          #   [2]: labels \n",
    "          b_input_ids = batch[0].to(device)\n",
    "          b_input_mask = batch[1].to(device)\n",
    "          b_labels = batch[2].to(device)\n",
    "          \n",
    "          # Tell pytorch not to bother with constructing the compute graph during\n",
    "          # the forward pass, since this is only needed for backprop (training).\n",
    "          with torch.no_grad():        \n",
    "\n",
    "              # Forward pass, calculate logit predictions.\n",
    "              # token_type_ids is the same as the \"segment ids\", which \n",
    "              # differentiates sentence 1 and 2 in 2-sentence tasks.\n",
    "              result = model(b_input_ids, \n",
    "                            token_type_ids=None, \n",
    "                            attention_mask=b_input_mask,\n",
    "                            labels=b_labels,\n",
    "                            return_dict=True)\n",
    "\n",
    "          # Get the loss and \"logits\" output by the model. The \"logits\" are the \n",
    "          # output values prior to applying an activation function like the \n",
    "          # softmax.\n",
    "          loss = result.loss\n",
    "          logits = result.logits\n",
    "          # Accumulate the validation loss.\n",
    "          total_eval_loss += loss.item()\n",
    "          # Move logits and labels to CPU\n",
    "          logits = logits.detach().cpu().numpy()\n",
    "          label_ids = b_labels.to('cpu').numpy()\n",
    "          # Calculate the accuracy for this batch of test sentences, and\n",
    "          # accumulate it over all batches.\n",
    "          total_eval_accuracy += flat_accuracy(logits, label_ids)\n",
    "          \n",
    "      # Report the final accuracy for this validation run.\n",
    "      avg_val_accuracy = total_eval_accuracy / len(validation_dataloader)\n",
    "      print(\"  Accuracy: {0:.2f}\".format(avg_val_accuracy))\n",
    "      # Calculate the average loss over all of the batches.\n",
    "      avg_val_loss = total_eval_loss / len(validation_dataloader)\n",
    "      # Measure how long the validation run took.\n",
    "      validation_time = format_time(time.time() - t0)\n",
    "      print(\"  Validation Loss: {0:.2f}\".format(avg_val_loss))\n",
    "      print(\"  Validation took: {:}\".format(validation_time))\n",
    "      # Record all statistics from this epoch.\n",
    "      training_stats.append(\n",
    "          {\n",
    "              'epoch': epoch_i + 1,\n",
    "              'Training Loss': avg_train_loss,\n",
    "              'Valid. Loss': avg_val_loss,\n",
    "              'Valid. Accur.': avg_val_accuracy,\n",
    "              'Training Time': training_time,\n",
    "              'Validation Time': validation_time\n",
    "          }\n",
    "      )\n",
    "\n",
    "  print(\"\")\n",
    "  print(\"Training complete!\")\n",
    "  print(\"Total training took {:} (h:mm:ss)\".format(format_time(time.time()-total_t0)))\n",
    "\n",
    "\n",
    "  # Display floats with two decimal places.\n",
    "  pd.set_option('precision', 2)\n",
    "  # Create a DataFrame from our training statistics.\n",
    "  df_stats = pd.DataFrame(data=training_stats)\n",
    "  # Use the 'epoch' as the row index.\n",
    "  df_stats = df_stats.set_index('epoch')\n",
    "  # A hack to force the column headers to wrap.\n",
    "  #df = df.style.set_table_styles([dict(selector=\"th\",props=[('max-width', '70px')])])\n",
    "  # Display the table.\n",
    "  print(df_stats)\n",
    "\n",
    "  #=========================PLOT TRAINING LOSS==================================\n",
    "  # Use plot styling from seaborn.\n",
    "  sns.set(style='darkgrid')\n",
    "  # Increase the plot size and font size.\n",
    "  sns.set(font_scale=1.5)\n",
    "  plt.rcParams[\"figure.figsize\"] = (12,6)\n",
    "  # Plot the learning curve.\n",
    "  plt.plot(df_stats['Training Loss'], 'b-o', label=\"Training\")\n",
    "  plt.plot(df_stats['Valid. Loss'], 'g-o', label=\"Validation\")\n",
    "  # Label the plot.\n",
    "  plt.title(\"Training & Validation Loss\")\n",
    "  plt.xlabel(\"Epoch\")\n",
    "  plt.ylabel(\"Loss\")\n",
    "  plt.legend()\n",
    "  plt.xticks([1, 2, 3, 4])\n",
    "  plt.show()\n",
    "\n",
    "  #===========================TEST ON VALIDATION SET============================\n",
    "  # Load the dataset into a pandas dataframe.\n",
    "  df = df_keep.copy()\n",
    "  # Report the number of sentences.\n",
    "  print('Number of test sentences: {:,}\\n'.format(df.shape[0]))\n",
    "  # Create sentence and label lists\n",
    "  sentences = df_keep.features.values\n",
    "  labels = df_keep.labels.values\n",
    "  # Tokenize all of the sentences and map the tokens to thier word IDs.\n",
    "  input_ids = []\n",
    "  attention_masks = []\n",
    "  # For every sentence...\n",
    "  for sent in sentences:\n",
    "      # `encode_plus` will:\n",
    "      #   (1) Tokenize the sentence.\n",
    "      #   (2) Prepend the `[CLS]` token to the start.\n",
    "      #   (3) Append the `[SEP]` token to the end.\n",
    "      #   (4) Map tokens to their IDs.\n",
    "      #   (5) Pad or truncate the sentence to `max_length`\n",
    "      #   (6) Create attention masks for [PAD] tokens.\n",
    "      encoded_dict = tokenizer.encode_plus(\n",
    "                          sent,                      # Sentence to encode.\n",
    "                          add_special_tokens = True, # Add '[CLS]' and '[SEP]'\n",
    "                          #max_length = 64,           # Pad & truncate all sentences.\n",
    "                          max_length = 512,   \n",
    "                          pad_to_max_length = True,\n",
    "                          return_attention_mask = True,   # Construct attn. masks.\n",
    "                          return_tensors = 'pt',     # Return pytorch tensors.\n",
    "                    )\n",
    "      # Add the encoded sentence to the list.    \n",
    "      input_ids.append(encoded_dict['input_ids'])\n",
    "      # And its attention mask (simply differentiates padding from non-padding).\n",
    "      attention_masks.append(encoded_dict['attention_mask'])\n",
    "  # Convert the lists into tensors.\n",
    "  input_ids = torch.cat(input_ids, dim=0)\n",
    "  attention_masks = torch.cat(attention_masks, dim=0)\n",
    "  labels = torch.tensor(labels)\n",
    "  # Create the DataLoader.\n",
    "  prediction_data = TensorDataset(input_ids, attention_masks, labels)\n",
    "  prediction_sampler = SequentialSampler(prediction_data)\n",
    "  prediction_dataloader = DataLoader(prediction_data, sampler=prediction_sampler, batch_size=batch_size)\n",
    "\n",
    "  # Prediction on test set\n",
    "  print('Predicting labels for {:,} test sentences...'.format(len(input_ids)))\n",
    "  # Put model in evaluation mode\n",
    "  model.eval()\n",
    "  # Tracking variables \n",
    "  predictions , true_labels = [], []\n",
    "  # Predict \n",
    "  for batch in prediction_dataloader:\n",
    "    # Add batch to GPU\n",
    "    batch = tuple(t.to(device) for t in batch)\n",
    "    # Unpack the inputs from our dataloader\n",
    "    b_input_ids, b_input_mask, b_labels = batch\n",
    "    # Telling the model not to compute or store gradients, saving memory and \n",
    "    # speeding up prediction\n",
    "    with torch.no_grad():\n",
    "        # Forward pass, calculate logit predictions.\n",
    "        result = model(b_input_ids, \n",
    "                      token_type_ids=None, \n",
    "                      attention_mask=b_input_mask,\n",
    "                      return_dict=True)\n",
    "\n",
    "    logits = result.logits\n",
    "    # Move logits and labels to CPU\n",
    "    logits = logits.detach().cpu().numpy()\n",
    "    label_ids = b_labels.to('cpu').numpy()\n",
    "    # Store predictions and true labels\n",
    "    predictions.append(logits)\n",
    "    true_labels.append(label_ids)\n",
    "  print('    DONE.')\n",
    "\n",
    "  #label_ids\n",
    "\n",
    "  # Combine the results across all batches. \n",
    "  flat_predictions = np.concatenate(predictions, axis=0)\n",
    "  # For each sample, pick the label (0 or 1) with the higher score.\n",
    "  flat_predictions = np.argmax(flat_predictions, axis=1).flatten()\n",
    "  # Combine the correct labels for each batch into a single list.\n",
    "  flat_true_labels = np.concatenate(true_labels, axis=0)\n",
    "\n",
    "  df['predictions'] = flat_predictions\n",
    "\n",
    "  return df, model, tokenizer\n"
   ]
  },
  {
   "cell_type": "code",
   "execution_count": 152,
   "metadata": {
    "executionInfo": {
     "elapsed": 34,
     "status": "ok",
     "timestamp": 1640279754167,
     "user": {
      "displayName": "pling",
      "photoUrl": "https://lh3.googleusercontent.com/a/default-user=s64",
      "userId": "02620778565141551161"
     },
     "user_tz": -60
    },
    "id": "ue27aoDOJ4ip"
   },
   "outputs": [],
   "source": [
    "#TEST FUNCTION\n",
    "\n",
    "def test_net(df_test, model, batch_size = 8):\n",
    "\n",
    "    # Get the GPU device name.\n",
    "  device_name = tf.test.gpu_device_name()\n",
    "  # The device name should look like the following:\n",
    "  if device_name == '/device:GPU:0':\n",
    "      print('Found GPU at: {}'.format(device_name))\n",
    "  else:\n",
    "      raise SystemError('GPU device not found')\n",
    "\n",
    "  # If there's a GPU available...\n",
    "  if torch.cuda.is_available():    \n",
    "      # Tell PyTorch to use the GPU.    \n",
    "      device = torch.device(\"cuda\")\n",
    "      print('There are %d GPU(s) available.' % torch.cuda.device_count())\n",
    "      print('We will use the GPU:', torch.cuda.get_device_name(0))\n",
    "  # If not...\n",
    "  else:\n",
    "      print('No GPU available, using the CPU instead.')\n",
    "      device = torch.device(\"cpu\")\n",
    "  \n",
    "\n",
    "  #===========================TEST ON TEST SET============================\n",
    "  df = df_test.copy()\n",
    "  df = df.rename(columns={df.columns[0]: \"features\", df.columns[1]: \"labels\"})\n",
    "  print('Number of test sentences: {:,}\\n'.format(df.shape[0]))\n",
    "  sentences = df.features.values\n",
    "  labels = df.labels.values\n",
    "  input_ids = []\n",
    "  attention_masks = []\n",
    "  for sent in sentences:\n",
    "      encoded_dict = tokenizer.encode_plus(\n",
    "                          sent,                      # Sentence to encode.\n",
    "                          add_special_tokens = True, # Add '[CLS]' and '[SEP]'\n",
    "                          max_length = 512,          # Pad & truncate all sentences.\n",
    "                          pad_to_max_length = True,\n",
    "                          return_attention_mask = True,   # Construct attn. masks.\n",
    "                          return_tensors = 'pt',     # Return pytorch tensors.\n",
    "                    ) \n",
    "      input_ids.append(encoded_dict['input_ids'])\n",
    "      attention_masks.append(encoded_dict['attention_mask'])\n",
    "  input_ids = torch.cat(input_ids, dim=0)\n",
    "  attention_masks = torch.cat(attention_masks, dim=0)\n",
    "  labels = torch.tensor(labels)\n",
    "  prediction_data = TensorDataset(input_ids, attention_masks, labels)\n",
    "  prediction_sampler = SequentialSampler(prediction_data)\n",
    "  prediction_dataloader = DataLoader(prediction_data, sampler=prediction_sampler, batch_size=batch_size)\n",
    "\n",
    "  print('Predicting labels for {:,} test sentences...'.format(len(input_ids)))\n",
    "  model.eval()\n",
    "  predictions , true_labels = [], []\n",
    "  for batch in prediction_dataloader:\n",
    "    batch = tuple(t.to(device) for t in batch)\n",
    "    b_input_ids, b_input_mask, b_labels = batch\n",
    "    with torch.no_grad():\n",
    "        result = model(b_input_ids, \n",
    "                      token_type_ids=None, \n",
    "                      attention_mask=b_input_mask,\n",
    "                      return_dict=True)\n",
    "\n",
    "    logits = result.logits\n",
    "    logits = logits.detach().cpu().numpy()\n",
    "    label_ids = b_labels.to('cpu').numpy()\n",
    "    predictions.append(logits)\n",
    "    true_labels.append(label_ids)\n",
    "  print('    DONE.')\n",
    "\n",
    "  flat_predictions = np.concatenate(predictions, axis=0)\n",
    "  flat_predictions = np.argmax(flat_predictions, axis=1).flatten()\n",
    "  flat_true_labels = np.concatenate(true_labels, axis=0)\n",
    "\n",
    "  df['predictions'] = flat_predictions\n",
    "\n",
    "  return df, model\n"
   ]
  },
  {
   "cell_type": "code",
   "execution_count": 153,
   "metadata": {
    "executionInfo": {
     "elapsed": 37,
     "status": "ok",
     "timestamp": 1640279754174,
     "user": {
      "displayName": "pling",
      "photoUrl": "https://lh3.googleusercontent.com/a/default-user=s64",
      "userId": "02620778565141551161"
     },
     "user_tz": -60
    },
    "id": "JmniAR9FXxeO"
   },
   "outputs": [],
   "source": [
    "#Save Model to Gmail Drive\n",
    "import os\n",
    "\n",
    "def save_model(model_name, model, tokenizer):\n",
    "  output_dir = './drive/MyDrive/model_save/' + model_name + \"/\"\n",
    "  # Create output directory if needed\n",
    "  if not os.path.exists(output_dir):\n",
    "      os.makedirs(output_dir)\n",
    "  print(\"Saving model to %s\" % output_dir)\n",
    "  model_to_save = model.module if hasattr(model, 'module') else model  # Take care of distributed/parallel training\n",
    "  model_to_save.save_pretrained(output_dir)\n",
    "  tokenizer.save_pretrained(output_dir)\n",
    "\n",
    "def load_model(model_name, model, tokenizer):\n",
    "  output_dir = './drive/MyDrive/model_save/' + model_name + \"/\"\n",
    "  model = model.from_pretrained(output_dir)\n",
    "  tokenizer = tokenizer.from_pretrained(output_dir)\n",
    "  print(model)\n",
    "  return model"
   ]
  },
  {
   "cell_type": "code",
   "execution_count": 168,
   "metadata": {
    "executionInfo": {
     "elapsed": 790,
     "status": "ok",
     "timestamp": 1640281918792,
     "user": {
      "displayName": "pling",
      "photoUrl": "https://lh3.googleusercontent.com/a/default-user=s64",
      "userId": "02620778565141551161"
     },
     "user_tz": -60
    },
    "id": "z-Dya6yKnAIO"
   },
   "outputs": [],
   "source": [
    "#classification report better version\n",
    "from sklearn.metrics import classification_report\n",
    "\n",
    "def class_report(df, lvl_list):\n",
    "\n",
    "  uniques = set(list(set(df.labels.sort_values().unique()))+list(set(df.predictions.sort_values().unique())))\n",
    "  #print(uniques)\n",
    "  my_list = []\n",
    "  for i in uniques:\n",
    "    my_string = str(i) + \" \" + lvl_list[i]\n",
    "    my_list.append(my_string)\n",
    "\n",
    "  print(my_list)\n",
    "  y_true = df.labels\n",
    "  print(len(df.labels.unique()))\n",
    "  y_pred = df.predictions\n",
    "  print(len(df.predictions.unique()))\n",
    "  target_names = my_list\n",
    "  print(len(my_list))\n",
    " \n",
    "  print(\"Classification Report:\")\n",
    "  print(classification_report(y_true, y_pred, target_names=target_names))\n",
    "\n",
    "  report = classification_report(y_true, y_pred, target_names=target_names, output_dict=True)\n",
    "  return report"
   ]
  },
  {
   "cell_type": "code",
   "execution_count": 155,
   "metadata": {
    "executionInfo": {
     "elapsed": 347,
     "status": "ok",
     "timestamp": 1640279754489,
     "user": {
      "displayName": "pling",
      "photoUrl": "https://lh3.googleusercontent.com/a/default-user=s64",
      "userId": "02620778565141551161"
     },
     "user_tz": -60
    },
    "id": "klZZr9oco_6T"
   },
   "outputs": [],
   "source": [
    "#confusion matrix report\n",
    "#code von: https://www.analyticsvidhya.com/blog/2021/06/confusion-matrix-for-multi-class-classification/\n",
    "import seaborn as sns\n",
    "import matplotlib.pyplot as plt\n",
    "from sklearn.metrics import confusion_matrix\n",
    "\n",
    "def cm_report(df, lvl_list,figsize=(10,5)):\n",
    "\n",
    "  uniques = set(list(set(df.labels.sort_values().unique()))+list(set(df.predictions.sort_values().unique())))\n",
    "  print(uniques)\n",
    "  my_list = []\n",
    "  for i in uniques:\n",
    "    my_string = str(i) + \" \" + lvl_list[i]\n",
    "    my_list.append(my_string)\n",
    "\n",
    "  y_test = df.labels\n",
    "  y_pred = df.predictions\n",
    "  cm = confusion_matrix(y_test, y_pred)\n",
    "  cm_df = pd.DataFrame(cm,\n",
    "                      index = my_list, \n",
    "                      columns = my_list)\n",
    "  plt.figure(figsize=figsize)\n",
    "  cm_plot = sns.heatmap(cm_df, annot=True, fmt='g', cmap='Blues') #'YlGnBu'\n",
    "  cm_plot\n",
    "  plt.title('Confusion Matrix:')\n",
    "  plt.ylabel('Labels')\n",
    "  plt.xlabel('Predicted')\n",
    "  plt.show()\n",
    "  return cm_plot"
   ]
  },
  {
   "cell_type": "code",
   "execution_count": 156,
   "metadata": {
    "executionInfo": {
     "elapsed": 24,
     "status": "ok",
     "timestamp": 1640279754492,
     "user": {
      "displayName": "pling",
      "photoUrl": "https://lh3.googleusercontent.com/a/default-user=s64",
      "userId": "02620778565141551161"
     },
     "user_tz": -60
    },
    "id": "VQnYTT1PvlZ6"
   },
   "outputs": [],
   "source": [
    "from sklearn.metrics import f1_score\n",
    "def just_f1_score(df, average=\"macro\"):\n",
    "  y_true = df.labels\n",
    "  y_pred = df.predictions\n",
    "  result = f1_score(y_true, y_pred, average=average)\n",
    "\n",
    "  return result"
   ]
  },
  {
   "cell_type": "code",
   "execution_count": 157,
   "metadata": {
    "executionInfo": {
     "elapsed": 24,
     "status": "ok",
     "timestamp": 1640279754494,
     "user": {
      "displayName": "pling",
      "photoUrl": "https://lh3.googleusercontent.com/a/default-user=s64",
      "userId": "02620778565141551161"
     },
     "user_tz": -60
    },
    "id": "BE8e7-SGh7hC"
   },
   "outputs": [],
   "source": [
    "#EMPTY CASH CUDA\n",
    "import torch, gc\n",
    "def clean_cuda():\n",
    "  gc.collect()\n",
    "  torch.cuda.empty_cache()\n",
    "  print(torch.cuda.memory_summary(device=None, abbreviated=False))\n",
    "#clean_cuda()"
   ]
  },
  {
   "cell_type": "markdown",
   "metadata": {
    "id": "l6P2SCnIbW0O"
   },
   "source": [
    "**8. Abschnitt: BERT - Fine-Tuning and Results** ================================================================================================================"
   ]
  },
  {
   "cell_type": "markdown",
   "metadata": {
    "id": "Qf_MckqyhQYo"
   },
   "source": [
    "**Training and Test**"
   ]
  },
  {
   "cell_type": "markdown",
   "metadata": {
    "id": "Qr0sEQSYrP9H"
   },
   "source": [
    "We can now fine_tune BERT to compary our prediction level over our own as well as the given validation dataset to be able to estimate how good our predictions are. After 4 epochs we can observe overfitting, so we limit the numer of epochs to 2 while using bert-base-uncased, since from experience, uncased usually performs better then cased and because bert-base is faster than bert-large. (Alternatively we could also use Bert distilled.) On the standard colab account, the notebook tends to crash with batch_size 16 or higher, so we pick a batch_size of 8."
   ]
  },
  {
   "cell_type": "code",
   "execution_count": 158,
   "metadata": {
    "executionInfo": {
     "elapsed": 22,
     "status": "ok",
     "timestamp": 1640279754496,
     "user": {
      "displayName": "pling",
      "photoUrl": "https://lh3.googleusercontent.com/a/default-user=s64",
      "userId": "02620778565141551161"
     },
     "user_tz": -60
    },
    "id": "VZY9-UcVGnwe"
   },
   "outputs": [],
   "source": [
    "#function variables\n",
    "#def train_net(df, example_sentence=1, train_split_value=0.9, batch_size = 8, epochs = 3, model_name=\"bert-base-uncased\", lr = 2e-5, eps = 1e-8)"
   ]
  },
  {
   "cell_type": "code",
   "execution_count": 160,
   "metadata": {
    "colab": {
     "base_uri": "https://localhost:8080/",
     "height": 1000,
     "referenced_widgets": [
      "737bbad6bb694e97a795030c9eb83bad",
      "b2545f06e3ed4161a2e73acf7b62e570",
      "b304c1f650564a3d9ce112fc8bf51d56",
      "dccaa504c8a34ff586cb4cc61111271a",
      "085475bfb29342ed85cc9bd70a246941",
      "fdb026fe4e484bbcb9109494f709b912",
      "f88b95a9546c4a5e9998f23908ac3dd1",
      "ea4d254ef6f54cd7a524d389b6b697e9",
      "b4770d676c094eb2a4eda0ed214affb6",
      "8a5d5cdce4614ff7b2e6e3647b414855",
      "8dc8479df82543419f9e02d57b1293bc",
      "c06eab6349404bd88d3ba7d5b17b9310",
      "d4eec08011b74926adbd0119e6b5d806",
      "2760526c3fd04c54825bc31d319d327e",
      "0ec78a6bfdef45358685693cc8fbecce",
      "e2eea79c00e84f58ae851881a6c96525",
      "f4db6d98a84a4fbc9b2543a318eb597e",
      "7522112f727c4deba31ac3f601354f48",
      "b3084d4f059d489690a984728ffaf331",
      "0c2f5480eb41422896df8aad529149c0",
      "d3129cf52db5469fae51b3e129b3e671",
      "a94932803c994c648d52e75970a2e8ca",
      "1dcb3cdce92047e19d105e0bed8c68d6",
      "8f51a80abc83494da9834abadf90fb65",
      "bbb9dc1ef0fd4d43a828125bba21ef46",
      "22abb75582f94e2497b53880a60080d8",
      "06672652833440d089b8c0623e10b639",
      "9c9d406d66bc4a7893d1c5f483eda1e2",
      "5fddc0ba87474075a702cebd2484be0b",
      "4e818435d59a4e65874d11688832dc7a",
      "bf2ddc4271ef47b88f1c07f413205c91",
      "8e165b2f6ec140778dc5005f038ca3d8",
      "16dd41a7cd634de192a09416f2258fcb",
      "a0e1fb9867f847a9ba9451249fe3495e",
      "4f63302c5aba4c7686190188dbad6050",
      "9908d2d0daeb4c25abfc4a2f9a9ed6ca",
      "e67cfdf1070a44259297d6bc8bf7ee0c",
      "f1edf2927859405f9c8851c29e1aaf0a",
      "fc9d07bc394b4db3adb1c4117ae57715",
      "e28e6a17278f42e9b5f5684366a86e5c",
      "b24975a536c24ec6b1b934b6100d9d8e",
      "c3a62d6969ad4a7f82c4fe6f55356da0",
      "cb24c4d0f5be407cadfaaaad9337d0ee",
      "bfc0ed08ee284bb6a35a0b3ab86d8bab",
      "ce2b7094743d411684080204807be0cd",
      "6d5417790fd54589b55763fa0c34a559",
      "cfbf6b39d6f84e05b8c82e59c7fa4206",
      "28e39f32a36341f096b904acb2b681ec",
      "5b8722ad20be4a12ada78ccb13df9a09",
      "58b08b86655b465b8886188eae982302",
      "e7497746af804b378034de02af6fb057",
      "ad46635955a24a5ca7557e3e57621b47",
      "db275ba816cd4f8389da79d6efffc4a1",
      "c537dc59f2ce4c3d9ba59598357ca738",
      "def5c30b3a4c4ed7a621a2d009af61f9"
     ]
    },
    "executionInfo": {
     "elapsed": 1070167,
     "status": "ok",
     "timestamp": 1640281762095,
     "user": {
      "displayName": "pling",
      "photoUrl": "https://lh3.googleusercontent.com/a/default-user=s64",
      "userId": "02620778565141551161"
     },
     "user_tz": -60
    },
    "id": "JmKXSTzvHIJF",
    "outputId": "dae5f6fd-5c19-4114-d52a-3486632c3f51"
   },
   "outputs": [
    {
     "metadata": {
      "tags": null
     },
     "name": "stdout",
     "output_type": "stream",
     "text": [
      "Found GPU at: /device:GPU:0\n",
      "There are 1 GPU(s) available.\n",
      "We will use the GPU: Tesla K80\n",
      "Loading BERT tokenizer...\n"
     ]
    },
    {
     "data": {
      "application/vnd.jupyter.widget-view+json": {
       "model_id": "737bbad6bb694e97a795030c9eb83bad",
       "version_major": 2,
       "version_minor": 0
      },
      "text/plain": [
       "Downloading:   0%|          | 0.00/226k [00:00<?, ?B/s]"
      ]
     },
     "metadata": {},
     "output_type": "display_data"
    },
    {
     "data": {
      "application/vnd.jupyter.widget-view+json": {
       "model_id": "c06eab6349404bd88d3ba7d5b17b9310",
       "version_major": 2,
       "version_minor": 0
      },
      "text/plain": [
       "Downloading:   0%|          | 0.00/28.0 [00:00<?, ?B/s]"
      ]
     },
     "metadata": {},
     "output_type": "display_data"
    },
    {
     "data": {
      "application/vnd.jupyter.widget-view+json": {
       "model_id": "1dcb3cdce92047e19d105e0bed8c68d6",
       "version_major": 2,
       "version_minor": 0
      },
      "text/plain": [
       "Downloading:   0%|          | 0.00/455k [00:00<?, ?B/s]"
      ]
     },
     "metadata": {},
     "output_type": "display_data"
    },
    {
     "data": {
      "application/vnd.jupyter.widget-view+json": {
       "model_id": "a0e1fb9867f847a9ba9451249fe3495e",
       "version_major": 2,
       "version_minor": 0
      },
      "text/plain": [
       "Downloading:   0%|          | 0.00/570 [00:00<?, ?B/s]"
      ]
     },
     "metadata": {},
     "output_type": "display_data"
    },
    {
     "metadata": {
      "tags": null
     },
     "name": "stdout",
     "output_type": "stream",
     "text": [
      "                                               features  labels\n",
      "1935  corporate strategy office cfo key member of th...       3\n",
      "1450  ma intern - cw lake underhill the intern - gen...       1\n",
      "1689  engineering intern | aerospace | summer 2022 e...       1\n",
      "26    deutsche bank dbachieve internship programme –...       1\n",
      "182   summer 2022 fp&a collections intern this progr...       1\n",
      "random_state 234 is good\n",
      "Df Train Labels: [0 2 3 1] Total: 4\n",
      "Df Keep Labels: [3 2 1 0] Total: 4\n",
      "random_state chosen: 234\n",
      "Sentences: 5064\n",
      "Labels: 5064\n",
      "Batch_size: 8\n",
      " Original:  resource analyst-2 partners with lead program or project resource analyst (pra) to evaluate the work breakdown structure (wbs) ensuring appropriate level of detail, wbs dictionary…\n",
      "Tokenized:  ['resource', 'analyst', '-', '2', 'partners', 'with', 'lead', 'program', 'or', 'project', 'resource', 'analyst', '(', 'pr', '##a', ')', 'to', 'evaluate', 'the', 'work', 'breakdown', 'structure', '(', 'wb', '##s', ')', 'ensuring', 'appropriate', 'level', 'of', 'detail', ',', 'wb', '##s', 'dictionary', '…']\n",
      "Token IDs:  [7692, 12941, 1011, 1016, 5826, 2007, 2599, 2565, 2030, 2622, 7692, 12941, 1006, 10975, 2050, 1007, 2000, 16157, 1996, 2147, 12554, 3252, 1006, 25610, 2015, 1007, 12725, 6413, 2504, 1997, 6987, 1010, 25610, 2015, 9206, 1529]\n"
     ]
    },
    {
     "metadata": {
      "tags": null
     },
     "name": "stderr",
     "output_type": "stream",
     "text": [
      "Truncation was not explicitly activated but `max_length` is provided a specific value, please use `truncation=True` to explicitly truncate examples to max length. Defaulting to 'longest_first' truncation strategy. If you encode pairs of sequences (GLUE-style) with the tokenizer you can select this strategy more precisely by providing a specific strategy to `truncation`.\n"
     ]
    },
    {
     "metadata": {
      "tags": null
     },
     "name": "stdout",
     "output_type": "stream",
     "text": [
      "Max sentence length:  72\n"
     ]
    },
    {
     "metadata": {
      "tags": null
     },
     "name": "stderr",
     "output_type": "stream",
     "text": [
      "/usr/local/lib/python3.7/dist-packages/transformers/tokenization_utils_base.py:2232: FutureWarning: The `pad_to_max_length` argument is deprecated and will be removed in a future version, use `padding=True` or `padding='longest'` to pad to the longest sequence in the batch, or use `padding='max_length'` to pad to a max length. In this case, you can give a specific length with `max_length` (e.g. `max_length=45`) or leave max_length to None to pad to the maximal input size of the model (e.g. 512 for Bert).\n",
      "  FutureWarning,\n"
     ]
    },
    {
     "metadata": {
      "tags": null
     },
     "name": "stdout",
     "output_type": "stream",
     "text": [
      "4,557 training samples\n",
      "  507 validation samples\n"
     ]
    },
    {
     "data": {
      "application/vnd.jupyter.widget-view+json": {
       "model_id": "ce2b7094743d411684080204807be0cd",
       "version_major": 2,
       "version_minor": 0
      },
      "text/plain": [
       "Downloading:   0%|          | 0.00/420M [00:00<?, ?B/s]"
      ]
     },
     "metadata": {},
     "output_type": "display_data"
    },
    {
     "metadata": {
      "tags": null
     },
     "name": "stderr",
     "output_type": "stream",
     "text": [
      "Some weights of the model checkpoint at bert-base-uncased were not used when initializing BertForSequenceClassification: ['cls.seq_relationship.bias', 'cls.predictions.transform.dense.bias', 'cls.predictions.transform.dense.weight', 'cls.predictions.transform.LayerNorm.bias', 'cls.seq_relationship.weight', 'cls.predictions.bias', 'cls.predictions.transform.LayerNorm.weight', 'cls.predictions.decoder.weight']\n",
      "- This IS expected if you are initializing BertForSequenceClassification from the checkpoint of a model trained on another task or with another architecture (e.g. initializing a BertForSequenceClassification model from a BertForPreTraining model).\n",
      "- This IS NOT expected if you are initializing BertForSequenceClassification from the checkpoint of a model that you expect to be exactly identical (initializing a BertForSequenceClassification model from a BertForSequenceClassification model).\n",
      "Some weights of BertForSequenceClassification were not initialized from the model checkpoint at bert-base-uncased and are newly initialized: ['classifier.bias', 'classifier.weight']\n",
      "You should probably TRAIN this model on a down-stream task to be able to use it for predictions and inference.\n"
     ]
    },
    {
     "name": "stdout",
     "output_type": "stream",
     "text": [
      "The BERT model has 201 different named parameters.\n",
      "\n",
      "==== Embedding Layer ====\n",
      "\n",
      "bert.embeddings.word_embeddings.weight                  (30522, 768)\n",
      "bert.embeddings.position_embeddings.weight                (512, 768)\n",
      "bert.embeddings.token_type_embeddings.weight                (2, 768)\n",
      "bert.embeddings.LayerNorm.weight                              (768,)\n",
      "bert.embeddings.LayerNorm.bias                                (768,)\n",
      "\n",
      "==== First Transformer ====\n",
      "\n",
      "bert.encoder.layer.0.attention.self.query.weight          (768, 768)\n",
      "bert.encoder.layer.0.attention.self.query.bias                (768,)\n",
      "bert.encoder.layer.0.attention.self.key.weight            (768, 768)\n",
      "bert.encoder.layer.0.attention.self.key.bias                  (768,)\n",
      "bert.encoder.layer.0.attention.self.value.weight          (768, 768)\n",
      "bert.encoder.layer.0.attention.self.value.bias                (768,)\n",
      "bert.encoder.layer.0.attention.output.dense.weight        (768, 768)\n",
      "bert.encoder.layer.0.attention.output.dense.bias              (768,)\n",
      "bert.encoder.layer.0.attention.output.LayerNorm.weight        (768,)\n",
      "bert.encoder.layer.0.attention.output.LayerNorm.bias          (768,)\n",
      "bert.encoder.layer.0.intermediate.dense.weight           (3072, 768)\n",
      "bert.encoder.layer.0.intermediate.dense.bias                 (3072,)\n",
      "bert.encoder.layer.0.output.dense.weight                 (768, 3072)\n",
      "bert.encoder.layer.0.output.dense.bias                        (768,)\n",
      "bert.encoder.layer.0.output.LayerNorm.weight                  (768,)\n",
      "bert.encoder.layer.0.output.LayerNorm.bias                    (768,)\n",
      "\n",
      "==== Output Layer ====\n",
      "\n",
      "bert.pooler.dense.weight                                  (768, 768)\n",
      "bert.pooler.dense.bias                                        (768,)\n",
      "classifier.weight                                           (4, 768)\n",
      "classifier.bias                                                 (4,)\n",
      "\n",
      "======== Epoch 1 / 2 ========\n",
      "Training...\n",
      "  Batch    40  of    570.    Elapsed: 0:01:05.\n",
      "  Batch    80  of    570.    Elapsed: 0:02:10.\n",
      "  Batch   120  of    570.    Elapsed: 0:03:14.\n",
      "  Batch   160  of    570.    Elapsed: 0:04:18.\n",
      "  Batch   200  of    570.    Elapsed: 0:05:22.\n",
      "  Batch   240  of    570.    Elapsed: 0:06:26.\n",
      "  Batch   280  of    570.    Elapsed: 0:07:30.\n",
      "  Batch   320  of    570.    Elapsed: 0:08:33.\n",
      "  Batch   360  of    570.    Elapsed: 0:09:37.\n",
      "  Batch   400  of    570.    Elapsed: 0:10:41.\n",
      "  Batch   440  of    570.    Elapsed: 0:11:45.\n",
      "  Batch   480  of    570.    Elapsed: 0:12:48.\n",
      "  Batch   520  of    570.    Elapsed: 0:13:52.\n",
      "  Batch   560  of    570.    Elapsed: 0:14:56.\n",
      "\n",
      "  Average training loss: 0.55\n",
      "  Training epoch took: 0:15:11\n",
      "\n",
      "Running Validation...\n",
      "  Accuracy: 0.83\n",
      "  Validation Loss: 0.39\n",
      "  Validation took: 0:00:36\n",
      "\n",
      "======== Epoch 2 / 2 ========\n",
      "Training...\n",
      "  Batch    40  of    570.    Elapsed: 0:01:04.\n",
      "  Batch    80  of    570.    Elapsed: 0:02:07.\n",
      "  Batch   120  of    570.    Elapsed: 0:03:11.\n",
      "  Batch   160  of    570.    Elapsed: 0:04:14.\n",
      "  Batch   200  of    570.    Elapsed: 0:05:18.\n",
      "  Batch   240  of    570.    Elapsed: 0:06:22.\n",
      "  Batch   280  of    570.    Elapsed: 0:07:25.\n",
      "  Batch   320  of    570.    Elapsed: 0:08:29.\n",
      "  Batch   360  of    570.    Elapsed: 0:09:33.\n",
      "  Batch   400  of    570.    Elapsed: 0:10:36.\n",
      "  Batch   440  of    570.    Elapsed: 0:11:40.\n",
      "  Batch   480  of    570.    Elapsed: 0:12:44.\n",
      "  Batch   520  of    570.    Elapsed: 0:13:47.\n",
      "  Batch   560  of    570.    Elapsed: 0:14:51.\n",
      "\n",
      "  Average training loss: 0.32\n",
      "  Training epoch took: 0:15:06\n",
      "\n",
      "Running Validation...\n",
      "  Accuracy: 0.85\n",
      "  Validation Loss: 0.40\n",
      "  Validation took: 0:00:36\n",
      "\n",
      "Training complete!\n",
      "Total training took 0:31:29 (h:mm:ss)\n",
      "       Training Loss  Valid. Loss  Valid. Accur. Training Time Validation Time\n",
      "epoch                                                                         \n",
      "1               0.55         0.39           0.83       0:15:11         0:00:36\n",
      "2               0.32         0.40           0.85       0:15:06         0:00:36\n"
     ]
    },
    {
     "data": {
      "image/png": "[encoded data removed]",
      "text/plain": [
       "<Figure size 864x432 with 1 Axes>"
      ]
     },
     "metadata": {},
     "output_type": "display_data"
    },
    {
     "name": "stdout",
     "output_type": "stream",
     "text": [
      "Number of test sentences: 563\n",
      "\n"
     ]
    },
    {
     "name": "stderr",
     "output_type": "stream",
     "text": [
      "/usr/local/lib/python3.7/dist-packages/transformers/tokenization_utils_base.py:2232: FutureWarning: The `pad_to_max_length` argument is deprecated and will be removed in a future version, use `padding=True` or `padding='longest'` to pad to the longest sequence in the batch, or use `padding='max_length'` to pad to a max length. In this case, you can give a specific length with `max_length` (e.g. `max_length=45`) or leave max_length to None to pad to the maximal input size of the model (e.g. 512 for Bert).\n",
      "  FutureWarning,\n"
     ]
    },
    {
     "name": "stdout",
     "output_type": "stream",
     "text": [
      "Predicting labels for 563 test sentences...\n",
      "    DONE.\n"
     ]
    }
   ],
   "source": [
    "#train model\n",
    "df_train_res, model, tokenizer = train_net(df=df_train, epochs=1, model_name=\"bert-base-uncased\")\n",
    "df_train_res.to_csv(\"./drive/MyDrive/Colab Notebooks/clf/reports/df_smallsum_train_results.csv\")"
   ]
  },
  {
   "cell_type": "code",
   "execution_count": 166,
   "metadata": {
    "colab": {
     "base_uri": "https://localhost:8080/"
    },
    "executionInfo": {
     "elapsed": 64310,
     "status": "ok",
     "timestamp": 1640281888156,
     "user": {
      "displayName": "pling",
      "photoUrl": "https://lh3.googleusercontent.com/a/default-user=s64",
      "userId": "02620778565141551161"
     },
     "user_tz": -60
    },
    "id": "Aje_nFDp2IP2",
    "outputId": "c8cd2edc-f393-4202-a43c-a06d068b68c5"
   },
   "outputs": [
    {
     "name": "stdout",
     "output_type": "stream",
     "text": [
      "Found GPU at: /device:GPU:0\n",
      "There are 1 GPU(s) available.\n",
      "We will use the GPU: Tesla K80\n",
      "Number of test sentences: 626\n",
      "\n"
     ]
    },
    {
     "name": "stderr",
     "output_type": "stream",
     "text": [
      "/usr/local/lib/python3.7/dist-packages/transformers/tokenization_utils_base.py:2232: FutureWarning: The `pad_to_max_length` argument is deprecated and will be removed in a future version, use `padding=True` or `padding='longest'` to pad to the longest sequence in the batch, or use `padding='max_length'` to pad to a max length. In this case, you can give a specific length with `max_length` (e.g. `max_length=45`) or leave max_length to None to pad to the maximal input size of the model (e.g. 512 for Bert).\n",
      "  FutureWarning,\n"
     ]
    },
    {
     "name": "stdout",
     "output_type": "stream",
     "text": [
      "Predicting labels for 626 test sentences...\n",
      "    DONE.\n"
     ]
    }
   ],
   "source": [
    "#test the model with df_val from our indeed set\n",
    "df_test_results, model = test_net(df_val, model)\n",
    "df_test_results.to_csv(\"./drive/MyDrive/Colab Notebooks/clf/reports/df_smallsum_val_test_results.csv\")"
   ]
  },
  {
   "cell_type": "code",
   "execution_count": 169,
   "metadata": {
    "colab": {
     "base_uri": "https://localhost:8080/"
    },
    "executionInfo": {
     "elapsed": 307,
     "status": "ok",
     "timestamp": 1640281936683,
     "user": {
      "displayName": "pling",
      "photoUrl": "https://lh3.googleusercontent.com/a/default-user=s64",
      "userId": "02620778565141551161"
     },
     "user_tz": -60
    },
    "id": "UH9yGCLAbAo7",
    "outputId": "109c4b28-511f-46c0-d169-c37c4410d53d"
   },
   "outputs": [
    {
     "name": "stdout",
     "output_type": "stream",
     "text": [
      "['0 entry level', '1 internship', '2 mid level', '3 senior level']\n",
      "4\n",
      "4\n",
      "4\n",
      "Classification Report:\n",
      "                precision    recall  f1-score   support\n",
      "\n",
      " 0 entry level       0.82      0.83      0.82       167\n",
      "  1 internship       0.99      1.00      1.00       182\n",
      "   2 mid level       0.66      0.63      0.64       126\n",
      "3 senior level       0.88      0.89      0.88       151\n",
      "\n",
      "      accuracy                           0.85       626\n",
      "     macro avg       0.84      0.84      0.84       626\n",
      "  weighted avg       0.85      0.85      0.85       626\n",
      "\n"
     ]
    }
   ],
   "source": [
    "#get classification report\n",
    "report = class_report(df_test_results, uniques)\n",
    "df_class_report = pd.DataFrame(report).transpose()\n",
    "df_class_report.to_excel(\"./drive/MyDrive/Colab Notebooks/clf/reports/df_smallsum_val_class_rep.xlsx\")"
   ]
  },
  {
   "cell_type": "code",
   "execution_count": 167,
   "metadata": {
    "colab": {
     "base_uri": "https://localhost:8080/",
     "height": 374
    },
    "executionInfo": {
     "elapsed": 899,
     "status": "ok",
     "timestamp": 1640281903676,
     "user": {
      "displayName": "pling",
      "photoUrl": "https://lh3.googleusercontent.com/a/default-user=s64",
      "userId": "02620778565141551161"
     },
     "user_tz": -60
    },
    "id": "yrgg3aWA2HPs",
    "outputId": "3ca79739-7cdd-495b-a6a3-c62e4ff3b930"
   },
   "outputs": [
    {
     "name": "stdout",
     "output_type": "stream",
     "text": [
      "{0, 1, 2, 3}\n"
     ]
    },
    {
     "data": {
      "image/png": "[encoded data removed]",
      "text/plain": [
       "<Figure size 360x216 with 2 Axes>"
      ]
     },
     "metadata": {},
     "output_type": "display_data"
    }
   ],
   "source": [
    "#confusion matrix report\n",
    "cm_plot = cm_report(df_test_results, uniques, figsize=(5,3))\n",
    "cm_plot.figure.savefig(\"./drive/MyDrive/Colab Notebooks/clf/reports/df_smallsum_val_cm.png\", bbox_inches = 'tight')"
   ]
  },
  {
   "cell_type": "code",
   "execution_count": 170,
   "metadata": {
    "colab": {
     "base_uri": "https://localhost:8080/"
    },
    "executionInfo": {
     "elapsed": 3866,
     "status": "ok",
     "timestamp": 1640281967492,
     "user": {
      "displayName": "pling",
      "photoUrl": "https://lh3.googleusercontent.com/a/default-user=s64",
      "userId": "02620778565141551161"
     },
     "user_tz": -60
    },
    "id": "NSukkEhR_bLr",
    "outputId": "69cdd1dd-6d80-4dd1-c588-2c516c460151"
   },
   "outputs": [
    {
     "name": "stdout",
     "output_type": "stream",
     "text": [
      "Saving model to ./drive/MyDrive/model_save/model_small_sum_f1_weighted.85/\n"
     ]
    }
   ],
   "source": [
    "#save the model\n",
    "model_name = \"model_small_sum_f1_weighted.85\"\n",
    "save_model(model_name, model, tokenizer)"
   ]
  },
  {
   "cell_type": "markdown",
   "metadata": {
    "id": "yhJvIudT5P65"
   },
   "source": [
    "Let's see how our model performs on the provided labelled data set, df_val_data:"
   ]
  },
  {
   "cell_type": "code",
   "execution_count": 171,
   "metadata": {
    "colab": {
     "base_uri": "https://localhost:8080/"
    },
    "executionInfo": {
     "elapsed": 12006,
     "status": "ok",
     "timestamp": 1640281979485,
     "user": {
      "displayName": "pling",
      "photoUrl": "https://lh3.googleusercontent.com/a/default-user=s64",
      "userId": "02620778565141551161"
     },
     "user_tz": -60
    },
    "id": "rtN6GJEuHIJI",
    "outputId": "cc76dcb1-7422-4bbc-833e-da4d141a7268"
   },
   "outputs": [
    {
     "name": "stdout",
     "output_type": "stream",
     "text": [
      "Found GPU at: /device:GPU:0\n",
      "There are 1 GPU(s) available.\n",
      "We will use the GPU: Tesla K80\n",
      "Number of test sentences: 141\n",
      "\n"
     ]
    },
    {
     "name": "stderr",
     "output_type": "stream",
     "text": [
      "/usr/local/lib/python3.7/dist-packages/transformers/tokenization_utils_base.py:2232: FutureWarning: The `pad_to_max_length` argument is deprecated and will be removed in a future version, use `padding=True` or `padding='longest'` to pad to the longest sequence in the batch, or use `padding='max_length'` to pad to a max length. In this case, you can give a specific length with `max_length` (e.g. `max_length=45`) or leave max_length to None to pad to the maximal input size of the model (e.g. 512 for Bert).\n",
      "  FutureWarning,\n"
     ]
    },
    {
     "name": "stdout",
     "output_type": "stream",
     "text": [
      "Predicting labels for 141 test sentences...\n",
      "    DONE.\n"
     ]
    }
   ],
   "source": [
    "#test the model with df_val_data\n",
    "df_test_results, model = test_net(df_val_data, model)\n",
    "df_test_results.to_csv(\"./drive/MyDrive/Colab Notebooks/clf/reports/df_smallsum_val_data_test_results.csv\")"
   ]
  },
  {
   "cell_type": "markdown",
   "metadata": {
    "id": "oO_yWEZ75ZGu"
   },
   "source": [
    "The performance on the given val_set from data.json is much worse, even though the f1-scores for internship is still good, however for senior level it is only .66 and only .22 and .31 for entry and mid level. The confusion matrix also shows that our model falsely classifies entry and mid level jobs as senior jobs."
   ]
  },
  {
   "cell_type": "code",
   "execution_count": 172,
   "metadata": {
    "colab": {
     "base_uri": "https://localhost:8080/"
    },
    "executionInfo": {
     "elapsed": 559,
     "status": "ok",
     "timestamp": 1640282015219,
     "user": {
      "displayName": "pling",
      "photoUrl": "https://lh3.googleusercontent.com/a/default-user=s64",
      "userId": "02620778565141551161"
     },
     "user_tz": -60
    },
    "id": "iNMKZVbebTsD",
    "outputId": "c379a06c-024b-4e49-ec63-516e4bc25b99"
   },
   "outputs": [
    {
     "name": "stdout",
     "output_type": "stream",
     "text": [
      "['0 entry level', '1 internship', '2 mid level', '3 senior level']\n",
      "4\n",
      "4\n",
      "4\n",
      "Classification Report:\n",
      "                precision    recall  f1-score   support\n",
      "\n",
      " 0 entry level       0.62      0.14      0.22        37\n",
      "  1 internship       0.93      0.87      0.90        15\n",
      "   2 mid level       0.33      0.28      0.31        32\n",
      "3 senior level       0.53      0.86      0.66        57\n",
      "\n",
      "      accuracy                           0.54       141\n",
      "     macro avg       0.60      0.54      0.52       141\n",
      "  weighted avg       0.55      0.54      0.49       141\n",
      "\n"
     ]
    }
   ],
   "source": [
    "#get classification report\n",
    "report = class_report(df_test_results, uniques)\n",
    "\n",
    "df_class_report = pd.DataFrame(report).transpose()\n",
    "df_class_report.to_excel(\"./drive/MyDrive/Colab Notebooks/clf/reports/df_smallsum_val_data_class_rep.xlsx\")"
   ]
  },
  {
   "cell_type": "code",
   "execution_count": 173,
   "metadata": {
    "colab": {
     "base_uri": "https://localhost:8080/",
     "height": 374
    },
    "executionInfo": {
     "elapsed": 1726,
     "status": "ok",
     "timestamp": 1640282122974,
     "user": {
      "displayName": "pling",
      "photoUrl": "https://lh3.googleusercontent.com/a/default-user=s64",
      "userId": "02620778565141551161"
     },
     "user_tz": -60
    },
    "id": "Fp0w8WRcbt1w",
    "outputId": "76a9493c-fd78-426d-e885-e6cde377b1a4"
   },
   "outputs": [
    {
     "name": "stdout",
     "output_type": "stream",
     "text": [
      "{0, 1, 2, 3}\n"
     ]
    },
    {
     "data": {
      "image/png": "[encoded data removed]",
      "text/plain": [
       "<Figure size 360x216 with 2 Axes>"
      ]
     },
     "metadata": {},
     "output_type": "display_data"
    }
   ],
   "source": [
    "#confusion matrix report\n",
    "cm_plot = cm_report(df_test_results, uniques, figsize=(5,3))\n",
    "cm_plot.figure.savefig(\"./drive/MyDrive/Colab Notebooks/clf/reports/df_smallsum_val_data_cm.png\", bbox_inches = 'tight')"
   ]
  },
  {
   "cell_type": "code",
   "execution_count": 174,
   "metadata": {
    "executionInfo": {
     "elapsed": 542,
     "status": "ok",
     "timestamp": 1640282130449,
     "user": {
      "displayName": "pling",
      "photoUrl": "https://lh3.googleusercontent.com/a/default-user=s64",
      "userId": "02620778565141551161"
     },
     "user_tz": -60
    },
    "id": "UJYZ82FjbvtQ"
   },
   "outputs": [],
   "source": [
    "df_test_results[\"label_names\"] = np.nan\n",
    "for i in range(len(df_test_results)):\n",
    "  df_test_results.loc[i, \"label_names\"] = uniques[df_test_results.iloc[i][\"labels\"]]\n",
    "\n",
    "df_test_results[\"prediction_names\"] = np.nan\n",
    "for i in range(len(df_test_results)):\n",
    "  df_test_results.loc[i, \"prediction_names\"] = uniques[df_test_results.iloc[i][\"predictions\"]]"
   ]
  },
  {
   "cell_type": "markdown",
   "metadata": {
    "id": "p1MaNnhl5yGI"
   },
   "source": [
    "We can check df_data_val a but more closely, namels looks at the instances were entry and mid level were wrongly classified as senior level. The feature with index = 0 was in a prior tuning misclassified as \"senior level\", however, when we read the job description it is not obivious that the label 0 is actually correct, since 3+ years might be considered mid level. The short descriptions of our training dataset might be responsible for this lack of generalization here. Fortunately, we also have a training data set with long summaries, and can try this out subsequently. If we assumed that the df_val_data is correctly labeled, we can expect an F1-Score over the set we have to predict of around .52, which is not great."
   ]
  },
  {
   "cell_type": "code",
   "execution_count": 176,
   "metadata": {
    "colab": {
     "base_uri": "https://localhost:8080/",
     "height": 1000
    },
    "executionInfo": {
     "elapsed": 250,
     "status": "ok",
     "timestamp": 1640282288037,
     "user": {
      "displayName": "pling",
      "photoUrl": "https://lh3.googleusercontent.com/a/default-user=s64",
      "userId": "02620778565141551161"
     },
     "user_tz": -60
    },
    "id": "YfSyVMdKBwej",
    "outputId": "ef2f2568-b673-41ed-d9d1-bf98066d527d"
   },
   "outputs": [
    {
     "data": {
      "text/html": [
       "\n",
       "  <div id=\"df-5a0bbfee-76dd-4f5d-8173-56afb619dbff\">\n",
       "    <div class=\"colab-df-container\">\n",
       "      <div>\n",
       "<style scoped>\n",
       "    .dataframe tbody tr th:only-of-type {\n",
       "        vertical-align: middle;\n",
       "    }\n",
       "\n",
       "    .dataframe tbody tr th {\n",
       "        vertical-align: top;\n",
       "    }\n",
       "\n",
       "    .dataframe thead th {\n",
       "        text-align: right;\n",
       "    }\n",
       "</style>\n",
       "<table border=\"1\" class=\"dataframe\">\n",
       "  <thead>\n",
       "    <tr style=\"text-align: right;\">\n",
       "      <th></th>\n",
       "      <th>features</th>\n",
       "      <th>labels</th>\n",
       "      <th>predictions</th>\n",
       "      <th>label_names</th>\n",
       "      <th>prediction_names</th>\n",
       "    </tr>\n",
       "  </thead>\n",
       "  <tbody>\n",
       "    <tr>\n",
       "      <th>2</th>\n",
       "      <td>android developer job description pamet is loo...</td>\n",
       "      <td>0</td>\n",
       "      <td>3</td>\n",
       "      <td>entry level</td>\n",
       "      <td>senior level</td>\n",
       "    </tr>\n",
       "    <tr>\n",
       "      <th>4</th>\n",
       "      <td>ibm websphere portal developer job description...</td>\n",
       "      <td>0</td>\n",
       "      <td>3</td>\n",
       "      <td>entry level</td>\n",
       "      <td>senior level</td>\n",
       "    </tr>\n",
       "    <tr>\n",
       "      <th>5</th>\n",
       "      <td>ios developer job description pamet is looking...</td>\n",
       "      <td>0</td>\n",
       "      <td>3</td>\n",
       "      <td>entry level</td>\n",
       "      <td>senior level</td>\n",
       "    </tr>\n",
       "    <tr>\n",
       "      <th>6</th>\n",
       "      <td>java developer job description pamet is lookin...</td>\n",
       "      <td>0</td>\n",
       "      <td>3</td>\n",
       "      <td>entry level</td>\n",
       "      <td>senior level</td>\n",
       "    </tr>\n",
       "    <tr>\n",
       "      <th>11</th>\n",
       "      <td>infrastructure engineer (aws) descriptionwe ar...</td>\n",
       "      <td>2</td>\n",
       "      <td>3</td>\n",
       "      <td>mid level</td>\n",
       "      <td>senior level</td>\n",
       "    </tr>\n",
       "    <tr>\n",
       "      <th>13</th>\n",
       "      <td>frontend engineer (full-stack) descriptionwe a...</td>\n",
       "      <td>2</td>\n",
       "      <td>3</td>\n",
       "      <td>mid level</td>\n",
       "      <td>senior level</td>\n",
       "    </tr>\n",
       "    <tr>\n",
       "      <th>19</th>\n",
       "      <td>ui/ux designer the role: we’re looking for a t...</td>\n",
       "      <td>2</td>\n",
       "      <td>3</td>\n",
       "      <td>mid level</td>\n",
       "      <td>senior level</td>\n",
       "    </tr>\n",
       "    <tr>\n",
       "      <th>34</th>\n",
       "      <td>customer success manager (remote) descriptioni...</td>\n",
       "      <td>0</td>\n",
       "      <td>3</td>\n",
       "      <td>entry level</td>\n",
       "      <td>senior level</td>\n",
       "    </tr>\n",
       "    <tr>\n",
       "      <th>37</th>\n",
       "      <td>software developer - javascript (cross-platfor...</td>\n",
       "      <td>2</td>\n",
       "      <td>3</td>\n",
       "      <td>mid level</td>\n",
       "      <td>senior level</td>\n",
       "    </tr>\n",
       "    <tr>\n",
       "      <th>39</th>\n",
       "      <td>trust &amp; safety manager, india the uber trust &amp;...</td>\n",
       "      <td>0</td>\n",
       "      <td>3</td>\n",
       "      <td>entry level</td>\n",
       "      <td>senior level</td>\n",
       "    </tr>\n",
       "    <tr>\n",
       "      <th>47</th>\n",
       "      <td>account manager, indonesia territory (based in...</td>\n",
       "      <td>2</td>\n",
       "      <td>3</td>\n",
       "      <td>mid level</td>\n",
       "      <td>senior level</td>\n",
       "    </tr>\n",
       "    <tr>\n",
       "      <th>53</th>\n",
       "      <td>manager, integrated marketing - comedy central...</td>\n",
       "      <td>2</td>\n",
       "      <td>3</td>\n",
       "      <td>mid level</td>\n",
       "      <td>senior level</td>\n",
       "    </tr>\n",
       "    <tr>\n",
       "      <th>54</th>\n",
       "      <td>manager, integrated marketing, vh1-velocity - ...</td>\n",
       "      <td>2</td>\n",
       "      <td>3</td>\n",
       "      <td>mid level</td>\n",
       "      <td>senior level</td>\n",
       "    </tr>\n",
       "    <tr>\n",
       "      <th>57</th>\n",
       "      <td>digital account executive the bet networks adv...</td>\n",
       "      <td>2</td>\n",
       "      <td>3</td>\n",
       "      <td>mid level</td>\n",
       "      <td>senior level</td>\n",
       "    </tr>\n",
       "    <tr>\n",
       "      <th>59</th>\n",
       "      <td>product manager, partner experience tv adverti...</td>\n",
       "      <td>2</td>\n",
       "      <td>3</td>\n",
       "      <td>mid level</td>\n",
       "      <td>senior level</td>\n",
       "    </tr>\n",
       "    <tr>\n",
       "      <th>61</th>\n",
       "      <td>product manager (f/m) travelcircus is seeking ...</td>\n",
       "      <td>2</td>\n",
       "      <td>3</td>\n",
       "      <td>mid level</td>\n",
       "      <td>senior level</td>\n",
       "    </tr>\n",
       "    <tr>\n",
       "      <th>65</th>\n",
       "      <td>production &amp; qa manager we are unuwe believe i...</td>\n",
       "      <td>2</td>\n",
       "      <td>3</td>\n",
       "      <td>mid level</td>\n",
       "      <td>senior level</td>\n",
       "    </tr>\n",
       "    <tr>\n",
       "      <th>69</th>\n",
       "      <td>business developer we are unuwe believe in cit...</td>\n",
       "      <td>0</td>\n",
       "      <td>3</td>\n",
       "      <td>entry level</td>\n",
       "      <td>senior level</td>\n",
       "    </tr>\n",
       "    <tr>\n",
       "      <th>73</th>\n",
       "      <td>android developer (f/m) at dubsmash we search ...</td>\n",
       "      <td>2</td>\n",
       "      <td>3</td>\n",
       "      <td>mid level</td>\n",
       "      <td>senior level</td>\n",
       "    </tr>\n",
       "    <tr>\n",
       "      <th>74</th>\n",
       "      <td>software engineer infrastructure (f/m) at dubs...</td>\n",
       "      <td>2</td>\n",
       "      <td>3</td>\n",
       "      <td>mid level</td>\n",
       "      <td>senior level</td>\n",
       "    </tr>\n",
       "    <tr>\n",
       "      <th>76</th>\n",
       "      <td>mobile product manager (f/m) if you are not em...</td>\n",
       "      <td>2</td>\n",
       "      <td>3</td>\n",
       "      <td>mid level</td>\n",
       "      <td>senior level</td>\n",
       "    </tr>\n",
       "    <tr>\n",
       "      <th>77</th>\n",
       "      <td>ux/ui designer (f/m) design is not just what i...</td>\n",
       "      <td>2</td>\n",
       "      <td>3</td>\n",
       "      <td>mid level</td>\n",
       "      <td>senior level</td>\n",
       "    </tr>\n",
       "    <tr>\n",
       "      <th>78</th>\n",
       "      <td>business development manager - london business...</td>\n",
       "      <td>2</td>\n",
       "      <td>3</td>\n",
       "      <td>mid level</td>\n",
       "      <td>senior level</td>\n",
       "    </tr>\n",
       "    <tr>\n",
       "      <th>79</th>\n",
       "      <td>business development representative - london b...</td>\n",
       "      <td>0</td>\n",
       "      <td>3</td>\n",
       "      <td>entry level</td>\n",
       "      <td>senior level</td>\n",
       "    </tr>\n",
       "    <tr>\n",
       "      <th>84</th>\n",
       "      <td>manager – business development, corporate spon...</td>\n",
       "      <td>2</td>\n",
       "      <td>3</td>\n",
       "      <td>mid level</td>\n",
       "      <td>senior level</td>\n",
       "    </tr>\n",
       "    <tr>\n",
       "      <th>89</th>\n",
       "      <td>business development manager - india business ...</td>\n",
       "      <td>0</td>\n",
       "      <td>3</td>\n",
       "      <td>entry level</td>\n",
       "      <td>senior level</td>\n",
       "    </tr>\n",
       "    <tr>\n",
       "      <th>90</th>\n",
       "      <td>business development, growth partnerships busi...</td>\n",
       "      <td>0</td>\n",
       "      <td>3</td>\n",
       "      <td>entry level</td>\n",
       "      <td>senior level</td>\n",
       "    </tr>\n",
       "    <tr>\n",
       "      <th>93</th>\n",
       "      <td>course developer - cloud at udacity, our missi...</td>\n",
       "      <td>0</td>\n",
       "      <td>3</td>\n",
       "      <td>entry level</td>\n",
       "      <td>senior level</td>\n",
       "    </tr>\n",
       "    <tr>\n",
       "      <th>94</th>\n",
       "      <td>course developer - data engineering at udacity...</td>\n",
       "      <td>0</td>\n",
       "      <td>3</td>\n",
       "      <td>entry level</td>\n",
       "      <td>senior level</td>\n",
       "    </tr>\n",
       "    <tr>\n",
       "      <th>95</th>\n",
       "      <td>course developer - java at udacity, our missio...</td>\n",
       "      <td>0</td>\n",
       "      <td>3</td>\n",
       "      <td>entry level</td>\n",
       "      <td>senior level</td>\n",
       "    </tr>\n",
       "    <tr>\n",
       "      <th>96</th>\n",
       "      <td>course developer - web development at udacity,...</td>\n",
       "      <td>0</td>\n",
       "      <td>3</td>\n",
       "      <td>entry level</td>\n",
       "      <td>senior level</td>\n",
       "    </tr>\n",
       "    <tr>\n",
       "      <th>99</th>\n",
       "      <td>front end web developer 职位描述： 根据产品需求设计web前端技术架...</td>\n",
       "      <td>0</td>\n",
       "      <td>3</td>\n",
       "      <td>entry level</td>\n",
       "      <td>senior level</td>\n",
       "    </tr>\n",
       "    <tr>\n",
       "      <th>102</th>\n",
       "      <td>full stack engineer, partnerships full stack e...</td>\n",
       "      <td>0</td>\n",
       "      <td>3</td>\n",
       "      <td>entry level</td>\n",
       "      <td>senior level</td>\n",
       "    </tr>\n",
       "    <tr>\n",
       "      <th>103</th>\n",
       "      <td>course manager course manager bangalore, india...</td>\n",
       "      <td>2</td>\n",
       "      <td>3</td>\n",
       "      <td>mid level</td>\n",
       "      <td>senior level</td>\n",
       "    </tr>\n",
       "    <tr>\n",
       "      <th>105</th>\n",
       "      <td>application support engineer commerce applicat...</td>\n",
       "      <td>2</td>\n",
       "      <td>3</td>\n",
       "      <td>mid level</td>\n",
       "      <td>senior level</td>\n",
       "    </tr>\n",
       "    <tr>\n",
       "      <th>108</th>\n",
       "      <td>solutions consultant - data migration solution...</td>\n",
       "      <td>2</td>\n",
       "      <td>3</td>\n",
       "      <td>mid level</td>\n",
       "      <td>senior level</td>\n",
       "    </tr>\n",
       "    <tr>\n",
       "      <th>112</th>\n",
       "      <td>french junior operations manager (f/m) descrip...</td>\n",
       "      <td>0</td>\n",
       "      <td>3</td>\n",
       "      <td>entry level</td>\n",
       "      <td>senior level</td>\n",
       "    </tr>\n",
       "    <tr>\n",
       "      <th>114</th>\n",
       "      <td>qa engineer - test automation descriptionwe ar...</td>\n",
       "      <td>2</td>\n",
       "      <td>3</td>\n",
       "      <td>mid level</td>\n",
       "      <td>senior level</td>\n",
       "    </tr>\n",
       "    <tr>\n",
       "      <th>122</th>\n",
       "      <td>partner sales partner sales  partner sales for...</td>\n",
       "      <td>2</td>\n",
       "      <td>3</td>\n",
       "      <td>mid level</td>\n",
       "      <td>senior level</td>\n",
       "    </tr>\n",
       "    <tr>\n",
       "      <th>126</th>\n",
       "      <td>app store manager (m/f) descriptionwith babbel...</td>\n",
       "      <td>0</td>\n",
       "      <td>3</td>\n",
       "      <td>entry level</td>\n",
       "      <td>senior level</td>\n",
       "    </tr>\n",
       "    <tr>\n",
       "      <th>127</th>\n",
       "      <td>web developer this position touches on all asp...</td>\n",
       "      <td>0</td>\n",
       "      <td>3</td>\n",
       "      <td>entry level</td>\n",
       "      <td>senior level</td>\n",
       "    </tr>\n",
       "    <tr>\n",
       "      <th>133</th>\n",
       "      <td>growth marketing manager, display uber is look...</td>\n",
       "      <td>2</td>\n",
       "      <td>3</td>\n",
       "      <td>mid level</td>\n",
       "      <td>senior level</td>\n",
       "    </tr>\n",
       "    <tr>\n",
       "      <th>139</th>\n",
       "      <td>customer success manager (san francisco) descr...</td>\n",
       "      <td>0</td>\n",
       "      <td>3</td>\n",
       "      <td>entry level</td>\n",
       "      <td>senior level</td>\n",
       "    </tr>\n",
       "  </tbody>\n",
       "</table>\n",
       "</div>\n",
       "      <button class=\"colab-df-convert\" onclick=\"convertToInteractive('df-5a0bbfee-76dd-4f5d-8173-56afb619dbff')\"\n",
       "              title=\"Convert this dataframe to an interactive table.\"\n",
       "              style=\"display:none;\">\n",
       "        \n",
       "  <svg xmlns=\"http://www.w3.org/2000/svg\" height=\"24px\"viewBox=\"0 0 24 24\"\n",
       "       width=\"24px\">\n",
       "    <path d=\"M0 0h24v24H0V0z\" fill=\"none\"/>\n",
       "    <path d=\"M18.56 5.44l.94 2.06.94-2.06 2.06-.94-2.06-.94-.94-2.06-.94 2.06-2.06.94zm-11 1L8.5 8.5l.94-2.06 2.06-.94-2.06-.94L8.5 2.5l-.94 2.06-2.06.94zm10 10l.94 2.06.94-2.06 2.06-.94-2.06-.94-.94-2.06-.94 2.06-2.06.94z\"/><path d=\"M17.41 7.96l-1.37-1.37c-.4-.4-.92-.59-1.43-.59-.52 0-1.04.2-1.43.59L10.3 9.45l-7.72 7.72c-.78.78-.78 2.05 0 2.83L4 21.41c.39.39.9.59 1.41.59.51 0 1.02-.2 1.41-.59l7.78-7.78 2.81-2.81c.8-.78.8-2.07 0-2.86zM5.41 20L4 18.59l7.72-7.72 1.47 1.35L5.41 20z\"/>\n",
       "  </svg>\n",
       "      </button>\n",
       "      \n",
       "  <style>\n",
       "    .colab-df-container {\n",
       "      display:flex;\n",
       "      flex-wrap:wrap;\n",
       "      gap: 12px;\n",
       "    }\n",
       "\n",
       "    .colab-df-convert {\n",
       "      background-color: #E8F0FE;\n",
       "      border: none;\n",
       "      border-radius: 50%;\n",
       "      cursor: pointer;\n",
       "      display: none;\n",
       "      fill: #1967D2;\n",
       "      height: 32px;\n",
       "      padding: 0 0 0 0;\n",
       "      width: 32px;\n",
       "    }\n",
       "\n",
       "    .colab-df-convert:hover {\n",
       "      background-color: #E2EBFA;\n",
       "      box-shadow: 0px 1px 2px rgba(60, 64, 67, 0.3), 0px 1px 3px 1px rgba(60, 64, 67, 0.15);\n",
       "      fill: #174EA6;\n",
       "    }\n",
       "\n",
       "    [theme=dark] .colab-df-convert {\n",
       "      background-color: #3B4455;\n",
       "      fill: #D2E3FC;\n",
       "    }\n",
       "\n",
       "    [theme=dark] .colab-df-convert:hover {\n",
       "      background-color: #434B5C;\n",
       "      box-shadow: 0px 1px 3px 1px rgba(0, 0, 0, 0.15);\n",
       "      filter: drop-shadow(0px 1px 2px rgba(0, 0, 0, 0.3));\n",
       "      fill: #FFFFFF;\n",
       "    }\n",
       "  </style>\n",
       "\n",
       "      <script>\n",
       "        const buttonEl =\n",
       "          document.querySelector('#df-5a0bbfee-76dd-4f5d-8173-56afb619dbff button.colab-df-convert');\n",
       "        buttonEl.style.display =\n",
       "          google.colab.kernel.accessAllowed ? 'block' : 'none';\n",
       "\n",
       "        async function convertToInteractive(key) {\n",
       "          const element = document.querySelector('#df-5a0bbfee-76dd-4f5d-8173-56afb619dbff');\n",
       "          const dataTable =\n",
       "            await google.colab.kernel.invokeFunction('convertToInteractive',\n",
       "                                                     [key], {});\n",
       "          if (!dataTable) return;\n",
       "\n",
       "          const docLinkHtml = 'Like what you see? Visit the ' +\n",
       "            '<a target=\"_blank\" href=https://colab.research.google.com/notebooks/data_table.ipynb>data table notebook</a>'\n",
       "            + ' to learn more about interactive tables.';\n",
       "          element.innerHTML = '';\n",
       "          dataTable['output_type'] = 'display_data';\n",
       "          await google.colab.output.renderOutput(dataTable, element);\n",
       "          const docLink = document.createElement('div');\n",
       "          docLink.innerHTML = docLinkHtml;\n",
       "          element.appendChild(docLink);\n",
       "        }\n",
       "      </script>\n",
       "    </div>\n",
       "  </div>\n",
       "  "
      ],
      "text/plain": [
       "                                              features  labels  predictions  \\\n",
       "2    android developer job description pamet is loo...       0            3   \n",
       "4    ibm websphere portal developer job description...       0            3   \n",
       "5    ios developer job description pamet is looking...       0            3   \n",
       "6    java developer job description pamet is lookin...       0            3   \n",
       "11   infrastructure engineer (aws) descriptionwe ar...       2            3   \n",
       "13   frontend engineer (full-stack) descriptionwe a...       2            3   \n",
       "19   ui/ux designer the role: we’re looking for a t...       2            3   \n",
       "34   customer success manager (remote) descriptioni...       0            3   \n",
       "37   software developer - javascript (cross-platfor...       2            3   \n",
       "39   trust & safety manager, india the uber trust &...       0            3   \n",
       "47   account manager, indonesia territory (based in...       2            3   \n",
       "53   manager, integrated marketing - comedy central...       2            3   \n",
       "54   manager, integrated marketing, vh1-velocity - ...       2            3   \n",
       "57   digital account executive the bet networks adv...       2            3   \n",
       "59   product manager, partner experience tv adverti...       2            3   \n",
       "61   product manager (f/m) travelcircus is seeking ...       2            3   \n",
       "65   production & qa manager we are unuwe believe i...       2            3   \n",
       "69   business developer we are unuwe believe in cit...       0            3   \n",
       "73   android developer (f/m) at dubsmash we search ...       2            3   \n",
       "74   software engineer infrastructure (f/m) at dubs...       2            3   \n",
       "76   mobile product manager (f/m) if you are not em...       2            3   \n",
       "77   ux/ui designer (f/m) design is not just what i...       2            3   \n",
       "78   business development manager - london business...       2            3   \n",
       "79   business development representative - london b...       0            3   \n",
       "84   manager – business development, corporate spon...       2            3   \n",
       "89   business development manager - india business ...       0            3   \n",
       "90   business development, growth partnerships busi...       0            3   \n",
       "93   course developer - cloud at udacity, our missi...       0            3   \n",
       "94   course developer - data engineering at udacity...       0            3   \n",
       "95   course developer - java at udacity, our missio...       0            3   \n",
       "96   course developer - web development at udacity,...       0            3   \n",
       "99   front end web developer 职位描述： 根据产品需求设计web前端技术架...       0            3   \n",
       "102  full stack engineer, partnerships full stack e...       0            3   \n",
       "103  course manager course manager bangalore, india...       2            3   \n",
       "105  application support engineer commerce applicat...       2            3   \n",
       "108  solutions consultant - data migration solution...       2            3   \n",
       "112  french junior operations manager (f/m) descrip...       0            3   \n",
       "114  qa engineer - test automation descriptionwe ar...       2            3   \n",
       "122  partner sales partner sales  partner sales for...       2            3   \n",
       "126  app store manager (m/f) descriptionwith babbel...       0            3   \n",
       "127  web developer this position touches on all asp...       0            3   \n",
       "133  growth marketing manager, display uber is look...       2            3   \n",
       "139  customer success manager (san francisco) descr...       0            3   \n",
       "\n",
       "     label_names prediction_names  \n",
       "2    entry level     senior level  \n",
       "4    entry level     senior level  \n",
       "5    entry level     senior level  \n",
       "6    entry level     senior level  \n",
       "11     mid level     senior level  \n",
       "13     mid level     senior level  \n",
       "19     mid level     senior level  \n",
       "34   entry level     senior level  \n",
       "37     mid level     senior level  \n",
       "39   entry level     senior level  \n",
       "47     mid level     senior level  \n",
       "53     mid level     senior level  \n",
       "54     mid level     senior level  \n",
       "57     mid level     senior level  \n",
       "59     mid level     senior level  \n",
       "61     mid level     senior level  \n",
       "65     mid level     senior level  \n",
       "69   entry level     senior level  \n",
       "73     mid level     senior level  \n",
       "74     mid level     senior level  \n",
       "76     mid level     senior level  \n",
       "77     mid level     senior level  \n",
       "78     mid level     senior level  \n",
       "79   entry level     senior level  \n",
       "84     mid level     senior level  \n",
       "89   entry level     senior level  \n",
       "90   entry level     senior level  \n",
       "93   entry level     senior level  \n",
       "94   entry level     senior level  \n",
       "95   entry level     senior level  \n",
       "96   entry level     senior level  \n",
       "99   entry level     senior level  \n",
       "102  entry level     senior level  \n",
       "103    mid level     senior level  \n",
       "105    mid level     senior level  \n",
       "108    mid level     senior level  \n",
       "112  entry level     senior level  \n",
       "114    mid level     senior level  \n",
       "122    mid level     senior level  \n",
       "126  entry level     senior level  \n",
       "127  entry level     senior level  \n",
       "133    mid level     senior level  \n",
       "139  entry level     senior level  "
      ]
     },
     "execution_count": 176,
     "metadata": {},
     "output_type": "execute_result"
    }
   ],
   "source": [
    "df_test_results[ (df_test_results[\"labels\"] == 0) & (df_test_results[\"predictions\"] == 3) |\n",
    "                 (df_test_results[\"labels\"] == 2) & (df_test_results[\"predictions\"] == 3) \n",
    "               ]"
   ]
  },
  {
   "cell_type": "code",
   "execution_count": 177,
   "metadata": {
    "colab": {
     "base_uri": "https://localhost:8080/"
    },
    "executionInfo": {
     "elapsed": 261,
     "status": "ok",
     "timestamp": 1640282290247,
     "user": {
      "displayName": "pling",
      "photoUrl": "https://lh3.googleusercontent.com/a/default-user=s64",
      "userId": "02620778565141551161"
     },
     "user_tz": -60
    },
    "id": "ktQ1kc5mDHLD",
    "outputId": "0b408e63-f9cf-49f2-c3e4-fb67f130803a"
   },
   "outputs": [
    {
     "name": "stderr",
     "output_type": "stream",
     "text": [
      "/usr/local/lib/python3.7/dist-packages/ipykernel_launcher.py:2: SettingWithCopyWarning: \n",
      "A value is trying to be set on a copy of a slice from a DataFrame.\n",
      "Try using .loc[row_indexer,col_indexer] = value instead\n",
      "\n",
      "See the caveats in the documentation: https://pandas.pydata.org/pandas-docs/stable/user_guide/indexing.html#returning-a-view-versus-a-copy\n",
      "  \n"
     ]
    }
   ],
   "source": [
    "#predict the empty dataset\n",
    "df_pred_data[\"title\"] = 0"
   ]
  },
  {
   "cell_type": "code",
   "execution_count": 178,
   "metadata": {
    "colab": {
     "base_uri": "https://localhost:8080/"
    },
    "executionInfo": {
     "elapsed": 6659,
     "status": "ok",
     "timestamp": 1640282299040,
     "user": {
      "displayName": "pling",
      "photoUrl": "https://lh3.googleusercontent.com/a/default-user=s64",
      "userId": "02620778565141551161"
     },
     "user_tz": -60
    },
    "id": "sRainWUFCsFm",
    "outputId": "06ce2fc2-ed70-4dc0-aad0-418ad83375ce"
   },
   "outputs": [
    {
     "name": "stdout",
     "output_type": "stream",
     "text": [
      "Found GPU at: /device:GPU:0\n",
      "There are 1 GPU(s) available.\n",
      "We will use the GPU: Tesla K80\n",
      "Number of test sentences: 75\n",
      "\n"
     ]
    },
    {
     "name": "stderr",
     "output_type": "stream",
     "text": [
      "/usr/local/lib/python3.7/dist-packages/transformers/tokenization_utils_base.py:2232: FutureWarning: The `pad_to_max_length` argument is deprecated and will be removed in a future version, use `padding=True` or `padding='longest'` to pad to the longest sequence in the batch, or use `padding='max_length'` to pad to a max length. In this case, you can give a specific length with `max_length` (e.g. `max_length=45`) or leave max_length to None to pad to the maximal input size of the model (e.g. 512 for Bert).\n",
      "  FutureWarning,\n"
     ]
    },
    {
     "name": "stdout",
     "output_type": "stream",
     "text": [
      "Predicting labels for 75 test sentences...\n",
      "    DONE.\n"
     ]
    }
   ],
   "source": [
    "df_test_results, model = test_net(df_pred_data, model)"
   ]
  },
  {
   "cell_type": "code",
   "execution_count": 179,
   "metadata": {
    "executionInfo": {
     "elapsed": 69,
     "status": "ok",
     "timestamp": 1640282299045,
     "user": {
      "displayName": "pling",
      "photoUrl": "https://lh3.googleusercontent.com/a/default-user=s64",
      "userId": "02620778565141551161"
     },
     "user_tz": -60
    },
    "id": "6lx3Kq7ACsBq"
   },
   "outputs": [],
   "source": [
    "df_predicted = df_test_results[[\"features\", \"predictions\"]]"
   ]
  },
  {
   "cell_type": "code",
   "execution_count": 180,
   "metadata": {
    "colab": {
     "base_uri": "https://localhost:8080/",
     "height": 424
    },
    "executionInfo": {
     "elapsed": 59,
     "status": "ok",
     "timestamp": 1640282299048,
     "user": {
      "displayName": "pling",
      "photoUrl": "https://lh3.googleusercontent.com/a/default-user=s64",
      "userId": "02620778565141551161"
     },
     "user_tz": -60
    },
    "id": "sbjVcjeS8AgC",
    "outputId": "c95c0bef-9def-4de7-ebe4-743ca8c4dc10"
   },
   "outputs": [
    {
     "data": {
      "text/html": [
       "\n",
       "  <div id=\"df-01e071ec-ba87-4542-a906-410d765819ec\">\n",
       "    <div class=\"colab-df-container\">\n",
       "      <div>\n",
       "<style scoped>\n",
       "    .dataframe tbody tr th:only-of-type {\n",
       "        vertical-align: middle;\n",
       "    }\n",
       "\n",
       "    .dataframe tbody tr th {\n",
       "        vertical-align: top;\n",
       "    }\n",
       "\n",
       "    .dataframe thead th {\n",
       "        text-align: right;\n",
       "    }\n",
       "</style>\n",
       "<table border=\"1\" class=\"dataframe\">\n",
       "  <thead>\n",
       "    <tr style=\"text-align: right;\">\n",
       "      <th></th>\n",
       "      <th>features</th>\n",
       "      <th>predictions</th>\n",
       "    </tr>\n",
       "  </thead>\n",
       "  <tbody>\n",
       "    <tr>\n",
       "      <th>141</th>\n",
       "      <td>customer service netherlands in berlin (m/f) o...</td>\n",
       "      <td>0</td>\n",
       "    </tr>\n",
       "    <tr>\n",
       "      <th>142</th>\n",
       "      <td>devops engineer (m/f) outfittery is europe’s b...</td>\n",
       "      <td>3</td>\n",
       "    </tr>\n",
       "    <tr>\n",
       "      <th>143</th>\n",
       "      <td>head of product management (it) (m/f) outfitte...</td>\n",
       "      <td>3</td>\n",
       "    </tr>\n",
       "    <tr>\n",
       "      <th>144</th>\n",
       "      <td>help desk support (m/f) outfittery is europe’s...</td>\n",
       "      <td>2</td>\n",
       "    </tr>\n",
       "    <tr>\n",
       "      <th>145</th>\n",
       "      <td>intern help desk (m/f) outfittery is europe’s ...</td>\n",
       "      <td>1</td>\n",
       "    </tr>\n",
       "    <tr>\n",
       "      <th>...</th>\n",
       "      <td>...</td>\n",
       "      <td>...</td>\n",
       "    </tr>\n",
       "    <tr>\n",
       "      <th>211</th>\n",
       "      <td>native italian translation internship work in ...</td>\n",
       "      <td>1</td>\n",
       "    </tr>\n",
       "    <tr>\n",
       "      <th>212</th>\n",
       "      <td>international translation internship program (...</td>\n",
       "      <td>1</td>\n",
       "    </tr>\n",
       "    <tr>\n",
       "      <th>213</th>\n",
       "      <td>photography - new york habitat internship phot...</td>\n",
       "      <td>1</td>\n",
       "    </tr>\n",
       "    <tr>\n",
       "      <th>214</th>\n",
       "      <td>high paying part time delivery driver are you ...</td>\n",
       "      <td>0</td>\n",
       "    </tr>\n",
       "    <tr>\n",
       "      <th>215</th>\n",
       "      <td>agile coach (m/f) outfittery is europe’s bigge...</td>\n",
       "      <td>2</td>\n",
       "    </tr>\n",
       "  </tbody>\n",
       "</table>\n",
       "<p>75 rows × 2 columns</p>\n",
       "</div>\n",
       "      <button class=\"colab-df-convert\" onclick=\"convertToInteractive('df-01e071ec-ba87-4542-a906-410d765819ec')\"\n",
       "              title=\"Convert this dataframe to an interactive table.\"\n",
       "              style=\"display:none;\">\n",
       "        \n",
       "  <svg xmlns=\"http://www.w3.org/2000/svg\" height=\"24px\"viewBox=\"0 0 24 24\"\n",
       "       width=\"24px\">\n",
       "    <path d=\"M0 0h24v24H0V0z\" fill=\"none\"/>\n",
       "    <path d=\"M18.56 5.44l.94 2.06.94-2.06 2.06-.94-2.06-.94-.94-2.06-.94 2.06-2.06.94zm-11 1L8.5 8.5l.94-2.06 2.06-.94-2.06-.94L8.5 2.5l-.94 2.06-2.06.94zm10 10l.94 2.06.94-2.06 2.06-.94-2.06-.94-.94-2.06-.94 2.06-2.06.94z\"/><path d=\"M17.41 7.96l-1.37-1.37c-.4-.4-.92-.59-1.43-.59-.52 0-1.04.2-1.43.59L10.3 9.45l-7.72 7.72c-.78.78-.78 2.05 0 2.83L4 21.41c.39.39.9.59 1.41.59.51 0 1.02-.2 1.41-.59l7.78-7.78 2.81-2.81c.8-.78.8-2.07 0-2.86zM5.41 20L4 18.59l7.72-7.72 1.47 1.35L5.41 20z\"/>\n",
       "  </svg>\n",
       "      </button>\n",
       "      \n",
       "  <style>\n",
       "    .colab-df-container {\n",
       "      display:flex;\n",
       "      flex-wrap:wrap;\n",
       "      gap: 12px;\n",
       "    }\n",
       "\n",
       "    .colab-df-convert {\n",
       "      background-color: #E8F0FE;\n",
       "      border: none;\n",
       "      border-radius: 50%;\n",
       "      cursor: pointer;\n",
       "      display: none;\n",
       "      fill: #1967D2;\n",
       "      height: 32px;\n",
       "      padding: 0 0 0 0;\n",
       "      width: 32px;\n",
       "    }\n",
       "\n",
       "    .colab-df-convert:hover {\n",
       "      background-color: #E2EBFA;\n",
       "      box-shadow: 0px 1px 2px rgba(60, 64, 67, 0.3), 0px 1px 3px 1px rgba(60, 64, 67, 0.15);\n",
       "      fill: #174EA6;\n",
       "    }\n",
       "\n",
       "    [theme=dark] .colab-df-convert {\n",
       "      background-color: #3B4455;\n",
       "      fill: #D2E3FC;\n",
       "    }\n",
       "\n",
       "    [theme=dark] .colab-df-convert:hover {\n",
       "      background-color: #434B5C;\n",
       "      box-shadow: 0px 1px 3px 1px rgba(0, 0, 0, 0.15);\n",
       "      filter: drop-shadow(0px 1px 2px rgba(0, 0, 0, 0.3));\n",
       "      fill: #FFFFFF;\n",
       "    }\n",
       "  </style>\n",
       "\n",
       "      <script>\n",
       "        const buttonEl =\n",
       "          document.querySelector('#df-01e071ec-ba87-4542-a906-410d765819ec button.colab-df-convert');\n",
       "        buttonEl.style.display =\n",
       "          google.colab.kernel.accessAllowed ? 'block' : 'none';\n",
       "\n",
       "        async function convertToInteractive(key) {\n",
       "          const element = document.querySelector('#df-01e071ec-ba87-4542-a906-410d765819ec');\n",
       "          const dataTable =\n",
       "            await google.colab.kernel.invokeFunction('convertToInteractive',\n",
       "                                                     [key], {});\n",
       "          if (!dataTable) return;\n",
       "\n",
       "          const docLinkHtml = 'Like what you see? Visit the ' +\n",
       "            '<a target=\"_blank\" href=https://colab.research.google.com/notebooks/data_table.ipynb>data table notebook</a>'\n",
       "            + ' to learn more about interactive tables.';\n",
       "          element.innerHTML = '';\n",
       "          dataTable['output_type'] = 'display_data';\n",
       "          await google.colab.output.renderOutput(dataTable, element);\n",
       "          const docLink = document.createElement('div');\n",
       "          docLink.innerHTML = docLinkHtml;\n",
       "          element.appendChild(docLink);\n",
       "        }\n",
       "      </script>\n",
       "    </div>\n",
       "  </div>\n",
       "  "
      ],
      "text/plain": [
       "                                              features  predictions\n",
       "141  customer service netherlands in berlin (m/f) o...            0\n",
       "142  devops engineer (m/f) outfittery is europe’s b...            3\n",
       "143  head of product management (it) (m/f) outfitte...            3\n",
       "144  help desk support (m/f) outfittery is europe’s...            2\n",
       "145  intern help desk (m/f) outfittery is europe’s ...            1\n",
       "..                                                 ...          ...\n",
       "211  native italian translation internship work in ...            1\n",
       "212  international translation internship program (...            1\n",
       "213  photography - new york habitat internship phot...            1\n",
       "214  high paying part time delivery driver are you ...            0\n",
       "215  agile coach (m/f) outfittery is europe’s bigge...            2\n",
       "\n",
       "[75 rows x 2 columns]"
      ]
     },
     "execution_count": 180,
     "metadata": {},
     "output_type": "execute_result"
    }
   ],
   "source": [
    "df_predicted"
   ]
  },
  {
   "cell_type": "code",
   "execution_count": 181,
   "metadata": {
    "executionInfo": {
     "elapsed": 260,
     "status": "ok",
     "timestamp": 1640282318022,
     "user": {
      "displayName": "pling",
      "photoUrl": "https://lh3.googleusercontent.com/a/default-user=s64",
      "userId": "02620778565141551161"
     },
     "user_tz": -60
    },
    "id": "MXunyEZ5Cr9n"
   },
   "outputs": [],
   "source": [
    "df_predicted.to_csv(\"./drive/MyDrive/Colab Notebooks/clf/df_predicted_small_f1_weighted.49.csv\")"
   ]
  },
  {
   "cell_type": "markdown",
   "metadata": {
    "id": "eZPbnVXN8MUO"
   },
   "source": [
    "**Try with Big Indeed Dataset**"
   ]
  },
  {
   "cell_type": "code",
   "execution_count": 182,
   "metadata": {
    "executionInfo": {
     "elapsed": 292,
     "status": "ok",
     "timestamp": 1640282327593,
     "user": {
      "displayName": "pling",
      "photoUrl": "https://lh3.googleusercontent.com/a/default-user=s64",
      "userId": "02620778565141551161"
     },
     "user_tz": -60
    },
    "id": "E5XL-W4okmSi"
   },
   "outputs": [],
   "source": [
    "#function variables\n",
    "#def train_net(df, example_sentence=1, train_split_value=0.9, batch_size = 8, epochs = 3, model_name=\"bert-base-uncased\", lr = 2e-5, eps = 1e-8)"
   ]
  },
  {
   "cell_type": "code",
   "execution_count": 183,
   "metadata": {
    "colab": {
     "base_uri": "https://localhost:8080/",
     "height": 1000
    },
    "executionInfo": {
     "elapsed": 1664385,
     "status": "ok",
     "timestamp": 1640283993066,
     "user": {
      "displayName": "pling",
      "photoUrl": "https://lh3.googleusercontent.com/a/default-user=s64",
      "userId": "02620778565141551161"
     },
     "user_tz": -60
    },
    "id": "JjhuQ3mkkmSk",
    "outputId": "517e1eca-e791-47e0-c12f-8cc03109b67d"
   },
   "outputs": [
    {
     "name": "stdout",
     "output_type": "stream",
     "text": [
      "Found GPU at: /device:GPU:0\n",
      "There are 1 GPU(s) available.\n",
      "We will use the GPU: Tesla K80\n",
      "Loading BERT tokenizer...\n"
     ]
    },
    {
     "name": "stderr",
     "output_type": "stream",
     "text": [
      "Token indices sequence length is longer than the specified maximum sequence length for this model (871 > 512). Running this sequence through the model will result in indexing errors\n"
     ]
    },
    {
     "name": "stdout",
     "output_type": "stream",
     "text": [
      "                                               features  labels  count\n",
      "3452  vp of retail, usa responsible for the manageme...       3    478\n",
      "3732  brand manager, adult nutrition business unit o...       3    758\n",
      "2399  purchasing agent salary $70,304.00 - $98,425.6...       2    257\n",
      "2486  production supervisor (bilingual) summary the ...       2    400\n",
      "302   production weekender ($33.425/hr) budweiser. b...       0    442\n",
      "random_state 654 is good\n",
      "Df Train Labels: [1 2 0 3] Total: 4\n",
      "Df Keep Labels: [0 3 1 2] Total: 4\n",
      "random_state chosen: 654\n",
      "Sentences: 3772\n",
      "Labels: 3772\n",
      "Batch_size: 8\n",
      " Original:  recruiting coordinator who we are founded in 2013, thistle’s mission is to empower our customers to get and stay healthy while improving the sustainability of our food system. we deliver delicious, organic, healthy, plant-forward meals, cold-pressed juices, and snacks to customers on the west coast who want to put their nutrition on auto-pilot. we don’t want to be just another food delivery startup. our focus is on the health and happiness of our customers, and we are revolutionizing how fresh, nutritious, high-quality food is purchased, manufactured, and delivered at scale. * about the role* we are looking for a dynamic recruiting coordinator to help drive our core recruitment strategy across the organization, support our talent acquisition team, and provide a world-class candidate and recruitment experience. this position reports to the talent acquisition manager and is an integral role in the overall success of our team. all applicants must be able to travel to our vacaville production facility(10%) to assist in coordinating in-person interviews for our teams. what you'll do assist with the design and implementation of the overall talent acquisition and recruitment strategy with a focus on a world-class candidate experience act as the primary point of contact for applicants and hiring teams througout the recruitment and onboarding process publish and update job openings on various job boards; maintain advertising cost metrics review resumes, coordinate candidate interviews, and schedule assessments with appropriate hiring managers and interview panels for non-exempt and exempt positions may conduct initial phone screens and video interviews to create pipelines of qualified candidates for a wide range of non-exempt positions participate in weekly status meetings with hiring managers to establish recruiting needs perform reference and background checks organize and maintain candidate data including resumes, contact information, and onboarding details in various internal databases assist with orientation and onboarding processes in tandem with the people & environment program coordinator assist with sop and policy updates related to the talent acquisition process participate in job fairs and recruiting events may assist with sourcing qualified potential candidates from various platforms and databases to increase candidate pipelines what you'll bring 2+ years of experience as a recruiting coordinator or equivalent; experience with high-volume recruitment a plus excellent verbal and written communication skills, including the ability to clearly and concisely explain information to a variety of audiences and stakeholders ability to work in both a collaborative, team-oriented environment as well as work independently strong organizational and time management skills with the ability to prioritize multiple projects, tasks, and responsibilities ability to successfully and consistently meet deadlines while maintaining attention to detail tech-savvy approach with everyday tasks and communication; comfortable with g-suite, applicant tracking system(lever), and slack a big plus who you are passionate about food sustainability, health & wellness a team player who genuinely enjoys approaching your work with an entrepreneurial spirit - we’re building and scaling fast! has an interest in full life-cycle recruitment and learning new skills why you'll love working at thistle join a diverse, passionate & driven team of all backgrounds generous employee discount team-building and frequent wellness events(remote-friendly) comprehensive health benefits(medical, dental, vision) to fit your needs flexible time off choice of pc or apple equipment diversity, equity, and inclusion are essential values at thistle. we know we'll do our best and most impactful work when we feel we're represented and we belong. we're proud to actively recruit and hire talented people from a wide variety of backgrounds and experiences. we do not discriminate on the basis of race, religion, color, national origin, gender, sexual orientation, age, marital status, veteran status, or disability status. you can get some deeper insight into how we approach dei, along with some statistics on the internal demographics of the company and leadership team, here: https://www.thistle.co/learn/thistle-thoughts/thistle-on-diversity-equity-and-inclusion. job type: full-time\n",
      "Tokenized:  ['recruiting', 'coordinator', 'who', 'we', 'are', 'founded', 'in', '2013', ',', 'thistle', '’', 's', 'mission', 'is', 'to', 'em', '##power', 'our', 'customers', 'to', 'get', 'and', 'stay', 'healthy', 'while', 'improving', 'the', 'sustainability', 'of', 'our', 'food', 'system', '.', 'we', 'deliver', 'delicious', ',', 'organic', ',', 'healthy', ',', 'plant', '-', 'forward', 'meals', ',', 'cold', '-', 'pressed', 'juice', '##s', ',', 'and', 'snacks', 'to', 'customers', 'on', 'the', 'west', 'coast', 'who', 'want', 'to', 'put', 'their', 'nutrition', 'on', 'auto', '-', 'pilot', '.', 'we', 'don', '’', 't', 'want', 'to', 'be', 'just', 'another', 'food', 'delivery', 'startup', '.', 'our', 'focus', 'is', 'on', 'the', 'health', 'and', 'happiness', 'of', 'our', 'customers', ',', 'and', 'we', 'are', 'revolution', '##izing', 'how', 'fresh', ',', 'nut', '##rit', '##ious', ',', 'high', '-', 'quality', 'food', 'is', 'purchased', ',', 'manufactured', ',', 'and', 'delivered', 'at', 'scale', '.', '*', 'about', 'the', 'role', '*', 'we', 'are', 'looking', 'for', 'a', 'dynamic', 'recruiting', 'coordinator', 'to', 'help', 'drive', 'our', 'core', 'recruitment', 'strategy', 'across', 'the', 'organization', ',', 'support', 'our', 'talent', 'acquisition', 'team', ',', 'and', 'provide', 'a', 'world', '-', 'class', 'candidate', 'and', 'recruitment', 'experience', '.', 'this', 'position', 'reports', 'to', 'the', 'talent', 'acquisition', 'manager', 'and', 'is', 'an', 'integral', 'role', 'in', 'the', 'overall', 'success', 'of', 'our', 'team', '.', 'all', 'applicants', 'must', 'be', 'able', 'to', 'travel', 'to', 'our', 'va', '##ca', '##ville', 'production', 'facility', '(', '10', '%', ')', 'to', 'assist', 'in', 'coordinating', 'in', '-', 'person', 'interviews', 'for', 'our', 'teams', '.', 'what', 'you', \"'\", 'll', 'do', 'assist', 'with', 'the', 'design', 'and', 'implementation', 'of', 'the', 'overall', 'talent', 'acquisition', 'and', 'recruitment', 'strategy', 'with', 'a', 'focus', 'on', 'a', 'world', '-', 'class', 'candidate', 'experience', 'act', 'as', 'the', 'primary', 'point', 'of', 'contact', 'for', 'applicants', 'and', 'hiring', 'teams', 'th', '##rou', '##go', '##ut', 'the', 'recruitment', 'and', 'onboard', '##ing', 'process', 'publish', 'and', 'update', 'job', 'openings', 'on', 'various', 'job', 'boards', ';', 'maintain', 'advertising', 'cost', 'metric', '##s', 'review', 'resume', '##s', ',', 'coordinate', 'candidate', 'interviews', ',', 'and', 'schedule', 'assessments', 'with', 'appropriate', 'hiring', 'managers', 'and', 'interview', 'panels', 'for', 'non', '-', 'exempt', 'and', 'exempt', 'positions', 'may', 'conduct', 'initial', 'phone', 'screens', 'and', 'video', 'interviews', 'to', 'create', 'pipeline', '##s', 'of', 'qualified', 'candidates', 'for', 'a', 'wide', 'range', 'of', 'non', '-', 'exempt', 'positions', 'participate', 'in', 'weekly', 'status', 'meetings', 'with', 'hiring', 'managers', 'to', 'establish', 'recruiting', 'needs', 'perform', 'reference', 'and', 'background', 'checks', 'organize', 'and', 'maintain', 'candidate', 'data', 'including', 'resume', '##s', ',', 'contact', 'information', ',', 'and', 'onboard', '##ing', 'details', 'in', 'various', 'internal', 'databases', 'assist', 'with', 'orientation', 'and', 'onboard', '##ing', 'processes', 'in', 'tandem', 'with', 'the', 'people', '&', 'environment', 'program', 'coordinator', 'assist', 'with', 'so', '##p', 'and', 'policy', 'updates', 'related', 'to', 'the', 'talent', 'acquisition', 'process', 'participate', 'in', 'job', 'fairs', 'and', 'recruiting', 'events', 'may', 'assist', 'with', 'sour', '##cing', 'qualified', 'potential', 'candidates', 'from', 'various', 'platforms', 'and', 'databases', 'to', 'increase', 'candidate', 'pipeline', '##s', 'what', 'you', \"'\", 'll', 'bring', '2', '+', 'years', 'of', 'experience', 'as', 'a', 'recruiting', 'coordinator', 'or', 'equivalent', ';', 'experience', 'with', 'high', '-', 'volume', 'recruitment', 'a', 'plus', 'excellent', 'verbal', 'and', 'written', 'communication', 'skills', ',', 'including', 'the', 'ability', 'to', 'clearly', 'and', 'con', '##cise', '##ly', 'explain', 'information', 'to', 'a', 'variety', 'of', 'audiences', 'and', 'stakeholders', 'ability', 'to', 'work', 'in', 'both', 'a', 'collaborative', ',', 'team', '-', 'oriented', 'environment', 'as', 'well', 'as', 'work', 'independently', 'strong', 'organizational', 'and', 'time', 'management', 'skills', 'with', 'the', 'ability', 'to', 'prior', '##iti', '##ze', 'multiple', 'projects', ',', 'tasks', ',', 'and', 'responsibilities', 'ability', 'to', 'successfully', 'and', 'consistently', 'meet', 'deadline', '##s', 'while', 'maintaining', 'attention', 'to', 'detail', 'tech', '-', 'sa', '##v', '##vy', 'approach', 'with', 'everyday', 'tasks', 'and', 'communication', ';', 'comfortable', 'with', 'g', '-', 'suite', ',', 'applicant', 'tracking', 'system', '(', 'lever', ')', ',', 'and', 'slack', 'a', 'big', 'plus', 'who', 'you', 'are', 'passionate', 'about', 'food', 'sustainability', ',', 'health', '&', 'wellness', 'a', 'team', 'player', 'who', 'genuinely', 'enjoys', 'approaching', 'your', 'work', 'with', 'an', 'entrepreneur', '##ial', 'spirit', '-', 'we', '’', 're', 'building', 'and', 'scaling', 'fast', '!', 'has', 'an', 'interest', 'in', 'full', 'life', '-', 'cycle', 'recruitment', 'and', 'learning', 'new', 'skills', 'why', 'you', \"'\", 'll', 'love', 'working', 'at', 'thistle', 'join', 'a', 'diverse', ',', 'passionate', '&', 'driven', 'team', 'of', 'all', 'backgrounds', 'generous', 'employee', 'discount', 'team', '-', 'building', 'and', 'frequent', 'wellness', 'events', '(', 'remote', '-', 'friendly', ')', 'comprehensive', 'health', 'benefits', '(', 'medical', ',', 'dental', ',', 'vision', ')', 'to', 'fit', 'your', 'needs', 'flexible', 'time', 'off', 'choice', 'of', 'pc', 'or', 'apple', 'equipment', 'diversity', ',', 'equity', ',', 'and', 'inclusion', 'are', 'essential', 'values', 'at', 'thistle', '.', 'we', 'know', 'we', \"'\", 'll', 'do', 'our', 'best', 'and', 'most', 'impact', '##ful', 'work', 'when', 'we', 'feel', 'we', \"'\", 're', 'represented', 'and', 'we', 'belong', '.', 'we', \"'\", 're', 'proud', 'to', 'actively', 'recruit', 'and', 'hire', 'talented', 'people', 'from', 'a', 'wide', 'variety', 'of', 'backgrounds', 'and', 'experiences', '.', 'we', 'do', 'not', 'disc', '##rim', '##inate', 'on', 'the', 'basis', 'of', 'race', ',', 'religion', ',', 'color', ',', 'national', 'origin', ',', 'gender', ',', 'sexual', 'orientation', ',', 'age', ',', 'marital', 'status', ',', 'veteran', 'status', ',', 'or', 'disability', 'status', '.', 'you', 'can', 'get', 'some', 'deeper', 'insight', 'into', 'how', 'we', 'approach', 'dei', ',', 'along', 'with', 'some', 'statistics', 'on', 'the', 'internal', 'demographics', 'of', 'the', 'company', 'and', 'leadership', 'team', ',', 'here', ':', 'https', ':', '/', '/', 'www', '.', 'thistle', '.', 'co', '/', 'learn', '/', 'thistle', '-', 'thoughts', '/', 'thistle', '-', 'on', '-', 'diversity', '-', 'equity', '-', 'and', '-', 'inclusion', '.', 'job', 'type', ':', 'full', '-', 'time']\n",
      "Token IDs:  [14357, 10669, 2040, 2057, 2024, 2631, 1999, 2286, 1010, 24328, 1521, 1055, 3260, 2003, 2000, 7861, 11452, 2256, 6304, 2000, 2131, 1998, 2994, 7965, 2096, 9229, 1996, 15169, 1997, 2256, 2833, 2291, 1012, 2057, 8116, 12090, 1010, 7554, 1010, 7965, 1010, 3269, 1011, 2830, 12278, 1010, 3147, 1011, 4508, 10869, 2015, 1010, 1998, 27962, 2000, 6304, 2006, 1996, 2225, 3023, 2040, 2215, 2000, 2404, 2037, 14266, 2006, 8285, 1011, 4405, 1012, 2057, 2123, 1521, 1056, 2215, 2000, 2022, 2074, 2178, 2833, 6959, 22752, 1012, 2256, 3579, 2003, 2006, 1996, 2740, 1998, 8404, 1997, 2256, 6304, 1010, 1998, 2057, 2024, 4329, 6026, 2129, 4840, 1010, 17490, 14778, 6313, 1010, 2152, 1011, 3737, 2833, 2003, 4156, 1010, 7609, 1010, 1998, 5359, 2012, 4094, 1012, 1008, 2055, 1996, 2535, 1008, 2057, 2024, 2559, 2005, 1037, 8790, 14357, 10669, 2000, 2393, 3298, 2256, 4563, 15680, 5656, 2408, 1996, 3029, 1010, 2490, 2256, 5848, 7654, 2136, 1010, 1998, 3073, 1037, 2088, 1011, 2465, 4018, 1998, 15680, 3325, 1012, 2023, 2597, 4311, 2000, 1996, 5848, 7654, 3208, 1998, 2003, 2019, 9897, 2535, 1999, 1996, 3452, 3112, 1997, 2256, 2136, 1012, 2035, 17362, 2442, 2022, 2583, 2000, 3604, 2000, 2256, 12436, 3540, 3077, 2537, 4322, 1006, 2184, 1003, 1007, 2000, 6509, 1999, 19795, 1999, 1011, 2711, 7636, 2005, 2256, 2780, 1012, 2054, 2017, 1005, 2222, 2079, 6509, 2007, 1996, 2640, 1998, 7375, 1997, 1996, 3452, 5848, 7654, 1998, 15680, 5656, 2007, 1037, 3579, 2006, 1037, 2088, 1011, 2465, 4018, 3325, 2552, 2004, 1996, 3078, 2391, 1997, 3967, 2005, 17362, 1998, 14763, 2780, 16215, 22494, 3995, 4904, 1996, 15680, 1998, 27120, 2075, 2832, 10172, 1998, 10651, 3105, 16556, 2006, 2536, 3105, 7923, 1025, 5441, 6475, 3465, 12046, 2015, 3319, 13746, 2015, 1010, 13530, 4018, 7636, 1010, 1998, 6134, 20794, 2007, 6413, 14763, 10489, 1998, 4357, 9320, 2005, 2512, 1011, 11819, 1998, 11819, 4460, 2089, 6204, 3988, 3042, 12117, 1998, 2678, 7636, 2000, 3443, 13117, 2015, 1997, 4591, 5347, 2005, 1037, 2898, 2846, 1997, 2512, 1011, 11819, 4460, 5589, 1999, 4882, 3570, 6295, 2007, 14763, 10489, 2000, 5323, 14357, 3791, 4685, 4431, 1998, 4281, 14148, 10939, 1998, 5441, 4018, 2951, 2164, 13746, 2015, 1010, 3967, 2592, 1010, 1998, 27120, 2075, 4751, 1999, 2536, 4722, 17881, 6509, 2007, 10296, 1998, 27120, 2075, 6194, 1999, 18231, 2007, 1996, 2111, 1004, 4044, 2565, 10669, 6509, 2007, 2061, 2361, 1998, 3343, 14409, 3141, 2000, 1996, 5848, 7654, 2832, 5589, 1999, 3105, 21947, 1998, 14357, 2824, 2089, 6509, 2007, 14768, 6129, 4591, 4022, 5347, 2013, 2536, 7248, 1998, 17881, 2000, 3623, 4018, 13117, 2015, 2054, 2017, 1005, 2222, 3288, 1016, 1009, 2086, 1997, 3325, 2004, 1037, 14357, 10669, 2030, 5662, 1025, 3325, 2007, 2152, 1011, 3872, 15680, 1037, 4606, 6581, 12064, 1998, 2517, 4807, 4813, 1010, 2164, 1996, 3754, 2000, 4415, 1998, 9530, 18380, 2135, 4863, 2592, 2000, 1037, 3528, 1997, 9501, 1998, 22859, 3754, 2000, 2147, 1999, 2119, 1037, 12317, 1010, 2136, 1011, 8048, 4044, 2004, 2092, 2004, 2147, 9174, 2844, 13296, 1998, 2051, 2968, 4813, 2007, 1996, 3754, 2000, 3188, 25090, 4371, 3674, 3934, 1010, 8518, 1010, 1998, 10198, 3754, 2000, 5147, 1998, 10862, 3113, 15117, 2015, 2096, 8498, 3086, 2000, 6987, 6627, 1011, 7842, 2615, 10736, 3921, 2007, 10126, 8518, 1998, 4807, 1025, 6625, 2007, 1043, 1011, 7621, 1010, 23761, 9651, 2291, 1006, 15929, 1007, 1010, 1998, 19840, 1037, 2502, 4606, 2040, 2017, 2024, 13459, 2055, 2833, 15169, 1010, 2740, 1004, 25860, 1037, 2136, 2447, 2040, 15958, 15646, 8455, 2115, 2147, 2007, 2019, 10670, 4818, 4382, 1011, 2057, 1521, 2128, 2311, 1998, 25169, 3435, 999, 2038, 2019, 3037, 1999, 2440, 2166, 1011, 5402, 15680, 1998, 4083, 2047, 4813, 2339, 2017, 1005, 2222, 2293, 2551, 2012, 24328, 3693, 1037, 7578, 1010, 13459, 1004, 5533, 2136, 1997, 2035, 15406, 12382, 7904, 19575, 2136, 1011, 2311, 1998, 6976, 25860, 2824, 1006, 6556, 1011, 5379, 1007, 7721, 2740, 6666, 1006, 2966, 1010, 11394, 1010, 4432, 1007, 2000, 4906, 2115, 3791, 12379, 2051, 2125, 3601, 1997, 7473, 2030, 6207, 3941, 8906, 1010, 10067, 1010, 1998, 10502, 2024, 6827, 5300, 2012, 24328, 1012, 2057, 2113, 2057, 1005, 2222, 2079, 2256, 2190, 1998, 2087, 4254, 3993, 2147, 2043, 2057, 2514, 2057, 1005, 2128, 3421, 1998, 2057, 7141, 1012, 2057, 1005, 2128, 7098, 2000, 8851, 13024, 1998, 10887, 10904, 2111, 2013, 1037, 2898, 3528, 1997, 15406, 1998, 6322, 1012, 2057, 2079, 2025, 5860, 20026, 14776, 2006, 1996, 3978, 1997, 2679, 1010, 4676, 1010, 3609, 1010, 2120, 4761, 1010, 5907, 1010, 4424, 10296, 1010, 2287, 1010, 23143, 3570, 1010, 8003, 3570, 1010, 2030, 11980, 3570, 1012, 2017, 2064, 2131, 2070, 6748, 12369, 2046, 2129, 2057, 3921, 14866, 1010, 2247, 2007, 2070, 6747, 2006, 1996, 4722, 28321, 1997, 1996, 2194, 1998, 4105, 2136, 1010, 2182, 1024, 16770, 1024, 1013, 1013, 7479, 1012, 24328, 1012, 2522, 1013, 4553, 1013, 24328, 1011, 4301, 1013, 24328, 1011, 2006, 1011, 8906, 1011, 10067, 1011, 1998, 1011, 10502, 1012, 3105, 2828, 1024, 2440, 1011, 2051]\n"
     ]
    },
    {
     "name": "stderr",
     "output_type": "stream",
     "text": [
      "Truncation was not explicitly activated but `max_length` is provided a specific value, please use `truncation=True` to explicitly truncate examples to max length. Defaulting to 'longest_first' truncation strategy. If you encode pairs of sequences (GLUE-style) with the tokenizer you can select this strategy more precisely by providing a specific strategy to `truncation`.\n"
     ]
    },
    {
     "name": "stdout",
     "output_type": "stream",
     "text": [
      "Max sentence length:  5301\n"
     ]
    },
    {
     "name": "stderr",
     "output_type": "stream",
     "text": [
      "/usr/local/lib/python3.7/dist-packages/transformers/tokenization_utils_base.py:2232: FutureWarning: The `pad_to_max_length` argument is deprecated and will be removed in a future version, use `padding=True` or `padding='longest'` to pad to the longest sequence in the batch, or use `padding='max_length'` to pad to a max length. In this case, you can give a specific length with `max_length` (e.g. `max_length=45`) or leave max_length to None to pad to the maximal input size of the model (e.g. 512 for Bert).\n",
      "  FutureWarning,\n"
     ]
    },
    {
     "name": "stdout",
     "output_type": "stream",
     "text": [
      "3,394 training samples\n",
      "  378 validation samples\n"
     ]
    },
    {
     "name": "stderr",
     "output_type": "stream",
     "text": [
      "Some weights of the model checkpoint at bert-base-uncased were not used when initializing BertForSequenceClassification: ['cls.seq_relationship.bias', 'cls.predictions.transform.dense.bias', 'cls.predictions.transform.dense.weight', 'cls.predictions.transform.LayerNorm.bias', 'cls.seq_relationship.weight', 'cls.predictions.bias', 'cls.predictions.transform.LayerNorm.weight', 'cls.predictions.decoder.weight']\n",
      "- This IS expected if you are initializing BertForSequenceClassification from the checkpoint of a model trained on another task or with another architecture (e.g. initializing a BertForSequenceClassification model from a BertForPreTraining model).\n",
      "- This IS NOT expected if you are initializing BertForSequenceClassification from the checkpoint of a model that you expect to be exactly identical (initializing a BertForSequenceClassification model from a BertForSequenceClassification model).\n",
      "Some weights of BertForSequenceClassification were not initialized from the model checkpoint at bert-base-uncased and are newly initialized: ['classifier.bias', 'classifier.weight']\n",
      "You should probably TRAIN this model on a down-stream task to be able to use it for predictions and inference.\n"
     ]
    },
    {
     "name": "stdout",
     "output_type": "stream",
     "text": [
      "The BERT model has 201 different named parameters.\n",
      "\n",
      "==== Embedding Layer ====\n",
      "\n",
      "bert.embeddings.word_embeddings.weight                  (30522, 768)\n",
      "bert.embeddings.position_embeddings.weight                (512, 768)\n",
      "bert.embeddings.token_type_embeddings.weight                (2, 768)\n",
      "bert.embeddings.LayerNorm.weight                              (768,)\n",
      "bert.embeddings.LayerNorm.bias                                (768,)\n",
      "\n",
      "==== First Transformer ====\n",
      "\n",
      "bert.encoder.layer.0.attention.self.query.weight          (768, 768)\n",
      "bert.encoder.layer.0.attention.self.query.bias                (768,)\n",
      "bert.encoder.layer.0.attention.self.key.weight            (768, 768)\n",
      "bert.encoder.layer.0.attention.self.key.bias                  (768,)\n",
      "bert.encoder.layer.0.attention.self.value.weight          (768, 768)\n",
      "bert.encoder.layer.0.attention.self.value.bias                (768,)\n",
      "bert.encoder.layer.0.attention.output.dense.weight        (768, 768)\n",
      "bert.encoder.layer.0.attention.output.dense.bias              (768,)\n",
      "bert.encoder.layer.0.attention.output.LayerNorm.weight        (768,)\n",
      "bert.encoder.layer.0.attention.output.LayerNorm.bias          (768,)\n",
      "bert.encoder.layer.0.intermediate.dense.weight           (3072, 768)\n",
      "bert.encoder.layer.0.intermediate.dense.bias                 (3072,)\n",
      "bert.encoder.layer.0.output.dense.weight                 (768, 3072)\n",
      "bert.encoder.layer.0.output.dense.bias                        (768,)\n",
      "bert.encoder.layer.0.output.LayerNorm.weight                  (768,)\n",
      "bert.encoder.layer.0.output.LayerNorm.bias                    (768,)\n",
      "\n",
      "==== Output Layer ====\n",
      "\n",
      "bert.pooler.dense.weight                                  (768, 768)\n",
      "bert.pooler.dense.bias                                        (768,)\n",
      "classifier.weight                                           (4, 768)\n",
      "classifier.bias                                                 (4,)\n",
      "\n",
      "======== Epoch 1 / 2 ========\n",
      "Training...\n",
      "  Batch    40  of    425.    Elapsed: 0:01:07.\n",
      "  Batch    80  of    425.    Elapsed: 0:02:15.\n",
      "  Batch   120  of    425.    Elapsed: 0:03:22.\n",
      "  Batch   160  of    425.    Elapsed: 0:04:28.\n",
      "  Batch   200  of    425.    Elapsed: 0:05:35.\n",
      "  Batch   240  of    425.    Elapsed: 0:06:42.\n",
      "  Batch   280  of    425.    Elapsed: 0:07:49.\n",
      "  Batch   320  of    425.    Elapsed: 0:08:55.\n",
      "  Batch   360  of    425.    Elapsed: 0:10:02.\n",
      "  Batch   400  of    425.    Elapsed: 0:11:11.\n",
      "\n",
      "  Average training loss: 0.56\n",
      "  Training epoch took: 0:11:52\n",
      "\n",
      "Running Validation...\n",
      "  Accuracy: 0.90\n",
      "  Validation Loss: 0.32\n",
      "  Validation took: 0:00:27\n",
      "\n",
      "======== Epoch 2 / 2 ========\n",
      "Training...\n",
      "  Batch    40  of    425.    Elapsed: 0:01:11.\n",
      "  Batch    80  of    425.    Elapsed: 0:02:18.\n",
      "  Batch   120  of    425.    Elapsed: 0:03:25.\n",
      "  Batch   160  of    425.    Elapsed: 0:04:32.\n",
      "  Batch   200  of    425.    Elapsed: 0:05:39.\n",
      "  Batch   240  of    425.    Elapsed: 0:06:46.\n",
      "  Batch   280  of    425.    Elapsed: 0:07:53.\n",
      "  Batch   320  of    425.    Elapsed: 0:09:00.\n",
      "  Batch   360  of    425.    Elapsed: 0:10:07.\n",
      "  Batch   400  of    425.    Elapsed: 0:11:13.\n",
      "\n",
      "  Average training loss: 0.25\n",
      "  Training epoch took: 0:11:54\n",
      "\n",
      "Running Validation...\n",
      "  Accuracy: 0.90\n",
      "  Validation Loss: 0.32\n",
      "  Validation took: 0:00:27\n",
      "\n",
      "Training complete!\n",
      "Total training took 0:24:40 (h:mm:ss)\n",
      "       Training Loss  Valid. Loss  Valid. Accur. Training Time Validation Time\n",
      "epoch                                                                         \n",
      "1               0.56         0.32            0.9       0:11:52         0:00:27\n",
      "2               0.25         0.32            0.9       0:11:54         0:00:27\n"
     ]
    },
    {
     "data": {
      "image/png": "[encoded data removed]",
      "text/plain": [
       "<Figure size 864x432 with 1 Axes>"
      ]
     },
     "metadata": {},
     "output_type": "display_data"
    },
    {
     "name": "stdout",
     "output_type": "stream",
     "text": [
      "Number of test sentences: 420\n",
      "\n"
     ]
    },
    {
     "name": "stderr",
     "output_type": "stream",
     "text": [
      "/usr/local/lib/python3.7/dist-packages/transformers/tokenization_utils_base.py:2232: FutureWarning: The `pad_to_max_length` argument is deprecated and will be removed in a future version, use `padding=True` or `padding='longest'` to pad to the longest sequence in the batch, or use `padding='max_length'` to pad to a max length. In this case, you can give a specific length with `max_length` (e.g. `max_length=45`) or leave max_length to None to pad to the maximal input size of the model (e.g. 512 for Bert).\n",
      "  FutureWarning,\n"
     ]
    },
    {
     "name": "stdout",
     "output_type": "stream",
     "text": [
      "Predicting labels for 420 test sentences...\n",
      "    DONE.\n"
     ]
    }
   ],
   "source": [
    "#train model\n",
    "df_train_res, model, tokenizer = train_net(df=df_big_train, epochs=2, model_name=\"bert-base-uncased\")\n",
    "df_model = model"
   ]
  },
  {
   "cell_type": "code",
   "execution_count": 184,
   "metadata": {
    "colab": {
     "base_uri": "https://localhost:8080/"
    },
    "executionInfo": {
     "elapsed": 43505,
     "status": "ok",
     "timestamp": 1640284036539,
     "user": {
      "displayName": "pling",
      "photoUrl": "https://lh3.googleusercontent.com/a/default-user=s64",
      "userId": "02620778565141551161"
     },
     "user_tz": -60
    },
    "id": "4mBQJO8bkmSl",
    "outputId": "1df6c3f3-9b9a-412e-ab5b-d57a10b644ef"
   },
   "outputs": [
    {
     "name": "stdout",
     "output_type": "stream",
     "text": [
      "Found GPU at: /device:GPU:0\n",
      "There are 1 GPU(s) available.\n",
      "We will use the GPU: Tesla K80\n",
      "Number of test sentences: 466\n",
      "\n"
     ]
    },
    {
     "name": "stderr",
     "output_type": "stream",
     "text": [
      "/usr/local/lib/python3.7/dist-packages/transformers/tokenization_utils_base.py:2232: FutureWarning: The `pad_to_max_length` argument is deprecated and will be removed in a future version, use `padding=True` or `padding='longest'` to pad to the longest sequence in the batch, or use `padding='max_length'` to pad to a max length. In this case, you can give a specific length with `max_length` (e.g. `max_length=45`) or leave max_length to None to pad to the maximal input size of the model (e.g. 512 for Bert).\n",
      "  FutureWarning,\n"
     ]
    },
    {
     "name": "stdout",
     "output_type": "stream",
     "text": [
      "Predicting labels for 466 test sentences...\n",
      "    DONE.\n"
     ]
    }
   ],
   "source": [
    "#test the model with df_val from our indeed set\n",
    "df_test_results, model = test_net(df_big_val, model)\n",
    "df_test_results.to_csv(\"./drive/MyDrive/Colab Notebooks/clf/reports/df_big_val_test_results.csv\")"
   ]
  },
  {
   "cell_type": "markdown",
   "metadata": {
    "id": "n7UZpm3KkGuR"
   },
   "source": [
    "The model trained on long indeed summaries performs much better and reaches accuracy and f1 scores of .9 on its on validation set. Here, too, the model has most difficulties deciding between adjacent classes, which makes sense."
   ]
  },
  {
   "cell_type": "code",
   "execution_count": 185,
   "metadata": {
    "colab": {
     "base_uri": "https://localhost:8080/"
    },
    "executionInfo": {
     "elapsed": 34,
     "status": "ok",
     "timestamp": 1640284036544,
     "user": {
      "displayName": "pling",
      "photoUrl": "https://lh3.googleusercontent.com/a/default-user=s64",
      "userId": "02620778565141551161"
     },
     "user_tz": -60
    },
    "id": "CNVqXxG5kmSm",
    "outputId": "c37f5e8e-3702-4bf0-d7cc-628a979c3b1e"
   },
   "outputs": [
    {
     "name": "stdout",
     "output_type": "stream",
     "text": [
      "['0 entry level', '1 internship', '2 mid level', '3 senior level']\n",
      "4\n",
      "4\n",
      "4\n",
      "Classification Report:\n",
      "                precision    recall  f1-score   support\n",
      "\n",
      " 0 entry level       0.93      0.91      0.92       123\n",
      "  1 internship       0.98      1.00      0.99       114\n",
      "   2 mid level       0.82      0.79      0.81       117\n",
      "3 senior level       0.88      0.91      0.89       112\n",
      "\n",
      "      accuracy                           0.90       466\n",
      "     macro avg       0.90      0.90      0.90       466\n",
      "  weighted avg       0.90      0.90      0.90       466\n",
      "\n"
     ]
    }
   ],
   "source": [
    "#get classification report\n",
    "report = class_report(df_test_results, uniques)\n",
    "\n",
    "df_class_report = pd.DataFrame(report).transpose()\n",
    "df_class_report.to_excel(\"./drive/MyDrive/Colab Notebooks/clf/reports/df_big_val_class_rep.xlsx\")"
   ]
  },
  {
   "cell_type": "code",
   "execution_count": 186,
   "metadata": {
    "colab": {
     "base_uri": "https://localhost:8080/",
     "height": 374
    },
    "executionInfo": {
     "elapsed": 591,
     "status": "ok",
     "timestamp": 1640284037400,
     "user": {
      "displayName": "pling",
      "photoUrl": "https://lh3.googleusercontent.com/a/default-user=s64",
      "userId": "02620778565141551161"
     },
     "user_tz": -60
    },
    "id": "m_Wyxgb5kmSn",
    "outputId": "59e4d484-ebe5-49ed-f517-722230d74920"
   },
   "outputs": [
    {
     "name": "stdout",
     "output_type": "stream",
     "text": [
      "{0, 1, 2, 3}\n"
     ]
    },
    {
     "data": {
      "image/png": "[encoded data removed]",
      "text/plain": [
       "<Figure size 360x216 with 2 Axes>"
      ]
     },
     "metadata": {},
     "output_type": "display_data"
    }
   ],
   "source": [
    "#confusion matrix report\n",
    "cm_plot = cm_report(df_test_results, uniques, figsize=(5,3))\n",
    "cm_plot.figure.savefig(\"./drive/MyDrive/Colab Notebooks/clf/reports/df_big_val_cm.png\", bbox_inches = 'tight')"
   ]
  },
  {
   "cell_type": "code",
   "execution_count": 189,
   "metadata": {
    "colab": {
     "base_uri": "https://localhost:8080/"
    },
    "executionInfo": {
     "elapsed": 4703,
     "status": "ok",
     "timestamp": 1640284064985,
     "user": {
      "displayName": "pling",
      "photoUrl": "https://lh3.googleusercontent.com/a/default-user=s64",
      "userId": "02620778565141551161"
     },
     "user_tz": -60
    },
    "id": "hboTBiqSkmSo",
    "outputId": "a4ad5d2a-b65c-4080-980a-f5fd6936ce17"
   },
   "outputs": [
    {
     "name": "stdout",
     "output_type": "stream",
     "text": [
      "Saving model to ./drive/MyDrive/model_save/model_big_sum_f1_weighted_.90/\n"
     ]
    }
   ],
   "source": [
    "#save the model\n",
    "model_name = \"model_big_sum_f1_weighted_.90\"\n",
    "save_model(model_name, model, tokenizer)"
   ]
  },
  {
   "cell_type": "markdown",
   "metadata": {
    "id": "b9owZzyFkmSp"
   },
   "source": [
    "Let's see how our model performs on the provided labelled data set, df_val_data:"
   ]
  },
  {
   "cell_type": "code",
   "execution_count": 190,
   "metadata": {
    "colab": {
     "base_uri": "https://localhost:8080/"
    },
    "executionInfo": {
     "elapsed": 15378,
     "status": "ok",
     "timestamp": 1640284080996,
     "user": {
      "displayName": "pling",
      "photoUrl": "https://lh3.googleusercontent.com/a/default-user=s64",
      "userId": "02620778565141551161"
     },
     "user_tz": -60
    },
    "id": "2amn16A4kmSq",
    "outputId": "1575eb1f-d4b8-4e01-ff80-712a3063ad9e"
   },
   "outputs": [
    {
     "name": "stdout",
     "output_type": "stream",
     "text": [
      "Found GPU at: /device:GPU:0\n",
      "There are 1 GPU(s) available.\n",
      "We will use the GPU: Tesla K80\n",
      "Number of test sentences: 141\n",
      "\n"
     ]
    },
    {
     "name": "stderr",
     "output_type": "stream",
     "text": [
      "/usr/local/lib/python3.7/dist-packages/transformers/tokenization_utils_base.py:2232: FutureWarning: The `pad_to_max_length` argument is deprecated and will be removed in a future version, use `padding=True` or `padding='longest'` to pad to the longest sequence in the batch, or use `padding='max_length'` to pad to a max length. In this case, you can give a specific length with `max_length` (e.g. `max_length=45`) or leave max_length to None to pad to the maximal input size of the model (e.g. 512 for Bert).\n",
      "  FutureWarning,\n"
     ]
    },
    {
     "name": "stdout",
     "output_type": "stream",
     "text": [
      "Predicting labels for 141 test sentences...\n",
      "    DONE.\n"
     ]
    }
   ],
   "source": [
    "#test the model with df_val_data\n",
    "df_test_results, model = test_net(df_val_data, model)\n",
    "df_test_results.to_csv(\"./drive/MyDrive/Colab Notebooks/clf/reports/df_big_val_data_test_results.csv\")"
   ]
  },
  {
   "cell_type": "markdown",
   "metadata": {
    "id": "sXOTdfZvkmSr"
   },
   "source": [
    "The performance is again significantly worse, even though the f1-scores for internship is still good, and teaches an overal f1 weighted of .6. We can therefore assume that our predictions would achieve an f1-score of about .6. From the confusion matric we can see that the problem has more difficulties chosing between adjacent classes, e.g. entry and mid level or mid and senior level which makes sense. It has an easy time finding internship instances, however, these seem to be particularly well defined by certain keywords such as \"intern\" or \"internship\"."
   ]
  },
  {
   "cell_type": "code",
   "execution_count": 191,
   "metadata": {
    "colab": {
     "base_uri": "https://localhost:8080/"
    },
    "executionInfo": {
     "elapsed": 296,
     "status": "ok",
     "timestamp": 1640284101905,
     "user": {
      "displayName": "pling",
      "photoUrl": "https://lh3.googleusercontent.com/a/default-user=s64",
      "userId": "02620778565141551161"
     },
     "user_tz": -60
    },
    "id": "zMNFKosPkmSs",
    "outputId": "3b8b7c30-837c-4247-c607-c21eba5636db"
   },
   "outputs": [
    {
     "name": "stdout",
     "output_type": "stream",
     "text": [
      "['0 entry level', '1 internship', '2 mid level', '3 senior level']\n",
      "4\n",
      "4\n",
      "4\n",
      "Classification Report:\n",
      "                precision    recall  f1-score   support\n",
      "\n",
      " 0 entry level       0.67      0.27      0.38        37\n",
      "  1 internship       0.94      1.00      0.97        15\n",
      "   2 mid level       0.40      0.62      0.49        32\n",
      "3 senior level       0.70      0.74      0.72        57\n",
      "\n",
      "      accuracy                           0.62       141\n",
      "     macro avg       0.68      0.66      0.64       141\n",
      "  weighted avg       0.65      0.62      0.60       141\n",
      "\n"
     ]
    }
   ],
   "source": [
    "#get classification report\n",
    "report = class_report(df_test_results, uniques)\n",
    "\n",
    "df_class_report = pd.DataFrame(report).transpose()\n",
    "df_class_report.to_excel(\"./drive/MyDrive/Colab Notebooks/clf/reports/df_big_val_data_class_rep.xlsx\")"
   ]
  },
  {
   "cell_type": "code",
   "execution_count": 192,
   "metadata": {
    "colab": {
     "base_uri": "https://localhost:8080/",
     "height": 374
    },
    "executionInfo": {
     "elapsed": 656,
     "status": "ok",
     "timestamp": 1640284103495,
     "user": {
      "displayName": "pling",
      "photoUrl": "https://lh3.googleusercontent.com/a/default-user=s64",
      "userId": "02620778565141551161"
     },
     "user_tz": -60
    },
    "id": "p9gyThkskmSu",
    "outputId": "38230d10-7308-4647-f10f-309b44e308de"
   },
   "outputs": [
    {
     "name": "stdout",
     "output_type": "stream",
     "text": [
      "{0, 1, 2, 3}\n"
     ]
    },
    {
     "data": {
      "image/png": "[encoded data removed]",
      "text/plain": [
       "<Figure size 360x216 with 2 Axes>"
      ]
     },
     "metadata": {},
     "output_type": "display_data"
    }
   ],
   "source": [
    "#confusion matrix report\n",
    "cm_plot = cm_report(df_test_results, uniques, figsize=(5,3))\n",
    "cm_plot.figure.savefig(\"./drive/MyDrive/Colab Notebooks/clf/reports/df_big_val_data_cm.png\", bbox_inches = 'tight')"
   ]
  },
  {
   "cell_type": "code",
   "execution_count": 193,
   "metadata": {
    "executionInfo": {
     "elapsed": 264,
     "status": "ok",
     "timestamp": 1640284103756,
     "user": {
      "displayName": "pling",
      "photoUrl": "https://lh3.googleusercontent.com/a/default-user=s64",
      "userId": "02620778565141551161"
     },
     "user_tz": -60
    },
    "id": "wMZH1gKkkmSu"
   },
   "outputs": [],
   "source": [
    "df_test_results[\"label_names\"] = np.nan\n",
    "for i in range(len(df_test_results)):\n",
    "  df_test_results.loc[i, \"label_names\"] = uniques[df_test_results.iloc[i][\"labels\"]]\n",
    "\n",
    "df_test_results[\"prediction_names\"] = np.nan\n",
    "for i in range(len(df_test_results)):\n",
    "  df_test_results.loc[i, \"prediction_names\"] = uniques[df_test_results.iloc[i][\"predictions\"]]"
   ]
  },
  {
   "cell_type": "markdown",
   "metadata": {
    "id": "hJS4S08YkmSv"
   },
   "source": [
    "Again, in some mislabelled cases, one could argue that the model actually labeled better than what the original label was, such as at index 0 (already mentioned before. In other cases it clearly labelled wrong (\"junior manager\" as senior at 121."
   ]
  },
  {
   "cell_type": "code",
   "execution_count": 194,
   "metadata": {
    "colab": {
     "base_uri": "https://localhost:8080/",
     "height": 1000
    },
    "executionInfo": {
     "elapsed": 31,
     "status": "ok",
     "timestamp": 1640284105258,
     "user": {
      "displayName": "pling",
      "photoUrl": "https://lh3.googleusercontent.com/a/default-user=s64",
      "userId": "02620778565141551161"
     },
     "user_tz": -60
    },
    "id": "Ixpwk67RkmSv",
    "outputId": "58fa65b1-18c2-4a85-dc25-0804f3014734"
   },
   "outputs": [
    {
     "data": {
      "text/html": [
       "\n",
       "  <div id=\"df-7e4a001b-0273-4a4f-bcc3-41141625bfff\">\n",
       "    <div class=\"colab-df-container\">\n",
       "      <div>\n",
       "<style scoped>\n",
       "    .dataframe tbody tr th:only-of-type {\n",
       "        vertical-align: middle;\n",
       "    }\n",
       "\n",
       "    .dataframe tbody tr th {\n",
       "        vertical-align: top;\n",
       "    }\n",
       "\n",
       "    .dataframe thead th {\n",
       "        text-align: right;\n",
       "    }\n",
       "</style>\n",
       "<table border=\"1\" class=\"dataframe\">\n",
       "  <thead>\n",
       "    <tr style=\"text-align: right;\">\n",
       "      <th></th>\n",
       "      <th>features</th>\n",
       "      <th>labels</th>\n",
       "      <th>predictions</th>\n",
       "      <th>label_names</th>\n",
       "      <th>prediction_names</th>\n",
       "    </tr>\n",
       "  </thead>\n",
       "  <tbody>\n",
       "    <tr>\n",
       "      <th>0</th>\n",
       "      <td>frontend engineer (m/f) outfittery is europe’s...</td>\n",
       "      <td>0</td>\n",
       "      <td>2</td>\n",
       "      <td>entry level</td>\n",
       "      <td>mid level</td>\n",
       "    </tr>\n",
       "    <tr>\n",
       "      <th>4</th>\n",
       "      <td>ibm websphere portal developer job description...</td>\n",
       "      <td>0</td>\n",
       "      <td>2</td>\n",
       "      <td>entry level</td>\n",
       "      <td>mid level</td>\n",
       "    </tr>\n",
       "    <tr>\n",
       "      <th>6</th>\n",
       "      <td>java developer job description pamet is lookin...</td>\n",
       "      <td>0</td>\n",
       "      <td>3</td>\n",
       "      <td>entry level</td>\n",
       "      <td>senior level</td>\n",
       "    </tr>\n",
       "    <tr>\n",
       "      <th>13</th>\n",
       "      <td>frontend engineer (full-stack) descriptionwe a...</td>\n",
       "      <td>2</td>\n",
       "      <td>3</td>\n",
       "      <td>mid level</td>\n",
       "      <td>senior level</td>\n",
       "    </tr>\n",
       "    <tr>\n",
       "      <th>23</th>\n",
       "      <td>backend geek company descriptiontripigator is ...</td>\n",
       "      <td>0</td>\n",
       "      <td>2</td>\n",
       "      <td>entry level</td>\n",
       "      <td>mid level</td>\n",
       "    </tr>\n",
       "    <tr>\n",
       "      <th>26</th>\n",
       "      <td>staff accountant job purpose:   ensure all fin...</td>\n",
       "      <td>0</td>\n",
       "      <td>2</td>\n",
       "      <td>entry level</td>\n",
       "      <td>mid level</td>\n",
       "    </tr>\n",
       "    <tr>\n",
       "      <th>34</th>\n",
       "      <td>customer success manager (remote) descriptioni...</td>\n",
       "      <td>0</td>\n",
       "      <td>2</td>\n",
       "      <td>entry level</td>\n",
       "      <td>mid level</td>\n",
       "    </tr>\n",
       "    <tr>\n",
       "      <th>39</th>\n",
       "      <td>trust &amp; safety manager, india the uber trust &amp;...</td>\n",
       "      <td>0</td>\n",
       "      <td>3</td>\n",
       "      <td>entry level</td>\n",
       "      <td>senior level</td>\n",
       "    </tr>\n",
       "    <tr>\n",
       "      <th>46</th>\n",
       "      <td>customer success representative (indonesia ter...</td>\n",
       "      <td>0</td>\n",
       "      <td>2</td>\n",
       "      <td>entry level</td>\n",
       "      <td>mid level</td>\n",
       "    </tr>\n",
       "    <tr>\n",
       "      <th>47</th>\n",
       "      <td>account manager, indonesia territory (based in...</td>\n",
       "      <td>2</td>\n",
       "      <td>3</td>\n",
       "      <td>mid level</td>\n",
       "      <td>senior level</td>\n",
       "    </tr>\n",
       "    <tr>\n",
       "      <th>53</th>\n",
       "      <td>manager, integrated marketing - comedy central...</td>\n",
       "      <td>2</td>\n",
       "      <td>3</td>\n",
       "      <td>mid level</td>\n",
       "      <td>senior level</td>\n",
       "    </tr>\n",
       "    <tr>\n",
       "      <th>54</th>\n",
       "      <td>manager, integrated marketing, vh1-velocity - ...</td>\n",
       "      <td>2</td>\n",
       "      <td>3</td>\n",
       "      <td>mid level</td>\n",
       "      <td>senior level</td>\n",
       "    </tr>\n",
       "    <tr>\n",
       "      <th>69</th>\n",
       "      <td>business developer we are unuwe believe in cit...</td>\n",
       "      <td>0</td>\n",
       "      <td>2</td>\n",
       "      <td>entry level</td>\n",
       "      <td>mid level</td>\n",
       "    </tr>\n",
       "    <tr>\n",
       "      <th>78</th>\n",
       "      <td>business development manager - london business...</td>\n",
       "      <td>2</td>\n",
       "      <td>3</td>\n",
       "      <td>mid level</td>\n",
       "      <td>senior level</td>\n",
       "    </tr>\n",
       "    <tr>\n",
       "      <th>79</th>\n",
       "      <td>business development representative - london b...</td>\n",
       "      <td>0</td>\n",
       "      <td>3</td>\n",
       "      <td>entry level</td>\n",
       "      <td>senior level</td>\n",
       "    </tr>\n",
       "    <tr>\n",
       "      <th>81</th>\n",
       "      <td>product manager the product team at mattermark...</td>\n",
       "      <td>0</td>\n",
       "      <td>2</td>\n",
       "      <td>entry level</td>\n",
       "      <td>mid level</td>\n",
       "    </tr>\n",
       "    <tr>\n",
       "      <th>84</th>\n",
       "      <td>manager – business development, corporate spon...</td>\n",
       "      <td>2</td>\n",
       "      <td>3</td>\n",
       "      <td>mid level</td>\n",
       "      <td>senior level</td>\n",
       "    </tr>\n",
       "    <tr>\n",
       "      <th>86</th>\n",
       "      <td>business office manager the business office ma...</td>\n",
       "      <td>0</td>\n",
       "      <td>3</td>\n",
       "      <td>entry level</td>\n",
       "      <td>senior level</td>\n",
       "    </tr>\n",
       "    <tr>\n",
       "      <th>87</th>\n",
       "      <td>manual qa tester (m/f) descriptionwith babbel ...</td>\n",
       "      <td>0</td>\n",
       "      <td>2</td>\n",
       "      <td>entry level</td>\n",
       "      <td>mid level</td>\n",
       "    </tr>\n",
       "    <tr>\n",
       "      <th>89</th>\n",
       "      <td>business development manager - india business ...</td>\n",
       "      <td>0</td>\n",
       "      <td>3</td>\n",
       "      <td>entry level</td>\n",
       "      <td>senior level</td>\n",
       "    </tr>\n",
       "    <tr>\n",
       "      <th>90</th>\n",
       "      <td>business development, growth partnerships busi...</td>\n",
       "      <td>0</td>\n",
       "      <td>3</td>\n",
       "      <td>entry level</td>\n",
       "      <td>senior level</td>\n",
       "    </tr>\n",
       "    <tr>\n",
       "      <th>93</th>\n",
       "      <td>course developer - cloud at udacity, our missi...</td>\n",
       "      <td>0</td>\n",
       "      <td>2</td>\n",
       "      <td>entry level</td>\n",
       "      <td>mid level</td>\n",
       "    </tr>\n",
       "    <tr>\n",
       "      <th>94</th>\n",
       "      <td>course developer - data engineering at udacity...</td>\n",
       "      <td>0</td>\n",
       "      <td>2</td>\n",
       "      <td>entry level</td>\n",
       "      <td>mid level</td>\n",
       "    </tr>\n",
       "    <tr>\n",
       "      <th>95</th>\n",
       "      <td>course developer - java at udacity, our missio...</td>\n",
       "      <td>0</td>\n",
       "      <td>2</td>\n",
       "      <td>entry level</td>\n",
       "      <td>mid level</td>\n",
       "    </tr>\n",
       "    <tr>\n",
       "      <th>96</th>\n",
       "      <td>course developer - web development at udacity,...</td>\n",
       "      <td>0</td>\n",
       "      <td>2</td>\n",
       "      <td>entry level</td>\n",
       "      <td>mid level</td>\n",
       "    </tr>\n",
       "    <tr>\n",
       "      <th>97</th>\n",
       "      <td>devops engineer at udacity, our mission is to ...</td>\n",
       "      <td>0</td>\n",
       "      <td>2</td>\n",
       "      <td>entry level</td>\n",
       "      <td>mid level</td>\n",
       "    </tr>\n",
       "    <tr>\n",
       "      <th>101</th>\n",
       "      <td>full stack engineer, international full stack ...</td>\n",
       "      <td>2</td>\n",
       "      <td>3</td>\n",
       "      <td>mid level</td>\n",
       "      <td>senior level</td>\n",
       "    </tr>\n",
       "    <tr>\n",
       "      <th>102</th>\n",
       "      <td>full stack engineer, partnerships full stack e...</td>\n",
       "      <td>0</td>\n",
       "      <td>3</td>\n",
       "      <td>entry level</td>\n",
       "      <td>senior level</td>\n",
       "    </tr>\n",
       "    <tr>\n",
       "      <th>103</th>\n",
       "      <td>course manager course manager bangalore, india...</td>\n",
       "      <td>2</td>\n",
       "      <td>3</td>\n",
       "      <td>mid level</td>\n",
       "      <td>senior level</td>\n",
       "    </tr>\n",
       "    <tr>\n",
       "      <th>105</th>\n",
       "      <td>application support engineer commerce applicat...</td>\n",
       "      <td>2</td>\n",
       "      <td>3</td>\n",
       "      <td>mid level</td>\n",
       "      <td>senior level</td>\n",
       "    </tr>\n",
       "    <tr>\n",
       "      <th>108</th>\n",
       "      <td>solutions consultant - data migration solution...</td>\n",
       "      <td>2</td>\n",
       "      <td>3</td>\n",
       "      <td>mid level</td>\n",
       "      <td>senior level</td>\n",
       "    </tr>\n",
       "    <tr>\n",
       "      <th>112</th>\n",
       "      <td>french junior operations manager (f/m) descrip...</td>\n",
       "      <td>0</td>\n",
       "      <td>2</td>\n",
       "      <td>entry level</td>\n",
       "      <td>mid level</td>\n",
       "    </tr>\n",
       "    <tr>\n",
       "      <th>121</th>\n",
       "      <td>junior qa automation engineer descriptionwith ...</td>\n",
       "      <td>0</td>\n",
       "      <td>2</td>\n",
       "      <td>entry level</td>\n",
       "      <td>mid level</td>\n",
       "    </tr>\n",
       "    <tr>\n",
       "      <th>126</th>\n",
       "      <td>app store manager (m/f) descriptionwith babbel...</td>\n",
       "      <td>0</td>\n",
       "      <td>2</td>\n",
       "      <td>entry level</td>\n",
       "      <td>mid level</td>\n",
       "    </tr>\n",
       "    <tr>\n",
       "      <th>127</th>\n",
       "      <td>web developer this position touches on all asp...</td>\n",
       "      <td>0</td>\n",
       "      <td>3</td>\n",
       "      <td>entry level</td>\n",
       "      <td>senior level</td>\n",
       "    </tr>\n",
       "    <tr>\n",
       "      <th>139</th>\n",
       "      <td>customer success manager (san francisco) descr...</td>\n",
       "      <td>0</td>\n",
       "      <td>2</td>\n",
       "      <td>entry level</td>\n",
       "      <td>mid level</td>\n",
       "    </tr>\n",
       "  </tbody>\n",
       "</table>\n",
       "</div>\n",
       "      <button class=\"colab-df-convert\" onclick=\"convertToInteractive('df-7e4a001b-0273-4a4f-bcc3-41141625bfff')\"\n",
       "              title=\"Convert this dataframe to an interactive table.\"\n",
       "              style=\"display:none;\">\n",
       "        \n",
       "  <svg xmlns=\"http://www.w3.org/2000/svg\" height=\"24px\"viewBox=\"0 0 24 24\"\n",
       "       width=\"24px\">\n",
       "    <path d=\"M0 0h24v24H0V0z\" fill=\"none\"/>\n",
       "    <path d=\"M18.56 5.44l.94 2.06.94-2.06 2.06-.94-2.06-.94-.94-2.06-.94 2.06-2.06.94zm-11 1L8.5 8.5l.94-2.06 2.06-.94-2.06-.94L8.5 2.5l-.94 2.06-2.06.94zm10 10l.94 2.06.94-2.06 2.06-.94-2.06-.94-.94-2.06-.94 2.06-2.06.94z\"/><path d=\"M17.41 7.96l-1.37-1.37c-.4-.4-.92-.59-1.43-.59-.52 0-1.04.2-1.43.59L10.3 9.45l-7.72 7.72c-.78.78-.78 2.05 0 2.83L4 21.41c.39.39.9.59 1.41.59.51 0 1.02-.2 1.41-.59l7.78-7.78 2.81-2.81c.8-.78.8-2.07 0-2.86zM5.41 20L4 18.59l7.72-7.72 1.47 1.35L5.41 20z\"/>\n",
       "  </svg>\n",
       "      </button>\n",
       "      \n",
       "  <style>\n",
       "    .colab-df-container {\n",
       "      display:flex;\n",
       "      flex-wrap:wrap;\n",
       "      gap: 12px;\n",
       "    }\n",
       "\n",
       "    .colab-df-convert {\n",
       "      background-color: #E8F0FE;\n",
       "      border: none;\n",
       "      border-radius: 50%;\n",
       "      cursor: pointer;\n",
       "      display: none;\n",
       "      fill: #1967D2;\n",
       "      height: 32px;\n",
       "      padding: 0 0 0 0;\n",
       "      width: 32px;\n",
       "    }\n",
       "\n",
       "    .colab-df-convert:hover {\n",
       "      background-color: #E2EBFA;\n",
       "      box-shadow: 0px 1px 2px rgba(60, 64, 67, 0.3), 0px 1px 3px 1px rgba(60, 64, 67, 0.15);\n",
       "      fill: #174EA6;\n",
       "    }\n",
       "\n",
       "    [theme=dark] .colab-df-convert {\n",
       "      background-color: #3B4455;\n",
       "      fill: #D2E3FC;\n",
       "    }\n",
       "\n",
       "    [theme=dark] .colab-df-convert:hover {\n",
       "      background-color: #434B5C;\n",
       "      box-shadow: 0px 1px 3px 1px rgba(0, 0, 0, 0.15);\n",
       "      filter: drop-shadow(0px 1px 2px rgba(0, 0, 0, 0.3));\n",
       "      fill: #FFFFFF;\n",
       "    }\n",
       "  </style>\n",
       "\n",
       "      <script>\n",
       "        const buttonEl =\n",
       "          document.querySelector('#df-7e4a001b-0273-4a4f-bcc3-41141625bfff button.colab-df-convert');\n",
       "        buttonEl.style.display =\n",
       "          google.colab.kernel.accessAllowed ? 'block' : 'none';\n",
       "\n",
       "        async function convertToInteractive(key) {\n",
       "          const element = document.querySelector('#df-7e4a001b-0273-4a4f-bcc3-41141625bfff');\n",
       "          const dataTable =\n",
       "            await google.colab.kernel.invokeFunction('convertToInteractive',\n",
       "                                                     [key], {});\n",
       "          if (!dataTable) return;\n",
       "\n",
       "          const docLinkHtml = 'Like what you see? Visit the ' +\n",
       "            '<a target=\"_blank\" href=https://colab.research.google.com/notebooks/data_table.ipynb>data table notebook</a>'\n",
       "            + ' to learn more about interactive tables.';\n",
       "          element.innerHTML = '';\n",
       "          dataTable['output_type'] = 'display_data';\n",
       "          await google.colab.output.renderOutput(dataTable, element);\n",
       "          const docLink = document.createElement('div');\n",
       "          docLink.innerHTML = docLinkHtml;\n",
       "          element.appendChild(docLink);\n",
       "        }\n",
       "      </script>\n",
       "    </div>\n",
       "  </div>\n",
       "  "
      ],
      "text/plain": [
       "                                              features  labels  predictions  \\\n",
       "0    frontend engineer (m/f) outfittery is europe’s...       0            2   \n",
       "4    ibm websphere portal developer job description...       0            2   \n",
       "6    java developer job description pamet is lookin...       0            3   \n",
       "13   frontend engineer (full-stack) descriptionwe a...       2            3   \n",
       "23   backend geek company descriptiontripigator is ...       0            2   \n",
       "26   staff accountant job purpose:   ensure all fin...       0            2   \n",
       "34   customer success manager (remote) descriptioni...       0            2   \n",
       "39   trust & safety manager, india the uber trust &...       0            3   \n",
       "46   customer success representative (indonesia ter...       0            2   \n",
       "47   account manager, indonesia territory (based in...       2            3   \n",
       "53   manager, integrated marketing - comedy central...       2            3   \n",
       "54   manager, integrated marketing, vh1-velocity - ...       2            3   \n",
       "69   business developer we are unuwe believe in cit...       0            2   \n",
       "78   business development manager - london business...       2            3   \n",
       "79   business development representative - london b...       0            3   \n",
       "81   product manager the product team at mattermark...       0            2   \n",
       "84   manager – business development, corporate spon...       2            3   \n",
       "86   business office manager the business office ma...       0            3   \n",
       "87   manual qa tester (m/f) descriptionwith babbel ...       0            2   \n",
       "89   business development manager - india business ...       0            3   \n",
       "90   business development, growth partnerships busi...       0            3   \n",
       "93   course developer - cloud at udacity, our missi...       0            2   \n",
       "94   course developer - data engineering at udacity...       0            2   \n",
       "95   course developer - java at udacity, our missio...       0            2   \n",
       "96   course developer - web development at udacity,...       0            2   \n",
       "97   devops engineer at udacity, our mission is to ...       0            2   \n",
       "101  full stack engineer, international full stack ...       2            3   \n",
       "102  full stack engineer, partnerships full stack e...       0            3   \n",
       "103  course manager course manager bangalore, india...       2            3   \n",
       "105  application support engineer commerce applicat...       2            3   \n",
       "108  solutions consultant - data migration solution...       2            3   \n",
       "112  french junior operations manager (f/m) descrip...       0            2   \n",
       "121  junior qa automation engineer descriptionwith ...       0            2   \n",
       "126  app store manager (m/f) descriptionwith babbel...       0            2   \n",
       "127  web developer this position touches on all asp...       0            3   \n",
       "139  customer success manager (san francisco) descr...       0            2   \n",
       "\n",
       "     label_names prediction_names  \n",
       "0    entry level        mid level  \n",
       "4    entry level        mid level  \n",
       "6    entry level     senior level  \n",
       "13     mid level     senior level  \n",
       "23   entry level        mid level  \n",
       "26   entry level        mid level  \n",
       "34   entry level        mid level  \n",
       "39   entry level     senior level  \n",
       "46   entry level        mid level  \n",
       "47     mid level     senior level  \n",
       "53     mid level     senior level  \n",
       "54     mid level     senior level  \n",
       "69   entry level        mid level  \n",
       "78     mid level     senior level  \n",
       "79   entry level     senior level  \n",
       "81   entry level        mid level  \n",
       "84     mid level     senior level  \n",
       "86   entry level     senior level  \n",
       "87   entry level        mid level  \n",
       "89   entry level     senior level  \n",
       "90   entry level     senior level  \n",
       "93   entry level        mid level  \n",
       "94   entry level        mid level  \n",
       "95   entry level        mid level  \n",
       "96   entry level        mid level  \n",
       "97   entry level        mid level  \n",
       "101    mid level     senior level  \n",
       "102  entry level     senior level  \n",
       "103    mid level     senior level  \n",
       "105    mid level     senior level  \n",
       "108    mid level     senior level  \n",
       "112  entry level        mid level  \n",
       "121  entry level        mid level  \n",
       "126  entry level        mid level  \n",
       "127  entry level     senior level  \n",
       "139  entry level        mid level  "
      ]
     },
     "execution_count": 194,
     "metadata": {},
     "output_type": "execute_result"
    }
   ],
   "source": [
    "df_test_results[ (df_test_results[\"labels\"] == 0) & (df_test_results[\"predictions\"] == 2) |\n",
    "                 (df_test_results[\"labels\"] == 2) & (df_test_results[\"predictions\"] == 3) |\n",
    "                 (df_test_results[\"labels\"] == 0) & (df_test_results[\"predictions\"] == 3) \n",
    "               ]"
   ]
  },
  {
   "cell_type": "code",
   "execution_count": 195,
   "metadata": {
    "colab": {
     "base_uri": "https://localhost:8080/"
    },
    "executionInfo": {
     "elapsed": 12,
     "status": "ok",
     "timestamp": 1640284105625,
     "user": {
      "displayName": "pling",
      "photoUrl": "https://lh3.googleusercontent.com/a/default-user=s64",
      "userId": "02620778565141551161"
     },
     "user_tz": -60
    },
    "id": "NCGcabT-kmSw",
    "outputId": "b1656091-0ab7-41c2-f740-2533e84195e9"
   },
   "outputs": [
    {
     "name": "stderr",
     "output_type": "stream",
     "text": [
      "/usr/local/lib/python3.7/dist-packages/ipykernel_launcher.py:2: SettingWithCopyWarning: \n",
      "A value is trying to be set on a copy of a slice from a DataFrame.\n",
      "Try using .loc[row_indexer,col_indexer] = value instead\n",
      "\n",
      "See the caveats in the documentation: https://pandas.pydata.org/pandas-docs/stable/user_guide/indexing.html#returning-a-view-versus-a-copy\n",
      "  \n"
     ]
    }
   ],
   "source": [
    "#predict the empty dataset\n",
    "df_pred_data[\"title\"] = 0"
   ]
  },
  {
   "cell_type": "code",
   "execution_count": 196,
   "metadata": {
    "colab": {
     "base_uri": "https://localhost:8080/"
    },
    "executionInfo": {
     "elapsed": 6398,
     "status": "ok",
     "timestamp": 1640284112012,
     "user": {
      "displayName": "pling",
      "photoUrl": "https://lh3.googleusercontent.com/a/default-user=s64",
      "userId": "02620778565141551161"
     },
     "user_tz": -60
    },
    "id": "GyDikUcekmSw",
    "outputId": "e86264f6-1fc0-47f3-ac81-1d0aa134a21f"
   },
   "outputs": [
    {
     "name": "stderr",
     "output_type": "stream",
     "text": [
      "/usr/local/lib/python3.7/dist-packages/transformers/tokenization_utils_base.py:2232: FutureWarning: The `pad_to_max_length` argument is deprecated and will be removed in a future version, use `padding=True` or `padding='longest'` to pad to the longest sequence in the batch, or use `padding='max_length'` to pad to a max length. In this case, you can give a specific length with `max_length` (e.g. `max_length=45`) or leave max_length to None to pad to the maximal input size of the model (e.g. 512 for Bert).\n",
      "  FutureWarning,\n"
     ]
    },
    {
     "name": "stdout",
     "output_type": "stream",
     "text": [
      "Found GPU at: /device:GPU:0\n",
      "There are 1 GPU(s) available.\n",
      "We will use the GPU: Tesla K80\n",
      "Number of test sentences: 75\n",
      "\n",
      "Predicting labels for 75 test sentences...\n",
      "    DONE.\n"
     ]
    }
   ],
   "source": [
    "df_test_results, model = test_net(df_pred_data, model)"
   ]
  },
  {
   "cell_type": "code",
   "execution_count": 197,
   "metadata": {
    "executionInfo": {
     "elapsed": 52,
     "status": "ok",
     "timestamp": 1640284112015,
     "user": {
      "displayName": "pling",
      "photoUrl": "https://lh3.googleusercontent.com/a/default-user=s64",
      "userId": "02620778565141551161"
     },
     "user_tz": -60
    },
    "id": "d8usgQRbkmSx"
   },
   "outputs": [],
   "source": [
    "df_predicted = df_test_results[[\"features\", \"predictions\"]]"
   ]
  },
  {
   "cell_type": "code",
   "execution_count": 198,
   "metadata": {
    "colab": {
     "base_uri": "https://localhost:8080/",
     "height": 424
    },
    "executionInfo": {
     "elapsed": 47,
     "status": "ok",
     "timestamp": 1640284112018,
     "user": {
      "displayName": "pling",
      "photoUrl": "https://lh3.googleusercontent.com/a/default-user=s64",
      "userId": "02620778565141551161"
     },
     "user_tz": -60
    },
    "id": "BLDDO9hdkmSx",
    "outputId": "6dff4658-f7f1-4a1e-ab1d-bdfedb3d9eb0"
   },
   "outputs": [
    {
     "data": {
      "text/html": [
       "\n",
       "  <div id=\"df-1e840280-429b-4e4a-8c7c-7d26a4d56e93\">\n",
       "    <div class=\"colab-df-container\">\n",
       "      <div>\n",
       "<style scoped>\n",
       "    .dataframe tbody tr th:only-of-type {\n",
       "        vertical-align: middle;\n",
       "    }\n",
       "\n",
       "    .dataframe tbody tr th {\n",
       "        vertical-align: top;\n",
       "    }\n",
       "\n",
       "    .dataframe thead th {\n",
       "        text-align: right;\n",
       "    }\n",
       "</style>\n",
       "<table border=\"1\" class=\"dataframe\">\n",
       "  <thead>\n",
       "    <tr style=\"text-align: right;\">\n",
       "      <th></th>\n",
       "      <th>features</th>\n",
       "      <th>predictions</th>\n",
       "    </tr>\n",
       "  </thead>\n",
       "  <tbody>\n",
       "    <tr>\n",
       "      <th>141</th>\n",
       "      <td>customer service netherlands in berlin (m/f) o...</td>\n",
       "      <td>0</td>\n",
       "    </tr>\n",
       "    <tr>\n",
       "      <th>142</th>\n",
       "      <td>devops engineer (m/f) outfittery is europe’s b...</td>\n",
       "      <td>3</td>\n",
       "    </tr>\n",
       "    <tr>\n",
       "      <th>143</th>\n",
       "      <td>head of product management (it) (m/f) outfitte...</td>\n",
       "      <td>3</td>\n",
       "    </tr>\n",
       "    <tr>\n",
       "      <th>144</th>\n",
       "      <td>help desk support (m/f) outfittery is europe’s...</td>\n",
       "      <td>0</td>\n",
       "    </tr>\n",
       "    <tr>\n",
       "      <th>145</th>\n",
       "      <td>intern help desk (m/f) outfittery is europe’s ...</td>\n",
       "      <td>1</td>\n",
       "    </tr>\n",
       "    <tr>\n",
       "      <th>...</th>\n",
       "      <td>...</td>\n",
       "      <td>...</td>\n",
       "    </tr>\n",
       "    <tr>\n",
       "      <th>211</th>\n",
       "      <td>native italian translation internship work in ...</td>\n",
       "      <td>1</td>\n",
       "    </tr>\n",
       "    <tr>\n",
       "      <th>212</th>\n",
       "      <td>international translation internship program (...</td>\n",
       "      <td>1</td>\n",
       "    </tr>\n",
       "    <tr>\n",
       "      <th>213</th>\n",
       "      <td>photography - new york habitat internship phot...</td>\n",
       "      <td>1</td>\n",
       "    </tr>\n",
       "    <tr>\n",
       "      <th>214</th>\n",
       "      <td>high paying part time delivery driver are you ...</td>\n",
       "      <td>0</td>\n",
       "    </tr>\n",
       "    <tr>\n",
       "      <th>215</th>\n",
       "      <td>agile coach (m/f) outfittery is europe’s bigge...</td>\n",
       "      <td>2</td>\n",
       "    </tr>\n",
       "  </tbody>\n",
       "</table>\n",
       "<p>75 rows × 2 columns</p>\n",
       "</div>\n",
       "      <button class=\"colab-df-convert\" onclick=\"convertToInteractive('df-1e840280-429b-4e4a-8c7c-7d26a4d56e93')\"\n",
       "              title=\"Convert this dataframe to an interactive table.\"\n",
       "              style=\"display:none;\">\n",
       "        \n",
       "  <svg xmlns=\"http://www.w3.org/2000/svg\" height=\"24px\"viewBox=\"0 0 24 24\"\n",
       "       width=\"24px\">\n",
       "    <path d=\"M0 0h24v24H0V0z\" fill=\"none\"/>\n",
       "    <path d=\"M18.56 5.44l.94 2.06.94-2.06 2.06-.94-2.06-.94-.94-2.06-.94 2.06-2.06.94zm-11 1L8.5 8.5l.94-2.06 2.06-.94-2.06-.94L8.5 2.5l-.94 2.06-2.06.94zm10 10l.94 2.06.94-2.06 2.06-.94-2.06-.94-.94-2.06-.94 2.06-2.06.94z\"/><path d=\"M17.41 7.96l-1.37-1.37c-.4-.4-.92-.59-1.43-.59-.52 0-1.04.2-1.43.59L10.3 9.45l-7.72 7.72c-.78.78-.78 2.05 0 2.83L4 21.41c.39.39.9.59 1.41.59.51 0 1.02-.2 1.41-.59l7.78-7.78 2.81-2.81c.8-.78.8-2.07 0-2.86zM5.41 20L4 18.59l7.72-7.72 1.47 1.35L5.41 20z\"/>\n",
       "  </svg>\n",
       "      </button>\n",
       "      \n",
       "  <style>\n",
       "    .colab-df-container {\n",
       "      display:flex;\n",
       "      flex-wrap:wrap;\n",
       "      gap: 12px;\n",
       "    }\n",
       "\n",
       "    .colab-df-convert {\n",
       "      background-color: #E8F0FE;\n",
       "      border: none;\n",
       "      border-radius: 50%;\n",
       "      cursor: pointer;\n",
       "      display: none;\n",
       "      fill: #1967D2;\n",
       "      height: 32px;\n",
       "      padding: 0 0 0 0;\n",
       "      width: 32px;\n",
       "    }\n",
       "\n",
       "    .colab-df-convert:hover {\n",
       "      background-color: #E2EBFA;\n",
       "      box-shadow: 0px 1px 2px rgba(60, 64, 67, 0.3), 0px 1px 3px 1px rgba(60, 64, 67, 0.15);\n",
       "      fill: #174EA6;\n",
       "    }\n",
       "\n",
       "    [theme=dark] .colab-df-convert {\n",
       "      background-color: #3B4455;\n",
       "      fill: #D2E3FC;\n",
       "    }\n",
       "\n",
       "    [theme=dark] .colab-df-convert:hover {\n",
       "      background-color: #434B5C;\n",
       "      box-shadow: 0px 1px 3px 1px rgba(0, 0, 0, 0.15);\n",
       "      filter: drop-shadow(0px 1px 2px rgba(0, 0, 0, 0.3));\n",
       "      fill: #FFFFFF;\n",
       "    }\n",
       "  </style>\n",
       "\n",
       "      <script>\n",
       "        const buttonEl =\n",
       "          document.querySelector('#df-1e840280-429b-4e4a-8c7c-7d26a4d56e93 button.colab-df-convert');\n",
       "        buttonEl.style.display =\n",
       "          google.colab.kernel.accessAllowed ? 'block' : 'none';\n",
       "\n",
       "        async function convertToInteractive(key) {\n",
       "          const element = document.querySelector('#df-1e840280-429b-4e4a-8c7c-7d26a4d56e93');\n",
       "          const dataTable =\n",
       "            await google.colab.kernel.invokeFunction('convertToInteractive',\n",
       "                                                     [key], {});\n",
       "          if (!dataTable) return;\n",
       "\n",
       "          const docLinkHtml = 'Like what you see? Visit the ' +\n",
       "            '<a target=\"_blank\" href=https://colab.research.google.com/notebooks/data_table.ipynb>data table notebook</a>'\n",
       "            + ' to learn more about interactive tables.';\n",
       "          element.innerHTML = '';\n",
       "          dataTable['output_type'] = 'display_data';\n",
       "          await google.colab.output.renderOutput(dataTable, element);\n",
       "          const docLink = document.createElement('div');\n",
       "          docLink.innerHTML = docLinkHtml;\n",
       "          element.appendChild(docLink);\n",
       "        }\n",
       "      </script>\n",
       "    </div>\n",
       "  </div>\n",
       "  "
      ],
      "text/plain": [
       "                                              features  predictions\n",
       "141  customer service netherlands in berlin (m/f) o...            0\n",
       "142  devops engineer (m/f) outfittery is europe’s b...            3\n",
       "143  head of product management (it) (m/f) outfitte...            3\n",
       "144  help desk support (m/f) outfittery is europe’s...            0\n",
       "145  intern help desk (m/f) outfittery is europe’s ...            1\n",
       "..                                                 ...          ...\n",
       "211  native italian translation internship work in ...            1\n",
       "212  international translation internship program (...            1\n",
       "213  photography - new york habitat internship phot...            1\n",
       "214  high paying part time delivery driver are you ...            0\n",
       "215  agile coach (m/f) outfittery is europe’s bigge...            2\n",
       "\n",
       "[75 rows x 2 columns]"
      ]
     },
     "execution_count": 198,
     "metadata": {},
     "output_type": "execute_result"
    }
   ],
   "source": [
    "df_predicted"
   ]
  },
  {
   "cell_type": "code",
   "execution_count": 199,
   "metadata": {
    "executionInfo": {
     "elapsed": 285,
     "status": "ok",
     "timestamp": 1640284112268,
     "user": {
      "displayName": "pling",
      "photoUrl": "https://lh3.googleusercontent.com/a/default-user=s64",
      "userId": "02620778565141551161"
     },
     "user_tz": -60
    },
    "id": "qGnYZUFWkmSy"
   },
   "outputs": [],
   "source": [
    "df_predicted.to_csv(\"./drive/MyDrive/Colab Notebooks/clf/df_predicted_big_f1_weighted.6.csv\")"
   ]
  },
  {
   "cell_type": "markdown",
   "metadata": {
    "id": "SokV7Css8edH"
   },
   "source": [
    "**Try with Val_Data Set**"
   ]
  },
  {
   "cell_type": "markdown",
   "metadata": {
    "id": "xPRc740xoHgf"
   },
   "source": [
    "We can also try using the given dataset, however, it is so small that it is unlikely we will have much success with it and we only reach accuracies of .41. In the training and subsequently have no real validation set. Even using the already seen data as a validation set (which shouldn't be done), leads to worse results then we reached before."
   ]
  },
  {
   "cell_type": "code",
   "execution_count": 216,
   "metadata": {
    "colab": {
     "base_uri": "https://localhost:8080/",
     "height": 1000
    },
    "executionInfo": {
     "elapsed": 83604,
     "status": "ok",
     "timestamp": 1640284660467,
     "user": {
      "displayName": "pling",
      "photoUrl": "https://lh3.googleusercontent.com/a/default-user=s64",
      "userId": "02620778565141551161"
     },
     "user_tz": -60
    },
    "id": "VYWGnmXhvLog",
    "outputId": "ce9408ec-e723-423f-f372-7d9e85d438e3"
   },
   "outputs": [
    {
     "name": "stdout",
     "output_type": "stream",
     "text": [
      "Found GPU at: /device:GPU:0\n",
      "There are 1 GPU(s) available.\n",
      "We will use the GPU: Tesla K80\n",
      "Loading BERT tokenizer...\n"
     ]
    },
    {
     "name": "stderr",
     "output_type": "stream",
     "text": [
      "Token indices sequence length is longer than the specified maximum sequence length for this model (661 > 512). Running this sequence through the model will result in indexing errors\n"
     ]
    },
    {
     "name": "stdout",
     "output_type": "stream",
     "text": [
      "                                            features  labels\n",
      "0  frontend engineer (m/f) outfittery is europe’s...       0\n",
      "1  senior product manager (m/f) outfittery is eur...       3\n",
      "2  android developer job description pamet is loo...       0\n",
      "3  development lead we are looking for a developm...       3\n",
      "4  ibm websphere portal developer job description...       0\n",
      "random_state 25 is good\n",
      "Df Train Labels: [2 3 1 0] Total: 4\n",
      "Df Keep Labels: [1 0 3 2] Total: 4\n",
      "random_state chosen: 25\n",
      "Sentences: 126\n",
      "Labels: 126\n",
      "Batch_size: 8\n",
      " Original:  manager, integrated marketing, vh1-velocity - develop creative multi-platform integrated marketing programs for various vh1 properties including awards shows and vh1 original programming. - work with the linear production and digital site teams to create multi-platform, linear, and digital only sponsorship packages for assigned spike properties. - oversee day-to-day execution of sponsorship elements after sell-in for assigned vh1 properties. - work closely with the production, digital, social, media planning and traffic departments to execute custom sponsorship elements.  this includes writing creative briefs, maintaining assets, coordinating with various departments to ensure all deliverables and deadlines are met. - review creative to make sure sponsors’ objectives are met and flag potential issues.   - work effectively with sponsors/clients and various internal departments to ensure successful implementation of sponsorship programs.  - brainstorm ideas in response to rfps that meet sponsors’ brand objectives while maintaining the integrity of the vh1 brand. - provide recaps of programs upon completion.\n",
      "Tokenized:  ['manager', ',', 'integrated', 'marketing', ',', 'vh1', '-', 'velocity', '-', 'develop', 'creative', 'multi', '-', 'platform', 'integrated', 'marketing', 'programs', 'for', 'various', 'vh1', 'properties', 'including', 'awards', 'shows', 'and', 'vh1', 'original', 'programming', '.', '-', 'work', 'with', 'the', 'linear', 'production', 'and', 'digital', 'site', 'teams', 'to', 'create', 'multi', '-', 'platform', ',', 'linear', ',', 'and', 'digital', 'only', 'sponsorship', 'packages', 'for', 'assigned', 'spike', 'properties', '.', '-', 'oversee', 'day', '-', 'to', '-', 'day', 'execution', 'of', 'sponsorship', 'elements', 'after', 'sell', '-', 'in', 'for', 'assigned', 'vh1', 'properties', '.', '-', 'work', 'closely', 'with', 'the', 'production', ',', 'digital', ',', 'social', ',', 'media', 'planning', 'and', 'traffic', 'departments', 'to', 'execute', 'custom', 'sponsorship', 'elements', '.', 'this', 'includes', 'writing', 'creative', 'briefs', ',', 'maintaining', 'assets', ',', 'coordinating', 'with', 'various', 'departments', 'to', 'ensure', 'all', 'deliver', '##able', '##s', 'and', 'deadline', '##s', 'are', 'met', '.', '-', 'review', 'creative', 'to', 'make', 'sure', 'sponsors', '’', 'objectives', 'are', 'met', 'and', 'flag', 'potential', 'issues', '.', '-', 'work', 'effectively', 'with', 'sponsors', '/', 'clients', 'and', 'various', 'internal', 'departments', 'to', 'ensure', 'successful', 'implementation', 'of', 'sponsorship', 'programs', '.', '-', 'brains', '##torm', 'ideas', 'in', 'response', 'to', 'rf', '##ps', 'that', 'meet', 'sponsors', '’', 'brand', 'objectives', 'while', 'maintaining', 'the', 'integrity', 'of', 'the', 'vh1', 'brand', '.', '-', 'provide', 'rec', '##ap', '##s', 'of', 'programs', 'upon', 'completion', '.']\n",
      "Token IDs:  [3208, 1010, 6377, 5821, 1010, 26365, 1011, 10146, 1011, 4503, 5541, 4800, 1011, 4132, 6377, 5821, 3454, 2005, 2536, 26365, 5144, 2164, 2982, 3065, 1998, 26365, 2434, 4730, 1012, 1011, 2147, 2007, 1996, 7399, 2537, 1998, 3617, 2609, 2780, 2000, 3443, 4800, 1011, 4132, 1010, 7399, 1010, 1998, 3617, 2069, 12026, 14555, 2005, 4137, 9997, 5144, 1012, 1011, 17467, 2154, 1011, 2000, 1011, 2154, 7781, 1997, 12026, 3787, 2044, 5271, 1011, 1999, 2005, 4137, 26365, 5144, 1012, 1011, 2147, 4876, 2007, 1996, 2537, 1010, 3617, 1010, 2591, 1010, 2865, 4041, 1998, 4026, 7640, 2000, 15389, 7661, 12026, 3787, 1012, 2023, 2950, 3015, 5541, 28760, 1010, 8498, 7045, 1010, 19795, 2007, 2536, 7640, 2000, 5676, 2035, 8116, 3085, 2015, 1998, 15117, 2015, 2024, 2777, 1012, 1011, 3319, 5541, 2000, 2191, 2469, 13162, 1521, 11100, 2024, 2777, 1998, 5210, 4022, 3314, 1012, 1011, 2147, 6464, 2007, 13162, 1013, 7846, 1998, 2536, 4722, 7640, 2000, 5676, 3144, 7375, 1997, 12026, 3454, 1012, 1011, 14332, 20654, 4784, 1999, 3433, 2000, 21792, 4523, 2008, 3113, 13162, 1521, 4435, 11100, 2096, 8498, 1996, 11109, 1997, 1996, 26365, 4435, 1012, 1011, 3073, 28667, 9331, 2015, 1997, 3454, 2588, 6503, 1012]\n"
     ]
    },
    {
     "name": "stderr",
     "output_type": "stream",
     "text": [
      "Truncation was not explicitly activated but `max_length` is provided a specific value, please use `truncation=True` to explicitly truncate examples to max length. Defaulting to 'longest_first' truncation strategy. If you encode pairs of sequences (GLUE-style) with the tokenizer you can select this strategy more precisely by providing a specific strategy to `truncation`.\n"
     ]
    },
    {
     "name": "stdout",
     "output_type": "stream",
     "text": [
      "Max sentence length:  1210\n"
     ]
    },
    {
     "name": "stderr",
     "output_type": "stream",
     "text": [
      "/usr/local/lib/python3.7/dist-packages/transformers/tokenization_utils_base.py:2232: FutureWarning: The `pad_to_max_length` argument is deprecated and will be removed in a future version, use `padding=True` or `padding='longest'` to pad to the longest sequence in the batch, or use `padding='max_length'` to pad to a max length. In this case, you can give a specific length with `max_length` (e.g. `max_length=45`) or leave max_length to None to pad to the maximal input size of the model (e.g. 512 for Bert).\n",
      "  FutureWarning,\n"
     ]
    },
    {
     "name": "stdout",
     "output_type": "stream",
     "text": [
      "  100 training samples\n",
      "   26 validation samples\n"
     ]
    },
    {
     "name": "stderr",
     "output_type": "stream",
     "text": [
      "Some weights of the model checkpoint at bert-base-uncased were not used when initializing BertForSequenceClassification: ['cls.seq_relationship.bias', 'cls.predictions.transform.dense.bias', 'cls.predictions.transform.dense.weight', 'cls.predictions.transform.LayerNorm.bias', 'cls.seq_relationship.weight', 'cls.predictions.bias', 'cls.predictions.transform.LayerNorm.weight', 'cls.predictions.decoder.weight']\n",
      "- This IS expected if you are initializing BertForSequenceClassification from the checkpoint of a model trained on another task or with another architecture (e.g. initializing a BertForSequenceClassification model from a BertForPreTraining model).\n",
      "- This IS NOT expected if you are initializing BertForSequenceClassification from the checkpoint of a model that you expect to be exactly identical (initializing a BertForSequenceClassification model from a BertForSequenceClassification model).\n",
      "Some weights of BertForSequenceClassification were not initialized from the model checkpoint at bert-base-uncased and are newly initialized: ['classifier.bias', 'classifier.weight']\n",
      "You should probably TRAIN this model on a down-stream task to be able to use it for predictions and inference.\n"
     ]
    },
    {
     "name": "stdout",
     "output_type": "stream",
     "text": [
      "The BERT model has 201 different named parameters.\n",
      "\n",
      "==== Embedding Layer ====\n",
      "\n",
      "bert.embeddings.word_embeddings.weight                  (30522, 768)\n",
      "bert.embeddings.position_embeddings.weight                (512, 768)\n",
      "bert.embeddings.token_type_embeddings.weight                (2, 768)\n",
      "bert.embeddings.LayerNorm.weight                              (768,)\n",
      "bert.embeddings.LayerNorm.bias                                (768,)\n",
      "\n",
      "==== First Transformer ====\n",
      "\n",
      "bert.encoder.layer.0.attention.self.query.weight          (768, 768)\n",
      "bert.encoder.layer.0.attention.self.query.bias                (768,)\n",
      "bert.encoder.layer.0.attention.self.key.weight            (768, 768)\n",
      "bert.encoder.layer.0.attention.self.key.bias                  (768,)\n",
      "bert.encoder.layer.0.attention.self.value.weight          (768, 768)\n",
      "bert.encoder.layer.0.attention.self.value.bias                (768,)\n",
      "bert.encoder.layer.0.attention.output.dense.weight        (768, 768)\n",
      "bert.encoder.layer.0.attention.output.dense.bias              (768,)\n",
      "bert.encoder.layer.0.attention.output.LayerNorm.weight        (768,)\n",
      "bert.encoder.layer.0.attention.output.LayerNorm.bias          (768,)\n",
      "bert.encoder.layer.0.intermediate.dense.weight           (3072, 768)\n",
      "bert.encoder.layer.0.intermediate.dense.bias                 (3072,)\n",
      "bert.encoder.layer.0.output.dense.weight                 (768, 3072)\n",
      "bert.encoder.layer.0.output.dense.bias                        (768,)\n",
      "bert.encoder.layer.0.output.LayerNorm.weight                  (768,)\n",
      "bert.encoder.layer.0.output.LayerNorm.bias                    (768,)\n",
      "\n",
      "==== Output Layer ====\n",
      "\n",
      "bert.pooler.dense.weight                                  (768, 768)\n",
      "bert.pooler.dense.bias                                        (768,)\n",
      "classifier.weight                                           (4, 768)\n",
      "classifier.bias                                                 (4,)\n",
      "\n",
      "======== Epoch 1 / 3 ========\n",
      "Training...\n",
      "\n",
      "  Average training loss: 1.43\n",
      "  Training epoch took: 0:00:22\n",
      "\n",
      "Running Validation...\n",
      "  Accuracy: 0.31\n",
      "  Validation Loss: 1.29\n",
      "  Validation took: 0:00:02\n",
      "\n",
      "======== Epoch 2 / 3 ========\n",
      "Training...\n",
      "\n",
      "  Average training loss: 1.30\n",
      "  Training epoch took: 0:00:21\n",
      "\n",
      "Running Validation...\n",
      "  Accuracy: 0.53\n",
      "  Validation Loss: 1.24\n",
      "  Validation took: 0:00:02\n",
      "\n",
      "======== Epoch 3 / 3 ========\n",
      "Training...\n",
      "\n",
      "  Average training loss: 1.23\n",
      "  Training epoch took: 0:00:23\n",
      "\n",
      "Running Validation...\n",
      "  Accuracy: 0.56\n",
      "  Validation Loss: 1.23\n",
      "  Validation took: 0:00:02\n",
      "\n",
      "Training complete!\n",
      "Total training took 0:01:12 (h:mm:ss)\n",
      "       Training Loss  Valid. Loss  Valid. Accur. Training Time Validation Time\n",
      "epoch                                                                         \n",
      "1               1.43         1.29           0.31       0:00:22         0:00:02\n",
      "2               1.30         1.24           0.53       0:00:21         0:00:02\n",
      "3               1.23         1.23           0.56       0:00:23         0:00:02\n"
     ]
    },
    {
     "data": {
      "image/png": "[encoded data removed]",
      "text/plain": [
       "<Figure size 864x432 with 1 Axes>"
      ]
     },
     "metadata": {},
     "output_type": "display_data"
    },
    {
     "name": "stdout",
     "output_type": "stream",
     "text": [
      "Number of test sentences: 15\n",
      "\n",
      "Predicting labels for 15 test sentences...\n"
     ]
    },
    {
     "name": "stderr",
     "output_type": "stream",
     "text": [
      "/usr/local/lib/python3.7/dist-packages/transformers/tokenization_utils_base.py:2232: FutureWarning: The `pad_to_max_length` argument is deprecated and will be removed in a future version, use `padding=True` or `padding='longest'` to pad to the longest sequence in the batch, or use `padding='max_length'` to pad to a max length. In this case, you can give a specific length with `max_length` (e.g. `max_length=45`) or leave max_length to None to pad to the maximal input size of the model (e.g. 512 for Bert).\n",
      "  FutureWarning,\n"
     ]
    },
    {
     "name": "stdout",
     "output_type": "stream",
     "text": [
      "    DONE.\n"
     ]
    }
   ],
   "source": [
    "#train model\n",
    "df_train_res, model, tokenizer = train_net(df=df_val_data, train_split_value=0.8, epochs=2, model_name=\"bert-base-uncased\")\n",
    "df_val_model = model"
   ]
  },
  {
   "cell_type": "code",
   "execution_count": 217,
   "metadata": {
    "colab": {
     "base_uri": "https://localhost:8080/"
    },
    "executionInfo": {
     "elapsed": 11786,
     "status": "ok",
     "timestamp": 1640284688307,
     "user": {
      "displayName": "pling",
      "photoUrl": "https://lh3.googleusercontent.com/a/default-user=s64",
      "userId": "02620778565141551161"
     },
     "user_tz": -60
    },
    "id": "2TJ6TOW0vLjm",
    "outputId": "56bfccb8-6540-4c07-b642-73c69078e04e"
   },
   "outputs": [
    {
     "name": "stdout",
     "output_type": "stream",
     "text": [
      "Found GPU at: /device:GPU:0\n",
      "There are 1 GPU(s) available.\n",
      "We will use the GPU: Tesla K80\n",
      "Number of test sentences: 141\n",
      "\n"
     ]
    },
    {
     "name": "stderr",
     "output_type": "stream",
     "text": [
      "/usr/local/lib/python3.7/dist-packages/transformers/tokenization_utils_base.py:2232: FutureWarning: The `pad_to_max_length` argument is deprecated and will be removed in a future version, use `padding=True` or `padding='longest'` to pad to the longest sequence in the batch, or use `padding='max_length'` to pad to a max length. In this case, you can give a specific length with `max_length` (e.g. `max_length=45`) or leave max_length to None to pad to the maximal input size of the model (e.g. 512 for Bert).\n",
      "  FutureWarning,\n"
     ]
    },
    {
     "name": "stdout",
     "output_type": "stream",
     "text": [
      "Predicting labels for 141 test sentences...\n",
      "    DONE.\n"
     ]
    }
   ],
   "source": [
    "df_test_results, model = test_net(df_val_data, model)"
   ]
  },
  {
   "cell_type": "markdown",
   "metadata": {
    "id": "zfyBOOHDoWo3"
   },
   "source": [
    "As expected, the results are not good and the model is clearly biased towards classifying instances as senior level, probably also because the support of this level is much higher."
   ]
  },
  {
   "cell_type": "code",
   "execution_count": 218,
   "metadata": {
    "colab": {
     "base_uri": "https://localhost:8080/"
    },
    "executionInfo": {
     "elapsed": 276,
     "status": "ok",
     "timestamp": 1640284693786,
     "user": {
      "displayName": "pling",
      "photoUrl": "https://lh3.googleusercontent.com/a/default-user=s64",
      "userId": "02620778565141551161"
     },
     "user_tz": -60
    },
    "id": "To2XEeW1vLfY",
    "outputId": "2fca9956-8253-4246-a28d-aa7d6c4e6331"
   },
   "outputs": [
    {
     "name": "stdout",
     "output_type": "stream",
     "text": [
      "['0 entry level', '1 internship', '2 mid level', '3 senior level']\n",
      "4\n",
      "3\n",
      "4\n",
      "Classification Report:\n",
      "                precision    recall  f1-score   support\n",
      "\n",
      " 0 entry level       0.53      0.24      0.33        37\n",
      "  1 internship       0.00      0.00      0.00        15\n",
      "   2 mid level       0.73      0.25      0.37        32\n",
      "3 senior level       0.50      0.98      0.66        57\n",
      "\n",
      "      accuracy                           0.52       141\n",
      "     macro avg       0.44      0.37      0.34       141\n",
      "  weighted avg       0.50      0.52      0.44       141\n",
      "\n"
     ]
    },
    {
     "name": "stderr",
     "output_type": "stream",
     "text": [
      "/usr/local/lib/python3.7/dist-packages/sklearn/metrics/_classification.py:1308: UndefinedMetricWarning: Precision and F-score are ill-defined and being set to 0.0 in labels with no predicted samples. Use `zero_division` parameter to control this behavior.\n",
      "  _warn_prf(average, modifier, msg_start, len(result))\n",
      "/usr/local/lib/python3.7/dist-packages/sklearn/metrics/_classification.py:1308: UndefinedMetricWarning: Precision and F-score are ill-defined and being set to 0.0 in labels with no predicted samples. Use `zero_division` parameter to control this behavior.\n",
      "  _warn_prf(average, modifier, msg_start, len(result))\n",
      "/usr/local/lib/python3.7/dist-packages/sklearn/metrics/_classification.py:1308: UndefinedMetricWarning: Precision and F-score are ill-defined and being set to 0.0 in labels with no predicted samples. Use `zero_division` parameter to control this behavior.\n",
      "  _warn_prf(average, modifier, msg_start, len(result))\n",
      "/usr/local/lib/python3.7/dist-packages/sklearn/metrics/_classification.py:1308: UndefinedMetricWarning: Precision and F-score are ill-defined and being set to 0.0 in labels with no predicted samples. Use `zero_division` parameter to control this behavior.\n",
      "  _warn_prf(average, modifier, msg_start, len(result))\n",
      "/usr/local/lib/python3.7/dist-packages/sklearn/metrics/_classification.py:1308: UndefinedMetricWarning: Precision and F-score are ill-defined and being set to 0.0 in labels with no predicted samples. Use `zero_division` parameter to control this behavior.\n",
      "  _warn_prf(average, modifier, msg_start, len(result))\n",
      "/usr/local/lib/python3.7/dist-packages/sklearn/metrics/_classification.py:1308: UndefinedMetricWarning: Precision and F-score are ill-defined and being set to 0.0 in labels with no predicted samples. Use `zero_division` parameter to control this behavior.\n",
      "  _warn_prf(average, modifier, msg_start, len(result))\n"
     ]
    }
   ],
   "source": [
    "#get classification report\n",
    "report = class_report(df_test_results, uniques)\n",
    "\n",
    "df_class_report = pd.DataFrame(report).transpose()"
   ]
  },
  {
   "cell_type": "code",
   "execution_count": 219,
   "metadata": {
    "colab": {
     "base_uri": "https://localhost:8080/",
     "height": 374
    },
    "executionInfo": {
     "elapsed": 643,
     "status": "ok",
     "timestamp": 1640284700724,
     "user": {
      "displayName": "pling",
      "photoUrl": "https://lh3.googleusercontent.com/a/default-user=s64",
      "userId": "02620778565141551161"
     },
     "user_tz": -60
    },
    "id": "_LEbX134vLby",
    "outputId": "ab7755f8-dc49-4df7-b502-33c77c834367"
   },
   "outputs": [
    {
     "name": "stdout",
     "output_type": "stream",
     "text": [
      "{0, 1, 2, 3}\n"
     ]
    },
    {
     "data": {
      "image/png": "[encoded data removed]",
      "text/plain": [
       "<Figure size 360x216 with 2 Axes>"
      ]
     },
     "metadata": {},
     "output_type": "display_data"
    }
   ],
   "source": [
    "#confusion matrix report\n",
    "cm_plot = cm_report(df_test_results, uniques, figsize=(5,3))"
   ]
  },
  {
   "cell_type": "markdown",
   "metadata": {
    "id": "HQzVBDewMuoo"
   },
   "source": [
    "**Export Notebook zu HTML**"
   ]
  },
  {
   "cell_type": "code",
   "execution_count": 1,
   "metadata": {
    "ExecuteTime": {
     "end_time": "2022-02-06T20:14:49.689777Z",
     "start_time": "2022-02-06T20:14:49.668787Z"
    },
    "colab": {
     "base_uri": "https://localhost:8080/"
    },
    "collapsed": true,
    "executionInfo": {
     "elapsed": 2468,
     "status": "ok",
     "timestamp": 1640285033576,
     "user": {
      "displayName": "pling",
      "photoUrl": "https://lh3.googleusercontent.com/a/default-user=s64",
      "userId": "02620778565141551161"
     },
     "user_tz": -60
    },
    "id": "MVi-KeHe_gZx",
    "outputId": "e48b8516-07ae-4e4f-cb0a-f7c3d35143b6"
   },
   "outputs": [
    {
     "ename": "SyntaxError",
     "evalue": "invalid syntax (Temp/ipykernel_12364/3029411823.py, line 3)",
     "output_type": "error",
     "traceback": [
      "\u001b[1;36m  File \u001b[1;32m\"C:\\Users\\lux\\AppData\\Local\\Temp/ipykernel_12364/3029411823.py\"\u001b[1;36m, line \u001b[1;32m3\u001b[0m\n\u001b[1;33m    jupyter nbconvert --to html /content/clf_bert.ipynb\u001b[0m\n\u001b[1;37m            ^\u001b[0m\n\u001b[1;31mSyntaxError\u001b[0m\u001b[1;31m:\u001b[0m invalid syntax\n"
     ]
    }
   ],
   "source": [
    "#convert ipynb to html\n",
    "%%shell\n",
    "jupyter nbconvert --to html /content/clf_bert.ipynb"
   ]
  },
  {
   "cell_type": "code",
   "execution_count": null,
   "metadata": {
    "id": "KJ_jyLnyjVZ5"
   },
   "outputs": [],
   "source": []
  }
 ],
 "metadata": {
  "accelerator": "GPU",
  "colab": {
   "authorship_tag": "ABX9TyM5SsdpaMZKtMapKSnmF73+",
   "collapsed_sections": [],
   "machine_shape": "hm",
   "name": "indeed_clf_bert.ipynb",
   "provenance": []
  },
  "kernelspec": {
   "display_name": "Python 3 (ipykernel)",
   "language": "python",
   "name": "python3"
  },
  "language_info": {
   "codemirror_mode": {
    "name": "ipython",
    "version": 3
   },
   "file_extension": ".py",
   "mimetype": "text/x-python",
   "name": "python",
   "nbconvert_exporter": "python",
   "pygments_lexer": "ipython3",
   "version": "3.9.7"
  },
  "widgets": {
   "application/vnd.jupyter.widget-state+json": {
    "06672652833440d089b8c0623e10b639": {
     "model_module": "@jupyter-widgets/controls",
     "model_module_version": "1.5.0",
     "model_name": "HTMLModel",
     "state": {
      "_dom_classes": [],
      "_model_module": "@jupyter-widgets/controls",
      "_model_module_version": "1.5.0",
      "_model_name": "HTMLModel",
      "_view_count": null,
      "_view_module": "@jupyter-widgets/controls",
      "_view_module_version": "1.5.0",
      "_view_name": "HTMLView",
      "description": "",
      "description_tooltip": null,
      "layout": "IPY_MODEL_16dd41a7cd634de192a09416f2258fcb",
      "placeholder": "​",
      "style": "IPY_MODEL_8e165b2f6ec140778dc5005f038ca3d8",
      "value": " 455k/455k [00:00&lt;00:00, 738kB/s]"
     }
    },
    "085475bfb29342ed85cc9bd70a246941": {
     "model_module": "@jupyter-widgets/controls",
     "model_module_version": "1.5.0",
     "model_name": "HTMLModel",
     "state": {
      "_dom_classes": [],
      "_model_module": "@jupyter-widgets/controls",
      "_model_module_version": "1.5.0",
      "_model_name": "HTMLModel",
      "_view_count": null,
      "_view_module": "@jupyter-widgets/controls",
      "_view_module_version": "1.5.0",
      "_view_name": "HTMLView",
      "description": "",
      "description_tooltip": null,
      "layout": "IPY_MODEL_8dc8479df82543419f9e02d57b1293bc",
      "placeholder": "​",
      "style": "IPY_MODEL_8a5d5cdce4614ff7b2e6e3647b414855",
      "value": " 226k/226k [00:00&lt;00:00, 980kB/s]"
     }
    },
    "0c2f5480eb41422896df8aad529149c0": {
     "model_module": "@jupyter-widgets/base",
     "model_module_version": "1.2.0",
     "model_name": "LayoutModel",
     "state": {
      "_model_module": "@jupyter-widgets/base",
      "_model_module_version": "1.2.0",
      "_model_name": "LayoutModel",
      "_view_count": null,
      "_view_module": "@jupyter-widgets/base",
      "_view_module_version": "1.2.0",
      "_view_name": "LayoutView",
      "align_content": null,
      "align_items": null,
      "align_self": null,
      "border": null,
      "bottom": null,
      "display": null,
      "flex": null,
      "flex_flow": null,
      "grid_area": null,
      "grid_auto_columns": null,
      "grid_auto_flow": null,
      "grid_auto_rows": null,
      "grid_column": null,
      "grid_gap": null,
      "grid_row": null,
      "grid_template_areas": null,
      "grid_template_columns": null,
      "grid_template_rows": null,
      "height": null,
      "justify_content": null,
      "justify_items": null,
      "left": null,
      "margin": null,
      "max_height": null,
      "max_width": null,
      "min_height": null,
      "min_width": null,
      "object_fit": null,
      "object_position": null,
      "order": null,
      "overflow": null,
      "overflow_x": null,
      "overflow_y": null,
      "padding": null,
      "right": null,
      "top": null,
      "visibility": null,
      "width": null
     }
    },
    "0ec78a6bfdef45358685693cc8fbecce": {
     "model_module": "@jupyter-widgets/controls",
     "model_module_version": "1.5.0",
     "model_name": "FloatProgressModel",
     "state": {
      "_dom_classes": [],
      "_model_module": "@jupyter-widgets/controls",
      "_model_module_version": "1.5.0",
      "_model_name": "FloatProgressModel",
      "_view_count": null,
      "_view_module": "@jupyter-widgets/controls",
      "_view_module_version": "1.5.0",
      "_view_name": "ProgressView",
      "bar_style": "success",
      "description": "",
      "description_tooltip": null,
      "layout": "IPY_MODEL_0c2f5480eb41422896df8aad529149c0",
      "max": 28,
      "min": 0,
      "orientation": "horizontal",
      "style": "IPY_MODEL_b3084d4f059d489690a984728ffaf331",
      "value": 28
     }
    },
    "16dd41a7cd634de192a09416f2258fcb": {
     "model_module": "@jupyter-widgets/base",
     "model_module_version": "1.2.0",
     "model_name": "LayoutModel",
     "state": {
      "_model_module": "@jupyter-widgets/base",
      "_model_module_version": "1.2.0",
      "_model_name": "LayoutModel",
      "_view_count": null,
      "_view_module": "@jupyter-widgets/base",
      "_view_module_version": "1.2.0",
      "_view_name": "LayoutView",
      "align_content": null,
      "align_items": null,
      "align_self": null,
      "border": null,
      "bottom": null,
      "display": null,
      "flex": null,
      "flex_flow": null,
      "grid_area": null,
      "grid_auto_columns": null,
      "grid_auto_flow": null,
      "grid_auto_rows": null,
      "grid_column": null,
      "grid_gap": null,
      "grid_row": null,
      "grid_template_areas": null,
      "grid_template_columns": null,
      "grid_template_rows": null,
      "height": null,
      "justify_content": null,
      "justify_items": null,
      "left": null,
      "margin": null,
      "max_height": null,
      "max_width": null,
      "min_height": null,
      "min_width": null,
      "object_fit": null,
      "object_position": null,
      "order": null,
      "overflow": null,
      "overflow_x": null,
      "overflow_y": null,
      "padding": null,
      "right": null,
      "top": null,
      "visibility": null,
      "width": null
     }
    },
    "1dcb3cdce92047e19d105e0bed8c68d6": {
     "model_module": "@jupyter-widgets/controls",
     "model_module_version": "1.5.0",
     "model_name": "HBoxModel",
     "state": {
      "_dom_classes": [],
      "_model_module": "@jupyter-widgets/controls",
      "_model_module_version": "1.5.0",
      "_model_name": "HBoxModel",
      "_view_count": null,
      "_view_module": "@jupyter-widgets/controls",
      "_view_module_version": "1.5.0",
      "_view_name": "HBoxView",
      "box_style": "",
      "children": [
       "IPY_MODEL_bbb9dc1ef0fd4d43a828125bba21ef46",
       "IPY_MODEL_22abb75582f94e2497b53880a60080d8",
       "IPY_MODEL_06672652833440d089b8c0623e10b639"
      ],
      "layout": "IPY_MODEL_8f51a80abc83494da9834abadf90fb65"
     }
    },
    "22abb75582f94e2497b53880a60080d8": {
     "model_module": "@jupyter-widgets/controls",
     "model_module_version": "1.5.0",
     "model_name": "FloatProgressModel",
     "state": {
      "_dom_classes": [],
      "_model_module": "@jupyter-widgets/controls",
      "_model_module_version": "1.5.0",
      "_model_name": "FloatProgressModel",
      "_view_count": null,
      "_view_module": "@jupyter-widgets/controls",
      "_view_module_version": "1.5.0",
      "_view_name": "ProgressView",
      "bar_style": "success",
      "description": "",
      "description_tooltip": null,
      "layout": "IPY_MODEL_bf2ddc4271ef47b88f1c07f413205c91",
      "max": 466062,
      "min": 0,
      "orientation": "horizontal",
      "style": "IPY_MODEL_4e818435d59a4e65874d11688832dc7a",
      "value": 466062
     }
    },
    "2760526c3fd04c54825bc31d319d327e": {
     "model_module": "@jupyter-widgets/controls",
     "model_module_version": "1.5.0",
     "model_name": "HTMLModel",
     "state": {
      "_dom_classes": [],
      "_model_module": "@jupyter-widgets/controls",
      "_model_module_version": "1.5.0",
      "_model_name": "HTMLModel",
      "_view_count": null,
      "_view_module": "@jupyter-widgets/controls",
      "_view_module_version": "1.5.0",
      "_view_name": "HTMLView",
      "description": "",
      "description_tooltip": null,
      "layout": "IPY_MODEL_7522112f727c4deba31ac3f601354f48",
      "placeholder": "​",
      "style": "IPY_MODEL_f4db6d98a84a4fbc9b2543a318eb597e",
      "value": "Downloading: 100%"
     }
    },
    "28e39f32a36341f096b904acb2b681ec": {
     "model_module": "@jupyter-widgets/controls",
     "model_module_version": "1.5.0",
     "model_name": "FloatProgressModel",
     "state": {
      "_dom_classes": [],
      "_model_module": "@jupyter-widgets/controls",
      "_model_module_version": "1.5.0",
      "_model_name": "FloatProgressModel",
      "_view_count": null,
      "_view_module": "@jupyter-widgets/controls",
      "_view_module_version": "1.5.0",
      "_view_name": "ProgressView",
      "bar_style": "success",
      "description": "",
      "description_tooltip": null,
      "layout": "IPY_MODEL_db275ba816cd4f8389da79d6efffc4a1",
      "max": 440473133,
      "min": 0,
      "orientation": "horizontal",
      "style": "IPY_MODEL_ad46635955a24a5ca7557e3e57621b47",
      "value": 440473133
     }
    },
    "4e818435d59a4e65874d11688832dc7a": {
     "model_module": "@jupyter-widgets/controls",
     "model_module_version": "1.5.0",
     "model_name": "ProgressStyleModel",
     "state": {
      "_model_module": "@jupyter-widgets/controls",
      "_model_module_version": "1.5.0",
      "_model_name": "ProgressStyleModel",
      "_view_count": null,
      "_view_module": "@jupyter-widgets/base",
      "_view_module_version": "1.2.0",
      "_view_name": "StyleView",
      "bar_color": null,
      "description_width": ""
     }
    },
    "4f63302c5aba4c7686190188dbad6050": {
     "model_module": "@jupyter-widgets/base",
     "model_module_version": "1.2.0",
     "model_name": "LayoutModel",
     "state": {
      "_model_module": "@jupyter-widgets/base",
      "_model_module_version": "1.2.0",
      "_model_name": "LayoutModel",
      "_view_count": null,
      "_view_module": "@jupyter-widgets/base",
      "_view_module_version": "1.2.0",
      "_view_name": "LayoutView",
      "align_content": null,
      "align_items": null,
      "align_self": null,
      "border": null,
      "bottom": null,
      "display": null,
      "flex": null,
      "flex_flow": null,
      "grid_area": null,
      "grid_auto_columns": null,
      "grid_auto_flow": null,
      "grid_auto_rows": null,
      "grid_column": null,
      "grid_gap": null,
      "grid_row": null,
      "grid_template_areas": null,
      "grid_template_columns": null,
      "grid_template_rows": null,
      "height": null,
      "justify_content": null,
      "justify_items": null,
      "left": null,
      "margin": null,
      "max_height": null,
      "max_width": null,
      "min_height": null,
      "min_width": null,
      "object_fit": null,
      "object_position": null,
      "order": null,
      "overflow": null,
      "overflow_x": null,
      "overflow_y": null,
      "padding": null,
      "right": null,
      "top": null,
      "visibility": null,
      "width": null
     }
    },
    "58b08b86655b465b8886188eae982302": {
     "model_module": "@jupyter-widgets/controls",
     "model_module_version": "1.5.0",
     "model_name": "DescriptionStyleModel",
     "state": {
      "_model_module": "@jupyter-widgets/controls",
      "_model_module_version": "1.5.0",
      "_model_name": "DescriptionStyleModel",
      "_view_count": null,
      "_view_module": "@jupyter-widgets/base",
      "_view_module_version": "1.2.0",
      "_view_name": "StyleView",
      "description_width": ""
     }
    },
    "5b8722ad20be4a12ada78ccb13df9a09": {
     "model_module": "@jupyter-widgets/controls",
     "model_module_version": "1.5.0",
     "model_name": "HTMLModel",
     "state": {
      "_dom_classes": [],
      "_model_module": "@jupyter-widgets/controls",
      "_model_module_version": "1.5.0",
      "_model_name": "HTMLModel",
      "_view_count": null,
      "_view_module": "@jupyter-widgets/controls",
      "_view_module_version": "1.5.0",
      "_view_name": "HTMLView",
      "description": "",
      "description_tooltip": null,
      "layout": "IPY_MODEL_def5c30b3a4c4ed7a621a2d009af61f9",
      "placeholder": "​",
      "style": "IPY_MODEL_c537dc59f2ce4c3d9ba59598357ca738",
      "value": " 420M/420M [00:13&lt;00:00, 35.1MB/s]"
     }
    },
    "5fddc0ba87474075a702cebd2484be0b": {
     "model_module": "@jupyter-widgets/base",
     "model_module_version": "1.2.0",
     "model_name": "LayoutModel",
     "state": {
      "_model_module": "@jupyter-widgets/base",
      "_model_module_version": "1.2.0",
      "_model_name": "LayoutModel",
      "_view_count": null,
      "_view_module": "@jupyter-widgets/base",
      "_view_module_version": "1.2.0",
      "_view_name": "LayoutView",
      "align_content": null,
      "align_items": null,
      "align_self": null,
      "border": null,
      "bottom": null,
      "display": null,
      "flex": null,
      "flex_flow": null,
      "grid_area": null,
      "grid_auto_columns": null,
      "grid_auto_flow": null,
      "grid_auto_rows": null,
      "grid_column": null,
      "grid_gap": null,
      "grid_row": null,
      "grid_template_areas": null,
      "grid_template_columns": null,
      "grid_template_rows": null,
      "height": null,
      "justify_content": null,
      "justify_items": null,
      "left": null,
      "margin": null,
      "max_height": null,
      "max_width": null,
      "min_height": null,
      "min_width": null,
      "object_fit": null,
      "object_position": null,
      "order": null,
      "overflow": null,
      "overflow_x": null,
      "overflow_y": null,
      "padding": null,
      "right": null,
      "top": null,
      "visibility": null,
      "width": null
     }
    },
    "6d5417790fd54589b55763fa0c34a559": {
     "model_module": "@jupyter-widgets/base",
     "model_module_version": "1.2.0",
     "model_name": "LayoutModel",
     "state": {
      "_model_module": "@jupyter-widgets/base",
      "_model_module_version": "1.2.0",
      "_model_name": "LayoutModel",
      "_view_count": null,
      "_view_module": "@jupyter-widgets/base",
      "_view_module_version": "1.2.0",
      "_view_name": "LayoutView",
      "align_content": null,
      "align_items": null,
      "align_self": null,
      "border": null,
      "bottom": null,
      "display": null,
      "flex": null,
      "flex_flow": null,
      "grid_area": null,
      "grid_auto_columns": null,
      "grid_auto_flow": null,
      "grid_auto_rows": null,
      "grid_column": null,
      "grid_gap": null,
      "grid_row": null,
      "grid_template_areas": null,
      "grid_template_columns": null,
      "grid_template_rows": null,
      "height": null,
      "justify_content": null,
      "justify_items": null,
      "left": null,
      "margin": null,
      "max_height": null,
      "max_width": null,
      "min_height": null,
      "min_width": null,
      "object_fit": null,
      "object_position": null,
      "order": null,
      "overflow": null,
      "overflow_x": null,
      "overflow_y": null,
      "padding": null,
      "right": null,
      "top": null,
      "visibility": null,
      "width": null
     }
    },
    "737bbad6bb694e97a795030c9eb83bad": {
     "model_module": "@jupyter-widgets/controls",
     "model_module_version": "1.5.0",
     "model_name": "HBoxModel",
     "state": {
      "_dom_classes": [],
      "_model_module": "@jupyter-widgets/controls",
      "_model_module_version": "1.5.0",
      "_model_name": "HBoxModel",
      "_view_count": null,
      "_view_module": "@jupyter-widgets/controls",
      "_view_module_version": "1.5.0",
      "_view_name": "HBoxView",
      "box_style": "",
      "children": [
       "IPY_MODEL_b304c1f650564a3d9ce112fc8bf51d56",
       "IPY_MODEL_dccaa504c8a34ff586cb4cc61111271a",
       "IPY_MODEL_085475bfb29342ed85cc9bd70a246941"
      ],
      "layout": "IPY_MODEL_b2545f06e3ed4161a2e73acf7b62e570"
     }
    },
    "7522112f727c4deba31ac3f601354f48": {
     "model_module": "@jupyter-widgets/base",
     "model_module_version": "1.2.0",
     "model_name": "LayoutModel",
     "state": {
      "_model_module": "@jupyter-widgets/base",
      "_model_module_version": "1.2.0",
      "_model_name": "LayoutModel",
      "_view_count": null,
      "_view_module": "@jupyter-widgets/base",
      "_view_module_version": "1.2.0",
      "_view_name": "LayoutView",
      "align_content": null,
      "align_items": null,
      "align_self": null,
      "border": null,
      "bottom": null,
      "display": null,
      "flex": null,
      "flex_flow": null,
      "grid_area": null,
      "grid_auto_columns": null,
      "grid_auto_flow": null,
      "grid_auto_rows": null,
      "grid_column": null,
      "grid_gap": null,
      "grid_row": null,
      "grid_template_areas": null,
      "grid_template_columns": null,
      "grid_template_rows": null,
      "height": null,
      "justify_content": null,
      "justify_items": null,
      "left": null,
      "margin": null,
      "max_height": null,
      "max_width": null,
      "min_height": null,
      "min_width": null,
      "object_fit": null,
      "object_position": null,
      "order": null,
      "overflow": null,
      "overflow_x": null,
      "overflow_y": null,
      "padding": null,
      "right": null,
      "top": null,
      "visibility": null,
      "width": null
     }
    },
    "8a5d5cdce4614ff7b2e6e3647b414855": {
     "model_module": "@jupyter-widgets/controls",
     "model_module_version": "1.5.0",
     "model_name": "DescriptionStyleModel",
     "state": {
      "_model_module": "@jupyter-widgets/controls",
      "_model_module_version": "1.5.0",
      "_model_name": "DescriptionStyleModel",
      "_view_count": null,
      "_view_module": "@jupyter-widgets/base",
      "_view_module_version": "1.2.0",
      "_view_name": "StyleView",
      "description_width": ""
     }
    },
    "8dc8479df82543419f9e02d57b1293bc": {
     "model_module": "@jupyter-widgets/base",
     "model_module_version": "1.2.0",
     "model_name": "LayoutModel",
     "state": {
      "_model_module": "@jupyter-widgets/base",
      "_model_module_version": "1.2.0",
      "_model_name": "LayoutModel",
      "_view_count": null,
      "_view_module": "@jupyter-widgets/base",
      "_view_module_version": "1.2.0",
      "_view_name": "LayoutView",
      "align_content": null,
      "align_items": null,
      "align_self": null,
      "border": null,
      "bottom": null,
      "display": null,
      "flex": null,
      "flex_flow": null,
      "grid_area": null,
      "grid_auto_columns": null,
      "grid_auto_flow": null,
      "grid_auto_rows": null,
      "grid_column": null,
      "grid_gap": null,
      "grid_row": null,
      "grid_template_areas": null,
      "grid_template_columns": null,
      "grid_template_rows": null,
      "height": null,
      "justify_content": null,
      "justify_items": null,
      "left": null,
      "margin": null,
      "max_height": null,
      "max_width": null,
      "min_height": null,
      "min_width": null,
      "object_fit": null,
      "object_position": null,
      "order": null,
      "overflow": null,
      "overflow_x": null,
      "overflow_y": null,
      "padding": null,
      "right": null,
      "top": null,
      "visibility": null,
      "width": null
     }
    },
    "8e165b2f6ec140778dc5005f038ca3d8": {
     "model_module": "@jupyter-widgets/controls",
     "model_module_version": "1.5.0",
     "model_name": "DescriptionStyleModel",
     "state": {
      "_model_module": "@jupyter-widgets/controls",
      "_model_module_version": "1.5.0",
      "_model_name": "DescriptionStyleModel",
      "_view_count": null,
      "_view_module": "@jupyter-widgets/base",
      "_view_module_version": "1.2.0",
      "_view_name": "StyleView",
      "description_width": ""
     }
    },
    "8f51a80abc83494da9834abadf90fb65": {
     "model_module": "@jupyter-widgets/base",
     "model_module_version": "1.2.0",
     "model_name": "LayoutModel",
     "state": {
      "_model_module": "@jupyter-widgets/base",
      "_model_module_version": "1.2.0",
      "_model_name": "LayoutModel",
      "_view_count": null,
      "_view_module": "@jupyter-widgets/base",
      "_view_module_version": "1.2.0",
      "_view_name": "LayoutView",
      "align_content": null,
      "align_items": null,
      "align_self": null,
      "border": null,
      "bottom": null,
      "display": null,
      "flex": null,
      "flex_flow": null,
      "grid_area": null,
      "grid_auto_columns": null,
      "grid_auto_flow": null,
      "grid_auto_rows": null,
      "grid_column": null,
      "grid_gap": null,
      "grid_row": null,
      "grid_template_areas": null,
      "grid_template_columns": null,
      "grid_template_rows": null,
      "height": null,
      "justify_content": null,
      "justify_items": null,
      "left": null,
      "margin": null,
      "max_height": null,
      "max_width": null,
      "min_height": null,
      "min_width": null,
      "object_fit": null,
      "object_position": null,
      "order": null,
      "overflow": null,
      "overflow_x": null,
      "overflow_y": null,
      "padding": null,
      "right": null,
      "top": null,
      "visibility": null,
      "width": null
     }
    },
    "9908d2d0daeb4c25abfc4a2f9a9ed6ca": {
     "model_module": "@jupyter-widgets/controls",
     "model_module_version": "1.5.0",
     "model_name": "HTMLModel",
     "state": {
      "_dom_classes": [],
      "_model_module": "@jupyter-widgets/controls",
      "_model_module_version": "1.5.0",
      "_model_name": "HTMLModel",
      "_view_count": null,
      "_view_module": "@jupyter-widgets/controls",
      "_view_module_version": "1.5.0",
      "_view_name": "HTMLView",
      "description": "",
      "description_tooltip": null,
      "layout": "IPY_MODEL_e28e6a17278f42e9b5f5684366a86e5c",
      "placeholder": "​",
      "style": "IPY_MODEL_fc9d07bc394b4db3adb1c4117ae57715",
      "value": "Downloading: 100%"
     }
    },
    "9c9d406d66bc4a7893d1c5f483eda1e2": {
     "model_module": "@jupyter-widgets/controls",
     "model_module_version": "1.5.0",
     "model_name": "DescriptionStyleModel",
     "state": {
      "_model_module": "@jupyter-widgets/controls",
      "_model_module_version": "1.5.0",
      "_model_name": "DescriptionStyleModel",
      "_view_count": null,
      "_view_module": "@jupyter-widgets/base",
      "_view_module_version": "1.2.0",
      "_view_name": "StyleView",
      "description_width": ""
     }
    },
    "a0e1fb9867f847a9ba9451249fe3495e": {
     "model_module": "@jupyter-widgets/controls",
     "model_module_version": "1.5.0",
     "model_name": "HBoxModel",
     "state": {
      "_dom_classes": [],
      "_model_module": "@jupyter-widgets/controls",
      "_model_module_version": "1.5.0",
      "_model_name": "HBoxModel",
      "_view_count": null,
      "_view_module": "@jupyter-widgets/controls",
      "_view_module_version": "1.5.0",
      "_view_name": "HBoxView",
      "box_style": "",
      "children": [
       "IPY_MODEL_9908d2d0daeb4c25abfc4a2f9a9ed6ca",
       "IPY_MODEL_e67cfdf1070a44259297d6bc8bf7ee0c",
       "IPY_MODEL_f1edf2927859405f9c8851c29e1aaf0a"
      ],
      "layout": "IPY_MODEL_4f63302c5aba4c7686190188dbad6050"
     }
    },
    "a94932803c994c648d52e75970a2e8ca": {
     "model_module": "@jupyter-widgets/base",
     "model_module_version": "1.2.0",
     "model_name": "LayoutModel",
     "state": {
      "_model_module": "@jupyter-widgets/base",
      "_model_module_version": "1.2.0",
      "_model_name": "LayoutModel",
      "_view_count": null,
      "_view_module": "@jupyter-widgets/base",
      "_view_module_version": "1.2.0",
      "_view_name": "LayoutView",
      "align_content": null,
      "align_items": null,
      "align_self": null,
      "border": null,
      "bottom": null,
      "display": null,
      "flex": null,
      "flex_flow": null,
      "grid_area": null,
      "grid_auto_columns": null,
      "grid_auto_flow": null,
      "grid_auto_rows": null,
      "grid_column": null,
      "grid_gap": null,
      "grid_row": null,
      "grid_template_areas": null,
      "grid_template_columns": null,
      "grid_template_rows": null,
      "height": null,
      "justify_content": null,
      "justify_items": null,
      "left": null,
      "margin": null,
      "max_height": null,
      "max_width": null,
      "min_height": null,
      "min_width": null,
      "object_fit": null,
      "object_position": null,
      "order": null,
      "overflow": null,
      "overflow_x": null,
      "overflow_y": null,
      "padding": null,
      "right": null,
      "top": null,
      "visibility": null,
      "width": null
     }
    },
    "ad46635955a24a5ca7557e3e57621b47": {
     "model_module": "@jupyter-widgets/controls",
     "model_module_version": "1.5.0",
     "model_name": "ProgressStyleModel",
     "state": {
      "_model_module": "@jupyter-widgets/controls",
      "_model_module_version": "1.5.0",
      "_model_name": "ProgressStyleModel",
      "_view_count": null,
      "_view_module": "@jupyter-widgets/base",
      "_view_module_version": "1.2.0",
      "_view_name": "StyleView",
      "bar_color": null,
      "description_width": ""
     }
    },
    "b24975a536c24ec6b1b934b6100d9d8e": {
     "model_module": "@jupyter-widgets/controls",
     "model_module_version": "1.5.0",
     "model_name": "ProgressStyleModel",
     "state": {
      "_model_module": "@jupyter-widgets/controls",
      "_model_module_version": "1.5.0",
      "_model_name": "ProgressStyleModel",
      "_view_count": null,
      "_view_module": "@jupyter-widgets/base",
      "_view_module_version": "1.2.0",
      "_view_name": "StyleView",
      "bar_color": null,
      "description_width": ""
     }
    },
    "b2545f06e3ed4161a2e73acf7b62e570": {
     "model_module": "@jupyter-widgets/base",
     "model_module_version": "1.2.0",
     "model_name": "LayoutModel",
     "state": {
      "_model_module": "@jupyter-widgets/base",
      "_model_module_version": "1.2.0",
      "_model_name": "LayoutModel",
      "_view_count": null,
      "_view_module": "@jupyter-widgets/base",
      "_view_module_version": "1.2.0",
      "_view_name": "LayoutView",
      "align_content": null,
      "align_items": null,
      "align_self": null,
      "border": null,
      "bottom": null,
      "display": null,
      "flex": null,
      "flex_flow": null,
      "grid_area": null,
      "grid_auto_columns": null,
      "grid_auto_flow": null,
      "grid_auto_rows": null,
      "grid_column": null,
      "grid_gap": null,
      "grid_row": null,
      "grid_template_areas": null,
      "grid_template_columns": null,
      "grid_template_rows": null,
      "height": null,
      "justify_content": null,
      "justify_items": null,
      "left": null,
      "margin": null,
      "max_height": null,
      "max_width": null,
      "min_height": null,
      "min_width": null,
      "object_fit": null,
      "object_position": null,
      "order": null,
      "overflow": null,
      "overflow_x": null,
      "overflow_y": null,
      "padding": null,
      "right": null,
      "top": null,
      "visibility": null,
      "width": null
     }
    },
    "b304c1f650564a3d9ce112fc8bf51d56": {
     "model_module": "@jupyter-widgets/controls",
     "model_module_version": "1.5.0",
     "model_name": "HTMLModel",
     "state": {
      "_dom_classes": [],
      "_model_module": "@jupyter-widgets/controls",
      "_model_module_version": "1.5.0",
      "_model_name": "HTMLModel",
      "_view_count": null,
      "_view_module": "@jupyter-widgets/controls",
      "_view_module_version": "1.5.0",
      "_view_name": "HTMLView",
      "description": "",
      "description_tooltip": null,
      "layout": "IPY_MODEL_f88b95a9546c4a5e9998f23908ac3dd1",
      "placeholder": "​",
      "style": "IPY_MODEL_fdb026fe4e484bbcb9109494f709b912",
      "value": "Downloading: 100%"
     }
    },
    "b3084d4f059d489690a984728ffaf331": {
     "model_module": "@jupyter-widgets/controls",
     "model_module_version": "1.5.0",
     "model_name": "ProgressStyleModel",
     "state": {
      "_model_module": "@jupyter-widgets/controls",
      "_model_module_version": "1.5.0",
      "_model_name": "ProgressStyleModel",
      "_view_count": null,
      "_view_module": "@jupyter-widgets/base",
      "_view_module_version": "1.2.0",
      "_view_name": "StyleView",
      "bar_color": null,
      "description_width": ""
     }
    },
    "b4770d676c094eb2a4eda0ed214affb6": {
     "model_module": "@jupyter-widgets/base",
     "model_module_version": "1.2.0",
     "model_name": "LayoutModel",
     "state": {
      "_model_module": "@jupyter-widgets/base",
      "_model_module_version": "1.2.0",
      "_model_name": "LayoutModel",
      "_view_count": null,
      "_view_module": "@jupyter-widgets/base",
      "_view_module_version": "1.2.0",
      "_view_name": "LayoutView",
      "align_content": null,
      "align_items": null,
      "align_self": null,
      "border": null,
      "bottom": null,
      "display": null,
      "flex": null,
      "flex_flow": null,
      "grid_area": null,
      "grid_auto_columns": null,
      "grid_auto_flow": null,
      "grid_auto_rows": null,
      "grid_column": null,
      "grid_gap": null,
      "grid_row": null,
      "grid_template_areas": null,
      "grid_template_columns": null,
      "grid_template_rows": null,
      "height": null,
      "justify_content": null,
      "justify_items": null,
      "left": null,
      "margin": null,
      "max_height": null,
      "max_width": null,
      "min_height": null,
      "min_width": null,
      "object_fit": null,
      "object_position": null,
      "order": null,
      "overflow": null,
      "overflow_x": null,
      "overflow_y": null,
      "padding": null,
      "right": null,
      "top": null,
      "visibility": null,
      "width": null
     }
    },
    "bbb9dc1ef0fd4d43a828125bba21ef46": {
     "model_module": "@jupyter-widgets/controls",
     "model_module_version": "1.5.0",
     "model_name": "HTMLModel",
     "state": {
      "_dom_classes": [],
      "_model_module": "@jupyter-widgets/controls",
      "_model_module_version": "1.5.0",
      "_model_name": "HTMLModel",
      "_view_count": null,
      "_view_module": "@jupyter-widgets/controls",
      "_view_module_version": "1.5.0",
      "_view_name": "HTMLView",
      "description": "",
      "description_tooltip": null,
      "layout": "IPY_MODEL_5fddc0ba87474075a702cebd2484be0b",
      "placeholder": "​",
      "style": "IPY_MODEL_9c9d406d66bc4a7893d1c5f483eda1e2",
      "value": "Downloading: 100%"
     }
    },
    "bf2ddc4271ef47b88f1c07f413205c91": {
     "model_module": "@jupyter-widgets/base",
     "model_module_version": "1.2.0",
     "model_name": "LayoutModel",
     "state": {
      "_model_module": "@jupyter-widgets/base",
      "_model_module_version": "1.2.0",
      "_model_name": "LayoutModel",
      "_view_count": null,
      "_view_module": "@jupyter-widgets/base",
      "_view_module_version": "1.2.0",
      "_view_name": "LayoutView",
      "align_content": null,
      "align_items": null,
      "align_self": null,
      "border": null,
      "bottom": null,
      "display": null,
      "flex": null,
      "flex_flow": null,
      "grid_area": null,
      "grid_auto_columns": null,
      "grid_auto_flow": null,
      "grid_auto_rows": null,
      "grid_column": null,
      "grid_gap": null,
      "grid_row": null,
      "grid_template_areas": null,
      "grid_template_columns": null,
      "grid_template_rows": null,
      "height": null,
      "justify_content": null,
      "justify_items": null,
      "left": null,
      "margin": null,
      "max_height": null,
      "max_width": null,
      "min_height": null,
      "min_width": null,
      "object_fit": null,
      "object_position": null,
      "order": null,
      "overflow": null,
      "overflow_x": null,
      "overflow_y": null,
      "padding": null,
      "right": null,
      "top": null,
      "visibility": null,
      "width": null
     }
    },
    "bfc0ed08ee284bb6a35a0b3ab86d8bab": {
     "model_module": "@jupyter-widgets/base",
     "model_module_version": "1.2.0",
     "model_name": "LayoutModel",
     "state": {
      "_model_module": "@jupyter-widgets/base",
      "_model_module_version": "1.2.0",
      "_model_name": "LayoutModel",
      "_view_count": null,
      "_view_module": "@jupyter-widgets/base",
      "_view_module_version": "1.2.0",
      "_view_name": "LayoutView",
      "align_content": null,
      "align_items": null,
      "align_self": null,
      "border": null,
      "bottom": null,
      "display": null,
      "flex": null,
      "flex_flow": null,
      "grid_area": null,
      "grid_auto_columns": null,
      "grid_auto_flow": null,
      "grid_auto_rows": null,
      "grid_column": null,
      "grid_gap": null,
      "grid_row": null,
      "grid_template_areas": null,
      "grid_template_columns": null,
      "grid_template_rows": null,
      "height": null,
      "justify_content": null,
      "justify_items": null,
      "left": null,
      "margin": null,
      "max_height": null,
      "max_width": null,
      "min_height": null,
      "min_width": null,
      "object_fit": null,
      "object_position": null,
      "order": null,
      "overflow": null,
      "overflow_x": null,
      "overflow_y": null,
      "padding": null,
      "right": null,
      "top": null,
      "visibility": null,
      "width": null
     }
    },
    "c06eab6349404bd88d3ba7d5b17b9310": {
     "model_module": "@jupyter-widgets/controls",
     "model_module_version": "1.5.0",
     "model_name": "HBoxModel",
     "state": {
      "_dom_classes": [],
      "_model_module": "@jupyter-widgets/controls",
      "_model_module_version": "1.5.0",
      "_model_name": "HBoxModel",
      "_view_count": null,
      "_view_module": "@jupyter-widgets/controls",
      "_view_module_version": "1.5.0",
      "_view_name": "HBoxView",
      "box_style": "",
      "children": [
       "IPY_MODEL_2760526c3fd04c54825bc31d319d327e",
       "IPY_MODEL_0ec78a6bfdef45358685693cc8fbecce",
       "IPY_MODEL_e2eea79c00e84f58ae851881a6c96525"
      ],
      "layout": "IPY_MODEL_d4eec08011b74926adbd0119e6b5d806"
     }
    },
    "c3a62d6969ad4a7f82c4fe6f55356da0": {
     "model_module": "@jupyter-widgets/base",
     "model_module_version": "1.2.0",
     "model_name": "LayoutModel",
     "state": {
      "_model_module": "@jupyter-widgets/base",
      "_model_module_version": "1.2.0",
      "_model_name": "LayoutModel",
      "_view_count": null,
      "_view_module": "@jupyter-widgets/base",
      "_view_module_version": "1.2.0",
      "_view_name": "LayoutView",
      "align_content": null,
      "align_items": null,
      "align_self": null,
      "border": null,
      "bottom": null,
      "display": null,
      "flex": null,
      "flex_flow": null,
      "grid_area": null,
      "grid_auto_columns": null,
      "grid_auto_flow": null,
      "grid_auto_rows": null,
      "grid_column": null,
      "grid_gap": null,
      "grid_row": null,
      "grid_template_areas": null,
      "grid_template_columns": null,
      "grid_template_rows": null,
      "height": null,
      "justify_content": null,
      "justify_items": null,
      "left": null,
      "margin": null,
      "max_height": null,
      "max_width": null,
      "min_height": null,
      "min_width": null,
      "object_fit": null,
      "object_position": null,
      "order": null,
      "overflow": null,
      "overflow_x": null,
      "overflow_y": null,
      "padding": null,
      "right": null,
      "top": null,
      "visibility": null,
      "width": null
     }
    },
    "c537dc59f2ce4c3d9ba59598357ca738": {
     "model_module": "@jupyter-widgets/controls",
     "model_module_version": "1.5.0",
     "model_name": "DescriptionStyleModel",
     "state": {
      "_model_module": "@jupyter-widgets/controls",
      "_model_module_version": "1.5.0",
      "_model_name": "DescriptionStyleModel",
      "_view_count": null,
      "_view_module": "@jupyter-widgets/base",
      "_view_module_version": "1.2.0",
      "_view_name": "StyleView",
      "description_width": ""
     }
    },
    "cb24c4d0f5be407cadfaaaad9337d0ee": {
     "model_module": "@jupyter-widgets/controls",
     "model_module_version": "1.5.0",
     "model_name": "DescriptionStyleModel",
     "state": {
      "_model_module": "@jupyter-widgets/controls",
      "_model_module_version": "1.5.0",
      "_model_name": "DescriptionStyleModel",
      "_view_count": null,
      "_view_module": "@jupyter-widgets/base",
      "_view_module_version": "1.2.0",
      "_view_name": "StyleView",
      "description_width": ""
     }
    },
    "ce2b7094743d411684080204807be0cd": {
     "model_module": "@jupyter-widgets/controls",
     "model_module_version": "1.5.0",
     "model_name": "HBoxModel",
     "state": {
      "_dom_classes": [],
      "_model_module": "@jupyter-widgets/controls",
      "_model_module_version": "1.5.0",
      "_model_name": "HBoxModel",
      "_view_count": null,
      "_view_module": "@jupyter-widgets/controls",
      "_view_module_version": "1.5.0",
      "_view_name": "HBoxView",
      "box_style": "",
      "children": [
       "IPY_MODEL_cfbf6b39d6f84e05b8c82e59c7fa4206",
       "IPY_MODEL_28e39f32a36341f096b904acb2b681ec",
       "IPY_MODEL_5b8722ad20be4a12ada78ccb13df9a09"
      ],
      "layout": "IPY_MODEL_6d5417790fd54589b55763fa0c34a559"
     }
    },
    "cfbf6b39d6f84e05b8c82e59c7fa4206": {
     "model_module": "@jupyter-widgets/controls",
     "model_module_version": "1.5.0",
     "model_name": "HTMLModel",
     "state": {
      "_dom_classes": [],
      "_model_module": "@jupyter-widgets/controls",
      "_model_module_version": "1.5.0",
      "_model_name": "HTMLModel",
      "_view_count": null,
      "_view_module": "@jupyter-widgets/controls",
      "_view_module_version": "1.5.0",
      "_view_name": "HTMLView",
      "description": "",
      "description_tooltip": null,
      "layout": "IPY_MODEL_e7497746af804b378034de02af6fb057",
      "placeholder": "​",
      "style": "IPY_MODEL_58b08b86655b465b8886188eae982302",
      "value": "Downloading: 100%"
     }
    },
    "d3129cf52db5469fae51b3e129b3e671": {
     "model_module": "@jupyter-widgets/controls",
     "model_module_version": "1.5.0",
     "model_name": "DescriptionStyleModel",
     "state": {
      "_model_module": "@jupyter-widgets/controls",
      "_model_module_version": "1.5.0",
      "_model_name": "DescriptionStyleModel",
      "_view_count": null,
      "_view_module": "@jupyter-widgets/base",
      "_view_module_version": "1.2.0",
      "_view_name": "StyleView",
      "description_width": ""
     }
    },
    "d4eec08011b74926adbd0119e6b5d806": {
     "model_module": "@jupyter-widgets/base",
     "model_module_version": "1.2.0",
     "model_name": "LayoutModel",
     "state": {
      "_model_module": "@jupyter-widgets/base",
      "_model_module_version": "1.2.0",
      "_model_name": "LayoutModel",
      "_view_count": null,
      "_view_module": "@jupyter-widgets/base",
      "_view_module_version": "1.2.0",
      "_view_name": "LayoutView",
      "align_content": null,
      "align_items": null,
      "align_self": null,
      "border": null,
      "bottom": null,
      "display": null,
      "flex": null,
      "flex_flow": null,
      "grid_area": null,
      "grid_auto_columns": null,
      "grid_auto_flow": null,
      "grid_auto_rows": null,
      "grid_column": null,
      "grid_gap": null,
      "grid_row": null,
      "grid_template_areas": null,
      "grid_template_columns": null,
      "grid_template_rows": null,
      "height": null,
      "justify_content": null,
      "justify_items": null,
      "left": null,
      "margin": null,
      "max_height": null,
      "max_width": null,
      "min_height": null,
      "min_width": null,
      "object_fit": null,
      "object_position": null,
      "order": null,
      "overflow": null,
      "overflow_x": null,
      "overflow_y": null,
      "padding": null,
      "right": null,
      "top": null,
      "visibility": null,
      "width": null
     }
    },
    "db275ba816cd4f8389da79d6efffc4a1": {
     "model_module": "@jupyter-widgets/base",
     "model_module_version": "1.2.0",
     "model_name": "LayoutModel",
     "state": {
      "_model_module": "@jupyter-widgets/base",
      "_model_module_version": "1.2.0",
      "_model_name": "LayoutModel",
      "_view_count": null,
      "_view_module": "@jupyter-widgets/base",
      "_view_module_version": "1.2.0",
      "_view_name": "LayoutView",
      "align_content": null,
      "align_items": null,
      "align_self": null,
      "border": null,
      "bottom": null,
      "display": null,
      "flex": null,
      "flex_flow": null,
      "grid_area": null,
      "grid_auto_columns": null,
      "grid_auto_flow": null,
      "grid_auto_rows": null,
      "grid_column": null,
      "grid_gap": null,
      "grid_row": null,
      "grid_template_areas": null,
      "grid_template_columns": null,
      "grid_template_rows": null,
      "height": null,
      "justify_content": null,
      "justify_items": null,
      "left": null,
      "margin": null,
      "max_height": null,
      "max_width": null,
      "min_height": null,
      "min_width": null,
      "object_fit": null,
      "object_position": null,
      "order": null,
      "overflow": null,
      "overflow_x": null,
      "overflow_y": null,
      "padding": null,
      "right": null,
      "top": null,
      "visibility": null,
      "width": null
     }
    },
    "dccaa504c8a34ff586cb4cc61111271a": {
     "model_module": "@jupyter-widgets/controls",
     "model_module_version": "1.5.0",
     "model_name": "FloatProgressModel",
     "state": {
      "_dom_classes": [],
      "_model_module": "@jupyter-widgets/controls",
      "_model_module_version": "1.5.0",
      "_model_name": "FloatProgressModel",
      "_view_count": null,
      "_view_module": "@jupyter-widgets/controls",
      "_view_module_version": "1.5.0",
      "_view_name": "ProgressView",
      "bar_style": "success",
      "description": "",
      "description_tooltip": null,
      "layout": "IPY_MODEL_b4770d676c094eb2a4eda0ed214affb6",
      "max": 231508,
      "min": 0,
      "orientation": "horizontal",
      "style": "IPY_MODEL_ea4d254ef6f54cd7a524d389b6b697e9",
      "value": 231508
     }
    },
    "def5c30b3a4c4ed7a621a2d009af61f9": {
     "model_module": "@jupyter-widgets/base",
     "model_module_version": "1.2.0",
     "model_name": "LayoutModel",
     "state": {
      "_model_module": "@jupyter-widgets/base",
      "_model_module_version": "1.2.0",
      "_model_name": "LayoutModel",
      "_view_count": null,
      "_view_module": "@jupyter-widgets/base",
      "_view_module_version": "1.2.0",
      "_view_name": "LayoutView",
      "align_content": null,
      "align_items": null,
      "align_self": null,
      "border": null,
      "bottom": null,
      "display": null,
      "flex": null,
      "flex_flow": null,
      "grid_area": null,
      "grid_auto_columns": null,
      "grid_auto_flow": null,
      "grid_auto_rows": null,
      "grid_column": null,
      "grid_gap": null,
      "grid_row": null,
      "grid_template_areas": null,
      "grid_template_columns": null,
      "grid_template_rows": null,
      "height": null,
      "justify_content": null,
      "justify_items": null,
      "left": null,
      "margin": null,
      "max_height": null,
      "max_width": null,
      "min_height": null,
      "min_width": null,
      "object_fit": null,
      "object_position": null,
      "order": null,
      "overflow": null,
      "overflow_x": null,
      "overflow_y": null,
      "padding": null,
      "right": null,
      "top": null,
      "visibility": null,
      "width": null
     }
    },
    "e28e6a17278f42e9b5f5684366a86e5c": {
     "model_module": "@jupyter-widgets/base",
     "model_module_version": "1.2.0",
     "model_name": "LayoutModel",
     "state": {
      "_model_module": "@jupyter-widgets/base",
      "_model_module_version": "1.2.0",
      "_model_name": "LayoutModel",
      "_view_count": null,
      "_view_module": "@jupyter-widgets/base",
      "_view_module_version": "1.2.0",
      "_view_name": "LayoutView",
      "align_content": null,
      "align_items": null,
      "align_self": null,
      "border": null,
      "bottom": null,
      "display": null,
      "flex": null,
      "flex_flow": null,
      "grid_area": null,
      "grid_auto_columns": null,
      "grid_auto_flow": null,
      "grid_auto_rows": null,
      "grid_column": null,
      "grid_gap": null,
      "grid_row": null,
      "grid_template_areas": null,
      "grid_template_columns": null,
      "grid_template_rows": null,
      "height": null,
      "justify_content": null,
      "justify_items": null,
      "left": null,
      "margin": null,
      "max_height": null,
      "max_width": null,
      "min_height": null,
      "min_width": null,
      "object_fit": null,
      "object_position": null,
      "order": null,
      "overflow": null,
      "overflow_x": null,
      "overflow_y": null,
      "padding": null,
      "right": null,
      "top": null,
      "visibility": null,
      "width": null
     }
    },
    "e2eea79c00e84f58ae851881a6c96525": {
     "model_module": "@jupyter-widgets/controls",
     "model_module_version": "1.5.0",
     "model_name": "HTMLModel",
     "state": {
      "_dom_classes": [],
      "_model_module": "@jupyter-widgets/controls",
      "_model_module_version": "1.5.0",
      "_model_name": "HTMLModel",
      "_view_count": null,
      "_view_module": "@jupyter-widgets/controls",
      "_view_module_version": "1.5.0",
      "_view_name": "HTMLView",
      "description": "",
      "description_tooltip": null,
      "layout": "IPY_MODEL_a94932803c994c648d52e75970a2e8ca",
      "placeholder": "​",
      "style": "IPY_MODEL_d3129cf52db5469fae51b3e129b3e671",
      "value": " 28.0/28.0 [00:00&lt;00:00, 177B/s]"
     }
    },
    "e67cfdf1070a44259297d6bc8bf7ee0c": {
     "model_module": "@jupyter-widgets/controls",
     "model_module_version": "1.5.0",
     "model_name": "FloatProgressModel",
     "state": {
      "_dom_classes": [],
      "_model_module": "@jupyter-widgets/controls",
      "_model_module_version": "1.5.0",
      "_model_name": "FloatProgressModel",
      "_view_count": null,
      "_view_module": "@jupyter-widgets/controls",
      "_view_module_version": "1.5.0",
      "_view_name": "ProgressView",
      "bar_style": "success",
      "description": "",
      "description_tooltip": null,
      "layout": "IPY_MODEL_c3a62d6969ad4a7f82c4fe6f55356da0",
      "max": 570,
      "min": 0,
      "orientation": "horizontal",
      "style": "IPY_MODEL_b24975a536c24ec6b1b934b6100d9d8e",
      "value": 570
     }
    },
    "e7497746af804b378034de02af6fb057": {
     "model_module": "@jupyter-widgets/base",
     "model_module_version": "1.2.0",
     "model_name": "LayoutModel",
     "state": {
      "_model_module": "@jupyter-widgets/base",
      "_model_module_version": "1.2.0",
      "_model_name": "LayoutModel",
      "_view_count": null,
      "_view_module": "@jupyter-widgets/base",
      "_view_module_version": "1.2.0",
      "_view_name": "LayoutView",
      "align_content": null,
      "align_items": null,
      "align_self": null,
      "border": null,
      "bottom": null,
      "display": null,
      "flex": null,
      "flex_flow": null,
      "grid_area": null,
      "grid_auto_columns": null,
      "grid_auto_flow": null,
      "grid_auto_rows": null,
      "grid_column": null,
      "grid_gap": null,
      "grid_row": null,
      "grid_template_areas": null,
      "grid_template_columns": null,
      "grid_template_rows": null,
      "height": null,
      "justify_content": null,
      "justify_items": null,
      "left": null,
      "margin": null,
      "max_height": null,
      "max_width": null,
      "min_height": null,
      "min_width": null,
      "object_fit": null,
      "object_position": null,
      "order": null,
      "overflow": null,
      "overflow_x": null,
      "overflow_y": null,
      "padding": null,
      "right": null,
      "top": null,
      "visibility": null,
      "width": null
     }
    },
    "ea4d254ef6f54cd7a524d389b6b697e9": {
     "model_module": "@jupyter-widgets/controls",
     "model_module_version": "1.5.0",
     "model_name": "ProgressStyleModel",
     "state": {
      "_model_module": "@jupyter-widgets/controls",
      "_model_module_version": "1.5.0",
      "_model_name": "ProgressStyleModel",
      "_view_count": null,
      "_view_module": "@jupyter-widgets/base",
      "_view_module_version": "1.2.0",
      "_view_name": "StyleView",
      "bar_color": null,
      "description_width": ""
     }
    },
    "f1edf2927859405f9c8851c29e1aaf0a": {
     "model_module": "@jupyter-widgets/controls",
     "model_module_version": "1.5.0",
     "model_name": "HTMLModel",
     "state": {
      "_dom_classes": [],
      "_model_module": "@jupyter-widgets/controls",
      "_model_module_version": "1.5.0",
      "_model_name": "HTMLModel",
      "_view_count": null,
      "_view_module": "@jupyter-widgets/controls",
      "_view_module_version": "1.5.0",
      "_view_name": "HTMLView",
      "description": "",
      "description_tooltip": null,
      "layout": "IPY_MODEL_bfc0ed08ee284bb6a35a0b3ab86d8bab",
      "placeholder": "​",
      "style": "IPY_MODEL_cb24c4d0f5be407cadfaaaad9337d0ee",
      "value": " 570/570 [00:00&lt;00:00, 2.73kB/s]"
     }
    },
    "f4db6d98a84a4fbc9b2543a318eb597e": {
     "model_module": "@jupyter-widgets/controls",
     "model_module_version": "1.5.0",
     "model_name": "DescriptionStyleModel",
     "state": {
      "_model_module": "@jupyter-widgets/controls",
      "_model_module_version": "1.5.0",
      "_model_name": "DescriptionStyleModel",
      "_view_count": null,
      "_view_module": "@jupyter-widgets/base",
      "_view_module_version": "1.2.0",
      "_view_name": "StyleView",
      "description_width": ""
     }
    },
    "f88b95a9546c4a5e9998f23908ac3dd1": {
     "model_module": "@jupyter-widgets/base",
     "model_module_version": "1.2.0",
     "model_name": "LayoutModel",
     "state": {
      "_model_module": "@jupyter-widgets/base",
      "_model_module_version": "1.2.0",
      "_model_name": "LayoutModel",
      "_view_count": null,
      "_view_module": "@jupyter-widgets/base",
      "_view_module_version": "1.2.0",
      "_view_name": "LayoutView",
      "align_content": null,
      "align_items": null,
      "align_self": null,
      "border": null,
      "bottom": null,
      "display": null,
      "flex": null,
      "flex_flow": null,
      "grid_area": null,
      "grid_auto_columns": null,
      "grid_auto_flow": null,
      "grid_auto_rows": null,
      "grid_column": null,
      "grid_gap": null,
      "grid_row": null,
      "grid_template_areas": null,
      "grid_template_columns": null,
      "grid_template_rows": null,
      "height": null,
      "justify_content": null,
      "justify_items": null,
      "left": null,
      "margin": null,
      "max_height": null,
      "max_width": null,
      "min_height": null,
      "min_width": null,
      "object_fit": null,
      "object_position": null,
      "order": null,
      "overflow": null,
      "overflow_x": null,
      "overflow_y": null,
      "padding": null,
      "right": null,
      "top": null,
      "visibility": null,
      "width": null
     }
    },
    "fc9d07bc394b4db3adb1c4117ae57715": {
     "model_module": "@jupyter-widgets/controls",
     "model_module_version": "1.5.0",
     "model_name": "DescriptionStyleModel",
     "state": {
      "_model_module": "@jupyter-widgets/controls",
      "_model_module_version": "1.5.0",
      "_model_name": "DescriptionStyleModel",
      "_view_count": null,
      "_view_module": "@jupyter-widgets/base",
      "_view_module_version": "1.2.0",
      "_view_name": "StyleView",
      "description_width": ""
     }
    },
    "fdb026fe4e484bbcb9109494f709b912": {
     "model_module": "@jupyter-widgets/controls",
     "model_module_version": "1.5.0",
     "model_name": "DescriptionStyleModel",
     "state": {
      "_model_module": "@jupyter-widgets/controls",
      "_model_module_version": "1.5.0",
      "_model_name": "DescriptionStyleModel",
      "_view_count": null,
      "_view_module": "@jupyter-widgets/base",
      "_view_module_version": "1.2.0",
      "_view_name": "StyleView",
      "description_width": ""
     }
    }
   }
  }
 },
 "nbformat": 4,
 "nbformat_minor": 1
}
